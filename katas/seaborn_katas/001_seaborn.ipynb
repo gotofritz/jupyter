{
 "cells": [
  {
   "cell_type": "markdown",
   "id": "99786a37",
   "metadata": {},
   "source": [
    "# TOPIC\n",
    "\n",
    "Some intro text"
   ]
  },
  {
   "cell_type": "markdown",
   "id": "89ce8c2b",
   "metadata": {},
   "source": [
    "## 001. SEABORN"
   ]
  },
  {
   "cell_type": "code",
   "execution_count": 1,
   "id": "4228fec7",
   "metadata": {
    "execution": {
     "iopub.execute_input": "2023-04-01T13:26:59.257149Z",
     "iopub.status.busy": "2023-04-01T13:26:59.256884Z",
     "iopub.status.idle": "2023-04-01T13:26:59.268549Z",
     "shell.execute_reply": "2023-04-01T13:26:59.268122Z"
    }
   },
   "outputs": [],
   "source": [
    "import sys\n",
    "from pathlib import Path\n",
    "\n",
    "current_dir = Path().resolve()\n",
    "while current_dir != current_dir.parent and current_dir.name != \"katas\":\n",
    "    current_dir = current_dir.parent\n",
    "if current_dir != current_dir.parent:\n",
    "    sys.path.append(current_dir.as_posix())"
   ]
  },
  {
   "cell_type": "code",
   "execution_count": 2,
   "id": "02ca7850",
   "metadata": {
    "execution": {
     "iopub.execute_input": "2023-04-01T13:26:59.271084Z",
     "iopub.status.busy": "2023-04-01T13:26:59.270914Z",
     "iopub.status.idle": "2023-04-01T13:26:59.706103Z",
     "shell.execute_reply": "2023-04-01T13:26:59.705821Z"
    }
   },
   "outputs": [],
   "source": [
    "import pandas as pd\n",
    "import matplotlib as plt\n",
    "import numpy as np\n",
    "import seaborn as sns\n",
    "from lib.utils import fresh_df\n",
    "from IPython.core.interactiveshell import InteractiveShell\n",
    "\n",
    "pd.set_option('display.max_rows', None)\n",
    "InteractiveShell.ast_node_interactivity = \"all\"\n",
    "%matplotlib inline"
   ]
  },
  {
   "cell_type": "markdown",
   "id": "5b212460",
   "metadata": {},
   "source": [
    "### 001.001 Linear plot\n",
    "\n",
    "1. This\n"
   ]
  },
  {
   "cell_type": "code",
   "execution_count": 3,
   "id": "bb553c05",
   "metadata": {
    "execution": {
     "iopub.execute_input": "2023-04-01T13:26:59.707979Z",
     "iopub.status.busy": "2023-04-01T13:26:59.707823Z",
     "iopub.status.idle": "2023-04-01T13:26:59.709560Z",
     "shell.execute_reply": "2023-04-01T13:26:59.709339Z"
    },
    "scrolled": false
   },
   "outputs": [],
   "source": [
    "data_file = \"katas.tsv\"\n",
    "# solution\n"
   ]
  },
  {
   "cell_type": "code",
   "execution_count": null,
   "id": "ec5fac5d",
   "metadata": {},
   "outputs": [],
   "source": []
  }
 ],
 "metadata": {
  "kernelspec": {
   "display_name": "Python 3 (ipykernel)",
   "language": "python",
   "name": "python3"
  },
  "language_info": {
   "codemirror_mode": {
    "name": "ipython",
    "version": 3
   },
   "file_extension": ".py",
   "mimetype": "text/x-python",
   "name": "python",
   "nbconvert_exporter": "python",
   "pygments_lexer": "ipython3",
   "version": "3.10.6"
  },
  "vscode": {
   "interpreter": {
    "hash": "7daeb9a356073df578df6d7584369b7908e732a3e4cb2289ee7d810fc6635fc0"
   }
  }
 },
 "nbformat": 4,
 "nbformat_minor": 5
}
