{
 "cells": [
  {
   "cell_type": "markdown",
   "id": "99786a37",
   "metadata": {},
   "source": [
    "# Django\n",
    "\n",
    "[Django](https://www.djangoproject.com/) makes it easier to build better web apps more quickly and with less code. "
   ]
  },
  {
   "attachments": {},
   "cell_type": "markdown",
   "id": "89ce8c2b",
   "metadata": {},
   "source": [
    "## 001. Fund manager demo\n",
    "\n",
    "It was a coding exercise"
   ]
  },
  {
   "attachments": {},
   "cell_type": "markdown",
   "id": "61c0a177",
   "metadata": {},
   "source": [
    "## 001.000 Assets\n"
   ]
  },
  {
   "cell_type": "code",
   "execution_count": 1,
   "id": "e6242474",
   "metadata": {
    "execution": {
     "iopub.execute_input": "2024-03-17T02:13:34.811271Z",
     "iopub.status.busy": "2024-03-17T02:13:34.810873Z",
     "iopub.status.idle": "2024-03-17T02:13:35.959818Z",
     "shell.execute_reply": "2024-03-17T02:13:35.959307Z"
    }
   },
   "outputs": [
    {
     "name": "stdout",
     "output_type": "stream",
     "text": [
      "Note: you may need to restart the kernel to use updated packages.\n"
     ]
    }
   ],
   "source": [
    "%pip install -q django-filter==23.5 django-tables2==2.7.0 Django==4.2.10 djangorestframework==3.14.0\n"
   ]
  },
  {
   "cell_type": "code",
   "execution_count": 2,
   "id": "02ca7850",
   "metadata": {
    "execution": {
     "iopub.execute_input": "2024-03-17T02:13:35.962485Z",
     "iopub.status.busy": "2024-03-17T02:13:35.962168Z",
     "iopub.status.idle": "2024-03-17T02:13:35.981040Z",
     "shell.execute_reply": "2024-03-17T02:13:35.980712Z"
    }
   },
   "outputs": [
    {
     "name": "stderr",
     "output_type": "stream",
     "text": [
      "Version 1.0.5\n"
     ]
    }
   ],
   "source": [
    "%load_ext nb_mypy\n",
    "\n",
    "from IPython.core.interactiveshell import InteractiveShell\n",
    "InteractiveShell.ast_node_interactivity = \"all\" # type: ignore"
   ]
  },
  {
   "attachments": {},
   "cell_type": "markdown",
   "id": "5b212460",
   "metadata": {},
   "source": [
    "### 001.001 Setting up server\n",
    "\n",
    "1. Use the django tool to create a project _001_django_fund_manager, at .\n"
   ]
  },
  {
   "cell_type": "code",
   "execution_count": 3,
   "id": "c741ca30",
   "metadata": {
    "execution": {
     "iopub.execute_input": "2024-03-17T02:13:35.982848Z",
     "iopub.status.busy": "2024-03-17T02:13:35.982738Z",
     "iopub.status.idle": "2024-03-17T02:13:35.995221Z",
     "shell.execute_reply": "2024-03-17T02:13:35.994842Z"
    }
   },
   "outputs": [],
   "source": [
    "%%bash\n",
    "\n",
    "rm -rf ./_001_django_fund_manager\n",
    "mkdir ./_001_django_fund_manager\n",
    "cd ./_001_django_fund_manager\n",
    "\n",
    "# solution\n"
   ]
  },
  {
   "cell_type": "markdown",
   "id": "7dd98b07",
   "metadata": {},
   "source": [
    "### 001.002 Create views\n",
    "\n",
    "1. ...\n"
   ]
  }
 ],
 "metadata": {
  "kernelspec": {
   "display_name": ".venv",
   "language": "python",
   "name": "python3"
  },
  "language_info": {
   "codemirror_mode": {
    "name": "ipython",
    "version": 3
   },
   "file_extension": ".py",
   "mimetype": "text/x-python",
   "name": "python",
   "nbconvert_exporter": "python",
   "pygments_lexer": "ipython3",
   "version": "3.11.1"
  },
  "vscode": {
   "interpreter": {
    "hash": "7daeb9a356073df578df6d7584369b7908e732a3e4cb2289ee7d810fc6635fc0"
   }
  }
 },
 "nbformat": 4,
 "nbformat_minor": 5
}
