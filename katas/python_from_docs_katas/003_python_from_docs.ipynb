{
 "cells": [
  {
   "attachments": {},
   "cell_type": "markdown",
   "id": "99786a37",
   "metadata": {},
   "source": [
    "# PYTHON\n",
    "\n",
    "Python is a high-level, general-purpose programming language that is widely used for web development, scientific computing, data analysis, and a wide range of other applications. It is known for its simplicity, readability, and flexibility, and is a popular choice for beginners and experienced programmers alike.\n",
    "\n",
    "Python is an interpreted language, which means that it is executed at runtime by an interpreter, rather than being compiled into machine code that can be run directly on a computer's hardware. This makes Python programs easy to write and debug, but also means that they may not be as fast or efficient as programs written in compiled languages like C or C++.\n",
    "\n",
    "Python has a large standard library that provides a wide range of built-in functionality, as well as a rich ecosystem of third-party libraries and frameworks that allow developers to do everything from building web applications to working with data and machine learning."
   ]
  },
  {
   "attachments": {},
   "cell_type": "markdown",
   "id": "89ce8c2b",
   "metadata": {},
   "source": [
    "## 003. Regular Expressions\n",
    "\n",
    "2/2"
   ]
  },
  {
   "attachments": {},
   "cell_type": "markdown",
   "id": "dcb605f4",
   "metadata": {},
   "source": []
  },
  {
   "cell_type": "code",
   "execution_count": 1,
   "id": "4228fec7",
   "metadata": {
    "execution": {
     "iopub.execute_input": "2023-09-08T18:33:30.996338Z",
     "iopub.status.busy": "2023-09-08T18:33:30.995454Z",
     "iopub.status.idle": "2023-09-08T18:33:31.017299Z",
     "shell.execute_reply": "2023-09-08T18:33:31.016867Z"
    }
   },
   "outputs": [],
   "source": [
    "import sys\n",
    "from pathlib import Path\n",
    "\n",
    "current_dir = Path().resolve()\n",
    "while current_dir != current_dir.parent and current_dir.name != \"katas\":\n",
    "    current_dir = current_dir.parent\n",
    "if current_dir != current_dir.parent:\n",
    "    sys.path.append(current_dir.as_posix())"
   ]
  },
  {
   "cell_type": "code",
   "execution_count": 2,
   "id": "02ca7850",
   "metadata": {
    "execution": {
     "iopub.execute_input": "2023-09-08T18:33:31.019764Z",
     "iopub.status.busy": "2023-09-08T18:33:31.019581Z",
     "iopub.status.idle": "2023-09-08T18:33:31.021813Z",
     "shell.execute_reply": "2023-09-08T18:33:31.021484Z"
    }
   },
   "outputs": [],
   "source": [
    "import re\n",
    "from IPython.core.interactiveshell import InteractiveShell\n",
    "\n",
    "InteractiveShell.ast_node_interactivity = \"all\""
   ]
  },
  {
   "attachments": {},
   "cell_type": "markdown",
   "id": "15c2012b",
   "metadata": {},
   "source": [
    "### 003.001 Named groups\n",
    "\n",
    "1. Create re1 so that the the remaining statements work\n",
    "1. Now make a dict of the two named entries\n",
    "1. Create a named group 'quote' for the re ['\"] and use it with findall and a backreference to match the pairs of quotes in `text`\n",
    "1. Apply it to `text2` and note how it breaks because the quotes do not match\n",
    "1. Use the named groups as replacements in a sub to get the string `'1: I am an \\'xxxx\\', a \"xxxx\", and a \\'xxxx\\'.'`"
   ]
  },
  {
   "cell_type": "code",
   "execution_count": 3,
   "id": "97f93f37",
   "metadata": {
    "execution": {
     "iopub.execute_input": "2023-09-08T18:33:31.023695Z",
     "iopub.status.busy": "2023-09-08T18:33:31.023552Z",
     "iopub.status.idle": "2023-09-08T18:33:31.025588Z",
     "shell.execute_reply": "2023-09-08T18:33:31.025277Z"
    }
   },
   "outputs": [],
   "source": [
    "# re1 = ...\n",
    "# m = re.match(re1, \"Malcolm Reynolds\")\n",
    "# assert ... == 'Malcolm'\n",
    "# assert ... == 'Reynolds'\n",
    "\n",
    "text = \"1: I am an 'architect', a \\\"stonemason\\\", and a 'killer'.\"\n",
    "text2 = \"2: I am an 'architect\\\", a 'stonemason\\\", and a 'killer'.\"\n",
    "# solution\n"
   ]
  },
  {
   "attachments": {},
   "cell_type": "markdown",
   "id": "bedf872f",
   "metadata": {},
   "source": [
    "### 003.002 Lookaheads\n",
    "\n",
    "1. Use lookahead to match \"I am a sick man\" and print it with `m.group()`\n",
    "1. Change it to negative lookahead to match \"I am a sick man... I am an angry man\" and print it with `m.group()`\n",
    "1. Use positive lookbehind to match \"man... \" and print it with `m.group(1)`\n",
    "1. Use negative lookbehind to match \"man.\" and print it with `m.group(1)`\n"
   ]
  },
  {
   "cell_type": "code",
   "execution_count": 4,
   "id": "a055a96c",
   "metadata": {
    "execution": {
     "iopub.execute_input": "2023-09-08T18:33:31.027430Z",
     "iopub.status.busy": "2023-09-08T18:33:31.027297Z",
     "iopub.status.idle": "2023-09-08T18:33:31.029197Z",
     "shell.execute_reply": "2023-09-08T18:33:31.028833Z"
    }
   },
   "outputs": [],
   "source": [
    "text = \"I am a sick man... I am an angry man.\"\n",
    "# solution\n"
   ]
  },
  {
   "attachments": {},
   "cell_type": "markdown",
   "id": "81d7ce04",
   "metadata": {},
   "source": [
    "### 003.002 angle groups\n",
    "\n",
    "1. Create a group 'angle' for the opening < in the optional angle brackets in, then create `re1` so that it uses the yes-pattern|no-pattern extension notation to pass all the commented out assertions"
   ]
  },
  {
   "cell_type": "code",
   "execution_count": 5,
   "id": "fe2be185",
   "metadata": {
    "execution": {
     "iopub.execute_input": "2023-09-08T18:33:31.031421Z",
     "iopub.status.busy": "2023-09-08T18:33:31.031259Z",
     "iopub.status.idle": "2023-09-08T18:33:31.033399Z",
     "shell.execute_reply": "2023-09-08T18:33:31.033092Z"
    }
   },
   "outputs": [],
   "source": [
    "pass1 = '<user@host.com>'\n",
    "pass2 = 'user@host.com'\n",
    "fail1 = '<user@host.com'\n",
    "fail2 = 'user@host.com>'\n",
    "\n",
    "# re1 = ...\n",
    "# assert re1.match(pass1)\n",
    "# assert re1.match(pass2)\n",
    "# assert re1.match(fail1) is None\n",
    "# assert re1.match(fail2) is None\n",
    "\n",
    "# solution\n"
   ]
  },
  {
   "attachments": {},
   "cell_type": "markdown",
   "id": "21f36130",
   "metadata": {},
   "source": [
    "### 003.003 Split\n",
    "\n",
    "1. Extract `['words', 'words', 'words']` from words using only list comprehension and re.split\n",
    "1. The same, but also preserve the `!`\n",
    "1. How do you use split, and only split, to get `['', '...', 'words', ', ', 'words', '...', '']` from `_words_` ?\n",
    "1. Use only split to get `` from `_words2_`\n",
    "1. Split into 2 groups using the correct maxsplit argument `['words', 'words! words!']`\n",
    "1. Use a flag to extract `['0', '3', '9']` from hex_color\n"
   ]
  },
  {
   "cell_type": "code",
   "execution_count": 6,
   "id": "458ad726",
   "metadata": {
    "execution": {
     "iopub.execute_input": "2023-09-08T18:33:31.035180Z",
     "iopub.status.busy": "2023-09-08T18:33:31.035053Z",
     "iopub.status.idle": "2023-09-08T18:33:31.036994Z",
     "shell.execute_reply": "2023-09-08T18:33:31.036696Z"
    }
   },
   "outputs": [],
   "source": [
    "words = \"Words! Words! Words!\"\n",
    "hex_color = \"0a3B9f\"\n",
    "_words_ = \"...words, words...\"\n",
    "_words2_ = \"...words...\"\n",
    "\n",
    "# solution\n"
   ]
  },
  {
   "attachments": {},
   "cell_type": "markdown",
   "id": "8c0a6708",
   "metadata": {},
   "source": [
    "### 003.004 finditer\n",
    "\n",
    "1. Use finditer and a loop to print all the words starting with w in text"
   ]
  },
  {
   "cell_type": "code",
   "execution_count": null,
   "id": "c52e2530",
   "metadata": {},
   "outputs": [],
   "source": []
  },
  {
   "cell_type": "code",
   "execution_count": 7,
   "id": "39e4093d",
   "metadata": {
    "execution": {
     "iopub.execute_input": "2023-09-08T18:33:31.039345Z",
     "iopub.status.busy": "2023-09-08T18:33:31.039186Z",
     "iopub.status.idle": "2023-09-08T18:33:31.043277Z",
     "shell.execute_reply": "2023-09-08T18:33:31.042945Z"
    }
   },
   "outputs": [
    {
     "data": {
      "text/plain": [
       "\"I am forced to the appalling conclusion that I would never have become a    writer but for Joan's death, and to a realization of the extent to which this    event has motivated and formulated my writing. I live with the constant threat    of possession, and a constant need to escape from possession, from Control\""
      ]
     },
     "execution_count": 7,
     "metadata": {},
     "output_type": "execute_result"
    }
   ],
   "source": [
    "text = \"\"\"I am forced to the appalling conclusion that I would never have become a\n",
    "    writer but for Joan's death, and to a realization of the extent to which this\n",
    "    event has motivated and formulated my writing. I live with the constant threat\n",
    "    of possession, and a constant need to escape from possession, from Control\"\"\".replace(\"\\n\", \"\")\n",
    "text\n",
    "# solution\n"
   ]
  },
  {
   "attachments": {},
   "cell_type": "markdown",
   "id": "ac345a9c",
   "metadata": {},
   "source": [
    "### 003.005 Sub and replacement\n",
    "\n",
    "1. Use re.sub with a replacement function to generate `Think of an odd digit: [>>>7<<<]. Now think of an even one: [>>>6<<<]` from def.\n",
    "1. Call it three times to prove the numbers are always different\n",
    "1. Print broken_1 to see how it was broken\n",
    "   1. Fix it the obvious way\n",
    "   1. Fix it a different way, using group syntax\n",
    "1. Run broken_2 to see what the problem is, then fix it"
   ]
  },
  {
   "cell_type": "code",
   "execution_count": 8,
   "id": "219bb8c3",
   "metadata": {
    "execution": {
     "iopub.execute_input": "2023-09-08T18:33:31.045576Z",
     "iopub.status.busy": "2023-09-08T18:33:31.045462Z",
     "iopub.status.idle": "2023-09-08T18:33:31.047866Z",
     "shell.execute_reply": "2023-09-08T18:33:31.047536Z"
    }
   },
   "outputs": [],
   "source": [
    "import random\n",
    "\n",
    "text = \"Think of an odd digit: [1]. Now think of an even one: [2]\"\n",
    "\n",
    "broken_1 = re.sub(r'([?!.]+),', '\\1', \"hey you!, hey\")\n",
    "# 'hey you\\x01 hey'\n",
    "\n",
    "# broken_2:\n",
    "# re.sub(r'(\\d)', r'\\10', \"I got 1 egg, 2 melons, and 3 oranges\")\n",
    "# solution\n"
   ]
  },
  {
   "attachments": {},
   "cell_type": "markdown",
   "id": "e611c648",
   "metadata": {},
   "source": [
    "### 003.005 Match groups\n",
    "\n",
    "1. Use re.match and a simple re to catch the first three words as groups\n",
    "1. Print whole match, and individual words\n",
    "1. Print matches, but as tuple\n",
    "1. Print divider\n",
    "1. Print whole match, and individual words, but with a more compact notation\n",
    "1. Print divider\n",
    "1. Repeat using named groups for \"first_name\" and \"last_name\"\n",
    "1. Print matches, but as dict"
   ]
  },
  {
   "cell_type": "code",
   "execution_count": 9,
   "id": "0ece6e30",
   "metadata": {
    "execution": {
     "iopub.execute_input": "2023-09-08T18:33:31.049930Z",
     "iopub.status.busy": "2023-09-08T18:33:31.049779Z",
     "iopub.status.idle": "2023-09-08T18:33:31.051705Z",
     "shell.execute_reply": "2023-09-08T18:33:31.051380Z"
    }
   },
   "outputs": [],
   "source": [
    "text = \"Isaac Newton, physicist of her royal majesty\"\n",
    "divider = \"-------------------------\"\n",
    "# solution\n"
   ]
  },
  {
   "attachments": {},
   "cell_type": "markdown",
   "id": "5b83ab41",
   "metadata": {},
   "source": [
    "### 003.006 Poker\n",
    "\n",
    "Suppose you are writing a poker program where a player's hand is represented as a 5-character string with each character representing a card, “a” for ace, “k” for king, “q” for queen, “j” for jack, “t” for 10, and “2” through “9” representing the card with that value.\n",
    "\n",
    "Compile a re which finds a pair and prints out a pair of what it is by returning the correct group. \n",
    "Hint: it needs to use backreferences. Pass it to check, it should the result should be the same as expected"
   ]
  },
  {
   "cell_type": "code",
   "execution_count": 10,
   "id": "d470ef26",
   "metadata": {
    "execution": {
     "iopub.execute_input": "2023-09-08T18:33:31.053691Z",
     "iopub.status.busy": "2023-09-08T18:33:31.053529Z",
     "iopub.status.idle": "2023-09-08T18:33:31.056635Z",
     "shell.execute_reply": "2023-09-08T18:33:31.056178Z"
    }
   },
   "outputs": [],
   "source": [
    "hands = [\"717ak\", \"718ak\", \"354aa\", \"q325q\", \"a891j\", \"52a33\"]\n",
    "expected = ['7', None, 'a', 'q', None, '3']\n",
    "\n",
    "# this is not efficient, but good for illustration\n",
    "validate = lambda hand, pattern: pattern.match(hand).group(1) if pattern.match(hand) else None\n",
    "\n",
    "def check(pattern):\n",
    "    return [validate(hand, pattern) for hand in hands]\n",
    "# solution\n"
   ]
  }
 ],
 "metadata": {
  "kernelspec": {
   "display_name": ".venv",
   "language": "python",
   "name": "python3"
  },
  "language_info": {
   "codemirror_mode": {
    "name": "ipython",
    "version": 3
   },
   "file_extension": ".py",
   "mimetype": "text/x-python",
   "name": "python",
   "nbconvert_exporter": "python",
   "pygments_lexer": "ipython3",
   "version": "3.10.6"
  },
  "vscode": {
   "interpreter": {
    "hash": "7daeb9a356073df578df6d7584369b7908e732a3e4cb2289ee7d810fc6635fc0"
   }
  }
 },
 "nbformat": 4,
 "nbformat_minor": 5
}
