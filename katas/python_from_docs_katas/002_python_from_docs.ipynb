{
 "cells": [
  {
   "attachments": {},
   "cell_type": "markdown",
   "id": "99786a37",
   "metadata": {},
   "source": [
    "# PYTHON\n",
    "\n",
    "Python is a high-level, general-purpose programming language that is widely used for web development, scientific computing, data analysis, and a wide range of other applications. It is known for its simplicity, readability, and flexibility, and is a popular choice for beginners and experienced programmers alike.\n",
    "\n",
    "Python is an interpreted language, which means that it is executed at runtime by an interpreter, rather than being compiled into machine code that can be run directly on a computer's hardware. This makes Python programs easy to write and debug, but also means that they may not be as fast or efficient as programs written in compiled languages like C or C++.\n",
    "\n",
    "Python has a large standard library that provides a wide range of built-in functionality, as well as a rich ecosystem of third-party libraries and frameworks that allow developers to do everything from building web applications to working with data and machine learning."
   ]
  },
  {
   "attachments": {},
   "cell_type": "markdown",
   "id": "89ce8c2b",
   "metadata": {},
   "source": [
    "## 002. Regular Expressions\n",
    "\n",
    "Both patterns and strings to be searched can be Unicode strings (str) as well as 8-bit strings (bytes). However, Unicode strings and 8-bit strings cannot be mixed: that is, you cannot match a Unicode string with a byte pattern or vice-versa; similarly, when asking for a substitution, the replacement string must be of the same type as both the pattern and the search string."
   ]
  },
  {
   "attachments": {},
   "cell_type": "markdown",
   "id": "dcb605f4",
   "metadata": {},
   "source": []
  },
  {
   "cell_type": "code",
   "execution_count": 1,
   "id": "4228fec7",
   "metadata": {
    "execution": {
     "iopub.execute_input": "2023-11-12T13:20:19.625299Z",
     "iopub.status.busy": "2023-11-12T13:20:19.624827Z",
     "iopub.status.idle": "2023-11-12T13:20:19.633007Z",
     "shell.execute_reply": "2023-11-12T13:20:19.632420Z"
    }
   },
   "outputs": [],
   "source": [
    "import sys\n",
    "from pathlib import Path\n",
    "\n",
    "current_dir = Path().resolve()\n",
    "while current_dir != current_dir.parent and current_dir.name != \"katas\":\n",
    "    current_dir = current_dir.parent\n",
    "if current_dir != current_dir.parent:\n",
    "    sys.path.append(current_dir.as_posix())"
   ]
  },
  {
   "cell_type": "code",
   "execution_count": 2,
   "id": "02ca7850",
   "metadata": {
    "execution": {
     "iopub.execute_input": "2023-11-12T13:20:19.635859Z",
     "iopub.status.busy": "2023-11-12T13:20:19.635642Z",
     "iopub.status.idle": "2023-11-12T13:20:19.638466Z",
     "shell.execute_reply": "2023-11-12T13:20:19.637919Z"
    }
   },
   "outputs": [],
   "source": [
    "import re\n",
    "from IPython.core.interactiveshell import InteractiveShell\n",
    "\n",
    "InteractiveShell.ast_node_interactivity = \"all\""
   ]
  },
  {
   "attachments": {},
   "cell_type": "markdown",
   "id": "5b212460",
   "metadata": {},
   "source": [
    "### 002.001 Verbose Flag\n",
    "\n",
    "Flags are used to perform additional operations on the pattern or the search\n",
    "\n",
    "1. Compile the re `pattern` into var `regex`, match text\n",
    "1. Repeat, but use the flag that will allow you to add comments to each part of the re. Match text\n",
    "1. Do the same but with an inline flag (NOTE the flag for verbose is NOT v, it's extremely different)\n",
    "1. Do the same but without flags, just comments as extension notations\n"
   ]
  },
  {
   "cell_type": "code",
   "execution_count": 3,
   "id": "c741ca30",
   "metadata": {
    "execution": {
     "iopub.execute_input": "2023-11-12T13:20:19.641169Z",
     "iopub.status.busy": "2023-11-12T13:20:19.640985Z",
     "iopub.status.idle": "2023-11-12T13:20:19.643198Z",
     "shell.execute_reply": "2023-11-12T13:20:19.642832Z"
    }
   },
   "outputs": [],
   "source": [
    "text = \"00.12\"\n",
    "pattern = r\"\\d+\\.\\d+\"\n",
    "\n",
    "# The comments:\n",
    "# \\d+  # the integral part\n",
    "# \\.   # the decimal point\n",
    "# \\d*  # some fractional digits\n",
    "\n",
    "# solution\n"
   ]
  },
  {
   "attachments": {},
   "cell_type": "markdown",
   "id": "1ace4f12",
   "metadata": {},
   "source": [
    "### 002.002 New line flag\n",
    "\n",
    "1. Compile `pattern` into `regex`. Sub `needle` for `haystack`, notice that nothing changes\n",
    "1. Repeat, but use the correct flag to include \"\\n\" in the `.`\n",
    "1. Do the same, but this time use inline flag and re.sub instead of compiling"
   ]
  },
  {
   "cell_type": "code",
   "execution_count": 4,
   "id": "20e5e608",
   "metadata": {
    "execution": {
     "iopub.execute_input": "2023-11-12T13:20:19.645193Z",
     "iopub.status.busy": "2023-11-12T13:20:19.645049Z",
     "iopub.status.idle": "2023-11-12T13:20:19.647192Z",
     "shell.execute_reply": "2023-11-12T13:20:19.646858Z"
    }
   },
   "outputs": [],
   "source": [
    "pattern = r\",.and\"\n",
    "needle = \", and\"\n",
    "haystack = \"\"\"It was a bright cold day in April,\n",
    "and the clocks were striking thirteen.\"\"\"\n",
    "# solution\n"
   ]
  },
  {
   "attachments": {},
   "cell_type": "markdown",
   "id": "621203a8",
   "metadata": {},
   "source": [
    "### 002.003 Case insensitive\n",
    "\n",
    "Flags are used to perform additional operations on the pattern or the search\n",
    "\n",
    "1. Compile `pattern` into `regex`, replace needle into haystack and notice that it doesn't replace anything\n",
    "1. Repeat, but use the correct case insensitive flag. Note that it replaces the first instance, but no more\n",
    "1. Repeat, but change re to use an inline flag and just use `re.sub` instead of compiling\n",
    "1. Repeat again, this time compile again and use two flags to change all occurrences\n",
    "1. And again, back to using `re.sub` and inline flag to replicate previous step"
   ]
  },
  {
   "cell_type": "code",
   "execution_count": 5,
   "id": "485ea474",
   "metadata": {
    "execution": {
     "iopub.execute_input": "2023-11-12T13:20:19.649260Z",
     "iopub.status.busy": "2023-11-12T13:20:19.649101Z",
     "iopub.status.idle": "2023-11-12T13:20:19.651186Z",
     "shell.execute_reply": "2023-11-12T13:20:19.650858Z"
    }
   },
   "outputs": [],
   "source": [
    "haystack = \"\"\"It was the best of times, \n",
    "it was the worst of times, \n",
    "it was the age of wisdom, \n",
    "it was the age of foolishness, \n",
    "it was the epoch of belief, \n",
    "...\"\"\"\n",
    "\n",
    "pattern = r\"^it was\"\n",
    "needle = \"it will be\"\n",
    "# solution\n"
   ]
  },
  {
   "attachments": {},
   "cell_type": "markdown",
   "id": "3920fec4",
   "metadata": {},
   "source": [
    "### 002.004 String replace, greedy matches\n",
    "\n",
    "1. Use text.replace to save a version of text without newlines in `one_line`\n",
    "1. Prove that you cannot use re1 with string replace\n",
    "1. Prove that you can do some replacement with a re only with the appropriate re method. Note that output is now 'It was the [something] of [something], ...',\n",
    "1. Change the re to be non greedy to obtain \"It was the [something] of [something], it was the [something] of [something], ...\""
   ]
  },
  {
   "cell_type": "code",
   "execution_count": 6,
   "id": "546e14e9",
   "metadata": {
    "execution": {
     "iopub.execute_input": "2023-11-12T13:20:19.653087Z",
     "iopub.status.busy": "2023-11-12T13:20:19.652948Z",
     "iopub.status.idle": "2023-11-12T13:20:19.655218Z",
     "shell.execute_reply": "2023-11-12T13:20:19.654715Z"
    }
   },
   "outputs": [],
   "source": [
    "text = \"\"\"It was the best of times, \n",
    "it was the worst of times, \n",
    "it was the age of wisdom, \n",
    "it was the age of foolishness, \n",
    "it was the epoch of belief, \n",
    "...\"\"\" \n",
    "pattern = r\"the .+ of .+,\"\n",
    "replacement = \"the [something] of [something],\"\n",
    "# solution\n"
   ]
  },
  {
   "attachments": {},
   "cell_type": "markdown",
   "id": "2dff6d7a",
   "metadata": {},
   "source": [
    "### 002.005 Repetitions\n",
    "\n",
    "1. Try to run `pattern1` on `one_line`, with the re method that only works at the beginning of the line, and see it fail\n",
    "1. Fix it by using the one that works everywhere in the line\n",
    "1. Another way of fixing it is to make the re case insensitive\n",
    "1. Run `pattern2` with the repetition qualifier {1,5} and prove that when searching (and storing the result), it only returns one group, and it contains the last of the 'it was...\" (it was the epoch of belief)\n",
    "1. Change it so that it finds the 1st group instead"
   ]
  },
  {
   "cell_type": "code",
   "execution_count": 7,
   "id": "869a0643",
   "metadata": {
    "execution": {
     "iopub.execute_input": "2023-11-12T13:20:19.657539Z",
     "iopub.status.busy": "2023-11-12T13:20:19.657373Z",
     "iopub.status.idle": "2023-11-12T13:20:19.659682Z",
     "shell.execute_reply": "2023-11-12T13:20:19.659321Z"
    }
   },
   "outputs": [],
   "source": [
    "text = \"\"\"It was the best of times, \n",
    "it was the worst of times, \n",
    "it was the age of wisdom, \n",
    "it was the age of foolishness, \n",
    "it was the epoch of belief, \n",
    "...\"\"\" \n",
    "one_line = text.replace(\"\\n\", \"\")\n",
    "pattern1 = r\"it was\"\n",
    "pattern2 = r\"(it was the .+? of .+?, ?)\"\n",
    "# solution\n"
   ]
  },
  {
   "attachments": {},
   "cell_type": "markdown",
   "id": "1a5b254c",
   "metadata": {},
   "source": [
    "### 002.006 Sets of characters\n",
    "\n",
    "`[]` is used to indicate a set of characters\n",
    "\n",
    "1. String-replace `______` in `text1` with a string that makes `pattern` work\n",
    "1. Find two regular expressions consisting of character sets, that when applied to re.search will match `1-2` in text2. Print the group it found\n",
    "1. Find two regular expressions consisting of character sets, that when applied to re.search will match `](` in text3. Print the group it found"
   ]
  },
  {
   "cell_type": "code",
   "execution_count": 8,
   "id": "63332005",
   "metadata": {
    "execution": {
     "iopub.execute_input": "2023-11-12T13:20:19.661572Z",
     "iopub.status.busy": "2023-11-12T13:20:19.661430Z",
     "iopub.status.idle": "2023-11-12T13:20:19.663497Z",
     "shell.execute_reply": "2023-11-12T13:20:19.663177Z"
    }
   },
   "outputs": [],
   "source": [
    "text1 = \"12f256z won't be found, ______ will\"\n",
    "needle = \"______\"\n",
    "pattern = r\"[\\d().]{4,}\"\n",
    "\n",
    "text2 = \"1-2=-1\"\n",
    "text3 = \"There are two ways to match ](I can confirm)\"\n",
    "# solution\n"
   ]
  },
  {
   "attachments": {},
   "cell_type": "markdown",
   "id": "60d03a06",
   "metadata": {},
   "source": [
    "### 002.007 Non capturing group\n",
    "\n",
    "1. Q: Non-capturing groups and positive lookaheads can be confusing as they are  similar. Can you tell the difference?\n",
    "1. Use `re.findall` to find matches for `pattern` in `text`\n",
    "1. Add a non capturing group to only match those which precede \"age\". Note that \"age\" is part of the match\n",
    "1. Change it so that age is not part of the match"
   ]
  },
  {
   "cell_type": "code",
   "execution_count": 9,
   "id": "bde8c35d",
   "metadata": {
    "execution": {
     "iopub.execute_input": "2023-11-12T13:20:19.665312Z",
     "iopub.status.busy": "2023-11-12T13:20:19.665171Z",
     "iopub.status.idle": "2023-11-12T13:20:19.667111Z",
     "shell.execute_reply": "2023-11-12T13:20:19.666797Z"
    }
   },
   "outputs": [],
   "source": [
    "text = \"\"\"It was the best of times, \n",
    "it was the worst of times, \n",
    "it was the age of wisdom, \n",
    "it was the age of foolishness, \n",
    "it was the epoch of belief, \n",
    "...\"\"\"\n",
    "\n",
    "pattern = r\"it was the\"\n",
    "# solution\n"
   ]
  }
 ],
 "metadata": {
  "kernelspec": {
   "display_name": ".venv",
   "language": "python",
   "name": "python3"
  },
  "language_info": {
   "codemirror_mode": {
    "name": "ipython",
    "version": 3
   },
   "file_extension": ".py",
   "mimetype": "text/x-python",
   "name": "python",
   "nbconvert_exporter": "python",
   "pygments_lexer": "ipython3",
   "version": "3.10.6"
  },
  "vscode": {
   "interpreter": {
    "hash": "7daeb9a356073df578df6d7584369b7908e732a3e4cb2289ee7d810fc6635fc0"
   }
  }
 },
 "nbformat": 4,
 "nbformat_minor": 5
}
