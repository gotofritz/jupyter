{
 "cells": [
  {
   "attachments": {},
   "cell_type": "markdown",
   "id": "99786a37",
   "metadata": {},
   "source": [
    "# PYTHON\n",
    "\n",
    "Python is a high-level, general-purpose programming language that is widely used for web development, scientific computing, data analysis, and a wide range of other applications. It is known for its simplicity, readability, and flexibility, and is a popular choice for beginners and experienced programmers alike.\n",
    "\n",
    "Python is an interpreted language, which means that it is executed at runtime by an interpreter, rather than being compiled into machine code that can be run directly on a computer's hardware. This makes Python programs easy to write and debug, but also means that they may not be as fast or efficient as programs written in compiled languages like C or C++.\n",
    "\n",
    "Python has a large standard library that provides a wide range of built-in functionality, as well as a rich ecosystem of third-party libraries and frameworks that allow developers to do everything from building web applications to working with data and machine learning."
   ]
  },
  {
   "attachments": {},
   "cell_type": "markdown",
   "id": "89ce8c2b",
   "metadata": {},
   "source": [
    "## 001. Strings"
   ]
  },
  {
   "cell_type": "markdown",
   "id": "dcb605f4",
   "metadata": {},
   "source": []
  },
  {
   "cell_type": "code",
   "execution_count": 1,
   "id": "4228fec7",
   "metadata": {
    "execution": {
     "iopub.execute_input": "2023-09-02T20:43:45.202624Z",
     "iopub.status.busy": "2023-09-02T20:43:45.201995Z",
     "iopub.status.idle": "2023-09-02T20:43:45.215786Z",
     "shell.execute_reply": "2023-09-02T20:43:45.215147Z"
    }
   },
   "outputs": [],
   "source": [
    "import sys\n",
    "from pathlib import Path\n",
    "\n",
    "current_dir = Path().resolve()\n",
    "while current_dir != current_dir.parent and current_dir.name != \"katas\":\n",
    "    current_dir = current_dir.parent\n",
    "if current_dir != current_dir.parent:\n",
    "    sys.path.append(current_dir.as_posix())"
   ]
  },
  {
   "cell_type": "code",
   "execution_count": 2,
   "id": "02ca7850",
   "metadata": {
    "execution": {
     "iopub.execute_input": "2023-09-02T20:43:45.219568Z",
     "iopub.status.busy": "2023-09-02T20:43:45.219274Z",
     "iopub.status.idle": "2023-09-02T20:43:45.222376Z",
     "shell.execute_reply": "2023-09-02T20:43:45.221869Z"
    }
   },
   "outputs": [],
   "source": [
    "from IPython.core.interactiveshell import InteractiveShell\n",
    "\n",
    "InteractiveShell.ast_node_interactivity = \"all\""
   ]
  },
  {
   "attachments": {},
   "cell_type": "markdown",
   "id": "5b212460",
   "metadata": {},
   "source": [
    "### 001.001 Template\n",
    "\n",
    "Templates are used mostly for i18n\n",
    "\n",
    "1. Create a template with `'$who likes $what'` and substitute tim, kung pao\n",
    "1. Do the same, but with a dict\n",
    "1. Create a template with `'$who needs $100'`. Make it fail by not passing a value for $100; catch the correct error and print \"didn't work\"\n",
    "1. Make it pass by using safe_substitute\n",
    "1. Make it pass by rewriting the template so that that the $ in $100 is escaped\n",
    "1. Create a template with `'$who likes $what'`. Make it fail by not passing $what; catch the correct error and print \"didn't work\"\n",
    "1. Make it pass by using safe_substitute\n"
   ]
  },
  {
   "cell_type": "code",
   "execution_count": 3,
   "id": "c741ca30",
   "metadata": {
    "execution": {
     "iopub.execute_input": "2023-09-02T20:43:45.225540Z",
     "iopub.status.busy": "2023-09-02T20:43:45.225324Z",
     "iopub.status.idle": "2023-09-02T20:43:45.227964Z",
     "shell.execute_reply": "2023-09-02T20:43:45.227456Z"
    }
   },
   "outputs": [],
   "source": [
    "from string import Template\n",
    "# solution\n"
   ]
  },
  {
   "attachments": {},
   "cell_type": "markdown",
   "id": "c74a3f96",
   "metadata": {},
   "source": [
    "### 001.002 %-formatting\n",
    "\n",
    "The old %-formatting is discouraged, but is going to stick around for a long time to come\n",
    "\n",
    "Generate the following strings with a template, the % operator, and the following vars\n",
    "\n",
    "| # |         String                                           |   Vars                  |\n",
    "|---|----------------------------------------------------------|-------------------------|\n",
    "| 1 | <pre>Hello, world</pre>                                  | \"world\"                 |\n",
    "| 2 | <pre>1 2 3</pre>                                         | 1, 2, 3                 |\n",
    "| 3 | <pre>>     hello<</pre>                                  | hello                   |\n",
    "|   | <pre>>hello     <</pre>                                  | hello                   |\n",
    "| 4 | (same as 3, but pass width as a var)                     |                         |\n",
    "| 5 | <pre>3.14159265</pre>                                    | pi                      |\n",
    "| 6 | <pre>:      1.10:    2.2000:  3.300000:</pre>            | 1.1, 2.2, 3.3           |\n",
    "| 7 | <pre>value is:  00005</pre>                              | 5                       |\n",
    "|   | <pre>value is:  5.57</pre>                               | 5.5678                  |\n",
    "| 8 | <pre>  fd   375</pre>                                    | 253, 253                |\n",
    "| 9 | <pre>:  1.10e+00:       2.2:     2.224:  3.300000:</pre> | 1.1, 2.2, 2.223772, 3.3 |\n",
    "\n"
   ]
  },
  {
   "cell_type": "code",
   "execution_count": 4,
   "id": "45dcd84f",
   "metadata": {
    "execution": {
     "iopub.execute_input": "2023-09-02T20:43:45.231077Z",
     "iopub.status.busy": "2023-09-02T20:43:45.230844Z",
     "iopub.status.idle": "2023-09-02T20:43:45.233499Z",
     "shell.execute_reply": "2023-09-02T20:43:45.232998Z"
    }
   },
   "outputs": [],
   "source": [
    "from math import pi\n",
    "# solution\n"
   ]
  },
  {
   "attachments": {},
   "cell_type": "markdown",
   "id": "6c9fcbf6",
   "metadata": {},
   "source": [
    "### 001.003 More %-formatting\n",
    "\n",
    "1. Create a string which when passed `{'language': \"Python\", \"number\": 2}` and %-formatting produces `Python has 002 quote types`\n",
    "1. Format a_big_number with thousands separator `That was a big number: ________12345678901234________`\n",
    "1. Format a_big_number centered in a field 30 chars wide, surrounded by _  `That was a big number: ________12345678901234________`\n"
   ]
  },
  {
   "cell_type": "code",
   "execution_count": 5,
   "id": "421582bd",
   "metadata": {
    "execution": {
     "iopub.execute_input": "2023-09-02T20:43:45.235972Z",
     "iopub.status.busy": "2023-09-02T20:43:45.235790Z",
     "iopub.status.idle": "2023-09-02T20:43:45.237976Z",
     "shell.execute_reply": "2023-09-02T20:43:45.237580Z"
    }
   },
   "outputs": [],
   "source": [
    "a_big_number = 12345678901234\n",
    "# solution\n"
   ]
  }
 ],
 "metadata": {
  "kernelspec": {
   "display_name": ".venv",
   "language": "python",
   "name": "python3"
  },
  "language_info": {
   "codemirror_mode": {
    "name": "ipython",
    "version": 3
   },
   "file_extension": ".py",
   "mimetype": "text/x-python",
   "name": "python",
   "nbconvert_exporter": "python",
   "pygments_lexer": "ipython3",
   "version": "3.10.6"
  },
  "vscode": {
   "interpreter": {
    "hash": "7daeb9a356073df578df6d7584369b7908e732a3e4cb2289ee7d810fc6635fc0"
   }
  }
 },
 "nbformat": 4,
 "nbformat_minor": 5
}
