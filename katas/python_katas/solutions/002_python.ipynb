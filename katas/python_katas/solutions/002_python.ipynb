{
 "cells": [
  {
   "attachments": {},
   "cell_type": "markdown",
   "id": "99786a37",
   "metadata": {},
   "source": [
    "# PYTHON\n",
    "\n",
    "Python is a high-level, general-purpose programming language that is widely used for web development, scientific computing, data analysis, and a wide range of other applications. It is known for its simplicity, readability, and flexibility, and is a popular choice for beginners and experienced programmers alike.\n",
    "\n",
    "Python is an interpreted language, which means that it is executed at runtime by an interpreter, rather than being compiled into machine code that can be run directly on a computer's hardware. This makes Python programs easy to write and debug, but also means that they may not be as fast or efficient as programs written in compiled languages like C or C++.\n",
    "\n",
    "Python has a large standard library that provides a wide range of built-in functionality, as well as a rich ecosystem of third-party libraries and frameworks that allow developers to do everything from building web applications to working with data and machine learning."
   ]
  },
  {
   "attachments": {},
   "cell_type": "markdown",
   "id": "89ce8c2b",
   "metadata": {},
   "source": [
    "## 002. Regular Expressions\n",
    "\n",
    "Both patterns and strings to be searched can be Unicode strings (str) as well as 8-bit strings (bytes). However, Unicode strings and 8-bit strings cannot be mixed: that is, you cannot match a Unicode string with a byte pattern or vice-versa; similarly, when asking for a substitution, the replacement string must be of the same type as both the pattern and the search string."
   ]
  },
  {
   "attachments": {},
   "cell_type": "markdown",
   "id": "dcb605f4",
   "metadata": {},
   "source": []
  },
  {
   "cell_type": "code",
   "execution_count": 10,
   "id": "4228fec7",
   "metadata": {},
   "outputs": [],
   "source": [
    "import sys\n",
    "from pathlib import Path\n",
    "\n",
    "current_dir = Path().resolve()\n",
    "while current_dir != current_dir.parent and current_dir.name != \"katas\":\n",
    "    current_dir = current_dir.parent\n",
    "if current_dir != current_dir.parent:\n",
    "    sys.path.append(current_dir.as_posix())"
   ]
  },
  {
   "cell_type": "code",
   "execution_count": 11,
   "id": "02ca7850",
   "metadata": {},
   "outputs": [],
   "source": [
    "import re\n",
    "from IPython.core.interactiveshell import InteractiveShell\n",
    "\n",
    "InteractiveShell.ast_node_interactivity = \"all\""
   ]
  },
  {
   "attachments": {},
   "cell_type": "markdown",
   "id": "5b212460",
   "metadata": {},
   "source": [
    "### 002.001 Verbose Flag\n",
    "\n",
    "Flags are used to perform additional operations on the pattern or the search\n",
    "\n",
    "1. Compile the re `pattern` into var `regex`, match text\n",
    "1. Repeat, but use the flag that will allow you to add comments to each part of the re. Match text\n",
    "1. Do the same but with an inline flag (NOTE the flag for verbose is NOT v, it's extremely different)\n",
    "1. Do the same but without flags, just comments as extension notations\n"
   ]
  },
  {
   "cell_type": "code",
   "execution_count": 12,
   "id": "c741ca30",
   "metadata": {},
   "outputs": [
    {
     "data": {
      "text/plain": [
       "1"
      ]
     },
     "execution_count": 12,
     "metadata": {},
     "output_type": "execute_result"
    },
    {
     "data": {
      "text/plain": [
       "<re.Match object; span=(0, 5), match='00.12'>"
      ]
     },
     "execution_count": 12,
     "metadata": {},
     "output_type": "execute_result"
    },
    {
     "data": {
      "text/plain": [
       "2"
      ]
     },
     "execution_count": 12,
     "metadata": {},
     "output_type": "execute_result"
    },
    {
     "data": {
      "text/plain": [
       "<re.Match object; span=(0, 5), match='00.12'>"
      ]
     },
     "execution_count": 12,
     "metadata": {},
     "output_type": "execute_result"
    },
    {
     "data": {
      "text/plain": [
       "3"
      ]
     },
     "execution_count": 12,
     "metadata": {},
     "output_type": "execute_result"
    },
    {
     "data": {
      "text/plain": [
       "<re.Match object; span=(0, 5), match='00.12'>"
      ]
     },
     "execution_count": 12,
     "metadata": {},
     "output_type": "execute_result"
    },
    {
     "data": {
      "text/plain": [
       "4"
      ]
     },
     "execution_count": 12,
     "metadata": {},
     "output_type": "execute_result"
    },
    {
     "data": {
      "text/plain": [
       "<re.Match object; span=(0, 5), match='00.12'>"
      ]
     },
     "execution_count": 12,
     "metadata": {},
     "output_type": "execute_result"
    }
   ],
   "source": [
    "text = \"00.12\"\n",
    "pattern = r\"\\d+\\.\\d+\"\n",
    "\n",
    "# The comments:\n",
    "# \\d+  # the integral part\n",
    "# \\.   # the decimal point\n",
    "# \\d*  # some fractional digits\n",
    "\n",
    "# solution\n",
    "\n",
    "1\n",
    "pattern = re.compile(\"\\d+\\.\\d*\")\n",
    "pattern.match(text)\n",
    "\n",
    "2\n",
    "pattern = re.compile(\n",
    "    r\"\"\"\\d+  # the integral part\n",
    "        \\.    # the decimal point\n",
    "        \\d*  # some fractional digits\"\"\", \n",
    "    re.VERBOSE)\n",
    "pattern.match(text)\n",
    "\n",
    "3\n",
    "pattern = re.compile(\n",
    "    r\"\"\"(?x)  # enable these comments\n",
    "        \\d+  # the integral part\n",
    "        \\.    # the decimal point\n",
    "        \\d*  # some fractional digits\"\"\"\n",
    "    )\n",
    "pattern.match(text)\n",
    "\n",
    "4\n",
    "pattern = re.compile(r\"\\d+(?# the integral part)\\.(?# the decimal point)\\d*(?# some fractional digits)\")\n",
    "pattern.match(text)"
   ]
  },
  {
   "attachments": {},
   "cell_type": "markdown",
   "id": "1ace4f12",
   "metadata": {},
   "source": [
    "### 002.002 New line flag\n",
    "\n",
    "1. Compile `pattern` into `regex`. Sub `needle` for `haystack`, notice that nothing changes\n",
    "1. Repeat, but use the correct flag to include \"\\n\" in the `.`\n",
    "1. Do the same, but this time use inline flag and re.sub instead of compiling"
   ]
  },
  {
   "cell_type": "code",
   "execution_count": 13,
   "id": "20e5e608",
   "metadata": {},
   "outputs": [
    {
     "data": {
      "text/plain": [
       "1"
      ]
     },
     "execution_count": 13,
     "metadata": {},
     "output_type": "execute_result"
    },
    {
     "data": {
      "text/plain": [
       "'It was a bright cold day in April,\\nand the clocks were striking thirteen.'"
      ]
     },
     "execution_count": 13,
     "metadata": {},
     "output_type": "execute_result"
    },
    {
     "data": {
      "text/plain": [
       "2"
      ]
     },
     "execution_count": 13,
     "metadata": {},
     "output_type": "execute_result"
    },
    {
     "data": {
      "text/plain": [
       "'It was a bright cold day in April, and the clocks were striking thirteen.'"
      ]
     },
     "execution_count": 13,
     "metadata": {},
     "output_type": "execute_result"
    },
    {
     "data": {
      "text/plain": [
       "3"
      ]
     },
     "execution_count": 13,
     "metadata": {},
     "output_type": "execute_result"
    },
    {
     "data": {
      "text/plain": [
       "'It was a bright cold day in April, and the clocks were striking thirteen.'"
      ]
     },
     "execution_count": 13,
     "metadata": {},
     "output_type": "execute_result"
    }
   ],
   "source": [
    "pattern = r\",.and\"\n",
    "needle = \", and\"\n",
    "haystack = \"\"\"It was a bright cold day in April,\n",
    "and the clocks were striking thirteen.\"\"\"\n",
    "# solution\n",
    "\n",
    "1\n",
    "regex = re.compile(pattern)\n",
    "regex.sub(needle, haystack)\n",
    "\n",
    "2\n",
    "regex = re.compile(pattern, re.DOTALL)\n",
    "regex.sub(needle, haystack)\n",
    "\n",
    "3\n",
    "re.sub(r\"(?s)\" + pattern, needle, haystack)\n"
   ]
  },
  {
   "attachments": {},
   "cell_type": "markdown",
   "id": "621203a8",
   "metadata": {},
   "source": [
    "### 002.003 Case insensitive\n",
    "\n",
    "Flags are used to perform additional operations on the pattern or the search\n",
    "\n",
    "1. Compile `pattern` into `regex`, replace needle into haystack and notice that it doesn't replace anything\n",
    "1. Repeat, but use the correct case insensitive flag. Note that it replaces the first instance, but no more\n",
    "1. Repeat, but change re to use an inline flag and just use `re.sub` instead of compiling\n",
    "1. Repeat again, this time compile again and use two flags to change all occurrences\n",
    "1. And again, back to using `re.sub` and inline flag to replicate previous step"
   ]
  },
  {
   "cell_type": "code",
   "execution_count": 14,
   "metadata": {},
   "outputs": [
    {
     "data": {
      "text/plain": [
       "1"
      ]
     },
     "execution_count": 14,
     "metadata": {},
     "output_type": "execute_result"
    },
    {
     "data": {
      "text/plain": [
       "'It was the best of times, \\nit was the worst of times, \\nit was the age of wisdom, \\nit was the age of foolishness, \\nit was the epoch of belief, \\n...'"
      ]
     },
     "execution_count": 14,
     "metadata": {},
     "output_type": "execute_result"
    },
    {
     "data": {
      "text/plain": [
       "2"
      ]
     },
     "execution_count": 14,
     "metadata": {},
     "output_type": "execute_result"
    },
    {
     "data": {
      "text/plain": [
       "'it will be the best of times, \\nit was the worst of times, \\nit was the age of wisdom, \\nit was the age of foolishness, \\nit was the epoch of belief, \\n...'"
      ]
     },
     "execution_count": 14,
     "metadata": {},
     "output_type": "execute_result"
    },
    {
     "data": {
      "text/plain": [
       "3"
      ]
     },
     "execution_count": 14,
     "metadata": {},
     "output_type": "execute_result"
    },
    {
     "data": {
      "text/plain": [
       "'it will be the best of times, \\nit was the worst of times, \\nit was the age of wisdom, \\nit was the age of foolishness, \\nit was the epoch of belief, \\n...'"
      ]
     },
     "execution_count": 14,
     "metadata": {},
     "output_type": "execute_result"
    },
    {
     "data": {
      "text/plain": [
       "4"
      ]
     },
     "execution_count": 14,
     "metadata": {},
     "output_type": "execute_result"
    },
    {
     "data": {
      "text/plain": [
       "'it will be the best of times, \\nit will be the worst of times, \\nit will be the age of wisdom, \\nit will be the age of foolishness, \\nit will be the epoch of belief, \\n...'"
      ]
     },
     "execution_count": 14,
     "metadata": {},
     "output_type": "execute_result"
    },
    {
     "data": {
      "text/plain": [
       "5"
      ]
     },
     "execution_count": 14,
     "metadata": {},
     "output_type": "execute_result"
    },
    {
     "data": {
      "text/plain": [
       "'it will be the best of times, \\nit will be the worst of times, \\nit will be the age of wisdom, \\nit will be the age of foolishness, \\nit will be the epoch of belief, \\n...'"
      ]
     },
     "execution_count": 14,
     "metadata": {},
     "output_type": "execute_result"
    }
   ],
   "source": [
    "haystack = \"\"\"It was the best of times, \n",
    "it was the worst of times, \n",
    "it was the age of wisdom, \n",
    "it was the age of foolishness, \n",
    "it was the epoch of belief, \n",
    "...\"\"\"\n",
    "\n",
    "pattern = r\"^it was\"\n",
    "needle = \"it will be\"\n",
    "# solution\n",
    "\n",
    "1\n",
    "regex = re.compile(pattern)\n",
    "regex.sub(needle, haystack)\n",
    "\n",
    "2\n",
    "regex = re.compile(pattern, re.I)\n",
    "regex.sub(needle, haystack)\n",
    "\n",
    "3\n",
    "re.sub(r\"(?i)\" + pattern, needle, haystack)\n",
    "\n",
    "4\n",
    "regex = re.compile(pattern, re.I | re.MULTILINE)\n",
    "regex.sub(needle, haystack)\n",
    "\n",
    "5\n",
    "re.sub(r\"(?im)\" + pattern, needle, haystack)"
   ]
  },
  {
   "attachments": {},
   "cell_type": "markdown",
   "id": "3920fec4",
   "metadata": {},
   "source": [
    "### 002.004 String replace, greedy matches\n",
    "\n",
    "1. Use text.replace to save a version of text without newlines in `one_line`\n",
    "1. Prove that you cannot use re1 with string replace\n",
    "1. Prove that you can do some replacement with a re only with the appropriate re method. Note that output is now 'It was the [something] of [something], ...',\n",
    "1. Change the re to be non greedy to obtain \"It was the [something] of [something], it was the [something] of [something], ...\""
   ]
  },
  {
   "cell_type": "code",
   "execution_count": 15,
   "id": "546e14e9",
   "metadata": {},
   "outputs": [
    {
     "data": {
      "text/plain": [
       "1"
      ]
     },
     "execution_count": 15,
     "metadata": {},
     "output_type": "execute_result"
    },
    {
     "data": {
      "text/plain": [
       "'It was the best of times, it was the worst of times, it was the age of wisdom, it was the age of foolishness, it was the epoch of belief, ...'"
      ]
     },
     "execution_count": 15,
     "metadata": {},
     "output_type": "execute_result"
    },
    {
     "data": {
      "text/plain": [
       "2"
      ]
     },
     "execution_count": 15,
     "metadata": {},
     "output_type": "execute_result"
    },
    {
     "data": {
      "text/plain": [
       "'It was the best of times, it was the worst of times, it was the age of wisdom, it was the age of foolishness, it was the epoch of belief, ...'"
      ]
     },
     "execution_count": 15,
     "metadata": {},
     "output_type": "execute_result"
    },
    {
     "data": {
      "text/plain": [
       "3"
      ]
     },
     "execution_count": 15,
     "metadata": {},
     "output_type": "execute_result"
    },
    {
     "data": {
      "text/plain": [
       "'It was the [something] of [something], ...'"
      ]
     },
     "execution_count": 15,
     "metadata": {},
     "output_type": "execute_result"
    },
    {
     "data": {
      "text/plain": [
       "4"
      ]
     },
     "execution_count": 15,
     "metadata": {},
     "output_type": "execute_result"
    },
    {
     "data": {
      "text/plain": [
       "'It was the [something] of [something], it was the [something] of [something], it was the [something] of [something], it was the [something] of [something], it was the [something] of [something], ...'"
      ]
     },
     "execution_count": 15,
     "metadata": {},
     "output_type": "execute_result"
    }
   ],
   "source": [
    "text = \"\"\"It was the best of times, \n",
    "it was the worst of times, \n",
    "it was the age of wisdom, \n",
    "it was the age of foolishness, \n",
    "it was the epoch of belief, \n",
    "...\"\"\" \n",
    "pattern = r\"the .+ of .+,\"\n",
    "replacement = \"the [something] of [something],\"\n",
    "# solution\n",
    "\n",
    "1\n",
    "one_line = text.replace(\"\\n\", \"\")\n",
    "one_line\n",
    "\n",
    "2\n",
    "one_line.replace(pattern, replacement)\n",
    "\n",
    "3\n",
    "re.sub(pattern, replacement, one_line)\n",
    "\n",
    "4\n",
    "re.sub(r\"the .+? of .+?,\", replacement, one_line)\n",
    "\n"
   ]
  },
  {
   "attachments": {},
   "cell_type": "markdown",
   "id": "2dff6d7a",
   "metadata": {},
   "source": [
    "### 002.005 Repetitions\n",
    "\n",
    "1. Try to run `pattern1` on `one_line`, with the re method that only works at the beginning of the line, and see it fail\n",
    "1. Fix it by using the one that works everywhere in the line\n",
    "1. Another way of fixing it is to make the re case insensitive\n",
    "1. Run `pattern2` with the repetition qualifier {1,5} and prove that when searching (and storing the result), it only returns one group, and it contains the last of the 'it was...\" (it was the epoch of belief)\n",
    "1. Change it so that it finds the 1st group instead"
   ]
  },
  {
   "cell_type": "code",
   "execution_count": 16,
   "id": "869a0643",
   "metadata": {},
   "outputs": [
    {
     "data": {
      "text/plain": [
       "1"
      ]
     },
     "execution_count": 16,
     "metadata": {},
     "output_type": "execute_result"
    },
    {
     "data": {
      "text/plain": [
       "2"
      ]
     },
     "execution_count": 16,
     "metadata": {},
     "output_type": "execute_result"
    },
    {
     "data": {
      "text/plain": [
       "<re.Match object; span=(26, 32), match='it was'>"
      ]
     },
     "execution_count": 16,
     "metadata": {},
     "output_type": "execute_result"
    },
    {
     "data": {
      "text/plain": [
       "3"
      ]
     },
     "execution_count": 16,
     "metadata": {},
     "output_type": "execute_result"
    },
    {
     "data": {
      "text/plain": [
       "<re.Match object; span=(0, 6), match='It was'>"
      ]
     },
     "execution_count": 16,
     "metadata": {},
     "output_type": "execute_result"
    },
    {
     "data": {
      "text/plain": [
       "4"
      ]
     },
     "execution_count": 16,
     "metadata": {},
     "output_type": "execute_result"
    },
    {
     "data": {
      "text/plain": [
       "('it was the epoch of belief, ',)"
      ]
     },
     "execution_count": 16,
     "metadata": {},
     "output_type": "execute_result"
    },
    {
     "data": {
      "text/plain": [
       "5"
      ]
     },
     "execution_count": 16,
     "metadata": {},
     "output_type": "execute_result"
    },
    {
     "data": {
      "text/plain": [
       "('it was the worst of times, ',)"
      ]
     },
     "execution_count": 16,
     "metadata": {},
     "output_type": "execute_result"
    }
   ],
   "source": [
    "text = \"\"\"It was the best of times, \n",
    "it was the worst of times, \n",
    "it was the age of wisdom, \n",
    "it was the age of foolishness, \n",
    "it was the epoch of belief, \n",
    "...\"\"\" \n",
    "one_line = text.replace(\"\\n\", \"\")\n",
    "pattern1 = r\"it was\"\n",
    "pattern2 = r\"(it was the .+? of .+?, ?)\"\n",
    "# solution\n",
    "\n",
    "1\n",
    "re.match(pattern1, one_line)\n",
    "\n",
    "2\n",
    "re.search(pattern1, one_line)\n",
    "\n",
    "3\n",
    "re.match(pattern1, one_line, re.I)\n",
    "\n",
    "4\n",
    "matches = re.search(pattern2 + r\"{1,5}\", one_line)\n",
    "matches.groups()\n",
    "\n",
    "5\n",
    "matches = re.search(r\"(it was the .+? of .+?, ?){1,5}?\", one_line)\n",
    "matches.groups()\n",
    "\n",
    "\n"
   ]
  },
  {
   "attachments": {},
   "cell_type": "markdown",
   "id": "1a5b254c",
   "metadata": {},
   "source": [
    "### 002.006 Sets of characters\n",
    "\n",
    "`[]` is used to indicate a set of characters\n",
    "\n",
    "1. String-replace `______` in `text1` with a string that makes `pattern` work\n",
    "1. Find two regular expressions consisting of character sets, that when applied to re.search will match `1-2` in text2. Print the group it found\n",
    "1. Find two regular expressions consisting of character sets, that when applied to re.search will match `](` in text3. Print the group it found"
   ]
  },
  {
   "cell_type": "code",
   "execution_count": 17,
   "id": "63332005",
   "metadata": {},
   "outputs": [
    {
     "data": {
      "text/plain": [
       "1"
      ]
     },
     "execution_count": 17,
     "metadata": {},
     "output_type": "execute_result"
    },
    {
     "data": {
      "text/plain": [
       "<re.Match object; span=(24, 30), match='1234()'>"
      ]
     },
     "execution_count": 17,
     "metadata": {},
     "output_type": "execute_result"
    },
    {
     "data": {
      "text/plain": [
       "2"
      ]
     },
     "execution_count": 17,
     "metadata": {},
     "output_type": "execute_result"
    },
    {
     "data": {
      "text/plain": [
       "('1-2',)"
      ]
     },
     "execution_count": 17,
     "metadata": {},
     "output_type": "execute_result"
    },
    {
     "data": {
      "text/plain": [
       "('1-2',)"
      ]
     },
     "execution_count": 17,
     "metadata": {},
     "output_type": "execute_result"
    },
    {
     "data": {
      "text/plain": [
       "3"
      ]
     },
     "execution_count": 17,
     "metadata": {},
     "output_type": "execute_result"
    },
    {
     "data": {
      "text/plain": [
       "('](',)"
      ]
     },
     "execution_count": 17,
     "metadata": {},
     "output_type": "execute_result"
    },
    {
     "data": {
      "text/plain": [
       "('](',)"
      ]
     },
     "execution_count": 17,
     "metadata": {},
     "output_type": "execute_result"
    }
   ],
   "source": [
    "text1 = \"12f256z won't be found, ______ will\"\n",
    "needle = \"______\"\n",
    "pattern = r\"[\\d().]{4,}\"\n",
    "\n",
    "text2 = \"1-2=-1\"\n",
    "text3 = \"There are two ways to match ](I can confirm)\"\n",
    "# solution\n",
    "\n",
    "1\n",
    "replaced = text1.replace(needle, \"1234()\")\n",
    "re.search(pattern, replaced)\n",
    "\n",
    "2\n",
    "matches = re.search(r\"([1-2-]+)\", text2)\n",
    "matches.groups()\n",
    "matches = re.search(r\"([1\\-2]+)\", text2)\n",
    "matches.groups()\n",
    "\n",
    "\n",
    "3\n",
    "matches = re.search(r\"([](]+)\", text3)\n",
    "matches.groups()\n",
    "matches = re.search(r\"([(\\]]+)\", text3)\n",
    "matches.groups()"
   ]
  },
  {
   "attachments": {},
   "cell_type": "markdown",
   "id": "60d03a06",
   "metadata": {},
   "source": [
    "### 002.007 Non capturing group\n",
    "\n",
    "1. Use `re.findall` to find matches for `pattern` in `text`\n",
    "1. Add a non capturing group to only match those which precede \"age\". Note that \"age\" is part of the match\n",
    "1. Change it so that age is not part of the match"
   ]
  },
  {
   "cell_type": "code",
   "execution_count": 18,
   "id": "bde8c35d",
   "metadata": {},
   "outputs": [
    {
     "data": {
      "text/plain": [
       "1"
      ]
     },
     "execution_count": 18,
     "metadata": {},
     "output_type": "execute_result"
    },
    {
     "data": {
      "text/plain": [
       "['it was the', 'it was the', 'it was the', 'it was the']"
      ]
     },
     "execution_count": 18,
     "metadata": {},
     "output_type": "execute_result"
    },
    {
     "data": {
      "text/plain": [
       "2"
      ]
     },
     "execution_count": 18,
     "metadata": {},
     "output_type": "execute_result"
    },
    {
     "data": {
      "text/plain": [
       "['it was the age', 'it was the age']"
      ]
     },
     "execution_count": 18,
     "metadata": {},
     "output_type": "execute_result"
    },
    {
     "data": {
      "text/plain": [
       "2"
      ]
     },
     "execution_count": 18,
     "metadata": {},
     "output_type": "execute_result"
    },
    {
     "data": {
      "text/plain": [
       "['it was the', 'it was the']"
      ]
     },
     "execution_count": 18,
     "metadata": {},
     "output_type": "execute_result"
    }
   ],
   "source": [
    "text = \"\"\"It was the best of times, \n",
    "it was the worst of times, \n",
    "it was the age of wisdom, \n",
    "it was the age of foolishness, \n",
    "it was the epoch of belief, \n",
    "...\"\"\"\n",
    "\n",
    "pattern = r\"it was the\"\n",
    "# solution\n",
    "\n",
    "1\n",
    "re.findall(pattern, text)\n",
    "\n",
    "2\n",
    "re.findall(pattern + r\"(?: age)\", text)\n",
    "\n",
    "2\n",
    "re.findall(r\"(it was the)\" + r\"(?: age)\", text)\n",
    "\n"
   ]
  }
 ],
 "metadata": {
  "kernelspec": {
   "display_name": ".venv",
   "language": "python",
   "name": "python3"
  },
  "language_info": {
   "codemirror_mode": {
    "name": "ipython",
    "version": 3
   },
   "file_extension": ".py",
   "mimetype": "text/x-python",
   "name": "python",
   "nbconvert_exporter": "python",
   "pygments_lexer": "ipython3",
   "version": "3.10.6"
  },
  "vscode": {
   "interpreter": {
    "hash": "7daeb9a356073df578df6d7584369b7908e732a3e4cb2289ee7d810fc6635fc0"
   }
  }
 },
 "nbformat": 4,
 "nbformat_minor": 5
}
