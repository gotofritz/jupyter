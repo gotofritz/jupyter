{
 "cells": [
  {
   "attachments": {},
   "cell_type": "markdown",
   "id": "99786a37",
   "metadata": {},
   "source": [
    "# PYTHON\n",
    "\n",
    "Python is a high-level, general-purpose programming language that is widely used for web development, scientific computing, data analysis, and a wide range of other applications. It is known for its simplicity, readability, and flexibility, and is a popular choice for beginners and experienced programmers alike.\n",
    "\n",
    "Python is an interpreted language, which means that it is executed at runtime by an interpreter, rather than being compiled into machine code that can be run directly on a computer's hardware. This makes Python programs easy to write and debug, but also means that they may not be as fast or efficient as programs written in compiled languages like C or C++.\n",
    "\n",
    "Python has a large standard library that provides a wide range of built-in functionality, as well as a rich ecosystem of third-party libraries and frameworks that allow developers to do everything from building web applications to working with data and machine learning."
   ]
  },
  {
   "attachments": {},
   "cell_type": "markdown",
   "id": "89ce8c2b",
   "metadata": {},
   "source": [
    "## 001. Strings"
   ]
  },
  {
   "cell_type": "markdown",
   "id": "dcb605f4",
   "metadata": {},
   "source": []
  },
  {
   "cell_type": "code",
   "execution_count": 2,
   "id": "4228fec7",
   "metadata": {},
   "outputs": [],
   "source": [
    "import sys\n",
    "from pathlib import Path\n",
    "\n",
    "current_dir = Path().resolve()\n",
    "while current_dir != current_dir.parent and current_dir.name != \"katas\":\n",
    "    current_dir = current_dir.parent\n",
    "if current_dir != current_dir.parent:\n",
    "    sys.path.append(current_dir.as_posix())"
   ]
  },
  {
   "cell_type": "code",
   "execution_count": 3,
   "id": "02ca7850",
   "metadata": {},
   "outputs": [],
   "source": [
    "from IPython.core.interactiveshell import InteractiveShell\n",
    "\n",
    "InteractiveShell.ast_node_interactivity = \"all\""
   ]
  },
  {
   "attachments": {},
   "cell_type": "markdown",
   "id": "5b212460",
   "metadata": {},
   "source": [
    "### 001.001 Template\n",
    "\n",
    "Templates are used mostly for i18n\n",
    "\n",
    "1. Import Template from string\n",
    "1. Create a template with `'$which) $who likes $what'`\n",
    "1. Substitue 1, time, kung pao\n",
    "1. do the same, but with a dict (and which is now 2)\n",
    "1. Create a template with `'$which) $who needs $100'`\n",
    "1. Make it fail by not passing a value for $100; catch the correct error and print \"3) didn't work\"\n",
    "1. Make it pass by using safe_substitute (and which is now 4)\n",
    "1. Make it pass by rewriting the template so that that the $ in $100 is escaped (and which is now 5)\n",
    "1. Create a template with `'$which) $who likes $what'`\n",
    "1. Make it fail by not passing $what; catch the correct error and print \"6) didn't work\"\n",
    "1. Make it pass by using safe_substitute  (and which is now 7)\n"
   ]
  },
  {
   "cell_type": "code",
   "execution_count": 4,
   "id": "c741ca30",
   "metadata": {},
   "outputs": [
    {
     "data": {
      "text/plain": [
       "'1) tim likes kung pao'"
      ]
     },
     "execution_count": 4,
     "metadata": {},
     "output_type": "execute_result"
    },
    {
     "data": {
      "text/plain": [
       "'2) fritz likes chickpeas'"
      ]
     },
     "execution_count": 4,
     "metadata": {},
     "output_type": "execute_result"
    },
    {
     "data": {
      "text/plain": [
       "\"3) didn't work\""
      ]
     },
     "execution_count": 4,
     "metadata": {},
     "output_type": "execute_result"
    },
    {
     "data": {
      "text/plain": [
       "'4) ahmed needs $100'"
      ]
     },
     "execution_count": 4,
     "metadata": {},
     "output_type": "execute_result"
    },
    {
     "data": {
      "text/plain": [
       "'5) ahmed needs $100'"
      ]
     },
     "execution_count": 4,
     "metadata": {},
     "output_type": "execute_result"
    },
    {
     "data": {
      "text/plain": [
       "\"6) didn't work\""
      ]
     },
     "execution_count": 4,
     "metadata": {},
     "output_type": "execute_result"
    },
    {
     "data": {
      "text/plain": [
       "'7) carlos likes $what'"
      ]
     },
     "execution_count": 4,
     "metadata": {},
     "output_type": "execute_result"
    }
   ],
   "source": [
    "# solution\n",
    "from string import Template\n",
    "\n",
    "template = Template('$which) $who likes $what')\n",
    "output = template.substitute(which=1, who='tim', what='kung pao')\n",
    "output\n",
    "\n",
    "d = dict(which=2, who='fritz', what='chickpeas')\n",
    "output = template.substitute(d)\n",
    "output\n",
    "\n",
    "template = Template('$which) $who needs $100')\n",
    "try:\n",
    "    template.substitute(which=3, who=\"ahmed\")\n",
    "except ValueError:\n",
    "    \"3) didn't work\"\n",
    "output = template.safe_substitute(which=4, who=\"ahmed\")\n",
    "output\n",
    "template = Template('$which) $who needs $$100')\n",
    "output = template.substitute(which=5, who=\"ahmed\")\n",
    "output\n",
    "\n",
    "template = Template('$which) $who likes $what')\n",
    "try:\n",
    "    template.substitute(which=6, who=\"carlos\")\n",
    "except KeyError:\n",
    "    \"6) didn't work\"\n",
    "output = template.safe_substitute(which=7, who=\"carlos\")\n",
    "output\n"
   ]
  }
 ],
 "metadata": {
  "kernelspec": {
   "display_name": ".venv",
   "language": "python",
   "name": "python3"
  },
  "language_info": {
   "codemirror_mode": {
    "name": "ipython",
    "version": 3
   },
   "file_extension": ".py",
   "mimetype": "text/x-python",
   "name": "python",
   "nbconvert_exporter": "python",
   "pygments_lexer": "ipython3",
   "version": "3.10.6"
  },
  "vscode": {
   "interpreter": {
    "hash": "7daeb9a356073df578df6d7584369b7908e732a3e4cb2289ee7d810fc6635fc0"
   }
  }
 },
 "nbformat": 4,
 "nbformat_minor": 5
}
