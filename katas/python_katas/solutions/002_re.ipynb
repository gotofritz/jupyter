{
 "cells": [
  {
   "attachments": {},
   "cell_type": "markdown",
   "id": "99786a37",
   "metadata": {},
   "source": [
    "# PYTHON\n",
    "\n",
    "Python is a high-level, general-purpose programming language that is widely used for web development, scientific computing, data analysis, and a wide range of other applications. It is known for its simplicity, readability, and flexibility, and is a popular choice for beginners and experienced programmers alike.\n",
    "\n",
    "Python is an interpreted language, which means that it is executed at runtime by an interpreter, rather than being compiled into machine code that can be run directly on a computer's hardware. This makes Python programs easy to write and debug, but also means that they may not be as fast or efficient as programs written in compiled languages like C or C++.\n",
    "\n",
    "Python has a large standard library that provides a wide range of built-in functionality, as well as a rich ecosystem of third-party libraries and frameworks that allow developers to do everything from building web applications to working with data and machine learning."
   ]
  },
  {
   "attachments": {},
   "cell_type": "markdown",
   "id": "89ce8c2b",
   "metadata": {},
   "source": [
    "## 002. Regular Expressions\n",
    "\n",
    "Both patterns and strings to be searched can be Unicode strings (str) as well as 8-bit strings (bytes). However, Unicode strings and 8-bit strings cannot be mixed: that is, you cannot match a Unicode string with a byte pattern or vice-versa; similarly, when asking for a substitution, the replacement string must be of the same type as both the pattern and the search string."
   ]
  },
  {
   "cell_type": "markdown",
   "id": "dcb605f4",
   "metadata": {},
   "source": []
  },
  {
   "attachments": {},
   "cell_type": "markdown",
   "id": "61c0a177",
   "metadata": {},
   "source": [
    "## 00X.000 Assets\n",
    "\n",
    "Some assets to avoid too much typing\n",
    "\n",
    "| Maybe       | Data |\n",
    "|-------------|------|\n",
    "| Show me     | 1233 |"
   ]
  },
  {
   "cell_type": "code",
   "execution_count": 4,
   "id": "4228fec7",
   "metadata": {},
   "outputs": [],
   "source": [
    "import sys\n",
    "from pathlib import Path\n",
    "\n",
    "current_dir = Path().resolve()\n",
    "while current_dir != current_dir.parent and current_dir.name != \"katas\":\n",
    "    current_dir = current_dir.parent\n",
    "if current_dir != current_dir.parent:\n",
    "    sys.path.append(current_dir.as_posix())"
   ]
  },
  {
   "cell_type": "code",
   "execution_count": 5,
   "id": "02ca7850",
   "metadata": {},
   "outputs": [],
   "source": [
    "import re\n",
    "from IPython.core.interactiveshell import InteractiveShell\n",
    "\n",
    "InteractiveShell.ast_node_interactivity = \"all\""
   ]
  },
  {
   "attachments": {},
   "cell_type": "markdown",
   "id": "5b212460",
   "metadata": {},
   "source": [
    "### 002.001 Verbose Flag\n",
    "\n",
    "Flags are used to perform additional operations on the pattern or the search\n",
    "\n",
    "1. Compile the re `\"\\d+\\.\\d*\"` into pattern1\n",
    "1. Compile the same re into pattern2, but use the correct flag to add comments to each part of the re  (pattern2)\n",
    "1. Do the same but with an inline flag (pattern3)\n",
    "1. Do the same but without flags, just comments as extension notations (pattern4)\n",
    "1. assert that all can match `\"00.12\"`\n"
   ]
  },
  {
   "cell_type": "code",
   "execution_count": 6,
   "id": "c741ca30",
   "metadata": {},
   "outputs": [],
   "source": [
    "text = \"00.12\"\n",
    "# solution\n",
    "pattern1 = re.compile(r\"\\d+\\.\\d*\")\n",
    "pattern2 = re.compile(\n",
    "    r\"\"\"\\d +  # the integral part\n",
    "        \\.    # the decimal point\n",
    "        \\d *  # some fractional digits\"\"\", \n",
    "    re.VERBOSE)\n",
    "pattern3 = re.compile(\n",
    "    r\"\"\"(?x)  # enable these comments\n",
    "        \\d +  # the integral part\n",
    "        \\.    # the decimal point\n",
    "        \\d *  # some fractional digits\"\"\"\n",
    "    )\n",
    "pattern4 = re.compile(r\"\\d+(?# the integral part)\\.(?# the decimal point)\\d*(?# some fractional digits)\")\n",
    "assert pattern1.match(text)\n",
    "assert pattern2.match(text)\n",
    "assert pattern3.match(text)\n",
    "assert pattern4.match(text)"
   ]
  },
  {
   "attachments": {},
   "cell_type": "markdown",
   "id": "1ace4f12",
   "metadata": {},
   "source": [
    "### 002.002 New line flag\n",
    "\n",
    "1. Compile `re1` into `pattern`. Run it against text and save result in `changed`, notice that nothing changes. Assert that text and changed are the same\n",
    "1. Repeat, but use the correct flag to include \"\\n\" in the `.`\n",
    "1. Do the same, but this time use inline flag and re.sub instead of compiling. Save result to `last_changed`, and assert it is the same as `changed` from step (2)"
   ]
  },
  {
   "cell_type": "code",
   "execution_count": 7,
   "id": "20e5e608",
   "metadata": {},
   "outputs": [
    {
     "data": {
      "text/plain": [
       "'It was a bright cold day in April,\\nand the clocks were striking thirteen.'"
      ]
     },
     "execution_count": 7,
     "metadata": {},
     "output_type": "execute_result"
    },
    {
     "data": {
      "text/plain": [
       "'It was a bright cold day in April, and the clocks were striking thirteen.'"
      ]
     },
     "execution_count": 7,
     "metadata": {},
     "output_type": "execute_result"
    },
    {
     "data": {
      "text/plain": [
       "'It was a bright cold day in April, and the clocks were striking thirteen.'"
      ]
     },
     "execution_count": 7,
     "metadata": {},
     "output_type": "execute_result"
    }
   ],
   "source": [
    "text = \"\"\"It was a bright cold day in April,\n",
    "and the clocks were striking thirteen.\"\"\"\n",
    "re1 = r\",.and\"\n",
    "# solution\n",
    "pattern = re.compile(re1)\n",
    "changed = pattern.sub(\", and\", text)\n",
    "changed\n",
    "assert(changed == text)\n",
    "\n",
    "pattern = re.compile(r\",.and\", re.DOTALL)\n",
    "changed = pattern.sub(\", and\", text)\n",
    "changed\n",
    "assert(changed != text)\n",
    "\n",
    "last_changed = re.sub(r\"(?s),.and\", \", and\", text)\n",
    "last_changed\n",
    "assert(changed == last_changed)"
   ]
  },
  {
   "attachments": {},
   "cell_type": "markdown",
   "id": "621203a8",
   "metadata": {},
   "source": [
    "### 002.003 Case insensitive\n",
    "\n",
    "Flags are used to perform additional operations on the pattern or the search\n",
    "\n",
    "1. Compile `re1` into `pattern`, with the correct flag to make it case insensitive, and run on text. Print out as `f\"1: {changed}\"`\n",
    "1. Note that it doesn't replace anything\n",
    "1. Repeat, but use the correct case insensitive flag. Note that it replaces the first instance, but no more\n",
    "1. Repeat, but change re to use an inline flag and just use `re.sub` instead of compiling\n",
    "1. Repeat again, this time compile again and use two flags to change all occurrences\n",
    "1. And again, back to using `re.sub` and inline flag to replicate previous step"
   ]
  },
  {
   "cell_type": "code",
   "execution_count": 8,
   "metadata": {},
   "outputs": [
    {
     "data": {
      "text/plain": [
       "'1: It was the best of times, \\nit was the worst of times, \\nit was the age of wisdom, \\nit was the age of foolishness, \\nit was the epoch of belief, \\n...'"
      ]
     },
     "execution_count": 8,
     "metadata": {},
     "output_type": "execute_result"
    },
    {
     "data": {
      "text/plain": [
       "'2: it will be the best of times, \\nit was the worst of times, \\nit was the age of wisdom, \\nit was the age of foolishness, \\nit was the epoch of belief, \\n...'"
      ]
     },
     "execution_count": 8,
     "metadata": {},
     "output_type": "execute_result"
    },
    {
     "data": {
      "text/plain": [
       "'3: it will be the best of times, \\nit was the worst of times, \\nit was the age of wisdom, \\nit was the age of foolishness, \\nit was the epoch of belief, \\n...'"
      ]
     },
     "execution_count": 8,
     "metadata": {},
     "output_type": "execute_result"
    },
    {
     "data": {
      "text/plain": [
       "'4: it will be the best of times, \\nit will be the worst of times, \\nit will be the age of wisdom, \\nit will be the age of foolishness, \\nit will be the epoch of belief, \\n...'"
      ]
     },
     "execution_count": 8,
     "metadata": {},
     "output_type": "execute_result"
    },
    {
     "data": {
      "text/plain": [
       "'5: it will be the best of times, \\nit will be the worst of times, \\nit will be the age of wisdom, \\nit will be the age of foolishness, \\nit will be the epoch of belief, \\n...'"
      ]
     },
     "execution_count": 8,
     "metadata": {},
     "output_type": "execute_result"
    }
   ],
   "source": [
    "text = \"\"\"It was the best of times, \n",
    "it was the worst of times, \n",
    "it was the age of wisdom, \n",
    "it was the age of foolishness, \n",
    "it was the epoch of belief, \n",
    "...\"\"\"\n",
    "\n",
    "re1 = r\"^it was\"\n",
    "sub1 = \"it will be\"\n",
    "# solution\n",
    "pattern = re.compile(re1)\n",
    "changed = pattern.sub(sub1, text)\n",
    "f\"1: {changed}\"\n",
    "pattern = re.compile(re1, re.IGNORECASE)\n",
    "changed = pattern.sub(sub1, text)\n",
    "f\"2: {changed}\"\n",
    "changed = re.sub(r\"(?i)^it was\", \"it will be\", text)\n",
    "f\"3: {changed}\"\n",
    "\n",
    "pattern = re.compile(re1, re.MULTILINE | re.IGNORECASE)\n",
    "changed = pattern.sub(\"it will be\", text)\n",
    "f\"4: {changed}\"\n",
    "changed = re.sub(r\"(?im)^it was\", \"it will be\", text)\n",
    "f\"5: {changed}\"\n",
    "\n"
   ]
  },
  {
   "attachments": {},
   "cell_type": "markdown",
   "id": "3920fec4",
   "metadata": {},
   "source": [
    "### 002.004 String replace, greedy matches\n",
    "\n",
    "1. Use text.replace to save a version of text without newlines in `one_line`. Display as `f\"1: {one_line}\"`\n",
    "1. Prove that you cannot use the re `the .+ of .+,` with string replace by saving result to variable `changed`\n",
    "1. Prove that you can do a replacement with a re only with the appropriate re method, and save to `changed`\n",
    "1. Note that `changed` is now 'It was the [something] of [something], ...', and changed the re to be non greedy to obtain \"It was the [something] of [something], it was the [something] of [something], ...\""
   ]
  },
  {
   "cell_type": "code",
   "execution_count": 9,
   "id": "546e14e9",
   "metadata": {},
   "outputs": [
    {
     "data": {
      "text/plain": [
       "'1: It was the best of times, it was the worst of times, it was the age of wisdom, it was the age of foolishness, it was the epoch of belief, ...'"
      ]
     },
     "execution_count": 9,
     "metadata": {},
     "output_type": "execute_result"
    },
    {
     "data": {
      "text/plain": [
       "'2: It was the best of times, it was the worst of times, it was the age of wisdom, it was the age of foolishness, it was the epoch of belief, ...'"
      ]
     },
     "execution_count": 9,
     "metadata": {},
     "output_type": "execute_result"
    },
    {
     "data": {
      "text/plain": [
       "'3: It was the [something] of [something], ...'"
      ]
     },
     "execution_count": 9,
     "metadata": {},
     "output_type": "execute_result"
    },
    {
     "data": {
      "text/plain": [
       "'4: It was the [something] of [something], it was the [something] of [something], it was the [something] of [something], it was the [something] of [something], it was the [something] of [something], ...'"
      ]
     },
     "execution_count": 9,
     "metadata": {},
     "output_type": "execute_result"
    }
   ],
   "source": [
    "text = \"\"\"It was the best of times, \n",
    "it was the worst of times, \n",
    "it was the age of wisdom, \n",
    "it was the age of foolishness, \n",
    "it was the epoch of belief, \n",
    "...\"\"\" \n",
    "# solution\n",
    "one_line = text.replace(\"\\n\", \"\")\n",
    "f\"1: {one_line}\"\n",
    "changed = one_line.replace(r\"the .+ of .+,\", \"the [something] of [something]\")\n",
    "f\"2: {changed}\"\n",
    "changed = re.sub(r\"the .+ of .+,\", \"the [something] of [something],\", one_line)\n",
    "f\"3: {changed}\"\n",
    "changed = re.sub(r\"the .+? of .+?,\", \"the [something] of [something],\", one_line)\n",
    "f\"4: {changed}\"\n"
   ]
  },
  {
   "attachments": {},
   "cell_type": "markdown",
   "id": "2dff6d7a",
   "metadata": {},
   "source": [
    "### 002.005 Repetitions\n",
    "\n",
    "1. Try to run the re \"it was\" on `one_line`, with the re method that only works at the beginning of the line, and see it fail\n",
    "1. Fix it by using the one that works everywhere in the line\n",
    "1. Another way of fixing it is to make the re case insensitive\n",
    "1. Run the re `(it was the .+? of .+?, ?)` with the repetition qualifier {1,5} and prove that when searching, it only returns one group, and it contains the last of the 'it was...\" (it was the epoch of belief)\n",
    "1. Change it so that it finds the 1st group instead"
   ]
  },
  {
   "cell_type": "code",
   "execution_count": 10,
   "id": "869a0643",
   "metadata": {},
   "outputs": [
    {
     "data": {
      "text/plain": [
       "'it was the epoch of belief, '"
      ]
     },
     "execution_count": 10,
     "metadata": {},
     "output_type": "execute_result"
    },
    {
     "data": {
      "text/plain": [
       "'it was the worst of times, '"
      ]
     },
     "execution_count": 10,
     "metadata": {},
     "output_type": "execute_result"
    }
   ],
   "source": [
    "text = \"\"\"It was the best of times, \n",
    "it was the worst of times, \n",
    "it was the age of wisdom, \n",
    "it was the age of foolishness, \n",
    "it was the epoch of belief, \n",
    "...\"\"\" \n",
    "one_line = text.replace(\"\\n\", \"\")\n",
    "# solution\n",
    "found = re.match(\"it was\", one_line)\n",
    "assert found is None\n",
    "found = re.search(\"it was\", one_line)\n",
    "assert(found)\n",
    "found = re.match(\"it was\", one_line, flags=re.IGNORECASE)\n",
    "assert(found)\n",
    "\n",
    "one_line = text.replace(\"\\n\", \"\")\n",
    "matches = re.search(r\"(it was the .+? of .+?, ?){1,5}\", one_line)\n",
    "matches.group(1)\n",
    "matches = re.search(r\"(it was the .+? of .+?, ?){1,5}?\", one_line)\n",
    "matches.group(1)\n"
   ]
  },
  {
   "attachments": {},
   "cell_type": "markdown",
   "id": "1a5b254c",
   "metadata": {},
   "source": [
    "### 002.006 Sets of characters\n",
    "\n",
    "`[]` is used to indicate a set of characters\n",
    "\n",
    "1. Use string replace on `text1` to make `re1` pass\n",
    "1. There are two ways to handle the \"-\" in `text2`; use them both. Should match '1-2'\n",
    "1. There are two ways to handle the \"]\" in `text3`; use them both. Should match ']('"
   ]
  },
  {
   "cell_type": "code",
   "execution_count": 11,
   "id": "63332005",
   "metadata": {},
   "outputs": [
    {
     "data": {
      "text/plain": [
       "'18(.)2.122.'"
      ]
     },
     "execution_count": 11,
     "metadata": {},
     "output_type": "execute_result"
    },
    {
     "data": {
      "text/plain": [
       "'1-2'"
      ]
     },
     "execution_count": 11,
     "metadata": {},
     "output_type": "execute_result"
    },
    {
     "data": {
      "text/plain": [
       "'1-2'"
      ]
     },
     "execution_count": 11,
     "metadata": {},
     "output_type": "execute_result"
    },
    {
     "data": {
      "text/plain": [
       "']('"
      ]
     },
     "execution_count": 11,
     "metadata": {},
     "output_type": "execute_result"
    },
    {
     "data": {
      "text/plain": [
       "']('"
      ]
     },
     "execution_count": 11,
     "metadata": {},
     "output_type": "execute_result"
    }
   ],
   "source": [
    "text1 = \"12f256z won't be found, ______ will\"\n",
    "re1 = r\"[\\d().]{4,}\"\n",
    "\n",
    "text2 = \"1-2=-1\"\n",
    "text3 = \"There are two ways to match ](I can confirm)\"\n",
    "# solution\n",
    "\n",
    "text1 = text1.replace(\"______\", \"18(.)2.122.\")\n",
    "re.search(re1, text1).group()\n",
    "re.search(r\"[-0-9]+\", text2).group()\n",
    "re.search(r\"[1\\-2]+\", text2).group()\n",
    "re.search(r\"[](]+\", text3).group()\n",
    "re.search(r\"[(\\]]+\", text3).group()\n"
   ]
  },
  {
   "attachments": {},
   "cell_type": "markdown",
   "id": "60d03a06",
   "metadata": {},
   "source": [
    "### 002.007 Non capturing group\n",
    "\n",
    "1. Use `re.findall` to find matches for `re1`\n",
    "1. Add a non capturing group to only match those which preceed \"age\". Note that \"age\" is part of the match\n",
    "1. Change it so that age is not part of the match"
   ]
  },
  {
   "cell_type": "code",
   "execution_count": 12,
   "id": "bde8c35d",
   "metadata": {},
   "outputs": [
    {
     "data": {
      "text/plain": [
       "['it was the', 'it was the', 'it was the', 'it was the']"
      ]
     },
     "execution_count": 12,
     "metadata": {},
     "output_type": "execute_result"
    },
    {
     "data": {
      "text/plain": [
       "['it was the age', 'it was the age']"
      ]
     },
     "execution_count": 12,
     "metadata": {},
     "output_type": "execute_result"
    },
    {
     "data": {
      "text/plain": [
       "['it was the', 'it was the']"
      ]
     },
     "execution_count": 12,
     "metadata": {},
     "output_type": "execute_result"
    }
   ],
   "source": [
    "text = \"\"\"It was the best of times, \n",
    "it was the worst of times, \n",
    "it was the age of wisdom, \n",
    "it was the age of foolishness, \n",
    "it was the epoch of belief, \n",
    "...\"\"\"\n",
    "\n",
    "re1 = r\"it was the\"\n",
    "# solution\n",
    "re.findall(re1, text)\n",
    "re.findall(r\"it was the (?:age)\", text)\n",
    "re.findall(r\"(it was the) (?:age)\", text)"
   ]
  },
  {
   "attachments": {},
   "cell_type": "markdown",
   "id": "15c2012b",
   "metadata": {},
   "source": [
    "### 002.008 Named groups\n",
    "\n",
    "1. Create re1 so that the the remaining statements work\n",
    "1. Now make a dict of the two named entries\n",
    "1. Create a named group 'quote' for the re ['\"] and use it with findall and a backreference to match the pairs of quotes in `text`\n",
    "1. Apply it to `text2` and note how it breaks because the quotes do not match\n",
    "1. Use the named groups as replacements in a sub to get the string `'1: I am an \\'xxxx\\', a \"xxxx\", and a \\'xxxx\\'.'`"
   ]
  },
  {
   "cell_type": "code",
   "execution_count": 13,
   "id": "97f93f37",
   "metadata": {},
   "outputs": [
    {
     "data": {
      "text/plain": [
       "{'first_name': 'Malcolm', 'last_name': 'Reynolds'}"
      ]
     },
     "execution_count": 13,
     "metadata": {},
     "output_type": "execute_result"
    },
    {
     "data": {
      "text/plain": [
       "[(\"'\", 'architect'), ('\"', 'stonemason'), (\"'\", 'killer')]"
      ]
     },
     "execution_count": 13,
     "metadata": {},
     "output_type": "execute_result"
    },
    {
     "data": {
      "text/plain": [
       "[(\"'\", 'architect\", a '), (\"'\", 'killer')]"
      ]
     },
     "execution_count": 13,
     "metadata": {},
     "output_type": "execute_result"
    },
    {
     "data": {
      "text/plain": [
       "'1: I am an \\'xxxx\\', a \"xxxx\", and a \\'xxxx\\'.'"
      ]
     },
     "execution_count": 13,
     "metadata": {},
     "output_type": "execute_result"
    }
   ],
   "source": [
    "# re1 = ...\n",
    "# m = re.match(re1, \"Malcolm Reynolds\")\n",
    "# assert ... == 'Malcolm'\n",
    "# assert ... == 'Reynolds'\n",
    "\n",
    "text = \"1: I am an 'architect', a \\\"stonemason\\\", and a 'killer'.\"\n",
    "text2 = \"2: I am an 'architect\\\", a 'stonemason\\\", and a 'killer'.\"\n",
    "# solution\n",
    "re1 = r\"(?P<first_name>\\w+) (?P<last_name>\\w+)\"\n",
    "m = re.match(re1, \"Malcolm Reynolds\")\n",
    "assert m.group('first_name') == 'Malcolm'\n",
    "assert m.group('last_name') == 'Reynolds'\n",
    "\n",
    "m.groupdict()\n",
    "\n",
    "re2 = r\"(?P<quote>['\\\"])(.+?)(?P=quote)\"\n",
    "re.findall(re2, text)\n",
    "re.findall(re2, text2)\n",
    "re.sub(re2, \"\\g<quote>xxxx\\g<quote>\", text)\n"
   ]
  },
  {
   "attachments": {},
   "cell_type": "markdown",
   "id": "bedf872f",
   "metadata": {},
   "source": [
    "### 002.009\n",
    "\n",
    "1. Use lookahead to match \"I am a sick man\" and print it with `m.group()`\n",
    "1. Change it to negative lookahead to match \"I am a sick man... I am an angry man\" and print it with `m.group()`\n",
    "1. Use positive lookbehind to match \"man... \" and print it with `m.group(1)`\n",
    "1. Use negative lookbehind to match \"man.\" and print it with `m.group(1)`\n"
   ]
  },
  {
   "cell_type": "code",
   "execution_count": 14,
   "id": "a055a96c",
   "metadata": {},
   "outputs": [
    {
     "data": {
      "text/plain": [
       "'I am a sick man'"
      ]
     },
     "execution_count": 14,
     "metadata": {},
     "output_type": "execute_result"
    },
    {
     "data": {
      "text/plain": [
       "'I am a sick man... I am an angry man'"
      ]
     },
     "execution_count": 14,
     "metadata": {},
     "output_type": "execute_result"
    },
    {
     "data": {
      "text/plain": [
       "'man... '"
      ]
     },
     "execution_count": 14,
     "metadata": {},
     "output_type": "execute_result"
    },
    {
     "data": {
      "text/plain": [
       "'man.'"
      ]
     },
     "execution_count": 14,
     "metadata": {},
     "output_type": "execute_result"
    }
   ],
   "source": [
    "text = \"I am a sick man... I am an angry man.\"\n",
    "# solution\n",
    "the_re = r\"^.+man(?=...)\"\n",
    "m = re.search(the_re, text)\n",
    "m.group()\n",
    "\n",
    "the_re = r\"^.+man(?!...)\"\n",
    "m = re.search(the_re, text)\n",
    "m.group()\n",
    "\n",
    "the_re = r\"(?<=sick) (man\\W+)\"\n",
    "m = re.search(the_re, text)\n",
    "m.group(1)\n",
    "\n",
    "the_re = r\"(?<!sick) (man\\W+)\"\n",
    "m = re.search(the_re, text)\n",
    "m.group(1)"
   ]
  },
  {
   "attachments": {},
   "cell_type": "markdown",
   "id": "81d7ce04",
   "metadata": {},
   "source": [
    "#002.010 angle groups\n",
    "\n",
    "1. Create a group 'angle' for the opening < in the optional angle brackets in, then create `re1` so that it uses the yes-pattern|no-pattern extension notation to pass all the commented out assertions"
   ]
  },
  {
   "cell_type": "code",
   "execution_count": 15,
   "id": "fe2be185",
   "metadata": {},
   "outputs": [],
   "source": [
    "pass1 = '<user@host.com>'\n",
    "pass2 = 'user@host.com'\n",
    "fail1 = '<user@host.com'\n",
    "fail2 = 'user@host.com>'\n",
    "\n",
    "# re1 = ...\n",
    "# assert re1.match(pass1)\n",
    "# assert re1.match(pass2)\n",
    "# assert re1.match(fail1) is None\n",
    "# assert re1.match(fail2) is None\n",
    "\n",
    "# solution\n",
    "\n",
    "re1 = re.compile(r\"(?P<angle><)?\\w+@\\w+\\.\\w+(?(angle)>|$)\")\n",
    "assert re1.match(pass1)\n",
    "assert re1.match(pass2)\n",
    "assert re1.match(fail1) is None\n",
    "assert re1.match(fail2) is None"
   ]
  },
  {
   "attachments": {},
   "cell_type": "markdown",
   "id": "21f36130",
   "metadata": {},
   "source": [
    "### 002.011 Split\n",
    "\n",
    "1. Extract `['words', 'words', 'words']` from words using only list comprehension and re.split\n",
    "1. The same, but also preserve the `!`\n",
    "1. How do you use split, and only split, to get `['', '...', 'words', ', ', 'words', '...', '']` from `_words_` ?\n",
    "1. Use only split to get `` from `_words2_`\n",
    "1. Split into 2 groups using the correct maxsplit argument `['words', 'words! words!']`\n",
    "1. Use a flag to extract `['0', '3', '9']` from hex_color\n"
   ]
  },
  {
   "cell_type": "code",
   "execution_count": 33,
   "id": "458ad726",
   "metadata": {},
   "outputs": [
    {
     "data": {
      "text/plain": [
       "['words', 'words', 'words']"
      ]
     },
     "execution_count": 33,
     "metadata": {},
     "output_type": "execute_result"
    },
    {
     "data": {
      "text/plain": [
       "['words', '!', 'words', '!', 'words', '!']"
      ]
     },
     "execution_count": 33,
     "metadata": {},
     "output_type": "execute_result"
    },
    {
     "data": {
      "text/plain": [
       "['', '...', 'words', ', ', 'words', '...', '']"
      ]
     },
     "execution_count": 33,
     "metadata": {},
     "output_type": "execute_result"
    },
    {
     "data": {
      "text/plain": [
       "['',\n",
       " '...',\n",
       " '',\n",
       " '',\n",
       " 'w',\n",
       " '',\n",
       " 'o',\n",
       " '',\n",
       " 'r',\n",
       " '',\n",
       " 'd',\n",
       " '',\n",
       " 's',\n",
       " ', ',\n",
       " '',\n",
       " '',\n",
       " 'w',\n",
       " '',\n",
       " 'o',\n",
       " '',\n",
       " 'r',\n",
       " '',\n",
       " 'd',\n",
       " '',\n",
       " 's',\n",
       " '...',\n",
       " '',\n",
       " '',\n",
       " '']"
      ]
     },
     "execution_count": 33,
     "metadata": {},
     "output_type": "execute_result"
    },
    {
     "data": {
      "text/plain": [
       "['words', 'words! words!']"
      ]
     },
     "execution_count": 33,
     "metadata": {},
     "output_type": "execute_result"
    },
    {
     "data": {
      "text/plain": [
       "['0', '3', '9']"
      ]
     },
     "execution_count": 33,
     "metadata": {},
     "output_type": "execute_result"
    }
   ],
   "source": [
    "words = \"Words! Words! Words!\"\n",
    "hex_color = \"0a3B9f\"\n",
    "_words_ = \"...words, words...\"\n",
    "_words2_ = \"...words...\"\n",
    "\n",
    "# solution\n",
    "[word.lower() for word in re.split(r'\\W+', words) if word]\n",
    "\n",
    "# () preserve the match\n",
    "[word.lower().strip() for word in re.split(r'(\\W+)', words) if word]\n",
    "\n",
    "# () prepends and append an empty match, so that the  pattern is always index 1, 3, 5...\n",
    "re.split('(\\W+)', _words_)\n",
    "\n",
    "# only a sequence of 1 empty match max\n",
    "re.split('(\\W*)', _words_)\n",
    "\n",
    "\n",
    "[word.lower() for word in re.split(r'\\W+', words, maxsplit=1) if word]\n",
    "[h for h in re.split('[a-f]+', hex_color, flags=re.IGNORECASE) if h]"
   ]
  },
  {
   "attachments": {},
   "cell_type": "markdown",
   "id": "8c0a6708",
   "metadata": {},
   "source": [
    "### 002.012 finditer\n",
    "\n",
    "1. Use finditer and a loop to print all the words starting with w in text"
   ]
  },
  {
   "cell_type": "code",
   "execution_count": null,
   "id": "c52e2530",
   "metadata": {},
   "outputs": [],
   "source": []
  },
  {
   "cell_type": "code",
   "execution_count": 59,
   "metadata": {},
   "outputs": [
    {
     "data": {
      "text/plain": [
       "\"I am forced to the appalling conclusion that I would never have become a    writer but for Joan's death, and to a realization of the extent to which this    event has motivated and formulated my writing. I live with the constant threat    of possession, and a constant need to escape from possession, from Control\""
      ]
     },
     "execution_count": 59,
     "metadata": {},
     "output_type": "execute_result"
    },
    {
     "data": {
      "text/plain": [
       "'would'"
      ]
     },
     "execution_count": 59,
     "metadata": {},
     "output_type": "execute_result"
    },
    {
     "data": {
      "text/plain": [
       "'writer'"
      ]
     },
     "execution_count": 59,
     "metadata": {},
     "output_type": "execute_result"
    },
    {
     "data": {
      "text/plain": [
       "'which'"
      ]
     },
     "execution_count": 59,
     "metadata": {},
     "output_type": "execute_result"
    },
    {
     "data": {
      "text/plain": [
       "'writing'"
      ]
     },
     "execution_count": 59,
     "metadata": {},
     "output_type": "execute_result"
    },
    {
     "data": {
      "text/plain": [
       "'with'"
      ]
     },
     "execution_count": 59,
     "metadata": {},
     "output_type": "execute_result"
    }
   ],
   "source": [
    "text = \"\"\"I am forced to the appalling conclusion that I would never have become a\n",
    "    writer but for Joan's death, and to a realization of the extent to which this\n",
    "    event has motivated and formulated my writing. I live with the constant threat\n",
    "    of possession, and a constant need to escape from possession, from Control\"\"\".replace(\"\\n\", \"\")\n",
    "text\n",
    "# solution\n",
    "\n",
    "matches = re.finditer(r\"\\b(w)\\w+\", text)\n",
    "for match in matches:\n",
    "    match.group()"
   ]
  },
  {
   "cell_type": "markdown",
   "id": "ac345a9c",
   "metadata": {},
   "source": [
    "### 002.013\n",
    "\n",
    "1. Use re.sub with a replacement function to generete `Think of an odd digit: [>>>7<<<]. Now think of an even one: [>>>6<<<]` from def. Call it three times to prove the numbers are always different"
   ]
  },
  {
   "cell_type": "code",
   "execution_count": 79,
   "id": "219bb8c3",
   "metadata": {},
   "outputs": [
    {
     "data": {
      "text/plain": [
       "'Think of an odd digit: [>>>5<<<]. Now think of an even one: [>>>0<<<]'"
      ]
     },
     "execution_count": 79,
     "metadata": {},
     "output_type": "execute_result"
    },
    {
     "data": {
      "text/plain": [
       "'Think of an odd digit: [>>>1<<<]. Now think of an even one: [>>>2<<<]'"
      ]
     },
     "execution_count": 79,
     "metadata": {},
     "output_type": "execute_result"
    },
    {
     "data": {
      "text/plain": [
       "'Think of an odd digit: [>>>5<<<]. Now think of an even one: [>>>0<<<]'"
      ]
     },
     "execution_count": 79,
     "metadata": {},
     "output_type": "execute_result"
    }
   ],
   "source": [
    "import random\n",
    "\n",
    "text = \"Think of an odd digit: [1]. Now think of an even one: [2]\"\n",
    "# solution\n",
    "def replacement(matchobj):\n",
    "    num = int(matchobj.group(0))\n",
    "    if num % 2 == 1:\n",
    "        return f\">>>{random.choice([1, 3, 5, 7, 9])}<<<\"\n",
    "    else:\n",
    "        return f\">>>{random.choice([0, 2, 4, 6, 8])}<<<\"\n",
    "    \n",
    "re.sub(r\"\\d\", replacement, text)\n",
    "re.sub(r\"\\d\", replacement, text)\n",
    "re.sub(r\"\\d\", replacement, text)\n"
   ]
  },
  {
   "attachments": {},
   "cell_type": "markdown",
   "id": "e611c648",
   "metadata": {},
   "source": [
    "### 002.014 Match"
   ]
  }
 ],
 "metadata": {
  "kernelspec": {
   "display_name": ".venv",
   "language": "python",
   "name": "python3"
  },
  "language_info": {
   "codemirror_mode": {
    "name": "ipython",
    "version": 3
   },
   "file_extension": ".py",
   "mimetype": "text/x-python",
   "name": "python",
   "nbconvert_exporter": "python",
   "pygments_lexer": "ipython3",
   "version": "3.10.6"
  },
  "vscode": {
   "interpreter": {
    "hash": "7daeb9a356073df578df6d7584369b7908e732a3e4cb2289ee7d810fc6635fc0"
   }
  }
 },
 "nbformat": 4,
 "nbformat_minor": 5
}
