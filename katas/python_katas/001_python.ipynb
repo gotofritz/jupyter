{
 "cells": [
  {
   "attachments": {},
   "cell_type": "markdown",
   "id": "99786a37",
   "metadata": {},
   "source": [
    "# PYTHON\n",
    "\n",
    "Python is a high-level, general-purpose programming language that is widely used for web development, scientific computing, data analysis, and a wide range of other applications. It is known for its simplicity, readability, and flexibility, and is a popular choice for beginners and experienced programmers alike.\n",
    "\n",
    "Python is an interpreted language, which means that it is executed at runtime by an interpreter, rather than being compiled into machine code that can be run directly on a computer's hardware. This makes Python programs easy to write and debug, but also means that they may not be as fast or efficient as programs written in compiled languages like C or C++.\n",
    "\n",
    "Python has a large standard library that provides a wide range of built-in functionality, as well as a rich ecosystem of third-party libraries and frameworks that allow developers to do everything from building web applications to working with data and machine learning."
   ]
  },
  {
   "attachments": {},
   "cell_type": "markdown",
   "id": "89ce8c2b",
   "metadata": {},
   "source": [
    "## 001. Strings"
   ]
  },
  {
   "cell_type": "markdown",
   "id": "dcb605f4",
   "metadata": {},
   "source": []
  },
  {
   "cell_type": "code",
   "execution_count": 1,
   "id": "4228fec7",
   "metadata": {
    "execution": {
     "iopub.execute_input": "2023-01-18T21:10:41.910056Z",
     "iopub.status.busy": "2023-01-18T21:10:41.909762Z",
     "iopub.status.idle": "2023-01-18T21:10:41.919833Z",
     "shell.execute_reply": "2023-01-18T21:10:41.919313Z"
    }
   },
   "outputs": [],
   "source": [
    "import sys\n",
    "from pathlib import Path\n",
    "\n",
    "current_dir = Path().resolve()\n",
    "while current_dir != current_dir.parent and current_dir.name != \"katas\":\n",
    "    current_dir = current_dir.parent\n",
    "if current_dir != current_dir.parent:\n",
    "    sys.path.append(current_dir.as_posix())"
   ]
  },
  {
   "cell_type": "code",
   "execution_count": 2,
   "id": "02ca7850",
   "metadata": {
    "execution": {
     "iopub.execute_input": "2023-01-18T21:10:41.922519Z",
     "iopub.status.busy": "2023-01-18T21:10:41.922312Z",
     "iopub.status.idle": "2023-01-18T21:10:41.925027Z",
     "shell.execute_reply": "2023-01-18T21:10:41.924571Z"
    }
   },
   "outputs": [],
   "source": [
    "from IPython.core.interactiveshell import InteractiveShell\n",
    "\n",
    "InteractiveShell.ast_node_interactivity = \"all\""
   ]
  },
  {
   "attachments": {},
   "cell_type": "markdown",
   "id": "5b212460",
   "metadata": {},
   "source": [
    "### 001.001 Template\n",
    "\n",
    "Templates are used mostly for i18n\n",
    "\n",
    "1. Import Template from string\n",
    "1. Create a template with `'$which) $who likes $what'`\n",
    "1. Substitue 1, time, kung pao\n",
    "1. do the same, but with a dict (and which is now 2)\n",
    "1. Create a template with `'$which) $who needs $100'`\n",
    "1. Make it fail by not passing a value for $100; catch the correct error and print \"3) didn't work\"\n",
    "1. Make it pass by using safe_substitute (and which is now 4)\n",
    "1. Make it pass by rewriting the template so that that the $ in $100 is escaped (and which is now 5)\n",
    "1. Create a template with `'$which) $who likes $what'`\n",
    "1. Make it fail by not passing $what; catch the correct error and print \"6) didn't work\"\n",
    "1. Make it pass by using safe_substitute  (and which is now 7)\n"
   ]
  },
  {
   "cell_type": "code",
   "execution_count": 3,
   "id": "c741ca30",
   "metadata": {
    "execution": {
     "iopub.execute_input": "2023-01-18T21:10:41.927521Z",
     "iopub.status.busy": "2023-01-18T21:10:41.927344Z",
     "iopub.status.idle": "2023-01-18T21:10:41.929515Z",
     "shell.execute_reply": "2023-01-18T21:10:41.929133Z"
    }
   },
   "outputs": [],
   "source": [
    "# solution\n"
   ]
  }
 ],
 "metadata": {
  "kernelspec": {
   "display_name": ".venv",
   "language": "python",
   "name": "python3"
  },
  "language_info": {
   "codemirror_mode": {
    "name": "ipython",
    "version": 3
   },
   "file_extension": ".py",
   "mimetype": "text/x-python",
   "name": "python",
   "nbconvert_exporter": "python",
   "pygments_lexer": "ipython3",
   "version": "3.10.6"
  },
  "vscode": {
   "interpreter": {
    "hash": "7daeb9a356073df578df6d7584369b7908e732a3e4cb2289ee7d810fc6635fc0"
   }
  }
 },
 "nbformat": 4,
 "nbformat_minor": 5
}
