{
 "cells": [
  {
   "attachments": {},
   "cell_type": "markdown",
   "id": "99786a37",
   "metadata": {},
   "source": [
    "# PYTHON\n",
    "\n",
    "Python is a high-level, general-purpose programming language that is widely used for web development, scientific computing, data analysis, and a wide range of other applications. It is known for its simplicity, readability, and flexibility, and is a popular choice for beginners and experienced programmers alike.\n",
    "\n",
    "Python is an interpreted language, which means that it is executed at runtime by an interpreter, rather than being compiled into machine code that can be run directly on a computer's hardware. This makes Python programs easy to write and debug, but also means that they may not be as fast or efficient as programs written in compiled languages like C or C++.\n",
    "\n",
    "Python has a large standard library that provides a wide range of built-in functionality, as well as a rich ecosystem of third-party libraries and frameworks that allow developers to do everything from building web applications to working with data and machine learning."
   ]
  },
  {
   "attachments": {},
   "cell_type": "markdown",
   "id": "89ce8c2b",
   "metadata": {},
   "source": [
    "## 002. Regular Expressions\n",
    "\n",
    "Both patterns and strings to be searched can be Unicode strings (str) as well as 8-bit strings (bytes). However, Unicode strings and 8-bit strings cannot be mixed: that is, you cannot match a Unicode string with a byte pattern or vice-versa; similarly, when asking for a substitution, the replacement string must be of the same type as both the pattern and the search string."
   ]
  },
  {
   "cell_type": "markdown",
   "id": "dcb605f4",
   "metadata": {},
   "source": []
  },
  {
   "attachments": {},
   "cell_type": "markdown",
   "id": "61c0a177",
   "metadata": {},
   "source": [
    "## 00X.000 Assets\n",
    "\n",
    "Some assets to avoid too much typing\n",
    "\n",
    "| Maybe       | Data |\n",
    "|-------------|------|\n",
    "| Show me     | 1233 |"
   ]
  },
  {
   "cell_type": "code",
   "execution_count": 1,
   "id": "4228fec7",
   "metadata": {
    "execution": {
     "iopub.execute_input": "2023-01-22T10:12:17.907502Z",
     "iopub.status.busy": "2023-01-22T10:12:17.907127Z",
     "iopub.status.idle": "2023-01-22T10:12:17.917417Z",
     "shell.execute_reply": "2023-01-22T10:12:17.916861Z"
    }
   },
   "outputs": [],
   "source": [
    "import sys\n",
    "from pathlib import Path\n",
    "\n",
    "current_dir = Path().resolve()\n",
    "while current_dir != current_dir.parent and current_dir.name != \"katas\":\n",
    "    current_dir = current_dir.parent\n",
    "if current_dir != current_dir.parent:\n",
    "    sys.path.append(current_dir.as_posix())"
   ]
  },
  {
   "cell_type": "code",
   "execution_count": 2,
   "id": "02ca7850",
   "metadata": {
    "execution": {
     "iopub.execute_input": "2023-01-22T10:12:17.920517Z",
     "iopub.status.busy": "2023-01-22T10:12:17.920303Z",
     "iopub.status.idle": "2023-01-22T10:12:17.923026Z",
     "shell.execute_reply": "2023-01-22T10:12:17.922494Z"
    }
   },
   "outputs": [],
   "source": [
    "import re\n",
    "from IPython.core.interactiveshell import InteractiveShell\n",
    "\n",
    "InteractiveShell.ast_node_interactivity = \"all\""
   ]
  },
  {
   "attachments": {},
   "cell_type": "markdown",
   "id": "5b212460",
   "metadata": {},
   "source": [
    "### 002.001 Verbose Flag\n",
    "\n",
    "Flags are used to perform additional operations on the pattern or the search\n",
    "\n",
    "1. Compile the re `\"\\d+\\.\\d*\"` into pattern1\n",
    "1. Compile the same re into pattern2, but use the correct flag to add comments to each part of the re  (pattern2)\n",
    "1. Do the same but with an inline flag (pattern3)\n",
    "1. Do the same but without flags, just comments as extension notations (pattern4)\n",
    "1. assert that all can match `\"00.12\"`\n"
   ]
  },
  {
   "cell_type": "code",
   "execution_count": 3,
   "id": "c741ca30",
   "metadata": {
    "execution": {
     "iopub.execute_input": "2023-01-22T10:12:17.925598Z",
     "iopub.status.busy": "2023-01-22T10:12:17.925422Z",
     "iopub.status.idle": "2023-01-22T10:12:17.927599Z",
     "shell.execute_reply": "2023-01-22T10:12:17.927141Z"
    }
   },
   "outputs": [],
   "source": [
    "text = \"00.12\"\n",
    "# solution\n"
   ]
  },
  {
   "attachments": {},
   "cell_type": "markdown",
   "id": "1ace4f12",
   "metadata": {},
   "source": [
    "### 002.002 New line flag\n",
    "\n",
    "1. Compile `re1` into `pattern`. Run it against text and save result in `changed`, notice that nothing changes. Assert that text and changed are the same\n",
    "1. Repeat, but use the correct flag to include \"\\n\" in the `.`\n",
    "1. Do the same, but this time use inline flag and re.sub instead of compiling. Save result to `last_changed`, and assert it is the same as `changed` from step (2)"
   ]
  },
  {
   "cell_type": "code",
   "execution_count": 4,
   "id": "20e5e608",
   "metadata": {
    "execution": {
     "iopub.execute_input": "2023-01-22T10:12:17.930123Z",
     "iopub.status.busy": "2023-01-22T10:12:17.929936Z",
     "iopub.status.idle": "2023-01-22T10:12:17.932301Z",
     "shell.execute_reply": "2023-01-22T10:12:17.931908Z"
    }
   },
   "outputs": [],
   "source": [
    "text = \"\"\"It was a bright cold day in April,\n",
    "and the clocks were striking thirteen.\"\"\"\n",
    "re1 = r\",.and\"\n",
    "# solution\n"
   ]
  },
  {
   "attachments": {},
   "cell_type": "markdown",
   "id": "621203a8",
   "metadata": {},
   "source": [
    "### 002.003 Case insensitive\n",
    "\n",
    "Flags are used to perform additional operations on the pattern or the search\n",
    "\n",
    "1. Compile `re1` into `pattern`, with the correct flag to make it case insensitive, and run on text. Print out as `f\"1: {changed}\"`\n",
    "1. Note that it doesn't replace anything\n",
    "1. Repeat, but use the correct case insensitive flag. Note that it replaces the first instance, but no more\n",
    "1. Repeat, but change re to use an inline flag and just use `re.sub` instead of compiling\n",
    "1. Repeat again, this time compile again and use two flags to change all occurrences\n",
    "1. And again, back to using `re.sub` and inline flag to replicate previous step"
   ]
  },
  {
   "cell_type": "code",
   "execution_count": 5,
   "id": "cb36dff6",
   "metadata": {
    "execution": {
     "iopub.execute_input": "2023-01-22T10:12:17.934510Z",
     "iopub.status.busy": "2023-01-22T10:12:17.934351Z",
     "iopub.status.idle": "2023-01-22T10:12:17.936523Z",
     "shell.execute_reply": "2023-01-22T10:12:17.936170Z"
    }
   },
   "outputs": [],
   "source": [
    "text = \"\"\"It was the best of times, \n",
    "it was the worst of times, \n",
    "it was the age of wisdom, \n",
    "it was the age of foolishness, \n",
    "it was the epoch of belief, \n",
    "...\"\"\"\n",
    "\n",
    "re1 = r\"^it was\"\n",
    "sub1 = \"it will be\"\n",
    "# solution\n"
   ]
  },
  {
   "attachments": {},
   "cell_type": "markdown",
   "id": "3920fec4",
   "metadata": {},
   "source": [
    "### 002.004 String replace, greedy matches\n",
    "\n",
    "1. Use text.replace to save a version of text without newlines in `one_line`. Display as `f\"1: {one_line}\"`\n",
    "1. Prove that you cannot use the re `the .+ of .+,` with string replace by saving result to variable `changed`\n",
    "1. Prove that you can do a replacement with a re only with the appropriate re method, and save to `changed`\n",
    "1. Note that `changed` is now 'It was the [something] of [something], ...', and changed the re to be non greedy to obtain \"It was the [something] of [something], it was the [something] of [something], ...\""
   ]
  },
  {
   "cell_type": "code",
   "execution_count": 6,
   "id": "546e14e9",
   "metadata": {
    "execution": {
     "iopub.execute_input": "2023-01-22T10:12:17.938588Z",
     "iopub.status.busy": "2023-01-22T10:12:17.938433Z",
     "iopub.status.idle": "2023-01-22T10:12:17.940250Z",
     "shell.execute_reply": "2023-01-22T10:12:17.939943Z"
    }
   },
   "outputs": [],
   "source": [
    "text = \"\"\"It was the best of times, \n",
    "it was the worst of times, \n",
    "it was the age of wisdom, \n",
    "it was the age of foolishness, \n",
    "it was the epoch of belief, \n",
    "...\"\"\" \n",
    "# solution\n"
   ]
  },
  {
   "attachments": {},
   "cell_type": "markdown",
   "id": "2dff6d7a",
   "metadata": {},
   "source": [
    "### 002.005 Repetitions\n",
    "\n",
    "1. Try to run the re \"it was\" on `one_line`, with the re method that only works at the beginning of the line, and see it fail\n",
    "1. Fix it by using the one that works everywhere in the line\n",
    "1. Another way of fixing it is to make the re case insensitive\n",
    "1. Run the re `(it was the .+? of .+?, ?)` with the repetition qualifier {1,5} and prove that when searching, it only returns one group, and it contains the last of the 'it was...\" (it was the epoch of belief)\n",
    "1. Change it so that it finds the 1st group instead"
   ]
  },
  {
   "cell_type": "code",
   "execution_count": 7,
   "id": "869a0643",
   "metadata": {
    "execution": {
     "iopub.execute_input": "2023-01-22T10:12:17.942145Z",
     "iopub.status.busy": "2023-01-22T10:12:17.942005Z",
     "iopub.status.idle": "2023-01-22T10:12:17.944081Z",
     "shell.execute_reply": "2023-01-22T10:12:17.943732Z"
    }
   },
   "outputs": [],
   "source": [
    "text = \"\"\"It was the best of times, \n",
    "it was the worst of times, \n",
    "it was the age of wisdom, \n",
    "it was the age of foolishness, \n",
    "it was the epoch of belief, \n",
    "...\"\"\" \n",
    "one_line = text.replace(\"\\n\", \"\")\n",
    "# solution\n"
   ]
  },
  {
   "attachments": {},
   "cell_type": "markdown",
   "id": "1a5b254c",
   "metadata": {},
   "source": [
    "### 002.006 Sets of characters\n",
    "\n",
    "`[]` is used to indicate a set of characters\n",
    "\n",
    "1. Use string replace on `text1` to make `re1` pass\n",
    "1. There are two ways to handle the \"-\" in `text2`; use them both. Should match '1-2'\n",
    "1. There are two ways to handle the \"]\" in `text3`; use them both. Should match ']('"
   ]
  },
  {
   "cell_type": "code",
   "execution_count": 8,
   "id": "63332005",
   "metadata": {
    "execution": {
     "iopub.execute_input": "2023-01-22T10:12:17.945891Z",
     "iopub.status.busy": "2023-01-22T10:12:17.945749Z",
     "iopub.status.idle": "2023-01-22T10:12:17.947719Z",
     "shell.execute_reply": "2023-01-22T10:12:17.947409Z"
    }
   },
   "outputs": [],
   "source": [
    "text1 = \"12f256z won't be found, ______ will\"\n",
    "re1 = r\"[\\d().]{4,}\"\n",
    "\n",
    "text2 = \"1-2=-1\"\n",
    "text3 = \"There are two ways to match ](I can confirm)\"\n",
    "# solution\n"
   ]
  },
  {
   "attachments": {},
   "cell_type": "markdown",
   "id": "60d03a06",
   "metadata": {},
   "source": [
    "### 002.007 Non capturing group\n",
    "\n",
    "1. Use `re.findall` to find matches for `re1`\n",
    "1. Add a non capturing group to only match those which preceed \"age\". Note that \"age\" is part of the match\n",
    "1. Change it so that age is not part of the match"
   ]
  },
  {
   "cell_type": "code",
   "execution_count": 9,
   "id": "bde8c35d",
   "metadata": {
    "execution": {
     "iopub.execute_input": "2023-01-22T10:12:17.949528Z",
     "iopub.status.busy": "2023-01-22T10:12:17.949412Z",
     "iopub.status.idle": "2023-01-22T10:12:17.951238Z",
     "shell.execute_reply": "2023-01-22T10:12:17.950951Z"
    }
   },
   "outputs": [],
   "source": [
    "text = \"\"\"It was the best of times, \n",
    "it was the worst of times, \n",
    "it was the age of wisdom, \n",
    "it was the age of foolishness, \n",
    "it was the epoch of belief, \n",
    "...\"\"\"\n",
    "\n",
    "re1 = r\"it was the\"\n",
    "# solution\n"
   ]
  },
  {
   "attachments": {},
   "cell_type": "markdown",
   "id": "15c2012b",
   "metadata": {},
   "source": [
    "### 002.008 Named groups\n",
    "\n",
    "1. Create re1 so that the the remaining statements work\n",
    "1. Now make a dict of the two named entries\n",
    "1. Create a named group 'quote' for the re ['\"] and use it with findall and a backreference to match the pairs of quotes in `text`\n",
    "1. Apply it to `text2` and note how it breaks because the quotes do not match\n",
    "1. Use the named groups as replacements in a sub to get the string `'1: I am an \\'xxxx\\', a \"xxxx\", and a \\'xxxx\\'.'`"
   ]
  },
  {
   "cell_type": "code",
   "execution_count": 10,
   "id": "97f93f37",
   "metadata": {
    "execution": {
     "iopub.execute_input": "2023-01-22T10:12:17.952904Z",
     "iopub.status.busy": "2023-01-22T10:12:17.952791Z",
     "iopub.status.idle": "2023-01-22T10:12:17.954745Z",
     "shell.execute_reply": "2023-01-22T10:12:17.954415Z"
    }
   },
   "outputs": [],
   "source": [
    "# re1 = ...\n",
    "# m = re.match(re1, \"Malcolm Reynolds\")\n",
    "# assert ... == 'Malcolm'\n",
    "# assert ... == 'Reynolds'\n",
    "\n",
    "text = \"1: I am an 'architect', a \\\"stonemason\\\", and a 'killer'.\"\n",
    "text2 = \"2: I am an 'architect\\\", a 'stonemason\\\", and a 'killer'.\"\n",
    "# solution\n"
   ]
  },
  {
   "attachments": {},
   "cell_type": "markdown",
   "id": "bedf872f",
   "metadata": {},
   "source": [
    "### 002.009\n",
    "\n",
    "1. Use lookahead to match \"I am a sick man\" and print it with `m.group()`\n",
    "1. Change it to negative lookahead to match \"I am a sick man... I am an angry man\" and print it with `m.group()`\n",
    "1. Use positive lookbehind to match \"man... \" and print it with `m.group(1)`\n",
    "1. Use negative lookbehind to match \"man.\" and print it with `m.group(1)`\n"
   ]
  },
  {
   "cell_type": "code",
   "execution_count": 11,
   "id": "a055a96c",
   "metadata": {
    "execution": {
     "iopub.execute_input": "2023-01-22T10:12:17.956496Z",
     "iopub.status.busy": "2023-01-22T10:12:17.956365Z",
     "iopub.status.idle": "2023-01-22T10:12:17.958243Z",
     "shell.execute_reply": "2023-01-22T10:12:17.957930Z"
    }
   },
   "outputs": [],
   "source": [
    "text = \"I am a sick man... I am an angry man.\"\n",
    "# solution\n"
   ]
  },
  {
   "attachments": {},
   "cell_type": "markdown",
   "id": "81d7ce04",
   "metadata": {},
   "source": [
    "#002.010 angle groups\n",
    "\n",
    "1. Create a group 'angle' for the opening < in the optional angle brackets in, then create `re1` so that it uses the yes-pattern|no-pattern extension notation to pass all the commented out assertions"
   ]
  },
  {
   "cell_type": "code",
   "execution_count": 12,
   "id": "fe2be185",
   "metadata": {
    "execution": {
     "iopub.execute_input": "2023-01-22T10:12:17.959898Z",
     "iopub.status.busy": "2023-01-22T10:12:17.959781Z",
     "iopub.status.idle": "2023-01-22T10:12:17.961684Z",
     "shell.execute_reply": "2023-01-22T10:12:17.961410Z"
    }
   },
   "outputs": [],
   "source": [
    "pass1 = '<user@host.com>'\n",
    "pass2 = 'user@host.com'\n",
    "fail1 = '<user@host.com'\n",
    "fail2 = 'user@host.com>'\n",
    "\n",
    "# re1 = ...\n",
    "# assert re1.match(pass1)\n",
    "# assert re1.match(pass2)\n",
    "# assert re1.match(fail1) is None\n",
    "# assert re1.match(fail2) is None\n",
    "\n",
    "# solution\n"
   ]
  },
  {
   "attachments": {},
   "cell_type": "markdown",
   "id": "21f36130",
   "metadata": {},
   "source": [
    "### 002.011 Split\n",
    "\n",
    "1. Extract `['words', 'words', 'words']` from words using only list comprehension and re.split\n",
    "1. The same, but also preserve the `!`\n",
    "1. How do you use split, and only split, to get `['', '...', 'words', ', ', 'words', '...', '']` from `_words_` ?\n",
    "1. Use only split to get `` from `_words2_`\n",
    "1. Split into 2 groups using the correct maxsplit argument `['words', 'words! words!']`\n",
    "1. Use a flag to extract `['0', '3', '9']` from hex_color\n"
   ]
  },
  {
   "cell_type": "code",
   "execution_count": 13,
   "id": "458ad726",
   "metadata": {
    "execution": {
     "iopub.execute_input": "2023-01-22T10:12:17.963264Z",
     "iopub.status.busy": "2023-01-22T10:12:17.963154Z",
     "iopub.status.idle": "2023-01-22T10:12:17.964918Z",
     "shell.execute_reply": "2023-01-22T10:12:17.964649Z"
    }
   },
   "outputs": [],
   "source": [
    "words = \"Words! Words! Words!\"\n",
    "hex_color = \"0a3B9f\"\n",
    "_words_ = \"...words, words...\"\n",
    "_words2_ = \"...words...\"\n",
    "\n",
    "# solution\n"
   ]
  },
  {
   "attachments": {},
   "cell_type": "markdown",
   "id": "8c0a6708",
   "metadata": {},
   "source": [
    "### 002.012 finditer\n",
    "\n",
    "1. Use finditer and a loop to print all the words starting with w in text"
   ]
  },
  {
   "cell_type": "code",
   "execution_count": null,
   "id": "c52e2530",
   "metadata": {},
   "outputs": [],
   "source": []
  },
  {
   "cell_type": "code",
   "execution_count": 14,
   "id": "5fbb2ad5",
   "metadata": {
    "execution": {
     "iopub.execute_input": "2023-01-22T10:12:17.966542Z",
     "iopub.status.busy": "2023-01-22T10:12:17.966433Z",
     "iopub.status.idle": "2023-01-22T10:12:17.969916Z",
     "shell.execute_reply": "2023-01-22T10:12:17.969645Z"
    }
   },
   "outputs": [
    {
     "data": {
      "text/plain": [
       "\"I am forced to the appalling conclusion that I would never have become a    writer but for Joan's death, and to a realization of the extent to which this    event has motivated and formulated my writing. I live with the constant threat    of possession, and a constant need to escape from possession, from Control\""
      ]
     },
     "execution_count": 14,
     "metadata": {},
     "output_type": "execute_result"
    }
   ],
   "source": [
    "text = \"\"\"I am forced to the appalling conclusion that I would never have become a\n",
    "    writer but for Joan's death, and to a realization of the extent to which this\n",
    "    event has motivated and formulated my writing. I live with the constant threat\n",
    "    of possession, and a constant need to escape from possession, from Control\"\"\".replace(\"\\n\", \"\")\n",
    "text\n",
    "# solution\n"
   ]
  },
  {
   "cell_type": "markdown",
   "id": "ac345a9c",
   "metadata": {},
   "source": [
    "### 002.013\n",
    "\n",
    "1. Use re.sub with a replacement function to generete `Think of an odd digit: [>>>7<<<]. Now think of an even one: [>>>6<<<]` from def. Call it three times to prove the numbers are always different"
   ]
  },
  {
   "cell_type": "code",
   "execution_count": 15,
   "id": "219bb8c3",
   "metadata": {
    "execution": {
     "iopub.execute_input": "2023-01-22T10:12:17.971572Z",
     "iopub.status.busy": "2023-01-22T10:12:17.971486Z",
     "iopub.status.idle": "2023-01-22T10:12:17.973141Z",
     "shell.execute_reply": "2023-01-22T10:12:17.972871Z"
    }
   },
   "outputs": [],
   "source": [
    "import random\n",
    "\n",
    "text = \"Think of an odd digit: [1]. Now think of an even one: [2]\"\n",
    "# solution\n"
   ]
  },
  {
   "attachments": {},
   "cell_type": "markdown",
   "id": "e611c648",
   "metadata": {},
   "source": [
    "### 002.014 Match\n",
    "\n",
    "1. Use re.match and a simple re to catch the first three words as groups\n",
    "1. Print whole match, and individual words\n",
    "1. Print matches, but as tuple\n",
    "1. Print divider\n",
    "1. Print whole match, and individual words, but with a more compact notation\n",
    "1. Print divider\n",
    "1. Repeat using named groups for \"first_name\" and \"last_name\"\n",
    "1. Print matches, but as dict"
   ]
  },
  {
   "cell_type": "code",
   "execution_count": 16,
   "id": "0ece6e30",
   "metadata": {
    "execution": {
     "iopub.execute_input": "2023-01-22T10:12:17.974637Z",
     "iopub.status.busy": "2023-01-22T10:12:17.974548Z",
     "iopub.status.idle": "2023-01-22T10:12:17.976120Z",
     "shell.execute_reply": "2023-01-22T10:12:17.975882Z"
    }
   },
   "outputs": [],
   "source": [
    "text = \"Isaac Newton, physicist of her royal majesty\"\n",
    "divider = \"-------------------------\"\n",
    "# solution\n"
   ]
  },
  {
   "attachments": {},
   "cell_type": "markdown",
   "id": "5b83ab41",
   "metadata": {},
   "source": [
    "### 002.015\n",
    "\n",
    "Suppose you are writing a poker program where a player's hand is represented as a 5-character string with each character representing a card, “a” for ace, “k” for king, “q” for queen, “j” for jack, “t” for 10, and “2” through “9” representing the card with that value.\n",
    "\n",
    "Compile a re which finds a pair and prints out a pair of what it is by returning the correct group. \n",
    "Hint: it needs to use backreferences. Pass it to check, it should the result should be the same as expected"
   ]
  },
  {
   "cell_type": "code",
   "execution_count": 17,
   "id": "d470ef26",
   "metadata": {
    "execution": {
     "iopub.execute_input": "2023-01-22T10:12:17.977454Z",
     "iopub.status.busy": "2023-01-22T10:12:17.977375Z",
     "iopub.status.idle": "2023-01-22T10:12:17.979598Z",
     "shell.execute_reply": "2023-01-22T10:12:17.979362Z"
    }
   },
   "outputs": [],
   "source": [
    "hands = [\"717ak\", \"718ak\", \"354aa\", \"q325q\", \"a891j\", \"52a33\"]\n",
    "expected = ['7', None, 'a', 'q', None, '3']\n",
    "\n",
    "# this is not efficient, but good for illustration\n",
    "validate = lambda hand, pattern: pattern.match(hand).group(1) if pattern.match(hand) else None\n",
    "\n",
    "def check(pattern):\n",
    "    return [validate(hand, pattern) for hand in hands]\n",
    "# solution\n"
   ]
  }
 ],
 "metadata": {
  "kernelspec": {
   "display_name": ".venv",
   "language": "python",
   "name": "python3"
  },
  "language_info": {
   "codemirror_mode": {
    "name": "ipython",
    "version": 3
   },
   "file_extension": ".py",
   "mimetype": "text/x-python",
   "name": "python",
   "nbconvert_exporter": "python",
   "pygments_lexer": "ipython3",
   "version": "3.10.6"
  },
  "vscode": {
   "interpreter": {
    "hash": "7daeb9a356073df578df6d7584369b7908e732a3e4cb2289ee7d810fc6635fc0"
   }
  }
 },
 "nbformat": 4,
 "nbformat_minor": 5
}
