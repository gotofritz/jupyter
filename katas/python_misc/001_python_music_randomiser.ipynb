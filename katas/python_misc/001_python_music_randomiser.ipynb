{
 "cells": [
  {
   "attachments": {},
   "cell_type": "markdown",
   "id": "99786a37",
   "metadata": {},
   "source": [
    "# 001 CLI Music randomiser \n",
    "\n",
    "Threading and curset practice with this note randomiser scripts.\n",
    "\n",
    "This will be run on the CLI because of curset"
   ]
  },
  {
   "cell_type": "code",
   "execution_count": 1,
   "id": "02ca7850",
   "metadata": {
    "execution": {
     "iopub.execute_input": "2024-02-05T14:14:25.501064Z",
     "iopub.status.busy": "2024-02-05T14:14:25.500852Z",
     "iopub.status.idle": "2024-02-05T14:14:25.507523Z",
     "shell.execute_reply": "2024-02-05T14:14:25.507143Z"
    }
   },
   "outputs": [],
   "source": [
    "from IPython.core.interactiveshell import InteractiveShell\n",
    "\n",
    "InteractiveShell.ast_node_interactivity = \"all\""
   ]
  },
  {
   "cell_type": "markdown",
   "id": "6a698ff5",
   "metadata": {},
   "source": [
    "# 001.000 ASSETS"
   ]
  },
  {
   "attachments": {},
   "cell_type": "markdown",
   "id": "5b212460",
   "metadata": {},
   "source": [
    "### 001.001 Use curset to ask for user input\n",
    "\n",
    "1. We want to create a function that returns a namedtuple `Params`, but we want to collect all user input into a dict and then turn it into a Param, and we want type annotations to work.\n",
    "    1. `create_params` turns the dict into the namedtuple. Make sure it is annotated\n",
    "1. `get_params` is passed a curset window and asks the user asks for input\n",
    "    1. Clears the window first\n",
    "    1. Make sure the user can see what they type\n",
    "    1. `input` doesn't work with curset; you need to print the prompt...\n",
    "    1. ...then capture the part of the window with what they typed\n",
    "    1. For this particular one wrap it in a try/except to ensure it is an int between 0 and 10\n",
    "    1. In case of error turn off curses and exits\n",
    "    1. Do it again (without the error checking)\n",
    "    1. Now you can clear the screen again..\n",
    "    1. ...and stop showing what the user typed\n",
    "    1. Use the function you created in 1. to return a NamedTuple\n",
    "    1. Hide cursor\n",
    "1. Call the function within `main`\n",
    "    1. a function `main` calls `get_params`, then stops curset and prints what it got\n",
    "    1. the main function is wrapped by curses, which automagically passes it a window object\n"
   ]
  },
  {
   "cell_type": "code",
   "execution_count": 2,
   "id": "58a41d24",
   "metadata": {
    "execution": {
     "iopub.execute_input": "2024-02-05T14:14:25.509951Z",
     "iopub.status.busy": "2024-02-05T14:14:25.509776Z",
     "iopub.status.idle": "2024-02-05T14:14:25.511983Z",
     "shell.execute_reply": "2024-02-05T14:14:25.511631Z"
    }
   },
   "outputs": [],
   "source": [
    "# solution\n"
   ]
  },
  {
   "cell_type": "code",
   "execution_count": 3,
   "id": "c741ca30",
   "metadata": {
    "execution": {
     "iopub.execute_input": "2024-02-05T14:14:25.513869Z",
     "iopub.status.busy": "2024-02-05T14:14:25.513734Z",
     "iopub.status.idle": "2024-02-05T14:14:25.975988Z",
     "shell.execute_reply": "2024-02-05T14:14:25.975710Z"
    }
   },
   "outputs": [
    {
     "name": "stdout",
     "output_type": "stream",
     "text": [
      "\u001b[1m\u001b[32mSuccess: no issues found in 1 source file\u001b[m\n",
      "cd /Users/fritz/work/jupyter/katas/python_misc/..\n",
      "if [ -d solutions ]; then python -m solutions._001_get_params; else python -m python_misc._001_get_params; fi\n"
     ]
    }
   ],
   "source": [
    "%%bash\n",
    "mypy ./_001_get_params.py\n",
    "\n",
    "echo \"cd $(realpath .)/..\"\n",
    "echo \"if [ -d \"solutions\" ]; then python -m solutions._001_get_params; else python -m python_misc._001_get_params; fi\"\n"
   ]
  },
  {
   "cell_type": "markdown",
   "id": "61ce0b85",
   "metadata": {},
   "source": [
    "### 001.002 Use threads to time out function\n",
    "\n",
    "You will reuse the previous `get_params`, but expand on the main, which will go into a new file\n",
    "\n",
    "1. In `_001_002_main.py` you will import `get_params` from `._001_get_params` \n",
    "1. `main` happens in a try / except block\n",
    "    1. The except catches the CTRL-C so the user can exit early\n",
    "    1. Before printing output, exit `curses`\n",
    "1. In the main body\n",
    "    1. User curses to hide the cursor\n",
    "    1. stop_event is a threading event, which is shared across threads\n",
    "    1. `main_thread` runs the function `timer`, passing it stop_event and the duration params\n",
    "    1. After setting it up start the main thread...\n",
    "    1. ...and wait for it to finish\n",
    "    1. The timer sets the stop event at the end (although there is no need in this case)\n",
    "    1. At the end of the script you want to unset the stop event just to make sure no resources are tied up"
   ]
  },
  {
   "cell_type": "code",
   "execution_count": 4,
   "id": "5b4db5ae",
   "metadata": {
    "execution": {
     "iopub.execute_input": "2024-02-05T14:14:25.977561Z",
     "iopub.status.busy": "2024-02-05T14:14:25.977457Z",
     "iopub.status.idle": "2024-02-05T14:14:25.979195Z",
     "shell.execute_reply": "2024-02-05T14:14:25.978962Z"
    }
   },
   "outputs": [],
   "source": [
    "# solution\n"
   ]
  },
  {
   "cell_type": "code",
   "execution_count": 5,
   "id": "c1398831",
   "metadata": {
    "execution": {
     "iopub.execute_input": "2024-02-05T14:14:25.980412Z",
     "iopub.status.busy": "2024-02-05T14:14:25.980328Z",
     "iopub.status.idle": "2024-02-05T14:14:26.225151Z",
     "shell.execute_reply": "2024-02-05T14:14:26.224870Z"
    }
   },
   "outputs": [
    {
     "name": "stdout",
     "output_type": "stream",
     "text": [
      "\u001b[1m\u001b[32mSuccess: no issues found in 1 source file\u001b[m\n",
      "cd /Users/fritz/work/jupyter/katas/python_misc/..\n",
      "if [ -d solutions ]; then python -m solutions._001_002_main; else python -m python_misc._001_002_main; fi\n"
     ]
    }
   ],
   "source": [
    "%%bash\n",
    "mypy ./_001_002_main.py\n",
    "\n",
    "# because of curses the script doesn't run in jupyter\n",
    "\n",
    "echo \"cd $(realpath .)/..\"\n",
    "echo \"if [ -d \"solutions\" ]; then python -m solutions._001_002_main; else python -m python_misc._001_002_main; fi\"\n"
   ]
  },
  {
   "cell_type": "markdown",
   "id": "139bfb11",
   "metadata": {},
   "source": [
    "### 001.004 Add a metronome thread\n",
    "\n",
    "We will add a metronome thread which prints in its own region (=window) of the CLI\n",
    "\n",
    "1. Same set up as earlier, this file is `_001_003_main.py`\n",
    "1. Create the metronome thread\n",
    "    1. Create a `curses` window for the metronome, 1 char high, 15 wide, starting from 0,0\n",
    "    1. Create a thread for the metronome, which calls `print_beat` and passes `metronome_win` plus obvious arguments, then starts\n",
    "    1. make sure script is not hanging waiting for thread to finish\n",
    "1. Run it, and prove that it can either be stopped with CTRL-C or run until the end\n",
    "\n"
   ]
  },
  {
   "cell_type": "code",
   "execution_count": 6,
   "id": "f4b84ca7",
   "metadata": {
    "execution": {
     "iopub.execute_input": "2024-02-05T14:14:26.226750Z",
     "iopub.status.busy": "2024-02-05T14:14:26.226660Z",
     "iopub.status.idle": "2024-02-05T14:14:26.228366Z",
     "shell.execute_reply": "2024-02-05T14:14:26.228150Z"
    }
   },
   "outputs": [],
   "source": [
    "# solution\n"
   ]
  },
  {
   "cell_type": "code",
   "execution_count": 7,
   "id": "1a9f5548",
   "metadata": {
    "execution": {
     "iopub.execute_input": "2024-02-05T14:14:26.229656Z",
     "iopub.status.busy": "2024-02-05T14:14:26.229569Z",
     "iopub.status.idle": "2024-02-05T14:14:26.429887Z",
     "shell.execute_reply": "2024-02-05T14:14:26.429607Z"
    }
   },
   "outputs": [
    {
     "name": "stdout",
     "output_type": "stream",
     "text": [
      "\u001b[1m\u001b[32mSuccess: no issues found in 1 source file\u001b[m\n",
      "cd /Users/fritz/work/jupyter/katas/python_misc/..\n",
      "if [ -d solutions ]; then python -m solutions._001_003_main; else python -m python_misc._001_003_main; fi\n"
     ]
    }
   ],
   "source": [
    "%%bash\n",
    "mypy ./_001_003_main.py\n",
    "\n",
    "# because of curses the script doesn't run in jupyter\n",
    "\n",
    "echo \"cd $(realpath .)/..\"\n",
    "echo \"if [ -d \"solutions\" ]; then python -m solutions._001_003_main; else python -m python_misc._001_003_main; fi\"\n"
   ]
  },
  {
   "cell_type": "markdown",
   "id": "c05aefde",
   "metadata": {},
   "source": [
    "### 001.004 Create a thread safe, shuffling iterator\n",
    "\n",
    "You will create an iterator like itertools cycle, but this one will shuffle the items once it comes to the end of the list, and will be thread safe\n",
    "\n",
    "1. You will work on `./_001_shuffling_iterator.py`\n",
    "    1. Create a `ShufflingIterator` class which will be used in later exercises\n",
    "    1. The `main` method in that file will run a little test to prove it works\n",
    "1. Create the `ShufflingIterator` class\n",
    "    1. It uses a lock to ensure thread safety\n",
    "    1. In debug mode it adds '--' as the zeroth item in the list, so that we can more easily see what it's doing\n",
    "    1. `__iter__` does what `__iter__` do\n",
    "    1. `__next__` uses the lock\n",
    "    1. `_reset` will shuffle the item, or only the part that needs it if in debug mode\n",
    "1. The `__main__` function will print a few iterations\n",
    "    1. There is a constant in Python which has all the alphabet etc; get 'A', 'B', ..., 'E' from it"
   ]
  },
  {
   "cell_type": "code",
   "execution_count": 8,
   "id": "9f3e0fb0",
   "metadata": {
    "execution": {
     "iopub.execute_input": "2024-02-05T14:14:26.431340Z",
     "iopub.status.busy": "2024-02-05T14:14:26.431242Z",
     "iopub.status.idle": "2024-02-05T14:14:26.432912Z",
     "shell.execute_reply": "2024-02-05T14:14:26.432688Z"
    }
   },
   "outputs": [],
   "source": [
    "# solution\n"
   ]
  },
  {
   "cell_type": "code",
   "execution_count": 9,
   "id": "05780379",
   "metadata": {
    "execution": {
     "iopub.execute_input": "2024-02-05T14:14:26.434191Z",
     "iopub.status.busy": "2024-02-05T14:14:26.434116Z",
     "iopub.status.idle": "2024-02-05T14:14:26.753051Z",
     "shell.execute_reply": "2024-02-05T14:14:26.752723Z"
    }
   },
   "outputs": [
    {
     "name": "stdout",
     "output_type": "stream",
     "text": [
      "\u001b[1m\u001b[32mSuccess: no issues found in 1 source file\u001b[m\n",
      "cd /Users/fritz/work/jupyter/katas/python_misc/..\n",
      "if [ -d solutions ]; then python -m solutions._001_shuffling_iterator; else python -m python_misc._001_shuffling_iterator; fi\n"
     ]
    }
   ],
   "source": [
    "%%bash\n",
    "mypy ./_001_shuffling_iterator.py\n",
    "\n",
    "# because of curses the script doesn't run in jupyter\n",
    "\n",
    "echo \"cd $(realpath .)/..\"\n",
    "echo \"if [ -d \"solutions\" ]; then python -m solutions._001_shuffling_iterator; else python -m python_misc._001_shuffling_iterator; fi\"\n"
   ]
  },
  {
   "cell_type": "markdown",
   "id": "379c1eb9",
   "metadata": {},
   "source": [
    "### 001.005 Print a message while waiting for a key press\n",
    "\n",
    " \n",
    "1. Same set up as earlier, this file is `_001_005_main.py`\n",
    "    1. `NotesGenerator` prints some instructions to a musician, which will stay there until a key is pressed (or the program stops)\n",
    "1. `listen_for_key` will handle printing the message in its own curset window\n",
    "    1. Make sure getting a character is non-blocking\n",
    "    1. `stop_event` controls every function\n",
    "    1. Get the character from the CLI, and if it's not CTRL-C print a new message\n",
    "1. The message listening happens in its own thread and prints in its own `curses` \"window\"\n",
    "    1. `message_win`  is a 50x50 square at 2, 0\n"
   ]
  },
  {
   "cell_type": "code",
   "execution_count": 10,
   "id": "54901e03",
   "metadata": {
    "execution": {
     "iopub.execute_input": "2024-02-05T14:14:26.754682Z",
     "iopub.status.busy": "2024-02-05T14:14:26.754587Z",
     "iopub.status.idle": "2024-02-05T14:14:26.756435Z",
     "shell.execute_reply": "2024-02-05T14:14:26.756201Z"
    }
   },
   "outputs": [],
   "source": [
    "# solution\n"
   ]
  },
  {
   "cell_type": "code",
   "execution_count": 11,
   "id": "5a0a206e",
   "metadata": {
    "execution": {
     "iopub.execute_input": "2024-02-05T14:14:26.757747Z",
     "iopub.status.busy": "2024-02-05T14:14:26.757671Z",
     "iopub.status.idle": "2024-02-05T14:14:26.994925Z",
     "shell.execute_reply": "2024-02-05T14:14:26.994597Z"
    }
   },
   "outputs": [
    {
     "name": "stdout",
     "output_type": "stream",
     "text": [
      "\u001b[1m\u001b[32mSuccess: no issues found in 1 source file\u001b[m\n",
      "cd /Users/fritz/work/jupyter/katas/python_misc/..\n",
      "if [ -d solutions ]; then python -m solutions._001_005_main; else python -m python_misc._001_005_main; fi\n"
     ]
    }
   ],
   "source": [
    "%%bash\n",
    "mypy ./_001_005_main.py\n",
    "\n",
    "# because of curses the script doesn't run in jupyter\n",
    "\n",
    "echo \"cd $(realpath .)/..\"\n",
    "echo \"if [ -d \"solutions\" ]; then python -m solutions._001_005_main; else python -m python_misc._001_005_main; fi\"\n"
   ]
  }
 ],
 "metadata": {
  "kernelspec": {
   "display_name": ".venv",
   "language": "python",
   "name": "python3"
  },
  "language_info": {
   "codemirror_mode": {
    "name": "ipython",
    "version": 3
   },
   "file_extension": ".py",
   "mimetype": "text/x-python",
   "name": "python",
   "nbconvert_exporter": "python",
   "pygments_lexer": "ipython3",
   "version": "3.11.1"
  },
  "vscode": {
   "interpreter": {
    "hash": "7daeb9a356073df578df6d7584369b7908e732a3e4cb2289ee7d810fc6635fc0"
   }
  }
 },
 "nbformat": 4,
 "nbformat_minor": 5
}
