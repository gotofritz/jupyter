{
 "cells": [
  {
   "attachments": {},
   "cell_type": "markdown",
   "id": "99786a37",
   "metadata": {},
   "source": [
    "# 002 Generic Python Data structures exercises\n",
    "\n",
    "Various bits related to data structures collected from around the web\n"
   ]
  },
  {
   "cell_type": "code",
   "execution_count": 1,
   "id": "02ca7850",
   "metadata": {},
   "outputs": [],
   "source": [
    "from IPython.core.interactiveshell import InteractiveShell\n",
    "\n",
    "InteractiveShell.ast_node_interactivity = \"all\""
   ]
  },
  {
   "cell_type": "markdown",
   "id": "6a698ff5",
   "metadata": {},
   "source": [
    "# 001.000 ASSETS"
   ]
  },
  {
   "attachments": {},
   "cell_type": "markdown",
   "id": "5b212460",
   "metadata": {},
   "source": [
    "### 002.001 Data classes\n",
    "\n",
    "As you probably know dataclasses automate object construction, so you don't need to write an `__init__` method. 🎉, But what if you do want to do some extra initialization?\n",
    "\n",
    "Your task is to create a Python class that models a social media post using the dataclasses module. \n",
    "\n",
    "1. The class should be named SocialMediaPost and include the following fields with appropriate type hints:\n",
    "    1. `content`: The text content of the post (a string).\n",
    "    1. `author`: The username of the author (a string).\n",
    "    1. `timestamp`: The date and time when the post was created (a string). \n",
    "    1. `tags`: A list of tags associated with the post (a list of strings).\n",
    "1.  Use the @dataclass decorator from the dataclasses module to define the SocialMediaPost class, and initialise as follow\n",
    "    1.  Ensure the content field does not exceed MAX_CONTENT_LENGTH characters. If it does, raise a ValueError with the message \"Content too long\".\n",
    "    1.  The timestamp field should default to the current date and time if not provided. Use the datetime module to obtain this value in the format \"YYYY-MM-DD HH:MM:SS\".\n",
    "    1. Format each tag in the tags list to start with a hashtag (#). If the tag already starts with a hashtag, don't add an additional one.\n",
    "    Include a MAX_CONTENT_LENGTH constant set to 280 to represent the maximum length of the content field.\n",
    "If no timestamp is provided upon instantiation, the current date and time should be used by default."
   ]
  },
  {
   "cell_type": "code",
   "execution_count": 2,
   "id": "58a41d24",
   "metadata": {},
   "outputs": [
    {
     "name": "stdout",
     "output_type": "stream",
     "text": [
      "<__main__.SocialMediaPost object at 0x110b39c90>\n"
     ]
    }
   ],
   "source": [
    "from datetime import datetime\n",
    "from dataclasses import dataclass, field\n",
    "\n",
    "MAX_CONTENT_LENGTH = 280\n",
    "\n",
    "class SocialMediaPost:\n",
    "    def __init__(self, content, author, tags):\n",
    "        ...\n",
    "\n",
    "post = SocialMediaPost(content=\"Exploring data classes in Python!\",\n",
    "                       author=\"pythonista\",\n",
    "                       tags=[\"python\", \"dataclasses\", \"#cool\"])\n",
    "print(post)\n",
    "\n",
    "# EXPECTED\n",
    "# SocialMediaPost(content='Exploring data classes in Python!',\n",
    "#                 author='pythonista', timestamp='[CURRENT_TIMESTAMP]',\n",
    "#                 tags=['#python', '#dataclasses', '#cool'])\n",
    "\n",
    "# solution\n",
    "\n",
    "# @dataclass\n",
    "# class SocialMediaPost:\n",
    "#     content: str\n",
    "#     author: str\n",
    "#     timestamp: str | None = field(default=None)\n",
    "#     hashtags: list[str] = field(default_factory=list)\n",
    "\n",
    "#     def __post_init__(self):\n",
    "#         if len(self.content) > MAX_CONTENT_LENGTH:\n",
    "#             raise ValueError(\"Content too long\")\n",
    "\n",
    "#         if self.timestamp is None:\n",
    "#             self.timestamp = datetime.now().strftime(\"%Y-%m-%d %H:%M:%S\")\n",
    "\n",
    "#         self.hashtags = [f\"#{tag.lstrip('#')}\" for tag in self.hashtags]\n",
    "\n",
    "# post = XPost(content=\"Python dataclasses are so nice!\",\n",
    "#              author=\"bbelderbos\",\n",
    "#              hashtags=[\"python\", \"coding\", \"#tips\"])\n",
    "# print(post)\n",
    "# XPost(content='Python dataclasses are so nice!', author='bbelderbos',\n",
    "#       timestamp='2024-02-23 14:53:22', hashtags=['#python', '#coding', '#tips'])"
   ]
  },
  {
   "cell_type": "markdown",
   "id": "cec4eaf5",
   "metadata": {},
   "source": [
    "### 002.002 Improving Code Readability with Named Tuples\n",
    "\n",
    "In Python, tuples are a handy data structure for grouping together items. However, when tuples are used to store complex data, accessing their elements by index can make the code less readable. Named tuples, introduced as part of Python's `collections` module and enhanced with type annotations in the `typing` module, offer a solution by allowing you to access tuple elements with names, making your code more self-explanatory.\n",
    "\n",
    "Your task is to refactor a given piece of code that uses regular tuples to store employee information. The refactored code should use named tuples to achieve better readability and self-documentation. \n",
    "\n",
    "\n",
    "1. The current code snippet uses regular tuples to store information about employees, including their name, role, and years of experience. It then prints out this information in a formatted string.\n",
    "2. Refactor Using Named Tuples\n",
    "   1. Define a named tuple, `Employee`, with three fields: `name`, `role`, and `years`\n",
    "   1. Add type annotations to each field and to `Employee`\n",
    "   1. Replace the list of regular tuples with a list of `Employee` named tuples\n",
    "   1. Modify the loop that prints employee information so that it accesses the employee details using field names instead of tuple indexing\n",
    "3. Ensure your refactored code prints the same employee information as the original code, but utilizes the named tuple for improved readability\n"
   ]
  },
  {
   "cell_type": "code",
   "execution_count": 1,
   "id": "c8aae645",
   "metadata": {},
   "outputs": [
    {
     "name": "stdout",
     "output_type": "stream",
     "text": [
      "Alice: Developer, 5 years\n",
      "Bob: Designer, 3 years\n",
      "Carol: Manager, 7 years\n"
     ]
    }
   ],
   "source": [
    "1\n",
    "employees = [\n",
    "    (\"Alice\" , \"Developer\" , 5),\n",
    "    (\"Bob\" , \"Designer\" , 3),\n",
    "    (\"Carol\", \"Manager\", 7),\n",
    "]\n",
    "\n",
    "for employee in employees :\n",
    "  print(f\"{employee [0] }: {employee [1]}, {employee [2]} years\")\n",
    "\n",
    "2\n",
    "# from ... 2.2\n",
    "# Employee ... 2.1\n",
    "#\n",
    "# employees = [\n",
    "# 2.3\n",
    "# ]\n",
    "\n",
    "# for employee in employees:\n",
    "#   print( 2.4 )\n",
    "\n",
    "3\n",
    "# Expected:\n",
    "# Alice: Developer, 5 years\n",
    "# Bob: Designer, 3 years\n",
    "# Carol: Manager, 7 years\n",
    "\n",
    "# solution\n",
    "\n",
    "# from typing import NamedTuple\n",
    "# class Employee (NamedTuple):\n",
    "#   name: str\n",
    "#   role: str\n",
    "#   years: int\n",
    "\n",
    "# employees = [\n",
    "#   Employee( \"Alice\", \"Developer\", 5),\n",
    "#   Employee( \"Bob\" , \"Designer\", 3),\n",
    "#   Employee( \"Carol\", \"Manager\", 7)\n",
    "# ]\n",
    "\n",
    "# for employee in employees:\n",
    "#   print(f\"{employee.name }: {employee.role}, {employee.years} years\")\n"
   ]
  }
 ],
 "metadata": {
  "kernelspec": {
   "display_name": ".venv",
   "language": "python",
   "name": "python3"
  },
  "language_info": {
   "codemirror_mode": {
    "name": "ipython",
    "version": 3
   },
   "file_extension": ".py",
   "mimetype": "text/x-python",
   "name": "python",
   "nbconvert_exporter": "python",
   "pygments_lexer": "ipython3",
   "version": "3.11.1"
  },
  "vscode": {
   "interpreter": {
    "hash": "7daeb9a356073df578df6d7584369b7908e732a3e4cb2289ee7d810fc6635fc0"
   }
  }
 },
 "nbformat": 4,
 "nbformat_minor": 5
}
