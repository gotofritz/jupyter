{
 "cells": [
  {
   "attachments": {},
   "cell_type": "markdown",
   "id": "99786a37",
   "metadata": {},
   "source": [
    "# SIMPLE PYTHON ALGORITHMS\n",
    "\n",
    "From ebook: \"Python Programming Exercises, Gently Explained\"\n",
    "https://inventwithpython.com/pythongently/"
   ]
  },
  {
   "attachments": {},
   "cell_type": "markdown",
   "id": "89ce8c2b",
   "metadata": {},
   "source": [
    "## 001. Exercises 1 to "
   ]
  },
  {
   "cell_type": "code",
   "execution_count": 1,
   "id": "4228fec7",
   "metadata": {
    "execution": {
     "iopub.execute_input": "2023-05-13T00:54:08.343370Z",
     "iopub.status.busy": "2023-05-13T00:54:08.343079Z",
     "iopub.status.idle": "2023-05-13T00:54:08.352434Z",
     "shell.execute_reply": "2023-05-13T00:54:08.351653Z"
    }
   },
   "outputs": [],
   "source": [
    "import sys\n",
    "from pathlib import Path\n",
    "\n",
    "current_dir = Path().resolve()\n",
    "while current_dir != current_dir.parent and current_dir.name != \"katas\":\n",
    "    current_dir = current_dir.parent\n",
    "if current_dir != current_dir.parent:\n",
    "    sys.path.append(current_dir.as_posix())"
   ]
  },
  {
   "cell_type": "code",
   "execution_count": 2,
   "id": "02ca7850",
   "metadata": {
    "execution": {
     "iopub.execute_input": "2023-05-13T00:54:08.356143Z",
     "iopub.status.busy": "2023-05-13T00:54:08.355865Z",
     "iopub.status.idle": "2023-05-13T00:54:08.807176Z",
     "shell.execute_reply": "2023-05-13T00:54:08.806280Z"
    }
   },
   "outputs": [],
   "source": [
    "import pandas as pd\n",
    "from IPython.core.interactiveshell import InteractiveShell\n",
    "\n",
    "InteractiveShell.ast_node_interactivity = \"all\""
   ]
  },
  {
   "attachments": {},
   "cell_type": "markdown",
   "id": "5b212460",
   "metadata": {},
   "source": [
    "### 001.001 Exercise #1: Hello, World!\n",
    "\n",
    "1. Write a program that, when run, greets the user by printing “Hello, world!” on the screen.\n",
    "1. Then it prints a message on the screen asking the user to enter their name.\n",
    "1. The program greets the user by name by printing the “Hello,” followed by the user’s name.\n"
   ]
  },
  {
   "cell_type": "code",
   "execution_count": 3,
   "id": "c741ca30",
   "metadata": {
    "execution": {
     "iopub.execute_input": "2023-05-13T00:54:08.810826Z",
     "iopub.status.busy": "2023-05-13T00:54:08.810499Z",
     "iopub.status.idle": "2023-05-13T00:54:08.813900Z",
     "shell.execute_reply": "2023-05-13T00:54:08.813199Z"
    }
   },
   "outputs": [],
   "source": [
    "# solution\n"
   ]
  },
  {
   "attachments": {},
   "cell_type": "markdown",
   "id": "4e520dc0",
   "metadata": {},
   "source": [
    "001.002 Exercise #2: Temperature Conversion\n",
    "\n",
    "1. Write a convertToFahrenheit() function with a degreesCelsius parameter. This function returns the number of this temperature in degrees Fahrenheit. Use Fahrenheit = Celsius × (9 / 5) + 32\n",
    "1. Then write a function named convertToCelsius() with a degreesFahrenheit parameter and returns a number of this temperature in degrees Celsius. Use Celsius = (Fahrenheit - 32) × (5 / 9)\n",
    "1. Make sure the asserts work\n",
    "\n",
    " "
   ]
  },
  {
   "cell_type": "code",
   "execution_count": 4,
   "id": "f6454099",
   "metadata": {
    "execution": {
     "iopub.execute_input": "2023-05-13T00:54:08.817196Z",
     "iopub.status.busy": "2023-05-13T00:54:08.816946Z",
     "iopub.status.idle": "2023-05-13T00:54:08.820142Z",
     "shell.execute_reply": "2023-05-13T00:54:08.819560Z"
    }
   },
   "outputs": [],
   "source": [
    "\n",
    "\n",
    "# assert convertToCelsius(0) == -17.77777777777778\n",
    "\n",
    "# assert convertToCelsius(180) == 82.22222222222223\n",
    "\n",
    "# assert convertToFahrenheit(0) == 32\n",
    "\n",
    "# assert convertToFahrenheit(100) == 212\n",
    "\n",
    "# assert convertToCelsius(convertToFahrenheit(15)) == 15\n",
    "\n",
    "# solution\n"
   ]
  },
  {
   "attachments": {},
   "cell_type": "markdown",
   "id": "312bff49",
   "metadata": {},
   "source": [
    "001.003 Exercise #3: Odd & Even\n",
    "\n",
    "Write two functions, isOdd() and isEven(), with a single numeric parameter named number. The isOdd() function returns True if number is odd and False if number is even. The isEven() function returns the True if number is even and False if number is odd. Both functions return False for numbers with fractional parts, such as 3.14 or -4.5. Zero is considered an even number.\n",
    "\n",
    "These Python assert statements stop the program if their condition is False. Copy them to the bottom of your solution program. Your solution is correct if the following assert statements’ conditions are all True:\n",
    "\n"
   ]
  },
  {
   "cell_type": "code",
   "execution_count": 5,
   "id": "c9369e6c",
   "metadata": {
    "execution": {
     "iopub.execute_input": "2023-05-13T00:54:08.823078Z",
     "iopub.status.busy": "2023-05-13T00:54:08.822850Z",
     "iopub.status.idle": "2023-05-13T00:54:08.825674Z",
     "shell.execute_reply": "2023-05-13T00:54:08.825156Z"
    }
   },
   "outputs": [],
   "source": [
    "# assert isOdd(42) == False\n",
    "# assert isOdd(9999) == True\n",
    "# assert isOdd(-10) == False\n",
    "# assert isOdd(-11) == True\n",
    "# assert isOdd(3.1415) == False\n",
    "# assert isEven(42) == True\n",
    "# assert isEven(9999) == False\n",
    "# assert isEven(-10) == True\n",
    "# assert isEven(-11) == False\n",
    "# assert isEven(3.1415) == False\n",
    "\n",
    "# solution\n"
   ]
  },
  {
   "attachments": {},
   "cell_type": "markdown",
   "id": "18776cb0",
   "metadata": {},
   "source": [
    "### 001.004 Exercise #4: Area & Volume\n",
    "\n",
    "You will write four functions for this exercise. \n",
    "\n",
    "1. The function area() has length and width parameters. The formula for calculating it is L × W\n",
    "1. The function perimeter() has length and width parameters. The formula for calculating it is L + W + L + W\n",
    "1. The function volume() has length, width, and height parameters. The formula for calculating it is L × W × H\n",
    "1. The function surface area() has length, width, and height parameters. The formula for calculating it is (L × W × 2) + (L × H × 2) + (W × H × 2)\n",
    "\n",
    "\n"
   ]
  },
  {
   "cell_type": "code",
   "execution_count": 6,
   "id": "94360f23",
   "metadata": {
    "execution": {
     "iopub.execute_input": "2023-05-13T00:54:08.828519Z",
     "iopub.status.busy": "2023-05-13T00:54:08.828306Z",
     "iopub.status.idle": "2023-05-13T00:54:08.831193Z",
     "shell.execute_reply": "2023-05-13T00:54:08.830593Z"
    }
   },
   "outputs": [],
   "source": [
    "# assert area(10, 10) == 100\n",
    "# assert area(0, 9999) == 0\n",
    "# assert area(5, 8) == 40\n",
    "# assert perimeter(10, 10) == 40\n",
    "# assert perimeter(0, 9999) == 19998\n",
    "# assert perimeter(5, 8) == 26\n",
    "# assert volume(10, 10, 10) == 1000\n",
    "# assert volume(9999, 0, 9999) == 0\n",
    "# assert volume(5, 8, 10) == 400\n",
    "# assert surfaceArea(10, 10, 10) == 600\n",
    "# assert surfaceArea(9999, 0, 9999) == 199960002\n",
    "# assert surfaceArea(5, 8, 10) == 340\n",
    "\n",
    "# solution\n"
   ]
  },
  {
   "attachments": {},
   "cell_type": "markdown",
   "id": "6cd8bfd7",
   "metadata": {},
   "source": [
    "### 001.005 FizzBuzz\n",
    "\n",
    "1. Write a fizzBuzz() function with a single integer parameter named upTo. For the numbers 1 up to and including upTo, the function prints one of four things:\n",
    "   1. Prints 'FizzBuzz' if the number is divisible by 3 and 5.\n",
    "   1. Prints 'Fizz' if the number is only divisible by 3.\n",
    "   1. Prints 'Buzz' if the number is only divisible by 5.\n",
    "   1. Prints the number if the number is neither divisible by 3 nor 5.\n",
    "\n",
    "Instead of printing each string or number on a separate line, print them without newlines. For example, your solution is correct if calling fizzBuzz(35) produces the following output:\n",
    "\n",
    "1 2 Fizz 4 Buzz Fizz 7 8 Fizz Buzz 11 Fizz 13 14 FizzBuzz 16 17 Fizz 19 Buzz Fizz 22 23 Fizz Buzz 26 Fizz 28 29 FizzBuzz 31 32 Fizz 34 Buzz"
   ]
  },
  {
   "cell_type": "code",
   "execution_count": 7,
   "id": "6ca4b3a5",
   "metadata": {
    "execution": {
     "iopub.execute_input": "2023-05-13T00:54:08.833867Z",
     "iopub.status.busy": "2023-05-13T00:54:08.833661Z",
     "iopub.status.idle": "2023-05-13T00:54:08.842073Z",
     "shell.execute_reply": "2023-05-13T00:54:08.841528Z"
    }
   },
   "outputs": [
    {
     "data": {
      "text/plain": [
       "'1 2 Fizz 4 Buzz Fizz 7 8 Fizz Buzz 11 Fizz 13 14 FizzBuzz 16 17 Fizz 19 Buzz Fizz 22 23 Fizz Buzz 26 Fizz 28 29 FizzBuzz 31 32 Fizz 34 Buzz'"
      ]
     },
     "execution_count": 7,
     "metadata": {},
     "output_type": "execute_result"
    }
   ],
   "source": [
    "# assert fizzBuzz(35) == \"1 2 Fizz 4 Buzz Fizz 7 8 Fizz Buzz 11 Fizz 13 14 FizzBuzz 16 17 Fizz 19 Buzz Fizz 22 23 Fizz Buzz 26 Fizz 28 29 FizzBuzz 31 32 Fizz 34 Buzz\"\n",
    "# solution \n",
    "\n",
    "def makeDivisibleBy(by:int):\n",
    "    return lambda theNumb: theNumb % by == 0\n",
    "\n",
    "divisibleBy3 = makeDivisibleBy(3)\n",
    "divisibleBy5 = makeDivisibleBy(5)\n",
    "\n",
    "def fizzBuzz(upTo:int):\n",
    "    output = []\n",
    "    for i in range(1, upTo+1):\n",
    "        if divisibleBy3(i):\n",
    "            if divisibleBy5(i):\n",
    "                output.append(\"FizzBuzz\")\n",
    "            else:\n",
    "                output.append(\"Fizz\")\n",
    "        elif divisibleBy5(i):\n",
    "            output.append(\"Buzz\")\n",
    "        else:\n",
    "            output.append(str(i))\n",
    "    return \" \".join(output)\n",
    "                \n",
    "fizzBuzz(35)\n",
    "assert fizzBuzz(35) == \"1 2 Fizz 4 Buzz Fizz 7 8 Fizz Buzz 11 Fizz 13 14 FizzBuzz 16 17 Fizz 19 Buzz Fizz 22 23 Fizz Buzz 26 Fizz 28 29 FizzBuzz 31 32 Fizz 34 Buzz\"\n"
   ]
  },
  {
   "attachments": {},
   "cell_type": "markdown",
   "id": "b40051f9",
   "metadata": {},
   "source": [
    "### 001.006 Exercise #6: Ordinal Suffix\n",
    "\n",
    "In English, ordinal numerals have suffixes such as the “th” in “30th” or “nd” in “2nd”.\n",
    "\n",
    "1 Write an ordinalSuffix() function with an integer parameter named number and returns a string of the number with its ordinal suffix. For example, ordinalSuffix(42) should return the string '42nd'."
   ]
  },
  {
   "cell_type": "code",
   "execution_count": 8,
   "id": "18971364",
   "metadata": {
    "execution": {
     "iopub.execute_input": "2023-05-13T00:54:08.845362Z",
     "iopub.status.busy": "2023-05-13T00:54:08.845122Z",
     "iopub.status.idle": "2023-05-13T00:54:08.848084Z",
     "shell.execute_reply": "2023-05-13T00:54:08.847454Z"
    }
   },
   "outputs": [],
   "source": [
    "# assert ordinalSuffix(0) == '0th'\n",
    "# assert ordinalSuffix(1) == '1st'\n",
    "# assert ordinalSuffix(2) == '2nd'\n",
    "# assert ordinalSuffix(3) == '3rd'\n",
    "# assert ordinalSuffix(4) == '4th'\n",
    "# assert ordinalSuffix(10) == '10th'\n",
    "# assert ordinalSuffix(11) == '11th'\n",
    "# assert ordinalSuffix(12) == '12th'\n",
    "# assert ordinalSuffix(13) == '13th'\n",
    "# assert ordinalSuffix(14) == '14th'\n",
    "# assert ordinalSuffix(101) == '101st'\n",
    "\n",
    "# solution\n"
   ]
  },
  {
   "attachments": {},
   "cell_type": "markdown",
   "id": "d593c4ee",
   "metadata": {},
   "source": [
    "### 001.007 Exercise #7: ASCII Table\n",
    "\n",
    "1. Write a printASCIITable() function that displays the ASCII number and its corresponding text character, from 32 to 126. (These are called the printable ASCII characters.)"
   ]
  },
  {
   "cell_type": "code",
   "execution_count": 9,
   "id": "5e0ae103",
   "metadata": {
    "execution": {
     "iopub.execute_input": "2023-05-13T00:54:08.850576Z",
     "iopub.status.busy": "2023-05-13T00:54:08.850378Z",
     "iopub.status.idle": "2023-05-13T00:54:08.852637Z",
     "shell.execute_reply": "2023-05-13T00:54:08.852204Z"
    }
   },
   "outputs": [],
   "source": [
    "# solution\n"
   ]
  },
  {
   "attachments": {},
   "cell_type": "markdown",
   "id": "847eaf1a",
   "metadata": {},
   "source": [
    "### 001.008 Exercise #8: Read Write File\n",
    "\n",
    "You will write three functions for this exercise\n",
    "\n",
    "1. First, write a writeToFile() function with two parameters for the filename of the file and the text to write into the file.\n",
    "1. Second, write an appendToFile() function, which is identical to writeToFile() except that the file opens in append mode instead of write mode.\n",
    "1. Finally, write a readFromFile() function with one parameter for the filename to open. This function returns the full text contents of the file as a string."
   ]
  },
  {
   "cell_type": "code",
   "execution_count": 10,
   "id": "8b9e21b8",
   "metadata": {
    "execution": {
     "iopub.execute_input": "2023-05-13T00:54:08.855176Z",
     "iopub.status.busy": "2023-05-13T00:54:08.855011Z",
     "iopub.status.idle": "2023-05-13T00:54:08.857495Z",
     "shell.execute_reply": "2023-05-13T00:54:08.857092Z"
    }
   },
   "outputs": [],
   "source": [
    "from pathlib import Path\n",
    "\n",
    "filename = \"001.008.txt\"\n",
    "\n",
    "# writeToFile(filename, \"john\")\n",
    "# appendToFile(filename, \"lennon\")\n",
    "# assert readFromFile(filename) == [\"john\", \"lennon\"]\n",
    "# solution\n"
   ]
  }
 ],
 "metadata": {
  "kernelspec": {
   "display_name": ".venv",
   "language": "python",
   "name": "python3"
  },
  "language_info": {
   "codemirror_mode": {
    "name": "ipython",
    "version": 3
   },
   "file_extension": ".py",
   "mimetype": "text/x-python",
   "name": "python",
   "nbconvert_exporter": "python",
   "pygments_lexer": "ipython3",
   "version": "3.11.1"
  },
  "vscode": {
   "interpreter": {
    "hash": "7daeb9a356073df578df6d7584369b7908e732a3e4cb2289ee7d810fc6635fc0"
   }
  }
 },
 "nbformat": 4,
 "nbformat_minor": 5
}
