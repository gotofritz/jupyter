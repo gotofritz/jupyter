{
 "cells": [
  {
   "attachments": {},
   "cell_type": "markdown",
   "id": "99786a37",
   "metadata": {},
   "source": [
    "# SIMPLE PYTHON ALGORITHMS\n",
    "\n",
    "From ebook: \"Python Programming Exercises, Gently Explained\"\n",
    "https://inventwithpython.com/pythongently/"
   ]
  },
  {
   "attachments": {},
   "cell_type": "markdown",
   "id": "89ce8c2b",
   "metadata": {},
   "source": [
    "## 001. Exercises 1 to "
   ]
  },
  {
   "cell_type": "code",
   "execution_count": 1,
   "id": "4228fec7",
   "metadata": {
    "execution": {
     "iopub.execute_input": "2023-04-30T18:38:09.526032Z",
     "iopub.status.busy": "2023-04-30T18:38:09.525671Z",
     "iopub.status.idle": "2023-04-30T18:38:09.537213Z",
     "shell.execute_reply": "2023-04-30T18:38:09.536706Z"
    }
   },
   "outputs": [],
   "source": [
    "import sys\n",
    "from pathlib import Path\n",
    "\n",
    "current_dir = Path().resolve()\n",
    "while current_dir != current_dir.parent and current_dir.name != \"katas\":\n",
    "    current_dir = current_dir.parent\n",
    "if current_dir != current_dir.parent:\n",
    "    sys.path.append(current_dir.as_posix())"
   ]
  },
  {
   "cell_type": "code",
   "execution_count": 2,
   "id": "02ca7850",
   "metadata": {
    "execution": {
     "iopub.execute_input": "2023-04-30T18:38:09.540099Z",
     "iopub.status.busy": "2023-04-30T18:38:09.539867Z",
     "iopub.status.idle": "2023-04-30T18:38:09.733206Z",
     "shell.execute_reply": "2023-04-30T18:38:09.732420Z"
    }
   },
   "outputs": [],
   "source": [
    "import pandas as pd\n",
    "from IPython.core.interactiveshell import InteractiveShell\n",
    "\n",
    "InteractiveShell.ast_node_interactivity = \"all\""
   ]
  },
  {
   "attachments": {},
   "cell_type": "markdown",
   "id": "5b212460",
   "metadata": {},
   "source": [
    "### 001.001 Exercise #1: Hello, World!\n",
    "\n",
    "1. Write a program that, when run, greets the user by printing “Hello, world!” on the screen.\n",
    "1. Then it prints a message on the screen asking the user to enter their name.\n",
    "1. The program greets the user by name by printing the “Hello,” followed by the user’s name.\n"
   ]
  },
  {
   "cell_type": "code",
   "execution_count": 3,
   "id": "c741ca30",
   "metadata": {
    "execution": {
     "iopub.execute_input": "2023-04-30T18:38:09.738931Z",
     "iopub.status.busy": "2023-04-30T18:38:09.738515Z",
     "iopub.status.idle": "2023-04-30T18:38:09.743737Z",
     "shell.execute_reply": "2023-04-30T18:38:09.742711Z"
    }
   },
   "outputs": [],
   "source": [
    "# solution\n"
   ]
  },
  {
   "attachments": {},
   "cell_type": "markdown",
   "id": "4e520dc0",
   "metadata": {},
   "source": [
    "001.002 Exercise #2: Temperature Conversion\n",
    "\n",
    "1. Write a convertToFahrenheit() function with a degreesCelsius parameter. This function returns the number of this temperature in degrees Fahrenheit. Use Fahrenheit = Celsius × (9 / 5) + 32\n",
    "1. Then write a function named convertToCelsius() with a degreesFahrenheit parameter and returns a number of this temperature in degrees Celsius. Use Celsius = (Fahrenheit - 32) × (5 / 9)\n",
    "1. Make sure the asserts work\n",
    "\n",
    " "
   ]
  },
  {
   "cell_type": "code",
   "execution_count": 4,
   "id": "f6454099",
   "metadata": {
    "execution": {
     "iopub.execute_input": "2023-04-30T18:38:09.748827Z",
     "iopub.status.busy": "2023-04-30T18:38:09.748337Z",
     "iopub.status.idle": "2023-04-30T18:38:09.753743Z",
     "shell.execute_reply": "2023-04-30T18:38:09.752804Z"
    }
   },
   "outputs": [],
   "source": [
    "\n",
    "\n",
    "# assert convertToCelsius(0) == -17.77777777777778\n",
    "\n",
    "# assert convertToCelsius(180) == 82.22222222222223\n",
    "\n",
    "# assert convertToFahrenheit(0) == 32\n",
    "\n",
    "# assert convertToFahrenheit(100) == 212\n",
    "\n",
    "# assert convertToCelsius(convertToFahrenheit(15)) == 15\n",
    "\n",
    "# solution\n"
   ]
  },
  {
   "attachments": {},
   "cell_type": "markdown",
   "id": "312bff49",
   "metadata": {},
   "source": [
    "001.003 Exercise #3: Odd & Even\n",
    "\n",
    "Write two functions, isOdd() and isEven(), with a single numeric parameter named number. The isOdd() function returns True if number is odd and False if number is even. The isEven() function returns the True if number is even and False if number is odd. Both functions return False for numbers with fractional parts, such as 3.14 or -4.5. Zero is considered an even number.\n",
    "\n",
    "These Python assert statements stop the program if their condition is False. Copy them to the bottom of your solution program. Your solution is correct if the following assert statements’ conditions are all True:\n",
    "\n"
   ]
  },
  {
   "cell_type": "code",
   "execution_count": 5,
   "id": "c9369e6c",
   "metadata": {
    "execution": {
     "iopub.execute_input": "2023-04-30T18:38:09.758634Z",
     "iopub.status.busy": "2023-04-30T18:38:09.758169Z",
     "iopub.status.idle": "2023-04-30T18:38:09.763650Z",
     "shell.execute_reply": "2023-04-30T18:38:09.762035Z"
    }
   },
   "outputs": [],
   "source": [
    "# assert isOdd(42) == False\n",
    "# assert isOdd(9999) == True\n",
    "# assert isOdd(-10) == False\n",
    "# assert isOdd(-11) == True\n",
    "# assert isOdd(3.1415) == False\n",
    "# assert isEven(42) == True\n",
    "# assert isEven(9999) == False\n",
    "# assert isEven(-10) == True\n",
    "# assert isEven(-11) == False\n",
    "# assert isEven(3.1415) == False\n",
    "\n",
    "# solution\n"
   ]
  }
 ],
 "metadata": {
  "kernelspec": {
   "display_name": ".venv",
   "language": "python",
   "name": "python3"
  },
  "language_info": {
   "codemirror_mode": {
    "name": "ipython",
    "version": 3
   },
   "file_extension": ".py",
   "mimetype": "text/x-python",
   "name": "python",
   "nbconvert_exporter": "python",
   "pygments_lexer": "ipython3",
   "version": "3.10.6"
  },
  "vscode": {
   "interpreter": {
    "hash": "7daeb9a356073df578df6d7584369b7908e732a3e4cb2289ee7d810fc6635fc0"
   }
  }
 },
 "nbformat": 4,
 "nbformat_minor": 5
}
