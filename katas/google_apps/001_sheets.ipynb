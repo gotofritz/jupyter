{
 "cells": [
  {
   "attachments": {},
   "cell_type": "markdown",
   "id": "99786a37",
   "metadata": {},
   "source": [
    "# GOOGLE APPS\n",
    "\n",
    "Various Google Apps tips from various places on the web"
   ]
  },
  {
   "attachments": {},
   "cell_type": "markdown",
   "id": "89ce8c2b",
   "metadata": {},
   "source": [
    "## 001. Google Sheets\n",
    "\n",
    "Tips from https://twitter.com/blakeaburge/status/1553349770789261313"
   ]
  },
  {
   "attachments": {},
   "cell_type": "markdown",
   "id": "61c0a177",
   "metadata": {},
   "source": [
    "## 001.000 Assets\n",
    "\n",
    "Make a copy of this sheet: https://docs.google.com/spreadsheets/d/1yyjUzgo_BWydljeuhYpT0imBOUQ7UcSFg5IoyjUY_ew/edit#gid=905763130\n",
    "\n",
    "(Solutions are at: https://docs.google.com/spreadsheets/d/1FC-D_N-re7TfEmHzHeYAYLv1qg6NTq4Tkho8DY7EB-U/edit#gid=372524866)"
   ]
  },
  {
   "attachments": {},
   "cell_type": "markdown",
   "id": "5b212460",
   "metadata": {},
   "source": [
    "### 001.001 QR CODES\n",
    "\n",
    "1. Create a QR code image for each URL in the 1st column\n",
    "(the URL is https://chart.googleapis.com/chart?chs=200x200&cht=qr&chl=)"
   ]
  },
  {
   "attachments": {},
   "cell_type": "markdown",
   "id": "c741ca30",
   "metadata": {},
   "source": [
    "### 001.002 ARRAYFORMULA\n",
    "\n",
    "1. Use a single formula to work out the totals for Dogs, Cats, Parrots in the Total section\n"
   ]
  },
  {
   "attachments": {},
   "cell_type": "markdown",
   "id": "231e0f48",
   "metadata": {},
   "source": [
    "### 001.003 GOOGLEFINANCE\n",
    "\n",
    "1. Write single formula which creates two columns with last 60 days prices for the stock in A1\n",
    "1. change the format to alternate colors\n",
    "1. Add a chart of the data"
   ]
  },
  {
   "attachments": {},
   "cell_type": "markdown",
   "id": "c49fb0ff",
   "metadata": {},
   "source": [
    "### 001.004 TRANSLATE\n",
    "\n",
    "1. In B1, Work out what the languages of A1 are\n",
    "1. In B2, translate A1 into English"
   ]
  },
  {
   "attachments": {},
   "cell_type": "markdown",
   "id": "b74ab5ea",
   "metadata": {},
   "source": [
    "### 001.005 QUERY\n",
    "\n",
    "1. In E2, Work out a single formula that populates E with all the values from A which are younger than 30 and earn more than 1000000"
   ]
  },
  {
   "attachments": {},
   "cell_type": "markdown",
   "id": "3fab5442",
   "metadata": {},
   "source": [
    "### 001.006 IMPORT\n",
    "\n",
    "1. In A1, Import data from Google Sheet /d/1kucNVlol2vPbCuREwqrO7JGE5mh1XG-UEz3oYWt7pNg, specific the sheet \"BERLIN\" and the cells \"A1:L2\"\n",
    "1. In A5, Import the table from \"https://www.wahlrecht.de/umfragen/landtage/berlin.htm\""
   ]
  },
  {
   "attachments": {},
   "cell_type": "markdown",
   "id": "dced506d",
   "metadata": {},
   "source": [
    "### 001.007 SPARKLINE\n",
    "\n",
    "1. In D1, show a progress bar which has C as its max, and takes its value from B\n",
    "1. In B14:D18, insert checkboxes\n",
    "1. In D14:D18, show a progress bar which is 100% if all 3 checkboxes are ticked"
   ]
  },
  {
   "attachments": {},
   "cell_type": "markdown",
   "id": "b36fb4c5",
   "metadata": {},
   "source": [
    "### 001.008 HEATMAP\n",
    "\n",
    "1. Display a heatmap of the values in the table\n"
   ]
  },
  {
   "attachments": {},
   "cell_type": "markdown",
   "id": "c17d8824",
   "metadata": {},
   "source": [
    "### 001.009 PRICE HISTORY\n",
    "\n",
    "1. In B18, hidden away, create a string which is either B5:B4 or B4 (B4 and B5 replaced with actual values)\n",
    "1. In B7, show name of stock in B18\n",
    "1. In B10:C10, show the price\n",
    "1. In D10 show the change, and in E11 the change as percentage\n",
    "1. In B14, show the Market Capitalisation, i.e. the total value of shares, or '-' if not found\n",
    "1. In C14, show the Price/Earning ratio, which tells you the amount of money you are paying for each dollar of its earnings\n",
    "1. In D14, show the Beta, which tells you the how much the stock is volatile compared to the baseline of the market, (which is 1.0)\n",
    "1. In B27, fetch the prices for period indicated by the dropdown in G15:\n",
    "   1. Fetch \"all\"\n",
    "   1. Start from today, and as end date in get the number of months from G15, which is in the form \"X months\"\n"
   ]
  }
 ],
 "metadata": {
  "kernelspec": {
   "display_name": ".venv",
   "language": "python",
   "name": "python3"
  },
  "language_info": {
   "codemirror_mode": {
    "name": "ipython",
    "version": 3
   },
   "file_extension": ".py",
   "mimetype": "text/x-python",
   "name": "python",
   "nbconvert_exporter": "python",
   "pygments_lexer": "ipython3",
   "version": "3.11.1"
  },
  "vscode": {
   "interpreter": {
    "hash": "7daeb9a356073df578df6d7584369b7908e732a3e4cb2289ee7d810fc6635fc0"
   }
  }
 },
 "nbformat": 4,
 "nbformat_minor": 5
}
