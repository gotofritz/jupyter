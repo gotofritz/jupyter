{
 "cells": [
  {
   "attachments": {},
   "cell_type": "markdown",
   "id": "99786a37",
   "metadata": {},
   "source": [
    "# QUEUES\n",
    "\n",
    "## NOTE: this needs to be run in docker because graphviz is a pain to install in OS X\n",
    "\n",
    "\n"
   ]
  },
  {
   "attachments": {},
   "cell_type": "markdown",
   "id": "89ce8c2b",
   "metadata": {},
   "source": [
    "## 004. THIS IS ABOUT..."
   ]
  },
  {
   "cell_type": "markdown",
   "id": "5393ba08",
   "metadata": {},
   "source": [
    "This is part 2 of https://realpython.com/queue-in-python/"
   ]
  },
  {
   "cell_type": "code",
   "execution_count": 1,
   "id": "02ca7850",
   "metadata": {},
   "outputs": [
    {
     "name": "stderr",
     "output_type": "stream",
     "text": [
      "Version 1.0.5\n"
     ]
    }
   ],
   "source": [
    "%load_ext nb_mypy\n",
    "\n",
    "from IPython.core.interactiveshell import InteractiveShell\n",
    "InteractiveShell.ast_node_interactivity = \"all\" # type: ignore"
   ]
  },
  {
   "cell_type": "code",
   "execution_count": 2,
   "id": "529d7b47",
   "metadata": {},
   "outputs": [],
   "source": [
    "from collections import deque\n",
    "from heapq import heappop, heappush\n",
    "import networkx as nx\n",
    "from typing import Any, Callable, Deque, Generic, NamedTuple, TypeVar\n",
    "from enum import IntEnum"
   ]
  },
  {
   "cell_type": "code",
   "execution_count": 3,
   "id": "0def6667",
   "metadata": {},
   "outputs": [],
   "source": [
    "\n",
    "# assets from part 1\n",
    "\n",
    "T = TypeVar('T')\n",
    "\n",
    "class IterableMixin:\n",
    "    def __len__(self) -> int:\n",
    "        return len(self._elements) # type: ignore\n",
    "\n",
    "    def __iter__(self):\n",
    "        while len(self) > 0:\n",
    "            yield self.dequeue()\n",
    "\n",
    "class Queue(IterableMixin, Generic[T]):\n",
    "    def __init__(self, *elements: T):\n",
    "        self._elements = deque(elements)\n",
    "\n",
    "    def enqueue(self, element:T):\n",
    "        self._elements.append(element)\n",
    "\n",
    "    def dequeue(self) -> T:\n",
    "        return self._elements.popleft()\n",
    "\n",
    "class Stack(Queue, Generic[T]):\n",
    "    def dequeue(self) -> T:\n",
    "        return self._elements.pop()\n",
    "\n",
    "roadmap_file = \"004_roadmap.dot\"\n",
    "\n",
    "graph = nx.nx_agraph.read_dot(roadmap_file)\n",
    "\n",
    "class City(NamedTuple):\n",
    "    name: str\n",
    "    country: str\n",
    "    year: int | None\n",
    "    latitude: float\n",
    "    longitude: float\n",
    "\n",
    "    @classmethod\n",
    "    def from_dict(cls, attrs:dict[str, Any]) -> \"City\":\n",
    "        return cls(\n",
    "            name=attrs[\"xlabel\"],\n",
    "            country=attrs[\"country\"],\n",
    "            year=int(attrs[\"year\"]) or None,\n",
    "            latitude=float(attrs[\"latitude\"]),\n",
    "            longitude=float(attrs[\"longitude\"]),\n",
    "        )\n",
    "\n",
    "def as_cities_map(\n",
    "        agraph: nx.Graph,\n",
    "        node_factory: Callable[[dict[str, Any]], Any]\n",
    "    ) -> dict[str, Any]:\n",
    "    return {\n",
    "        name: node_factory(attributes)\n",
    "        for name, attributes in agraph.nodes(data=True)\n",
    "    }\n",
    "\n",
    "def as_cities_graph(cities_map:dict[str, City], agraph: nx.Graph) -> nx.Graph:\n",
    "    return nx.Graph(\n",
    "        (cities_map[name1], cities_map[name2], weights)\n",
    "        for name1, name2, weights in agraph.edges(data=True)\n",
    "    )"
   ]
  },
  {
   "cell_type": "markdown",
   "id": "956eddeb",
   "metadata": {},
   "source": [
    "### 001.006 Breadth-First Search Using a FIFO Queue\n",
    "\n",
    "In the breadth-first search algorithm, you look for a node that satisfies a particular condition by exploring the graph in concentric layers or levels. The breadth-first search algorithm ensures that you’ll eventually explore all connected nodes in a graph while searching for one that satisfies the desired condition. You start traversing the graph at an arbitrarily chosen source node unless the graph is a tree data structure, in which case you typically start at the root node of that tree. At each step, you visit all immediate neighbors of the current node before going deeper. \n",
    "\n",
    "1. Reuse `as_cities_map` and `as_cities_graph`\n",
    "2. nx has a breadth-first search function, `nx.bfs_tree`. Use it to identify the closest neighbour of `CITY` which was granted city status in the XXth century\n",
    "    1. Use `print_name` to show what the loop is doing\n",
    "    1. Use the `is_twentieth_century` to find the city and print \n",
    "3. The actual order of the neighbours is unknown unless you specify. Let's do that\n",
    "    1. function `order` does the orderinging\n",
    "        1. it returns an iterable...\n",
    "        1. ...and orders by latitude (could be anything really)\n",
    "    1. add that ordering to the `nx.bfs_tree` function\n",
    "4. Use the Queue from earlier to implement your own BFS\n",
    "    1. Create `breadth_first_traverse` which does breadth-first traverse of QUEUE\n",
    "        1. Initialise the FIFO queue with source\n",
    "        1. To ensure no infinite loops, keep track of visited nodes and skip them\n",
    "        1. `breadth_first_traverse` is an iterator that returns the latest dequeued node\n",
    "            1. (HINT: walrus operator)\n",
    "        1. once a node is dealt with, add its neightbours to the queue\n",
    "    1. Create `breadth_first_search` which iterates through `breadth_first_traverse` and returns the first node that matches\n",
    "    1. call `breadth_first_search` with the same parameters as the `nx.bfs_tree` version and check that results match\n",
    "5. Add the `order_by` clause, same as `nx.bfs_tree` example, and call function again using `order` for it. It should match previous example\n",
    "    1. Note that the order_by function is slightly different - it takes a single City, as we are using simple list sorting\n",
    "    1. order has to be passed to search function too\n"
   ]
  },
  {
   "cell_type": "code",
   "execution_count": 4,
   "id": "71ade0b9",
   "metadata": {},
   "outputs": [
    {
     "name": "stderr",
     "output_type": "stream",
     "text": [
      "<cell>128: \u001b[1m\u001b[31merror:\u001b[m Name \u001b[m\u001b[1m\"order_by_lat\"\u001b[m is not defined  \u001b[m\u001b[33m[name-defined]\u001b[m\n"
     ]
    },
    {
     "data": {
      "text/plain": [
       "1"
      ]
     },
     "execution_count": 4,
     "metadata": {},
     "output_type": "execute_result"
    },
    {
     "data": {
      "text/plain": [
       "5"
      ]
     },
     "execution_count": 4,
     "metadata": {},
     "output_type": "execute_result"
    },
    {
     "data": {
      "text/plain": [
       "2"
      ]
     },
     "execution_count": 4,
     "metadata": {},
     "output_type": "execute_result"
    },
    {
     "name": "stdout",
     "output_type": "stream",
     "text": [
      "📍 Edinburgh\n",
      "📍 Dundee\n",
      "📍 Glasgow\n",
      "📍 Perth\n",
      "📍 Stirling\n",
      "📍 Carlisle\n",
      "📍 Newcastle upon Tyne\n",
      "📍 Aberdeen\n",
      "📍 Inverness\n",
      "📍 Lancaster\n",
      "Found: Lancaster 1937\n"
     ]
    },
    {
     "data": {
      "text/plain": [
       "3"
      ]
     },
     "execution_count": 4,
     "metadata": {},
     "output_type": "execute_result"
    },
    {
     "data": {
      "text/plain": [
       "3.2"
      ]
     },
     "execution_count": 4,
     "metadata": {},
     "output_type": "execute_result"
    },
    {
     "name": "stdout",
     "output_type": "stream",
     "text": [
      "📍 Edinburgh\n",
      "📍 Dundee\n",
      "📍 Perth\n",
      "📍 Stirling\n",
      "📍 Glasgow\n",
      "📍 Newcastle upon Tyne\n",
      "📍 Carlisle\n",
      "📍 Aberdeen\n",
      "📍 Inverness\n",
      "📍 Sunderland\n",
      "Found: Sunderland 1992\n"
     ]
    },
    {
     "data": {
      "text/plain": [
       "4"
      ]
     },
     "execution_count": 4,
     "metadata": {},
     "output_type": "execute_result"
    },
    {
     "data": {
      "text/plain": [
       "City(name='Lancaster', country='England', year=1937, latitude=54.047, longitude=-2.801)"
      ]
     },
     "execution_count": 4,
     "metadata": {},
     "output_type": "execute_result"
    },
    {
     "data": {
      "text/plain": [
       "5"
      ]
     },
     "execution_count": 4,
     "metadata": {},
     "output_type": "execute_result"
    },
    {
     "ename": "NameError",
     "evalue": "name 'order_by_lat' is not defined",
     "output_type": "error",
     "traceback": [
      "\u001b[0;31m---------------------------------------------------------------------------\u001b[0m",
      "\u001b[0;31mNameError\u001b[0m                                 Traceback (most recent call last)",
      "Cell \u001b[0;32mIn[4], line 127\u001b[0m\n\u001b[1;32m    124\u001b[0m         \u001b[38;5;28;01mif\u001b[39;00m predicate(node):\n\u001b[1;32m    125\u001b[0m             \u001b[38;5;28;01mreturn\u001b[39;00m node\n\u001b[0;32m--> 127\u001b[0m breadth_first_search_2(cities_graph, cities_map[CITY], is_twentieth_century, \u001b[43morder_by_lat\u001b[49m)\n",
      "\u001b[0;31mNameError\u001b[0m: name 'order_by_lat' is not defined"
     ]
    }
   ],
   "source": [
    "\n",
    "# from earlier\n",
    "1\n",
    "cities_map = as_cities_map(graph, City.from_dict)\n",
    "cities_graph = as_cities_graph(cities_map, graph)\n",
    "\n",
    "CITY = \"edinburgh\"\n",
    "\n",
    "def print_name(node):\n",
    "    print(\"📍\", node.name)\n",
    "\n",
    "def print_found(node):\n",
    "    print(\"Found:\", node.name, node.year)\n",
    "\n",
    "def is_twentieth_century(node):\n",
    "    return node.year and 1901 <= node.year <= 2000\n",
    "\n",
    "# 2\n",
    "# for node in nx.bfs_tree(...):\n",
    "#     2.1\n",
    "#     if 2.2\n",
    "#         print_found(node)\n",
    "# else:\n",
    "#     print(\"Not found\")\n",
    "\n",
    "# 3.1\n",
    "# def order(neighbors):\n",
    "#     def by_latitude(city):\n",
    "#         return city.latitude\n",
    "#     return ...(sorted(neighbors, key=..., reverse=True))\n",
    "\n",
    "# 4.1\n",
    "# def breadth_first_traverse(graph, source):\n",
    "#     queue = 4.1.1\n",
    "#     visited = 4.1.2\n",
    "#     while queue:\n",
    "#         4.1.3\n",
    "#         for neighbor in graph.neighbors(node):\n",
    "#             4.1.4\n",
    "\n",
    "# 4.2\n",
    "# def breadth_first_search(graph, source, predicate):\n",
    "#     ...\n",
    "\n",
    "# 4.3\n",
    "# breadth_first_search(cities_graph, cities_map[CITY], is_twentieth_century)\n",
    "\n",
    "5\n",
    "# def order_by_lat(neighbor: City) -> float:\n",
    "#     ...\n",
    "\n",
    "# def breadth_first_traverse(graph, source, order_by=None):\n",
    "#     ...\n",
    "\n",
    "# def breadth_first_search(graph, source, order_by=None):\n",
    "#     ...\n",
    "\n",
    "# breadth_first_search(cities_graph, cities_map[CITY], is_twentieth_century, order_by_lat)\n",
    "\n",
    "# solution\n",
    "\n",
    "2\n",
    "for node in nx.bfs_tree(G=cities_graph, source=cities_map[CITY]):\n",
    "    print_name(node)\n",
    "    if is_twentieth_century(node):\n",
    "        print_found(node)\n",
    "        break\n",
    "else:\n",
    "    print(\"Not found\")\n",
    "\n",
    "3\n",
    "# 3.1\n",
    "def sort_neighbors(neighbors:list[City]):\n",
    "    def by_latitude(city):\n",
    "        return city.latitude\n",
    "    return iter(sorted(neighbors, key=by_latitude, reverse=True))\n",
    "\n",
    "3.2\n",
    "for node in nx.bfs_tree(G=cities_graph, source=cities_map[CITY], sort_neighbors=sort_neighbors):\n",
    "    print_name(node)\n",
    "    if is_twentieth_century(node):\n",
    "        print_found(node)\n",
    "        break\n",
    "else:\n",
    "    print(\"Not found\")\n",
    "\n",
    "4\n",
    "\n",
    "def breadth_first_traverse(graph, source):\n",
    "    queue = Queue(source)\n",
    "    visited = {source}\n",
    "    while queue:\n",
    "        yield (node := queue.dequeue())\n",
    "        for neighbor in graph.neighbors(node):\n",
    "            if neighbor not in visited:\n",
    "                visited.add(neighbor)\n",
    "                queue.enqueue(neighbor)\n",
    "\n",
    "def breadth_first_search(graph, source, predicate):\n",
    "    for node in breadth_first_traverse(graph, source):\n",
    "        if predicate(node):\n",
    "            return node\n",
    "\n",
    "breadth_first_search(cities_graph, cities_map[CITY], is_twentieth_century)\n",
    "\n",
    "5\n",
    "def order_by(neighbor: City) -> float:\n",
    "    return -neighbor.latitude\n",
    "\n",
    "def breadth_first_traverse_2(graph:nx.Graph, source:City, order_by=None):\n",
    "    queue = Queue(source)\n",
    "    visited = {source}\n",
    "    while queue:\n",
    "        yield (node := queue.dequeue())\n",
    "        neighbors:list[City] = list(graph.neighbors(node))\n",
    "        if order_by:\n",
    "            neighbors.sort(key=order_by)\n",
    "        for neighbor in neighbors:\n",
    "            if neighbor not in visited:\n",
    "                visited.add(neighbor)\n",
    "                queue.enqueue(neighbor)\n",
    "\n",
    "def breadth_first_search_2(graph:nx.Graph, source:City, predicate, order_by=None):\n",
    "    for node in breadth_first_traverse_2(graph, source, order_by):\n",
    "        if predicate(node):\n",
    "            return node\n",
    "\n",
    "breadth_first_search_2(cities_graph, cities_map[CITY], is_twentieth_century, order_by_lat)\n"
   ]
  },
  {
   "cell_type": "markdown",
   "id": "e40f4eda",
   "metadata": {},
   "source": [
    "### 001.007 Shortest Path Using Breadth-First Traversal\n",
    "\n",
    "In many cases, the fewer the nodes on the path from source to destination, the shorter the distance. Traversing the graph using the breadth-first approach will produce a path guaranteed to have the fewest nodes.\n",
    "\n",
    "1. Use networkx to reveal all the shortest paths between two cities, which will have the same minimal length\n",
    "    1. Import cities_map and cities_graph as earlier\n",
    "    1. Create two cities nodes for aberdeen and perth\n",
    "    1. nx has a builtin method for that, use it. Start enumerator from 1 and not the default 0\n",
    "1. Write your own version, `shortest_path` (which only finds the first shortest path)\n",
    "    1. Base it on `breadth_first_traverse_2`, but keep a dictionary of previous nodes\n",
    "        1. Keep a trail of nodes in `previous_nodes`\n",
    "        1. When you find the destination, retrace the trail with a new function `retrace` (next step)\n",
    "    1. `retrace` takes a dictionary of City -> City and returns a path through them\n",
    "        1. Store the results in a standard Deque, no need for more\n",
    "        1. load the destination in a var `current`, and loop through `previous_nodes` to find the trail.\n",
    "        1. Unshift into the deque as you find it\n",
    "        1. Ends when the `current` is either None or the source\n",
    "    1. Call the function, should be the same as one of the paths\n",
    "        1. Note that you get a different result if you order nodes differently\n",
    "1. `shortest_path` can also be used to find out whether two nodes are connected or not\n"
   ]
  },
  {
   "cell_type": "code",
   "execution_count": 5,
   "id": "55540037",
   "metadata": {},
   "outputs": [
    {
     "ename": "SyntaxError",
     "evalue": "invalid syntax (727984903.py, line 39)",
     "output_type": "error",
     "traceback": [
      "\u001b[0;36m  Cell \u001b[0;32mIn[5], line 39\u001b[0;36m\u001b[0m\n\u001b[0;31m    path:list[]\u001b[0m\n\u001b[0m              ^\u001b[0m\n\u001b[0;31mSyntaxError\u001b[0m\u001b[0;31m:\u001b[0m invalid syntax\n"
     ]
    }
   ],
   "source": [
    "# from earlier\n",
    "# 1.1\n",
    "cities_map = as_cities_map(graph, City.from_dict)\n",
    "cities_graph = as_cities_graph(cities_map, graph)\n",
    "\n",
    "# 1.2\n",
    "city1 = cities_map[\"aberdeen\"]\n",
    "city2 = cities_map[\"perth\"]\n",
    "\n",
    "# 1.3\n",
    "# for i, path in enumerate(nx.all_shortest_paths..., ...):\n",
    "#     print(f\"{i}.\", \" → \".join(city.name for city in path))\n",
    "\n",
    "# 2.1\n",
    "# def shortest_path(\n",
    "#         graph:nx.Graph, source:City, destination:City, order_by=None\n",
    "#     ) -> list[City]:\n",
    "#     queue = Queue(source)\n",
    "#     visited = {source}\n",
    "#     previous_nodes = ...\n",
    "#     while queue:\n",
    "#         node = queue.dequeue()\n",
    "#         neighbors:list[City] = list(graph.neighbors(node))\n",
    "#         if order_by:\n",
    "#             neighbors.sort(key=order_by)\n",
    "#         for neighbor in neighbors:\n",
    "#             if neighbor not in visited:\n",
    "#                 visited.add(neighbor)\n",
    "#                 queue.enqueue(neighbor)\n",
    "#                 # ... 2.1.1\n",
    "#                 # ...\n",
    "#                     return retrace(previous_nodes, source, destination)\n",
    "#     return []\n",
    "\n",
    "# 2.2\n",
    "def retrace(\n",
    "    previous_nodes:dict[City, City], source:City, destination:City\n",
    "    ) -> list[City]:\n",
    "    path:Deque[City] = deque()\n",
    "\n",
    "    return list(path)\n",
    "\n",
    "# 2.3\n",
    "def by_latitude(city:City):\n",
    "    return -city.latitude\n",
    "# \" → \".join(city.name for city in shortest_path(cities_graph, city1, city2))\n",
    "# \" → \".join(city.name for city in shortest_path(cities_graph, city1, city2, by_latitude))\n",
    "\n",
    "# 3\n",
    "def connected(graph:nx.Graph, source:City, destination:City) -> bool:\n",
    "    return True\n",
    "\n",
    "# assert connected(cities_graph, cities_map[\"belfast\"], cities_map[\"glasgow\"]) == False\n",
    "# assert connected(cities_graph, cities_map[\"belfast\"], cities_map[\"derry\"]) == True\n",
    "\n",
    "# solution\n",
    "\n",
    "1.3\n",
    "for i, path in enumerate(nx.all_shortest_paths(cities_graph, city1, city2), 1):\n",
    "    print(f\"{i}.\", \" → \".join(city.name for city in path))\n",
    "\n",
    "2.1\n",
    "def shortest_path(\n",
    "        graph:nx.Graph, source:City, destination:City, order_by=None\n",
    "    ) -> list[City]:\n",
    "    queue = Queue(source)\n",
    "    visited = {source}\n",
    "    previous_nodes = {}\n",
    "    while queue:\n",
    "        node = queue.dequeue()\n",
    "        neighbors:list[City] = list(graph.neighbors(node))\n",
    "        if order_by:\n",
    "            neighbors.sort(key=order_by)\n",
    "        for neighbor in neighbors:\n",
    "            if neighbor not in visited:\n",
    "                visited.add(neighbor)\n",
    "                queue.enqueue(neighbor)\n",
    "                previous_nodes[neighbor] = node\n",
    "                if neighbor == destination:\n",
    "                    return retrace(previous_nodes, source, destination)\n",
    "    return []\n",
    "\n",
    "2.2\n",
    "def retrace( # type: ignore[no-redef]\n",
    "    previous_nodes:dict[City, City], source:City, destination:City\n",
    "    ) -> list[City]:\n",
    "    path:Deque[City] = deque()\n",
    "\n",
    "    current: City | None = destination\n",
    "    while current and current != source:\n",
    "        path.appendleft(current)\n",
    "        current = previous_nodes.get(current)\n",
    "        if current is None:\n",
    "            return []\n",
    "\n",
    "    path.appendleft(source)\n",
    "    return list(path)\n",
    "\n",
    "2.3\n",
    "\" → \".join(city.name for city in shortest_path(cities_graph, city1, city2))\n",
    "\" → \".join(city.name for city in shortest_path(cities_graph, city1, city2, by_latitude))\n",
    "\n",
    "\n",
    "# 3\n",
    "def connected(graph:nx.Graph, source:City, destination:City) -> bool: # type: ignore[no-redef]\n",
    "    return shortest_path(graph, source, destination) != []\n",
    "\n",
    "assert connected(cities_graph, cities_map[\"belfast\"], cities_map[\"glasgow\"]) == False\n",
    "assert connected(cities_graph, cities_map[\"belfast\"], cities_map[\"derry\"]) == True"
   ]
  },
  {
   "cell_type": "markdown",
   "id": "4e675544",
   "metadata": {},
   "source": [
    "### 001.008 Depth-First Search Using a LIFO Queue\n",
    "\n",
    "The depth-first traversal follows a path from the source node by plunging into the graph as deeply as possible before backtracking to the last edge crossing and trying another branch\n",
    "\n",
    "1. You'll be reusing `cities_map`, `is_twentieth_century`, etc from earlier\n",
    "1. Use the built-in method from nx for it, same loop as before\n",
    "1. `search` is a generic function that takes any traversal function and runs it, it will be used later\n",
    "1. Write your own `depth_first_traverse`, loosely based on `breadth_first_traverse` but\n",
    "    1. Use a stack instead of a Queue\n",
    "    1. What is `visited` inited with? \n",
    "    1. There is a condition associated with yielding the node...\n",
    "    1. The order of when things are added to `visited` is different\n",
    "    1. Use `search` to test it works\n",
    "1. You can use python's own call stack instead of creating your own, by writing a recursive version of `depth_first_traverse`.\n",
    "    1. Use `search` to test it works\n",
    "\n"
   ]
  },
  {
   "cell_type": "code",
   "execution_count": null,
   "id": "4fd8651f",
   "metadata": {},
   "outputs": [
    {
     "data": {
      "text/plain": [
       "2"
      ]
     },
     "execution_count": 7,
     "metadata": {},
     "output_type": "execute_result"
    },
    {
     "data": {
      "text/plain": [
       "3"
      ]
     },
     "execution_count": 7,
     "metadata": {},
     "output_type": "execute_result"
    },
    {
     "data": {
      "text/plain": [
       "3"
      ]
     },
     "execution_count": 7,
     "metadata": {},
     "output_type": "execute_result"
    },
    {
     "data": {
      "text/plain": [
       "4"
      ]
     },
     "execution_count": 7,
     "metadata": {},
     "output_type": "execute_result"
    },
    {
     "data": {
      "text/plain": [
       "2"
      ]
     },
     "execution_count": 7,
     "metadata": {},
     "output_type": "execute_result"
    },
    {
     "name": "stdout",
     "output_type": "stream",
     "text": [
      "📍 Edinburgh\n",
      "📍 Dundee\n",
      "📍 Aberdeen\n",
      "📍 Inverness\n",
      "📍 Perth\n",
      "📍 Stirling\n",
      "📍 Glasgow\n",
      "📍 Carlisle\n",
      "📍 Lancaster\n",
      "Found: Lancaster 1937\n"
     ]
    },
    {
     "data": {
      "text/plain": [
       "3"
      ]
     },
     "execution_count": 7,
     "metadata": {},
     "output_type": "execute_result"
    },
    {
     "data": {
      "text/plain": [
       "3.5"
      ]
     },
     "execution_count": 7,
     "metadata": {},
     "output_type": "execute_result"
    },
    {
     "data": {
      "text/plain": [
       "City(name='Lancaster', country='England', year=1937, latitude=54.047, longitude=-2.801)"
      ]
     },
     "execution_count": 7,
     "metadata": {},
     "output_type": "execute_result"
    },
    {
     "data": {
      "text/plain": [
       "4"
      ]
     },
     "execution_count": 7,
     "metadata": {},
     "output_type": "execute_result"
    },
    {
     "data": {
      "text/plain": [
       "4.1"
      ]
     },
     "execution_count": 7,
     "metadata": {},
     "output_type": "execute_result"
    },
    {
     "data": {
      "text/plain": [
       "City(name='Lancaster', country='England', year=1937, latitude=54.047, longitude=-2.801)"
      ]
     },
     "execution_count": 7,
     "metadata": {},
     "output_type": "execute_result"
    }
   ],
   "source": [
    "\n",
    "# from earlier\n",
    "\n",
    "CITY = \"edinburgh\"\n",
    "\n",
    "2\n",
    "# for node in nx...\n",
    "#     print_name(node)\n",
    "#     if is_twentieth_century(node):\n",
    "#         print_found(node)\n",
    "#         break\n",
    "# else:\n",
    "#     print(\"Not found\")\n",
    "\n",
    "\n",
    "3\n",
    "def search(traverse, graph:nx.Graph, source:City, predicate, order_by=None):\n",
    "    for node in traverse(graph, source, order_by):\n",
    "        if predicate(node):\n",
    "            return node\n",
    "\n",
    "3\n",
    "# def depth_first_traverse(graph:nx.Graph, source:City, order_by=None):\n",
    "#     stack:Stack[City] = Stack(source)\n",
    "#     visited = ... 3.2\n",
    "#     while stack:\n",
    "#         if (node := stack.dequeue()) ...3.3:\n",
    "#             yield node\n",
    "#             3.4\n",
    "#             neighbors = list(graph.neighbors(node))\n",
    "#             if order_by:\n",
    "#                 neighbors.sort(key=order_by)\n",
    "#             for neighbor in reversed(neighbors):\n",
    "#                 3.4\n",
    "# 3.5\n",
    "# search(depth_first_traverse, cities_graph, cities_map[CITY], is_twentieth_century)\n",
    "\n",
    "4\n",
    "# def recursive_depth_first_traverse(graph:nx.Graph, source:City, order_by=None):\n",
    "#     visited = set()\n",
    "\n",
    "#     def visit(node):\n",
    "#         yield node\n",
    "#         ...\n",
    "\n",
    "#     return visit(source)\n",
    "\n",
    "# 4.1\n",
    "# search(recursive_depth_first_traverse, cities_graph, cities_map[CITY], is_twentieth_century)\n",
    "\n",
    "# solution\n",
    "\n",
    "2\n",
    "for node in nx.dfs_tree(G=cities_graph, source=cities_map[CITY]):\n",
    "    print_name(node)\n",
    "    if is_twentieth_century(node):\n",
    "        print_found(node)\n",
    "        break\n",
    "else:\n",
    "    print(\"Not found\")\n",
    "\n",
    "3\n",
    "def depth_first_traverse(graph:nx.Graph, source:City, order_by=None):\n",
    "    stack:Stack[City] = Stack(source)\n",
    "    visited = set()\n",
    "    while stack:\n",
    "        if (node := stack.dequeue()) not in visited:\n",
    "            yield node\n",
    "            visited.add(node)\n",
    "            neighbors = list(graph.neighbors(node))\n",
    "            if order_by:\n",
    "                neighbors.sort(key=order_by)\n",
    "            for neighbor in reversed(neighbors):\n",
    "                stack.enqueue(neighbor)\n",
    "\n",
    "3.5\n",
    "search(depth_first_traverse, cities_graph, cities_map[CITY], is_twentieth_century)\n",
    "\n",
    "4\n",
    "def recursive_depth_first_traverse(graph:nx.Graph, source:City, order_by=None):\n",
    "    visited = set()\n",
    "\n",
    "    def visit(node):\n",
    "        yield node\n",
    "        visited.add(node)\n",
    "        neighbors = list(graph.neighbors(node))\n",
    "        if order_by:\n",
    "            neighbors.sort(key=order_by)\n",
    "        for neighbor in neighbors:\n",
    "            if neighbor not in visited:\n",
    "                yield from visit(neighbor)\n",
    "\n",
    "    return visit(source)\n",
    "\n",
    "4.1\n",
    "search(recursive_depth_first_traverse, cities_graph, cities_map[CITY], is_twentieth_century)\n",
    "\n",
    "# def breadth_first_search(graph, source, predicate):\n",
    "#     for node in breadth_first_traverse(graph, source):\n",
    "#         if predicate(node):\n",
    "#             return node\n",
    "\n",
    "# breadth_first_search(cities_graph, cities_map[CITY], is_twentieth_century)\n",
    "\n",
    "# 5\n",
    "# def order_by(neighbor: City) -> float:\n",
    "#     return -neighbor.latitude\n",
    "\n",
    "# def breadth_first_traverse_2(graph:nx.Graph, source:City, order_by=None):\n",
    "#     queue = Queue(source)\n",
    "#     visited = {source}\n",
    "#     while queue:\n",
    "#         yield (node := queue.dequeue())\n",
    "#         neighbors:list[City] = list(graph.neighbors(node))\n",
    "#         if order_by:\n",
    "#             neighbors.sort(key=order_by)\n",
    "#         for neighbor in neighbors:\n",
    "#             if neighbor not in visited:\n",
    "#                 visited.add(neighbor)\n",
    "#                 queue.enqueue(neighbor)\n",
    "\n",
    "# def breadth_first_search_2(graph:nx.Graph, source:City, predicate, order_by=None):\n",
    "#     for node in breadth_first_traverse_2(graph, source, order_by):\n",
    "#         if predicate(node):\n",
    "#             return node\n",
    "\n",
    "# breadth_first_search_2(cities_graph, cities_map[CITY], is_twentieth_century, order_by)\n"
   ]
  }
 ],
 "metadata": {
  "kernelspec": {
   "display_name": ".venv",
   "language": "python",
   "name": "python3"
  },
  "language_info": {
   "codemirror_mode": {
    "name": "ipython",
    "version": 3
   },
   "file_extension": ".py",
   "mimetype": "text/x-python",
   "name": "python",
   "nbconvert_exporter": "python",
   "pygments_lexer": "ipython3",
   "version": "3.11.7"
  },
  "vscode": {
   "interpreter": {
    "hash": "7daeb9a356073df578df6d7584369b7908e732a3e4cb2289ee7d810fc6635fc0"
   }
  }
 },
 "nbformat": 4,
 "nbformat_minor": 5
}
