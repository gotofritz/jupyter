{
 "cells": [
  {
   "attachments": {},
   "cell_type": "markdown",
   "id": "99786a37",
   "metadata": {},
   "source": [
    "# QUEUES\n",
    "\n",
    "## NOTE: this needs to be run in docker because graphviz is a pain to install in OS X\n"
   ]
  },
  {
   "attachments": {},
   "cell_type": "markdown",
   "id": "89ce8c2b",
   "metadata": {},
   "source": [
    "## 004. THIS IS ABOUT..."
   ]
  },
  {
   "cell_type": "markdown",
   "id": "dcb605f4",
   "metadata": {},
   "source": [
    "https://realpython.com/queue-in-python/\n",
    "\n",
    "Queues are the backbone of numerous algorithms found in games, artificial intelligence, satellite navigation, and task scheduling. They’re among the top abstract data types that computer science students learn early in their education. At the same time, software engineers often leverage higher-level message queues to achieve better scalability of a microservice architecture. Plus, using queues in Python is simply fun!\n",
    "\n",
    "Python provides a few built-in flavors of queues that you’ll see in action in this tutorial. You’re also going to get a quick primer on the theory of queues and their types. Finally, you’ll take a look at some external libraries for connecting to popular message brokers available on major cloud platform providers.\n",
    "\n",
    "In this tutorial, you’ll learn how to:\n",
    "\n",
    "    Differentiate between various types of queues\n",
    "    Implement the queue data type in Python\n",
    "    Solve practical problems by applying the right queue\n",
    "    Use Python’s thread-safe, asynchronous, and interprocess queues\n",
    "    Integrate Python with distributed message queue brokers through libraries\n"
   ]
  },
  {
   "cell_type": "code",
   "execution_count": 1,
   "id": "02ca7850",
   "metadata": {},
   "outputs": [
    {
     "name": "stderr",
     "output_type": "stream",
     "text": [
      "Version 1.0.5\n"
     ]
    }
   ],
   "source": [
    "%load_ext nb_mypy\n",
    "\n",
    "from IPython.core.interactiveshell import InteractiveShell\n",
    "InteractiveShell.ast_node_interactivity = \"all\" # type: ignore"
   ]
  },
  {
   "cell_type": "code",
   "execution_count": 2,
   "id": "529d7b47",
   "metadata": {},
   "outputs": [],
   "source": [
    "from collections import deque\n",
    "from heapq import heappop, heappush\n",
    "import networkx as nx\n",
    "from typing import Any, Callable, Deque, Generic, NamedTuple, TypeVar\n",
    "from enum import IntEnum"
   ]
  },
  {
   "cell_type": "code",
   "execution_count": 3,
   "id": "fc807434",
   "metadata": {},
   "outputs": [],
   "source": [
    "roadmap_file = \"004_roadmap.dot\"\n"
   ]
  },
  {
   "attachments": {},
   "cell_type": "markdown",
   "id": "5b212460",
   "metadata": {},
   "source": [
    "### 001.001 Building a Queue Data Type\n",
    "\n",
    "Because you want your custom FIFO queue to support at least the enqueue and dequeue operations, go ahead and write a bare-bones Queue class that’ll delegate those two operations to `deque`\n",
    "\n",
    "\n",
    "1. Create a BasicQueue FIFO queue class which\n",
    "    1. starts with an empty queue - make sure the elements are stored in `_elements` and are all of the same type, and the class knows about it\n",
    "    1. has an `enqueue` method to add items to the queue\n",
    "    1. has a `deque` method which gets it off it\n",
    "    1. uncomment the assertions to prove they work\n",
    "1. Create a slightly more complex Queue class which\n",
    "    1. can take a list of elements\n",
    "    1. enqueue and dequeue as before\n",
    "    1. allows `len(an_instance)` to return the length\n",
    "    1. allows `for i in an_instance...` to iterate through items\n",
    "    1. uncomment the assertions to prove they work\n"
   ]
  },
  {
   "cell_type": "code",
   "execution_count": 4,
   "id": "c741ca30",
   "metadata": {},
   "outputs": [
    {
     "name": "stderr",
     "output_type": "stream",
     "text": [
      "<cell>63: \u001b[34mnote:\u001b[m By default the bodies of untyped functions are not checked, consider using --check-untyped-defs  [annotation-unchecked]\u001b[m\n"
     ]
    },
    {
     "data": {
      "text/plain": [
       "1"
      ]
     },
     "execution_count": 4,
     "metadata": {},
     "output_type": "execute_result"
    },
    {
     "data": {
      "text/plain": [
       "2"
      ]
     },
     "execution_count": 4,
     "metadata": {},
     "output_type": "execute_result"
    },
    {
     "data": {
      "text/plain": [
       "2.5"
      ]
     },
     "execution_count": 4,
     "metadata": {},
     "output_type": "execute_result"
    },
    {
     "data": {
      "text/plain": [
       "2.5"
      ]
     },
     "execution_count": 4,
     "metadata": {},
     "output_type": "execute_result"
    }
   ],
   "source": [
    "\n",
    "\n",
    "T = TypeVar('T')\n",
    "\n",
    "1\n",
    "# class BasicQueue...something T...:\n",
    "#     def __init__(self):\n",
    "#         \"\"\"1.1\"\"\"\n",
    "\n",
    "#     def enqueue(self, element: T) -> None:\n",
    "#         \"\"\"1.2\"\"\"\n",
    "\n",
    "#     def dequeue(self) -> T:\n",
    "#         \"\"\"1.3\"\"\"\n",
    "\n",
    "# 1.4\n",
    "# basic_fifo = BasicQueue()\n",
    "# basic_fifo.enqueue(1)\n",
    "# basic_fifo.enqueue(2)\n",
    "# basic_fifo.enqueue(3)\n",
    "\n",
    "\n",
    "# assert basic_fifo.dequeue() == 1\n",
    "# assert basic_fifo.dequeue() == 2\n",
    "# assert basic_fifo.dequeue() == 3\n",
    "\n",
    "2\n",
    "# class Queue...something T...:\n",
    "#     def __init__(self, extend_to, any, number):\n",
    "#         \"\"\"2.1\"\"\"\n",
    "\n",
    "#     def enqueue(self, element: T) -> None:\n",
    "#         \"\"\"2.2\"\"\"\n",
    "\n",
    "#     # def dequeue(self) -> T:\n",
    "#     #     \"\"\"2.2\"\"\"\n",
    "\n",
    "#     2.3\n",
    "#     \"\"\"length\"\"\"\n",
    "\n",
    "#     2.4\n",
    "#     \"\"\"for...\"\"\"\n",
    "\n",
    "2.5\n",
    "# fifo = Queue(1, 2, 3)\n",
    "# assert len(fifo) == 3\n",
    "# assert [1,2,3] == [el for el in fifo]\n",
    "# assert len(fifo) == 0\n",
    "\n",
    "# fifo.enqueue(1)\n",
    "# fifo.enqueue(2)\n",
    "# fifo.enqueue(3)\n",
    "\n",
    "# assert fifo.dequeue() == 1\n",
    "# assert fifo.dequeue() == 2\n",
    "# assert fifo.dequeue() == 3\n",
    "\n",
    "# solution\n",
    "\n",
    "\n",
    "class BasicQueue(Generic[T]):\n",
    "    def __init__(self):\n",
    "        self._elements:Deque[T] = deque()\n",
    "\n",
    "    def enqueue(self, element:T) -> None:\n",
    "        self._elements.append(element)\n",
    "\n",
    "    def dequeue(self) -> T:\n",
    "        return self._elements.popleft()\n",
    "\n",
    "basic_fifo: BasicQueue = BasicQueue[int]()\n",
    "basic_fifo.enqueue(1)\n",
    "basic_fifo.enqueue(2)\n",
    "basic_fifo.enqueue(3)\n",
    "\n",
    "assert basic_fifo.dequeue() == 1\n",
    "assert basic_fifo.dequeue() == 2\n",
    "assert basic_fifo.dequeue() == 3\n",
    "\n",
    "class Queue(Generic[T]):\n",
    "    def __init__(self, *elements: T):\n",
    "        self._elements: Deque[T] = deque(elements)\n",
    "\n",
    "    def enqueue(self, element:T) -> None:\n",
    "        self._elements.append(element)\n",
    "\n",
    "    def dequeue(self) -> T:\n",
    "        return self._elements.popleft()\n",
    "\n",
    "    def __len__(self) -> int:\n",
    "        return len(self._elements)\n",
    "\n",
    "    def __iter__(self):\n",
    "        while len(self) > 0:\n",
    "            yield self.dequeue()\n",
    "\n",
    "\n",
    "2.5\n",
    "fifo = Queue[int](1, 2, 3)\n",
    "assert len(fifo) == 3\n",
    "assert [1,2,3] == [el for el in fifo]\n",
    "assert len(fifo) == 0\n",
    "\n",
    "fifo.enqueue(1)\n",
    "fifo.enqueue(2)\n",
    "fifo.enqueue(3)\n",
    "\n",
    "assert fifo.dequeue() == 1\n",
    "assert fifo.dequeue() == 2\n",
    "assert fifo.dequeue() == 3"
   ]
  },
  {
   "cell_type": "markdown",
   "id": "927593fb",
   "metadata": {},
   "source": [
    "### 001.002 Building a Stack Data Type\n",
    "\n",
    "Building a stack data type is considerably more straightforward because you’ve already done the bulk of the hard work. Since most of the implementation will remain the same, you can extend your Queue class using inheritance and override the .dequeue() method to remove elements from the top of the stack\n",
    "\n",
    "(NOTE: this doesn't imply that conceptually Stack extends Queue, it's simply for convenience)\n",
    "\n",
    "1. Create a Stack class\n",
    "    1. It inherits from Queue\n",
    "    1. It overwrites the dequeue method to remove elements from the top\n",
    "    1. uncomment assertions"
   ]
  },
  {
   "cell_type": "code",
   "execution_count": 5,
   "id": "36edf908",
   "metadata": {},
   "outputs": [
    {
     "data": {
      "text/plain": [
       "1"
      ]
     },
     "execution_count": 5,
     "metadata": {},
     "output_type": "execute_result"
    }
   ],
   "source": [
    "1\n",
    "# class Stack(Queue ...something T...):\n",
    "#     def dequeue(self):\n",
    "#         \"\"\"1.1\"\"\"\n",
    "\n",
    "# lifo = Stack(1, 2, 3)\n",
    "# assert len(lifo) == 3\n",
    "# assert [3,2,1] == [el for el in lifo]\n",
    "# assert len(lifo) == 0\n",
    "\n",
    "# solution\n",
    "\n",
    "class Stack(Queue, Generic[T]):\n",
    "\n",
    "    def dequeue(self) -> T:\n",
    "        return self._elements.pop()\n",
    "\n",
    "lifo: Stack = Stack[int](1, 2, 3)\n",
    "assert len(lifo) == 3\n",
    "assert [3,2,1] == [el for el in lifo]\n",
    "assert len(lifo) == 0"
   ]
  },
  {
   "cell_type": "markdown",
   "id": "50d79d0e",
   "metadata": {},
   "source": [
    "### 001.003 Building a Priority Queue\n",
    "\n",
    "Fortunately, you can be smart about keeping the elements sorted in a priority queue by using a heap data structure under the hood. It provides the most efficient implementation\n",
    "\n",
    "Python has the heapq module, which conveniently provides a few functions that can turn a regular list into a heap and manipulate it efficiently.\n",
    "\n",
    "1. Create a PriorityQueue class\n",
    "    1. Initialised with \n",
    "        1. It stores elements in a simple list\n",
    "        1. It uses a standard generator from itertools to keep track of next item\n",
    "        1. ...which needs to be imported\n",
    "    1. enqueue_with_priority leverages Python’s tuple comparison, which takes into account the tuple’s components, looking from left to right until the outcome is known\n",
    "        1. Elements contain the priority first...\n",
    "            1. Don't forget to type annotate element\n",
    "            1. Q Note that heapq is a min-heap, i.e..... How does that change the way priority is encoded? \n",
    "            1. We would like to maintain the chronological ordering of queue items if they have the same priority. That's what the counter is all about\n",
    "            1. Finally the value\n",
    "        1. Then the element is finally pushed into the heap\n",
    "    1. Dequeue only fetches the value from the helement, letting heapq do the work\n",
    "        "
   ]
  },
  {
   "cell_type": "code",
   "execution_count": 6,
   "id": "2ca7891f",
   "metadata": {},
   "outputs": [
    {
     "name": "stderr",
     "output_type": "stream",
     "text": [
      "<cell>40: \u001b[34mnote:\u001b[m By default the bodies of untyped functions are not checked, consider using --check-untyped-defs  [annotation-unchecked]\u001b[m\n"
     ]
    },
    {
     "data": {
      "text/plain": [
       "1"
      ]
     },
     "execution_count": 6,
     "metadata": {},
     "output_type": "execute_result"
    },
    {
     "data": {
      "text/plain": [
       "1"
      ]
     },
     "execution_count": 6,
     "metadata": {},
     "output_type": "execute_result"
    },
    {
     "data": {
      "text/plain": [
       "2"
      ]
     },
     "execution_count": 6,
     "metadata": {},
     "output_type": "execute_result"
    }
   ],
   "source": [
    "class Priority(IntEnum):\n",
    "    CRITICAL = 3\n",
    "    IMPORTANT = 2\n",
    "    NEUTRAL = 1\n",
    "\n",
    "1\n",
    "# class PriorityQueue:\n",
    "#     def __init__(self):\n",
    "#         \"\"\"1.1.1\"\"\"\n",
    "#         \"\"\"1.1.2\"\"\"\n",
    "\n",
    "#     def enqueue_with_priority(self, priority:Priority, value:str) -> None:\n",
    "#         \"\"\"1.2.1\"\"\"\n",
    "#         element = ...\n",
    "#             # 1.2.1.1 Q: Note that heapq is a min-heap, i.e....\n",
    "#             # 1.2.1.2\n",
    "#             # 1.2.1.3\n",
    "#             # 1.2.1.4\n",
    "#         # 1.2.2\n",
    "\n",
    "#     def dequeue(self) -> str:\n",
    "#         \"\"\"1.3\"\"\"\n",
    "\n",
    "# 2\n",
    "# messages = PriorityQueue()\n",
    "# messages.enqueue_with_priority(Priority.IMPORTANT, \"Windshield wipers turned on\")\n",
    "# messages.enqueue_with_priority(Priority.NEUTRAL, \"Radio station tuned in\")\n",
    "# messages.enqueue_with_priority(Priority.CRITICAL, \"Brake pedal depressed\")\n",
    "# messages.enqueue_with_priority(Priority.IMPORTANT, \"Hazard lights turned on\")\n",
    "\n",
    "# assert messages.dequeue() == 'Brake pedal depressed'\n",
    "\n",
    "# solution\n",
    "#1.1.3\n",
    "from itertools import count\n",
    "\n",
    "1\n",
    "class PriorityQueue():\n",
    "    def __init__(self):\n",
    "        self._elements: list[tuple[int, int, str]] = []\n",
    "        self._counter = count()\n",
    "\n",
    "    def enqueue_with_priority(self, priority:Priority, value:str) -> None:\n",
    "        # 1.2.1.1 A: the very first element in always the smallest, so not what we want\n",
    "        element: tuple[int, int, str] = (\n",
    "            # 1.2.1.2 that's why priority is -ve\n",
    "            -priority,\n",
    "            # 1.2.2.3\n",
    "            next(self._counter),\n",
    "            # 1.2.2.4\n",
    "            value)\n",
    "        # 1.2.2\n",
    "        heappush(self._elements, element)\n",
    "\n",
    "    def dequeue(self) -> str:\n",
    "        return heappop(self._elements)[-1]\n",
    "\n",
    "2\n",
    "messages = PriorityQueue()\n",
    "messages.enqueue_with_priority(Priority.IMPORTANT, \"Windshield wipers turned on\")\n",
    "messages.enqueue_with_priority(Priority.NEUTRAL, \"Radio station tuned in\")\n",
    "messages.enqueue_with_priority(Priority.CRITICAL, \"Brake pedal depressed\")\n",
    "messages.enqueue_with_priority(Priority.IMPORTANT, \"Hazard lights turned on\")\n",
    "\n",
    "assert messages.dequeue() == 'Brake pedal depressed'\n",
    "\n",
    "\n"
   ]
  },
  {
   "cell_type": "markdown",
   "id": "d6588dde",
   "metadata": {},
   "source": [
    "### 001.004 Refactoring with mixins\n",
    "\n",
    "`len` and `__iter__` are common to all 3 classes so far, and can be espressed as mixins. Assume `_elements` is common to all\n",
    "\n",
    "1. Extract `__len__` and `__iter__` from earlier Queue class\n",
    "1. Extend all classes created so far (Queue, Stack, PriorityQueue) with it\n",
    "\n"
   ]
  },
  {
   "cell_type": "code",
   "execution_count": 7,
   "id": "8da0a87c",
   "metadata": {},
   "outputs": [
    {
     "name": "stderr",
     "output_type": "stream",
     "text": [
      "<cell>55: \u001b[34mnote:\u001b[m By default the bodies of untyped functions are not checked, consider using --check-untyped-defs  [annotation-unchecked]\u001b[m\n"
     ]
    },
    {
     "data": {
      "text/plain": [
       "1"
      ]
     },
     "execution_count": 7,
     "metadata": {},
     "output_type": "execute_result"
    }
   ],
   "source": [
    "1\n",
    "class IterableMixin:\n",
    "    def __len__(self) -> int:\n",
    "        return len(self._elements) # type: ignore\n",
    "\n",
    "    def __iter__(self):\n",
    "        while len(self) > 0:\n",
    "            yield self.dequeue()\n",
    "\n",
    "# class Queue(IterableMixin):\n",
    "#     ...\n",
    "\n",
    "# class Stack(Queue):\n",
    "#     ...\n",
    "\n",
    "# class PriorityQueue(IterableMixin):\n",
    "#     ...\n",
    "\n",
    "# fifo = Queue(1, 2, 3)\n",
    "# assert len(fifo) == 3\n",
    "# assert [1,2,3] == [el for el in fifo]\n",
    "# assert len(fifo) == 0\n",
    "\n",
    "# lifo = Stack(1, 2, 3)\n",
    "# assert len(lifo) == 3\n",
    "# assert [3,2,1] == [el for el in lifo]\n",
    "# assert len(fifo) == 0\n",
    "\n",
    "# messages = PriorityQueue()\n",
    "# messages.enqueue_with_priority(Priority.IMPORTANT, \"Windshield wipers turned on\")\n",
    "# messages.enqueue_with_priority(Priority.NEUTRAL, \"Radio station tuned in\")\n",
    "# messages.enqueue_with_priority(Priority.CRITICAL, \"Brake pedal depressed\")\n",
    "# messages.enqueue_with_priority(Priority.IMPORTANT, \"Hazard lights turned on\")\n",
    "\n",
    "# assert messages.dequeue() == 'Brake pedal depressed'\n",
    "\n",
    "# solution\n",
    "\n",
    "class Queue(IterableMixin, Generic[T]):\n",
    "    def __init__(self, *elements: T):\n",
    "        self._elements = deque(elements)\n",
    "\n",
    "    def enqueue(self, element:T):\n",
    "        self._elements.append(element)\n",
    "\n",
    "    def dequeue(self) -> T:\n",
    "        return self._elements.popleft()\n",
    "\n",
    "class Stack(Queue, Generic[T]):\n",
    "    def dequeue(self) -> T:\n",
    "        return self._elements.pop()\n",
    "\n",
    "class PriorityQueue(IterableMixin):\n",
    "    def __init__(self):\n",
    "        self._elements: list[tuple[int, int, str]] = []\n",
    "        self._counter = count()\n",
    "\n",
    "    def enqueue_with_priority(self, priority:Priority, value:str) -> None:\n",
    "        # 1.2.1.1 A: the very first element in always the smallest, so not what we want\n",
    "        element: tuple[int, int, str] = (\n",
    "            # 1.2.1.2 that's why priority is -ve\n",
    "            -priority,\n",
    "            # 1.2.2.3\n",
    "            next(self._counter),\n",
    "            # 1.2.2.4\n",
    "            value)\n",
    "        # 1.2.2\n",
    "        heappush(self._elements, element)\n",
    "\n",
    "    def dequeue(self) -> str:\n",
    "        return heappop(self._elements)[-1]\n",
    "\n",
    "\n",
    "\n",
    "fifo = Queue[int](1, 2, 3)\n",
    "assert len(fifo) == 3\n",
    "assert [1,2,3] == [el for el in fifo]\n",
    "assert len(fifo) == 0\n",
    "\n",
    "lifo = Stack[int](1, 2, 3)\n",
    "assert len(lifo) == 3\n",
    "assert [3,2,1] == [el for el in lifo]\n",
    "assert len(fifo) == 0\n",
    "\n",
    "messages = PriorityQueue()\n",
    "messages.enqueue_with_priority(Priority.IMPORTANT, \"Windshield wipers turned on\")\n",
    "messages.enqueue_with_priority(Priority.NEUTRAL, \"Radio station tuned in\")\n",
    "messages.enqueue_with_priority(Priority.CRITICAL, \"Brake pedal depressed\")\n",
    "messages.enqueue_with_priority(Priority.IMPORTANT, \"Hazard lights turned on\")\n",
    "\n",
    "assert messages.dequeue() == 'Brake pedal depressed'\n",
    "\n",
    "\n"
   ]
  },
  {
   "cell_type": "markdown",
   "id": "068754f6",
   "metadata": {},
   "source": [
    "### 001.005 Exploring networkx, graphviz and DOT\n",
    "\n",
    "The DOT graph description language defines a file format that is most often used in the context of graph visualization with Graphviz. NetworkX provides an interface to Graphviz via pygraphviz, implemented in nx_agraph. If pygraphviz is installed, nx_agraph can be used to read and write files in DOT format.\n",
    "\n",
    "\n",
    "1. Read `roadmap_file` into var `graph` as a networkx data structure, using the `pygraphviz` extension\n",
    "    1. networkx graph nodes are textual identifiers that can optionally have an associated dictionary of attributes. Print the one for \"london\" to see what it looks like\n",
    "2. Instead of a dict we want a data structure which is hashable but less[\"awkward\"] to work with. Create a class City\n",
    "    1. the `from_dict` method takes the dict from 1.1 and returns a City instance\n",
    "    1. note that year could be not found\n",
    "    1. make sure you cast all non-string types\n",
    "3. Create a couple of helpers function\n",
    "    1. `as_cities_map` should cycle through `graph.nodes` (from 1.) and create a similar dict but with City (from 2.) as value\n",
    "        1. TIP: you need to pass `data=True` when iterating though nodes, so that you get a dict\n",
    "    1. create `cities_map` with it\n",
    "    1. `as_cities_graph` should create a `nx.Graph` by cycling through `graph.edges` (from 1.) and for each edge passing the tuple `name1, name2, weights` as arg to it\n",
    "        1. and replacing `nameX` with a City from 3.2\n",
    "        1. TIP: you need to pass `data=True` when iterating though nodes, so that you get a dict\n",
    "    1. create a var `cities_graph` with it\n",
    "4. Explore by creating a couple of helpers and using them to get a list of neighbours ordered by distance\n",
    "    1. cities_graph[cities_map[\"london\"]] returns a dictionary, where the key is a `City()` instance, and the value a dictionary in form `{'distance': '53', 'label': '53'})`. They are ordered by insertion order\n",
    "    1. Create a function `sort_by` which takes each item in the dictionary and sorts it by passing the value to a callable (passed as one of the argument)\n",
    "    1. Create another function, `by_distance`, which is the callable we shall call this time\n",
    "        1. Cast the return value to be sure\n",
    "    1. Should give a list of neightbours arranaged by distance\n",
    "\n"
   ]
  },
  {
   "cell_type": "code",
   "execution_count": 8,
   "id": "81e72e94",
   "metadata": {},
   "outputs": [
    {
     "data": {
      "text/plain": [
       "3.1"
      ]
     },
     "execution_count": 8,
     "metadata": {},
     "output_type": "execute_result"
    },
    {
     "data": {
      "text/plain": [
       "3.3"
      ]
     },
     "execution_count": 8,
     "metadata": {},
     "output_type": "execute_result"
    },
    {
     "data": {
      "text/plain": [
       "4.2"
      ]
     },
     "execution_count": 8,
     "metadata": {},
     "output_type": "execute_result"
    },
    {
     "data": {
      "text/plain": [
       "4.3"
      ]
     },
     "execution_count": 8,
     "metadata": {},
     "output_type": "execute_result"
    },
    {
     "data": {
      "text/plain": [
       "4.4"
      ]
     },
     "execution_count": 8,
     "metadata": {},
     "output_type": "execute_result"
    },
    {
     "data": {
      "text/plain": [
       "1"
      ]
     },
     "execution_count": 8,
     "metadata": {},
     "output_type": "execute_result"
    },
    {
     "data": {
      "text/plain": [
       "{'country': 'England',\n",
       " 'latitude': '51.507222',\n",
       " 'longitude': '-0.1275',\n",
       " 'pos': '80,21!',\n",
       " 'xlabel': 'City of London',\n",
       " 'year': '0'}"
      ]
     },
     "execution_count": 8,
     "metadata": {},
     "output_type": "execute_result"
    },
    {
     "data": {
      "text/plain": [
       "2"
      ]
     },
     "execution_count": 8,
     "metadata": {},
     "output_type": "execute_result"
    },
    {
     "data": {
      "text/plain": [
       "3.1"
      ]
     },
     "execution_count": 8,
     "metadata": {},
     "output_type": "execute_result"
    },
    {
     "data": {
      "text/plain": [
       "3.3"
      ]
     },
     "execution_count": 8,
     "metadata": {},
     "output_type": "execute_result"
    },
    {
     "data": {
      "text/plain": [
       "4.2"
      ]
     },
     "execution_count": 8,
     "metadata": {},
     "output_type": "execute_result"
    },
    {
     "data": {
      "text/plain": [
       "4.3"
      ]
     },
     "execution_count": 8,
     "metadata": {},
     "output_type": "execute_result"
    },
    {
     "data": {
      "text/plain": [
       "4.4"
      ]
     },
     "execution_count": 8,
     "metadata": {},
     "output_type": "execute_result"
    },
    {
     "data": {
      "text/plain": [
       "('1', 'Westminster')"
      ]
     },
     "execution_count": 8,
     "metadata": {},
     "output_type": "execute_result"
    },
    {
     "data": {
      "text/plain": [
       "('25', 'St Albans')"
      ]
     },
     "execution_count": 8,
     "metadata": {},
     "output_type": "execute_result"
    },
    {
     "data": {
      "text/plain": [
       "('40', 'Chelmsford')"
      ]
     },
     "execution_count": 8,
     "metadata": {},
     "output_type": "execute_result"
    },
    {
     "data": {
      "text/plain": [
       "('42', 'Southend-on-Sea')"
      ]
     },
     "execution_count": 8,
     "metadata": {},
     "output_type": "execute_result"
    },
    {
     "data": {
      "text/plain": [
       "('53', 'Brighton & Hove')"
      ]
     },
     "execution_count": 8,
     "metadata": {},
     "output_type": "execute_result"
    },
    {
     "data": {
      "text/plain": [
       "('58', 'Oxford')"
      ]
     },
     "execution_count": 8,
     "metadata": {},
     "output_type": "execute_result"
    },
    {
     "data": {
      "text/plain": [
       "('61', 'Cambridge')"
      ]
     },
     "execution_count": 8,
     "metadata": {},
     "output_type": "execute_result"
    },
    {
     "data": {
      "text/plain": [
       "('62', 'Canterbury')"
      ]
     },
     "execution_count": 8,
     "metadata": {},
     "output_type": "execute_result"
    },
    {
     "data": {
      "text/plain": [
       "('68', 'Winchester')"
      ]
     },
     "execution_count": 8,
     "metadata": {},
     "output_type": "execute_result"
    },
    {
     "data": {
      "text/plain": [
       "('75', 'Portsmouth')"
      ]
     },
     "execution_count": 8,
     "metadata": {},
     "output_type": "execute_result"
    },
    {
     "data": {
      "text/plain": [
       "('79', 'Southampton')"
      ]
     },
     "execution_count": 8,
     "metadata": {},
     "output_type": "execute_result"
    },
    {
     "data": {
      "text/plain": [
       "('85', 'Peterborough')"
      ]
     },
     "execution_count": 8,
     "metadata": {},
     "output_type": "execute_result"
    },
    {
     "data": {
      "text/plain": [
       "('100', 'Coventry')"
      ]
     },
     "execution_count": 8,
     "metadata": {},
     "output_type": "execute_result"
    },
    {
     "data": {
      "text/plain": [
       "('115', 'Bath')"
      ]
     },
     "execution_count": 8,
     "metadata": {},
     "output_type": "execute_result"
    },
    {
     "data": {
      "text/plain": [
       "('118', 'Bristol')"
      ]
     },
     "execution_count": 8,
     "metadata": {},
     "output_type": "execute_result"
    }
   ],
   "source": [
    "\n",
    "\n",
    "# class City(NamedTuple):\n",
    "#     name: str\n",
    "#     country: str\n",
    "#     year: int | None\n",
    "#     latitude: float\n",
    "#     longitude: float\n",
    "\n",
    "#     @classmethod\n",
    "#     def from_dict(cls, attrs:dict[str, Any]) -> \"City\":\n",
    "#         2\n",
    "\n",
    "3.1\n",
    "# def as_cities_map(\n",
    "#         agraph: nx.Graph,\n",
    "#         node_factory: Callable[[dict[str, Any]], Any]\n",
    "#     ) -> dict[str, Any]:\n",
    "#     ...\n",
    "\n",
    "3.3\n",
    "# def as_cities_graph(cities_map:dict[str, City], agraph: nx.Graph) -> nx.Graph:\n",
    "#     ...\n",
    "4.2\n",
    "# def sort_by(neighbors: dict[str, City], strategy: Callable[[dict[str, Any]], Any]):\n",
    "#     return sorted(..., key=lambda item: ...)\n",
    "\n",
    "4.3\n",
    "# def by_distance(weights: dict[str, Any]):\n",
    "#     ...\n",
    "4.4\n",
    "# for neighbor, weights in sort_by(cities_graph[cities_map[\"london\"]], by_distance):\n",
    "#     weights[\"distance\"], neighbor.name\n",
    "\n",
    "# solution\n",
    "\n",
    "1\n",
    "graph = nx.nx_agraph.read_dot(roadmap_file)\n",
    "graph.nodes[\"london\"]\n",
    "\n",
    "2\n",
    "class City(NamedTuple):\n",
    "    name: str\n",
    "    country: str\n",
    "    year: int | None\n",
    "    latitude: float\n",
    "    longitude: float\n",
    "\n",
    "    @classmethod\n",
    "    def from_dict(cls, attrs:dict[str, Any]) -> \"City\":\n",
    "        return cls(\n",
    "            name=attrs[\"xlabel\"],\n",
    "            country=attrs[\"country\"],\n",
    "            year=int(attrs[\"year\"]) or None,\n",
    "            latitude=float(attrs[\"latitude\"]),\n",
    "            longitude=float(attrs[\"longitude\"]),\n",
    "        )\n",
    "\n",
    "3.1\n",
    "def as_cities_map(\n",
    "        agraph: nx.Graph,\n",
    "        node_factory: Callable[[dict[str, Any]], Any]\n",
    "    ) -> dict[str, Any]:\n",
    "    return {\n",
    "        name: node_factory(attributes)\n",
    "        for name, attributes in agraph.nodes(data=True)\n",
    "    }\n",
    "cities_map = as_cities_map(graph, City.from_dict)\n",
    "\n",
    "3.3\n",
    "def as_cities_graph(cities_map:dict[str, City], agraph: nx.Graph) -> nx.Graph:\n",
    "    return nx.Graph(\n",
    "        (cities_map[name1], cities_map[name2], weights)\n",
    "        for name1, name2, weights in agraph.edges(data=True)\n",
    "    )\n",
    "cities_graph = as_cities_graph(cities_map, graph)\n",
    "\n",
    "4.2\n",
    "def sort_by(neighbors: dict[str, City], strategy: Callable[[dict[str, Any]], Any]):\n",
    "    return sorted(neighbors.items(), key=lambda item: strategy(item[1]))\n",
    "\n",
    "4.3\n",
    "def by_distance(weights: dict[str, Any]):\n",
    "    return float(weights[\"distance\"])\n",
    "\n",
    "4.4\n",
    "for neighbor, weights in sort_by(cities_graph[cities_map[\"london\"]], by_distance):\n",
    "    weights[\"distance\"], neighbor.name"
   ]
  }
 ],
 "metadata": {
  "kernelspec": {
   "display_name": ".venv",
   "language": "python",
   "name": "python3"
  },
  "language_info": {
   "codemirror_mode": {
    "name": "ipython",
    "version": 3
   },
   "file_extension": ".py",
   "mimetype": "text/x-python",
   "name": "python",
   "nbconvert_exporter": "python",
   "pygments_lexer": "ipython3",
   "version": "3.11.7"
  },
  "vscode": {
   "interpreter": {
    "hash": "7daeb9a356073df578df6d7584369b7908e732a3e4cb2289ee7d810fc6635fc0"
   }
  }
 },
 "nbformat": 4,
 "nbformat_minor": 5
}
