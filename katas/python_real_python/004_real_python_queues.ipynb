{
 "cells": [
  {
   "attachments": {},
   "cell_type": "markdown",
   "id": "99786a37",
   "metadata": {},
   "source": [
    "# QUEUES\n",
    "\n",
    "Queues are the backbone of numerous algorithms found in games, artificial intelligence, satellite navigation, and task scheduling. They’re among the top abstract data types that computer science students learn early in their education. At the same time, software engineers often leverage higher-level message queues to achieve better scalability of a microservice architecture. Plus, using queues in Python is simply fun!\n",
    "\n",
    "Python provides a few built-in flavors of queues that you’ll see in action in this tutorial. You’re also going to get a quick primer on the theory of queues and their types. Finally, you’ll take a look at some external libraries for connecting to popular message brokers available on major cloud platform providers.\n",
    "\n",
    "In this tutorial, you’ll learn how to:\n",
    "\n",
    "    Differentiate between various types of queues\n",
    "    Implement the queue data type in Python\n",
    "    Solve practical problems by applying the right queue\n",
    "    Use Python’s thread-safe, asynchronous, and interprocess queues\n",
    "    Integrate Python with distributed message queue brokers through libraries\n"
   ]
  },
  {
   "attachments": {},
   "cell_type": "markdown",
   "id": "89ce8c2b",
   "metadata": {},
   "source": [
    "## 004. THIS IS ABOUT..."
   ]
  },
  {
   "cell_type": "markdown",
   "id": "dcb605f4",
   "metadata": {},
   "source": [
    "https://realpython.com/queue-in-python/"
   ]
  },
  {
   "cell_type": "code",
   "execution_count": 17,
   "id": "02ca7850",
   "metadata": {
    "execution": {
     "iopub.execute_input": "2023-12-25T00:52:31.366624Z",
     "iopub.status.busy": "2023-12-25T00:52:31.366102Z",
     "iopub.status.idle": "2023-12-25T00:52:31.381708Z",
     "shell.execute_reply": "2023-12-25T00:52:31.380984Z"
    }
   },
   "outputs": [],
   "source": [
    "from IPython.core.interactiveshell import InteractiveShell\n",
    "\n",
    "InteractiveShell.ast_node_interactivity = \"all\""
   ]
  },
  {
   "cell_type": "code",
   "execution_count": 18,
   "id": "529d7b47",
   "metadata": {
    "execution": {
     "iopub.execute_input": "2023-12-25T00:52:31.385291Z",
     "iopub.status.busy": "2023-12-25T00:52:31.385000Z",
     "iopub.status.idle": "2023-12-25T00:52:31.389345Z",
     "shell.execute_reply": "2023-12-25T00:52:31.388606Z"
    }
   },
   "outputs": [],
   "source": [
    "from collections import deque\n",
    "from heapq import heappop, heappush\n"
   ]
  },
  {
   "attachments": {},
   "cell_type": "markdown",
   "id": "5b212460",
   "metadata": {},
   "source": [
    "### 001.001 Building a Queue Data Type\n",
    "\n",
    "Because you want your custom FIFO queue to support at least the enqueue and dequeue operations, go ahead and write a bare-bones Queue class that’ll delegate those two operations to `deque``\n",
    "\n",
    "\n",
    "1. Create a BasicQueue FIFO queue class which\n",
    "    1. starts with an empty queue\n",
    "    1. has an `enqueue` method to add items to the queue\n",
    "    1. has a `deque` method which gets it off it\n",
    "    1. uncomment the assertions to prove they work\n",
    "1. Create a slightly more complex Queue class which\n",
    "    1. can take a list of elements\n",
    "    1. enqueue and dequeue as before\n",
    "    1. allows `len(an_instance)` to return the length\n",
    "    1. allows `for i in an_instance...` to iterate through items\n",
    "    1. uncomment the assertions to prove they work\n"
   ]
  },
  {
   "cell_type": "code",
   "execution_count": 22,
   "id": "c741ca30",
   "metadata": {
    "execution": {
     "iopub.execute_input": "2023-12-25T00:52:31.392774Z",
     "iopub.status.busy": "2023-12-25T00:52:31.392357Z",
     "iopub.status.idle": "2023-12-25T00:52:31.404289Z",
     "shell.execute_reply": "2023-12-25T00:52:31.403833Z"
    }
   },
   "outputs": [
    {
     "data": {
      "text/plain": [
       "1"
      ]
     },
     "execution_count": 22,
     "metadata": {},
     "output_type": "execute_result"
    },
    {
     "data": {
      "text/plain": [
       "1.4"
      ]
     },
     "execution_count": 22,
     "metadata": {},
     "output_type": "execute_result"
    },
    {
     "data": {
      "text/plain": [
       "2"
      ]
     },
     "execution_count": 22,
     "metadata": {},
     "output_type": "execute_result"
    },
    {
     "data": {
      "text/plain": [
       "2.5"
      ]
     },
     "execution_count": 22,
     "metadata": {},
     "output_type": "execute_result"
    }
   ],
   "source": [
    "1\n",
    "class BasicQueue:\n",
    "    def __init__(self):\n",
    "        self._elements = deque()\n",
    "\n",
    "    def enqueue(self, element):\n",
    "        self._elements.append(element)\n",
    "\n",
    "    def dequeue(self):\n",
    "        return self._elements.popleft()\n",
    "\n",
    "1.4\n",
    "fifo = BasicQueue()\n",
    "fifo.enqueue(1)\n",
    "fifo.enqueue(2)\n",
    "fifo.enqueue(3)\n",
    "\n",
    "assert fifo.dequeue() == 1\n",
    "assert fifo.dequeue() == 2\n",
    "assert fifo.dequeue() == 3\n",
    "\n",
    "2\n",
    "class Queue:\n",
    "    def __init__(self, *elements):\n",
    "        self._elements = deque(elements)\n",
    "\n",
    "    def enqueue(self, element):\n",
    "        self._elements.append(element)\n",
    "\n",
    "    def dequeue(self):\n",
    "        return self._elements.popleft()\n",
    "\n",
    "    def __len__(self):\n",
    "        return len(self._elements)\n",
    "\n",
    "\n",
    "    def __iter__(self):\n",
    "        while len(self._elements):\n",
    "            yield self.dequeue()\n",
    "\n",
    "2.5\n",
    "fifo = Queue(1, 2, 3)\n",
    "assert len(fifo) == 3\n",
    "assert [1,2,3] == [el for el in fifo]\n",
    "assert len(fifo) == 0\n",
    "\n",
    "fifo.enqueue(1)\n",
    "fifo.enqueue(2)\n",
    "fifo.enqueue(3)\n",
    "assert fifo.dequeue() == 1\n",
    "assert fifo.dequeue() == 2\n",
    "assert fifo.dequeue() == 3\n",
    "\n",
    "# solution\n"
   ]
  },
  {
   "cell_type": "markdown",
   "id": "927593fb",
   "metadata": {},
   "source": [
    "### 001.002 Building a Stack Data Type\n",
    "\n",
    "Building a stack data type is considerably more straightforward because you’ve already done the bulk of the hard work. Since most of the implementation will remain the same, you can extend your Queue class using inheritance and override the .dequeue() method to remove elements from the top of the stack\n",
    "\n",
    "(NOTE: this doesn't imply that conceptually Stack extends Queue, it's simply for convenience)\n",
    "\n",
    "1. Create a Stack class\n",
    "    1. It inherits from Queue\n",
    "    1. It overwrites the dequeue method to remove elements from the top\n",
    "    1. uncomment assertions"
   ]
  },
  {
   "cell_type": "code",
   "execution_count": 27,
   "id": "36edf908",
   "metadata": {
    "execution": {
     "iopub.execute_input": "2023-12-25T00:52:31.406666Z",
     "iopub.status.busy": "2023-12-25T00:52:31.406518Z",
     "iopub.status.idle": "2023-12-25T00:52:31.410281Z",
     "shell.execute_reply": "2023-12-25T00:52:31.409799Z"
    }
   },
   "outputs": [
    {
     "data": {
      "text/plain": [
       "1"
      ]
     },
     "execution_count": 27,
     "metadata": {},
     "output_type": "execute_result"
    }
   ],
   "source": [
    "1\n",
    "class Stack(Queue):\n",
    "    def dequeue(self):\n",
    "        return self._elements.pop()\n",
    "\n",
    "lifo = Stack(1, 2, 3)\n",
    "assert len(lifo) == 3\n",
    "assert [3,2,1] == [el for el in lifo]\n",
    "assert len(lifo) == 0\n",
    "\n",
    "# solution\n"
   ]
  },
  {
   "cell_type": "markdown",
   "id": "50d79d0e",
   "metadata": {},
   "source": [
    "### 001.003 Building a Priority Queue\n",
    "\n",
    "Fortunately, you can be smart about keeping the elements sorted in a priority queue by using a heap data structure under the hood. It provides the most efficient implementation\n",
    "\n",
    "Python has the heapq module, which conveniently provides a few functions that can turn a regular list into a heap and manipulate it efficiently.\n",
    "\n",
    "1. Create a PriorityQueue class\n",
    "    1. Initialised with \n",
    "        1. It stores elements in a simple list\n",
    "        1. It uses a standard generator from itertools to keep track of next item\n",
    "        1. ...which needs to be imported\n",
    "    1. enqueue_with_priority leverages Python’s tuple comparison, which takes into account the tuple’s components, looking from left to right until the outcome is known\n",
    "        1. Elements contain the priority first...\n",
    "            1. Q Note that heapq is a min-heap, i.e....\n",
    "            1. How does that change the way priority is encoded?\n",
    "            1. We would like to maintain the chronological ordering of queue items if they have the same priority. That's what the counter is all about\n",
    "            1. Finally the value\n",
    "        1. Then the element is finally pushed into the heap\n",
    "    1. Dequeue only fetches the value from the helement, letting heapq do the work\n",
    "        "
   ]
  },
  {
   "cell_type": "code",
   "execution_count": 28,
   "id": "2ca7891f",
   "metadata": {
    "execution": {
     "iopub.execute_input": "2023-12-25T00:52:31.412664Z",
     "iopub.status.busy": "2023-12-25T00:52:31.412485Z",
     "iopub.status.idle": "2023-12-25T00:52:31.417782Z",
     "shell.execute_reply": "2023-12-25T00:52:31.417347Z"
    }
   },
   "outputs": [
    {
     "data": {
      "text/plain": [
       "1"
      ]
     },
     "execution_count": 28,
     "metadata": {},
     "output_type": "execute_result"
    }
   ],
   "source": [
    "from itertools import count\n",
    "\n",
    "CRITICAL = 3\n",
    "IMPORTANT = 2\n",
    "NEUTRAL = 1\n",
    "\n",
    "\n",
    "1\n",
    "class PriorityQueue:\n",
    "    def __init__(self):\n",
    "        self._elements = []\n",
    "        self._count = count()\n",
    "\n",
    "    def enqueue_with_priority(self, priority, value):\n",
    "        \"\"\"1.2.1\"\"\"\n",
    "        element = (-priority, next(self._count), value)\n",
    "        heappush(self._elements, element)\n",
    "\n",
    "    def dequeue(self):\n",
    "        return heappop(self._elements)\n",
    "\n",
    "# 2\n",
    "messages = PriorityQueue()\n",
    "messages.enqueue_with_priority(IMPORTANT, \"Windshield wipers turned on\")\n",
    "messages.enqueue_with_priority(NEUTRAL, \"Radio station tuned in\")\n",
    "messages.enqueue_with_priority(CRITICAL, \"Brake pedal depressed\")\n",
    "messages.enqueue_with_priority(IMPORTANT, \"Hazard lights turned on\")\n",
    "\n",
    "# assert messages.dequeue() == 'Brake pedal depressed'\n",
    "\n",
    "# solution\n"
   ]
  },
  {
   "cell_type": "markdown",
   "id": "d6588dde",
   "metadata": {},
   "source": [
    "### 001.004 Refactoring with mixins\n",
    "\n",
    "`len` and `__iter__` are common to all 3 classes so far, and can be espresses as mixins. Assume `_elements` is common to all\n",
    "\n",
    "1. Extract `__len__` and `__iter__` from earlier Queue class\n",
    "1. Extend all classes created so far (Queue, Stack, PriorityQueue) with it\n",
    "\n"
   ]
  },
  {
   "cell_type": "code",
   "execution_count": 32,
   "id": "8da0a87c",
   "metadata": {
    "execution": {
     "iopub.execute_input": "2023-12-25T00:52:31.420291Z",
     "iopub.status.busy": "2023-12-25T00:52:31.420102Z",
     "iopub.status.idle": "2023-12-25T00:52:31.424639Z",
     "shell.execute_reply": "2023-12-25T00:52:31.424262Z"
    }
   },
   "outputs": [
    {
     "data": {
      "text/plain": [
       "1"
      ]
     },
     "execution_count": 32,
     "metadata": {},
     "output_type": "execute_result"
    }
   ],
   "source": [
    "1\n",
    "class IterableMixin:\n",
    "    def __len__(self):\n",
    "        return len(self._elements)\n",
    "\n",
    "    def __iter__(self):\n",
    "        while len(self) > 0:\n",
    "            yield self.dequeue()\n",
    "\n",
    "class Queue(IterableMixin):\n",
    "    def __init__(self, *elements):\n",
    "        self._elements = deque(elements)\n",
    "\n",
    "    def enqueue(self, element):\n",
    "        self._elements.append(element)\n",
    "\n",
    "    def dequeue(self):\n",
    "        return self._elements.popleft()\n",
    "\n",
    "class Stack(Queue):\n",
    "    def dequeue(self):\n",
    "        return self._elements.pop()\n",
    "\n",
    "class PriorityQueue(IterableMixin):\n",
    "    def __init__(self):\n",
    "        self._elements = []\n",
    "        self._count = count()\n",
    "\n",
    "    def enqueue_with_priority(self, priority, value):\n",
    "        \"\"\"1.2.1\"\"\"\n",
    "        element = (-priority, next(self._count), value)\n",
    "        heappush(self._elements, element)\n",
    "\n",
    "    def dequeue(self):\n",
    "        return heappop(self._elements)[-1]\n",
    "\n",
    "fifo = Queue(1, 2, 3)\n",
    "assert len(fifo) == 3\n",
    "assert [1,2,3] == [el for el in fifo]\n",
    "assert len(fifo) == 0\n",
    "\n",
    "lifo = Stack(1, 2, 3)\n",
    "assert len(lifo) == 3\n",
    "assert [3,2,1] == [el for el in lifo]\n",
    "assert len(fifo) == 0\n",
    "\n",
    "messages = PriorityQueue()\n",
    "messages.enqueue_with_priority(IMPORTANT, \"Windshield wipers turned on\")\n",
    "messages.enqueue_with_priority(NEUTRAL, \"Radio station tuned in\")\n",
    "messages.enqueue_with_priority(CRITICAL, \"Brake pedal depressed\")\n",
    "messages.enqueue_with_priority(IMPORTANT, \"Hazard lights turned on\")\n",
    "\n",
    "assert messages.dequeue() == 'Brake pedal depressed'\n",
    "\n",
    "# solution\n"
   ]
  }
 ],
 "metadata": {
  "kernelspec": {
   "display_name": ".venv",
   "language": "python",
   "name": "python3"
  },
  "language_info": {
   "codemirror_mode": {
    "name": "ipython",
    "version": 3
   },
   "file_extension": ".py",
   "mimetype": "text/x-python",
   "name": "python",
   "nbconvert_exporter": "python",
   "pygments_lexer": "ipython3",
   "version": "3.10.6"
  },
  "vscode": {
   "interpreter": {
    "hash": "7daeb9a356073df578df6d7584369b7908e732a3e4cb2289ee7d810fc6635fc0"
   }
  }
 },
 "nbformat": 4,
 "nbformat_minor": 5
}
