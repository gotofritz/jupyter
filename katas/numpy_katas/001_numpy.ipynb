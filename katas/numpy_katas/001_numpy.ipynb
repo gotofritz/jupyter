{
 "cells": [
  {
   "attachments": {},
   "cell_type": "markdown",
   "id": "99786a37",
   "metadata": {},
   "source": [
    "# NUMPY\n",
    "\n",
    "NumPy is the fundamental package for scientific computing in Python. It is a Python library that provides a multidimensional array object, various derived objects (such as masked arrays and matrices), and an assortment of routines for fast operations on arrays, including mathematical, logical, shape manipulation, sorting, selecting, I/O, discrete Fourier transforms, basic linear algebra, basic statistical operations, random simulation and much more.\n",
    "\n",
    "<https://numpy.org/doc/>"
   ]
  },
  {
   "attachments": {},
   "cell_type": "markdown",
   "id": "89ce8c2b",
   "metadata": {},
   "source": [
    "## 001. Creating Arrays"
   ]
  },
  {
   "cell_type": "code",
   "execution_count": 1,
   "id": "4228fec7",
   "metadata": {
    "execution": {
     "iopub.execute_input": "2023-04-16T14:45:18.037097Z",
     "iopub.status.busy": "2023-04-16T14:45:18.036385Z",
     "iopub.status.idle": "2023-04-16T14:45:18.056285Z",
     "shell.execute_reply": "2023-04-16T14:45:18.055501Z"
    }
   },
   "outputs": [],
   "source": [
    "import sys\n",
    "from pathlib import Path\n",
    "\n",
    "current_dir = Path().resolve()\n",
    "while current_dir != current_dir.parent and current_dir.name != \"katas\":\n",
    "    current_dir = current_dir.parent\n",
    "if current_dir != current_dir.parent:\n",
    "    sys.path.append(current_dir.as_posix())"
   ]
  },
  {
   "cell_type": "code",
   "execution_count": 2,
   "id": "02ca7850",
   "metadata": {
    "execution": {
     "iopub.execute_input": "2023-04-16T14:45:18.060398Z",
     "iopub.status.busy": "2023-04-16T14:45:18.060081Z",
     "iopub.status.idle": "2023-04-16T14:45:18.502171Z",
     "shell.execute_reply": "2023-04-16T14:45:18.501757Z"
    }
   },
   "outputs": [],
   "source": [
    "import math \n",
    "import numpy as np\n",
    "import matplotlib.pyplot as plt\n",
    "import seaborn as sns\n",
    "from IPython.core.interactiveshell import InteractiveShell\n",
    "InteractiveShell.ast_node_interactivity = \"all\"\n",
    "\n",
    "sns.set_theme()\n",
    "%matplotlib inline"
   ]
  },
  {
   "attachments": {},
   "cell_type": "markdown",
   "id": "5b212460",
   "metadata": {},
   "source": [
    "### 001.001 Converting Python sequences to NumPy Arrays\n",
    "\n",
    "1. Create an ndarray with digits, and print it\n",
    "1. Create it but turn the members into floats. Print it\n",
    "1. Create a 2D array, with digits in both dimensions\n",
    "1. Print the number of axis / dimensions\n",
    "1. Print the number of items in the first and second axis \n",
    "1. Print the total number of items in the array\n",
    "1. Prove that if you create an array with a int8, it will silently overflow when the imput is out of range\n"
   ]
  },
  {
   "cell_type": "code",
   "execution_count": 3,
   "id": "c741ca30",
   "metadata": {
    "execution": {
     "iopub.execute_input": "2023-04-16T14:45:18.504150Z",
     "iopub.status.busy": "2023-04-16T14:45:18.503993Z",
     "iopub.status.idle": "2023-04-16T14:45:18.505665Z",
     "shell.execute_reply": "2023-04-16T14:45:18.505414Z"
    }
   },
   "outputs": [],
   "source": [
    "digits = range(10)\n",
    "# solution\n"
   ]
  },
  {
   "attachments": {},
   "cell_type": "markdown",
   "id": "91a8b12a",
   "metadata": {},
   "source": [
    "### 001.002  Create basic arrays\n",
    "\n",
    "1. Create an ndarray `x` of evenly spaced points between 0 and 11 using arange. Create an array `y` with the same number of 1s. Add to a matplotlib plot\n",
    "1. Create an ndarray `x` of 6 evenly spaced points between 0 and 11 using arange. Create an array `y` with the same number of 2s. Add to a matplotlib plot\n",
    "1. Create an ndarray `x` of evenly spaced points between 0 and 11 using arange with an 0.8 step. Create an array `y` with the same number of 3s. Add to a matplotlib plot\n",
    "1. Same idea, but use the functions that lets you get the size between steps and use 5 steps\n",
    "1. Show it with \n",
    "   ```\n",
    "   plt.ylim([-0.5, 6])\n",
    "   plt.show()\n",
    "   ```"
   ]
  },
  {
   "cell_type": "code",
   "execution_count": 4,
   "id": "a4b79f55",
   "metadata": {
    "execution": {
     "iopub.execute_input": "2023-04-16T14:45:18.507277Z",
     "iopub.status.busy": "2023-04-16T14:45:18.507164Z",
     "iopub.status.idle": "2023-04-16T14:45:18.508780Z",
     "shell.execute_reply": "2023-04-16T14:45:18.508492Z"
    }
   },
   "outputs": [],
   "source": [
    "# solution\n"
   ]
  },
  {
   "attachments": {},
   "cell_type": "markdown",
   "id": "27635623",
   "metadata": {},
   "source": []
  },
  {
   "attachments": {},
   "cell_type": "markdown",
   "id": "127d168b",
   "metadata": {},
   "source": [
    "### 001.003 log ndarrays\n",
    "\n",
    "1. Create a 1D vector of 8 evenly spaces points between 10 and 22 as x axis, create the same with all 1s as y axis, and add them to a plot\n",
    "1. Create the same as log and with 2 as y axis, using geomspace\n",
    "1. Create the same as 2, but using logspace and with 3 as y axis\n",
    "1. Repeat the previous step, but with base 2 (note that it's identical) and with 5 as y axis\n",
    "1. Show it with \n",
    "   ```\n",
    "   plt.ylim([-0.5, 6])\n",
    "   plt.show()\n",
    "   ```"
   ]
  },
  {
   "cell_type": "code",
   "execution_count": 5,
   "id": "ee6c54d5",
   "metadata": {
    "execution": {
     "iopub.execute_input": "2023-04-16T14:45:18.510237Z",
     "iopub.status.busy": "2023-04-16T14:45:18.510156Z",
     "iopub.status.idle": "2023-04-16T14:45:18.511621Z",
     "shell.execute_reply": "2023-04-16T14:45:18.511393Z"
    }
   },
   "outputs": [],
   "source": [
    "# solution\n"
   ]
  },
  {
   "attachments": {},
   "cell_type": "markdown",
   "id": "5dd53292",
   "metadata": {},
   "source": [
    "### 001.004 Generate array\n",
    "\n",
    "1. Create with the suitable method\n",
    "   ```\n",
    "   [[0., 0., 0.],\n",
    "   [0., 0., 0.]]\n",
    "   ```\n",
    "1. The same, but with all ones\n",
    "1. The same, but doesn't matter what the values are, just make it fast\n",
    "1. The same, but random numbers between -5 and 0\n",
    "1. The same, but `14.`\n",
    "1. Create an array of empty values and one of zeros which mimic the `column` arrary"
   ]
  },
  {
   "cell_type": "code",
   "execution_count": 6,
   "id": "e67644cb",
   "metadata": {
    "execution": {
     "iopub.execute_input": "2023-04-16T14:45:18.513032Z",
     "iopub.status.busy": "2023-04-16T14:45:18.512949Z",
     "iopub.status.idle": "2023-04-16T14:45:18.514609Z",
     "shell.execute_reply": "2023-04-16T14:45:18.514389Z"
    }
   },
   "outputs": [],
   "source": [
    "column = [[1], [2], [3], [4]]\n",
    "# solution\n"
   ]
  },
  {
   "attachments": {},
   "cell_type": "markdown",
   "id": "9d5f61bb",
   "metadata": {},
   "source": [
    "### 001.005 View into another np.array\n",
    "\n",
    "If you assign a subset of an array to another, it will just be a view into the original\n",
    "\n",
    "1. Create b by taking a subset of a. Apply an operation to b to make a == expected. Notice that there is a subtle difference between the same operation done two ways, one which works and the other which doesn't\n",
    "1. Repeat with c, but this time make is so that the same operation on c doesn't change a"
   ]
  },
  {
   "cell_type": "code",
   "execution_count": 7,
   "id": "b4f23e78",
   "metadata": {
    "execution": {
     "iopub.execute_input": "2023-04-16T14:45:18.516134Z",
     "iopub.status.busy": "2023-04-16T14:45:18.516051Z",
     "iopub.status.idle": "2023-04-16T14:45:18.517854Z",
     "shell.execute_reply": "2023-04-16T14:45:18.517615Z"
    }
   },
   "outputs": [],
   "source": [
    "a = np.array([1, 2, 3, 4, 5, 6])\n",
    "expected = [2, 3, 3, 4, 5, 6]\n",
    "# solution\n"
   ]
  }
 ],
 "metadata": {
  "kernelspec": {
   "display_name": ".venv",
   "language": "python",
   "name": "python3"
  },
  "language_info": {
   "codemirror_mode": {
    "name": "ipython",
    "version": 3
   },
   "file_extension": ".py",
   "mimetype": "text/x-python",
   "name": "python",
   "nbconvert_exporter": "python",
   "pygments_lexer": "ipython3",
   "version": "3.10.6"
  },
  "vscode": {
   "interpreter": {
    "hash": "7daeb9a356073df578df6d7584369b7908e732a3e4cb2289ee7d810fc6635fc0"
   }
  }
 },
 "nbformat": 4,
 "nbformat_minor": 5
}
