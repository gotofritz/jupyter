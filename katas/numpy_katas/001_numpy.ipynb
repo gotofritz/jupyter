{
 "cells": [
  {
   "attachments": {},
   "cell_type": "markdown",
   "id": "99786a37",
   "metadata": {},
   "source": [
    "# NUMPY\n",
    "\n",
    "NumPy is the fundamental package for scientific computing in Python. It is a Python library that provides a multidimensional array object, various derived objects (such as masked arrays and matrices), and an assortment of routines for fast operations on arrays, including mathematical, logical, shape manipulation, sorting, selecting, I/O, discrete Fourier transforms, basic linear algebra, basic statistical operations, random simulation and much more.\n",
    "\n",
    "<https://numpy.org/doc/>"
   ]
  },
  {
   "attachments": {},
   "cell_type": "markdown",
   "id": "89ce8c2b",
   "metadata": {},
   "source": [
    "## 001. Creating Arrays"
   ]
  },
  {
   "cell_type": "code",
   "execution_count": 1,
   "id": "4228fec7",
   "metadata": {
    "execution": {
     "iopub.execute_input": "2023-12-24T11:22:17.385829Z",
     "iopub.status.busy": "2023-12-24T11:22:17.385240Z",
     "iopub.status.idle": "2023-12-24T11:22:17.394681Z",
     "shell.execute_reply": "2023-12-24T11:22:17.393396Z"
    }
   },
   "outputs": [],
   "source": [
    "import sys\n",
    "from pathlib import Path\n",
    "\n",
    "current_dir = Path().resolve()\n",
    "while current_dir != current_dir.parent and current_dir.name != \"katas\":\n",
    "    current_dir = current_dir.parent\n",
    "if current_dir != current_dir.parent:\n",
    "    sys.path.append(current_dir.as_posix())"
   ]
  },
  {
   "cell_type": "code",
   "execution_count": 2,
   "id": "02ca7850",
   "metadata": {
    "execution": {
     "iopub.execute_input": "2023-12-24T11:22:17.400188Z",
     "iopub.status.busy": "2023-12-24T11:22:17.399529Z",
     "iopub.status.idle": "2023-12-24T11:22:18.746155Z",
     "shell.execute_reply": "2023-12-24T11:22:18.745839Z"
    }
   },
   "outputs": [],
   "source": [
    "import math \n",
    "import numpy as np\n",
    "import matplotlib.pyplot as plt\n",
    "import seaborn as sns\n",
    "from IPython.core.interactiveshell import InteractiveShell\n",
    "InteractiveShell.ast_node_interactivity = \"all\"\n",
    "\n",
    "sns.set_theme()\n",
    "%matplotlib inline"
   ]
  },
  {
   "attachments": {},
   "cell_type": "markdown",
   "id": "5b212460",
   "metadata": {},
   "source": [
    "### 001.001 Converting Python sequences to NumPy Arrays\n",
    "\n",
    "1. Create an ndarray with digits, and print it\n",
    "1. Create it but turn the members into floats. Print it\n",
    "1. Create a 2D array, with digits in both dimensions\n",
    "1. Print the number of axis / dimensions\n",
    "1. Print the number of items in the first and second axis \n",
    "1. Print the total number of items in the array\n",
    "1. Prove that if you create an array with a int8, it will silently overflow when the imput is out of range\n"
   ]
  },
  {
   "cell_type": "code",
   "execution_count": 3,
   "id": "c741ca30",
   "metadata": {
    "execution": {
     "iopub.execute_input": "2023-12-24T11:22:18.748252Z",
     "iopub.status.busy": "2023-12-24T11:22:18.748076Z",
     "iopub.status.idle": "2023-12-24T11:22:18.750070Z",
     "shell.execute_reply": "2023-12-24T11:22:18.749801Z"
    }
   },
   "outputs": [],
   "source": [
    "digits = range(10)\n",
    "# solution\n"
   ]
  },
  {
   "attachments": {},
   "cell_type": "markdown",
   "id": "91a8b12a",
   "metadata": {},
   "source": [
    "### 001.002  Create basic arrays\n",
    "\n",
    "1. Create an ndarray `x` of evenly spaced points between `hi` and `lo` using arange. Create an array `y` with the same number of `y_const`s. Add to a matplotlib plot\n",
    "1. Create an ndarray `x` of 6 evenly spaced points ins same range using arange. Increase `y_const` and generate another y array. Add to a matplotlib plot\n",
    "1. Create an ndarray `x` of evenly spaced points between `hi` and `lo` using arange with an 0.8 step. Increase `y_const` and generate another y array. Add to a matplotlib plot\n",
    "1. Same idea, but use the functions that lets you get the size between steps and use 5 steps\n",
    "1. Show it with \n",
    "   ```\n",
    "   plt.ylim([-0.5, 6])\n",
    "   plt.show()\n",
    "   ```"
   ]
  },
  {
   "cell_type": "code",
   "execution_count": 4,
   "id": "a4b79f55",
   "metadata": {
    "execution": {
     "iopub.execute_input": "2023-12-24T11:22:18.751583Z",
     "iopub.status.busy": "2023-12-24T11:22:18.751479Z",
     "iopub.status.idle": "2023-12-24T11:22:18.753394Z",
     "shell.execute_reply": "2023-12-24T11:22:18.753158Z"
    }
   },
   "outputs": [],
   "source": [
    "\n",
    "y_const = 1\n",
    "hi = 11\n",
    "lo = 0\n",
    "\n",
    "# plt.ylim([-0.5, 6])\n",
    "# plt.show()\n",
    "\n",
    "# solution\n"
   ]
  },
  {
   "attachments": {},
   "cell_type": "markdown",
   "id": "27635623",
   "metadata": {},
   "source": []
  },
  {
   "attachments": {},
   "cell_type": "markdown",
   "id": "127d168b",
   "metadata": {},
   "source": [
    "### 001.003 log ndarrays\n",
    "\n",
    "1. Create a 1D vector of 8 evenly spaces points between 10 and 22 as x axis, create the same with all y_const as y axis, and add them to a plot\n",
    "1. Increase `y_const` and create the same as log, using geomspace\n",
    "1. Increase `y_const` and create the same usiong logspace with base 10 (put base in a var)\n",
    "1. Repeat the previous step, but with base 2 (note that it's identical) and with 5 as y axis\n",
    "1. Show it with \n",
    "   ```\n",
    "   plt.ylim([-0.5, 6])\n",
    "   plt.show()\n",
    "   ```"
   ]
  },
  {
   "cell_type": "code",
   "execution_count": 5,
   "id": "ee6c54d5",
   "metadata": {
    "execution": {
     "iopub.execute_input": "2023-12-24T11:22:18.755135Z",
     "iopub.status.busy": "2023-12-24T11:22:18.755017Z",
     "iopub.status.idle": "2023-12-24T11:22:18.756832Z",
     "shell.execute_reply": "2023-12-24T11:22:18.756551Z"
    }
   },
   "outputs": [],
   "source": [
    "# 5\n",
    "# plt.ylim([-0.5, 6])\n",
    "# plt.show()\n",
    "\n",
    "y_const = 1\n",
    "hi = 22\n",
    "lo = 10\n",
    "\n",
    "# solution\n"
   ]
  },
  {
   "attachments": {},
   "cell_type": "markdown",
   "id": "5dd53292",
   "metadata": {},
   "source": [
    "### 001.004 Generate array\n",
    "\n",
    "1. Create with the suitable method\n",
    "   ```\n",
    "   [[0., 0., 0.],\n",
    "   [0., 0., 0.]]\n",
    "   ```\n",
    "1. The same, but with all ones\n",
    "1. The same, but doesn't matter what the values are, just make it fast\n",
    "1. The same, but random numbers between -5 and 0\n",
    "1. The same, but `14.`\n",
    "1. Create an array of empty values and one of zeros which mimic the `column` arrary"
   ]
  },
  {
   "cell_type": "code",
   "execution_count": 6,
   "id": "e67644cb",
   "metadata": {
    "execution": {
     "iopub.execute_input": "2023-12-24T11:22:18.758593Z",
     "iopub.status.busy": "2023-12-24T11:22:18.758482Z",
     "iopub.status.idle": "2023-12-24T11:22:18.760250Z",
     "shell.execute_reply": "2023-12-24T11:22:18.759932Z"
    }
   },
   "outputs": [],
   "source": [
    "column = [[1], [2], [3], [4]]\n",
    "# solution\n"
   ]
  },
  {
   "attachments": {},
   "cell_type": "markdown",
   "id": "9d5f61bb",
   "metadata": {},
   "source": [
    "### 001.005 View into another np.array\n",
    "\n",
    "If you assign a subset of an array to another, it will just be a view into the original\n",
    "\n",
    "1. Create b by taking a subset of a. Apply an operation to b to make a == expected. Notice that there is a subtle difference between the same operation done two ways, one which works and the other which doesn't\n",
    "1. Repeat with c, but this time make is so that the same operation on c doesn't change a"
   ]
  },
  {
   "cell_type": "code",
   "execution_count": 7,
   "id": "b4f23e78",
   "metadata": {
    "execution": {
     "iopub.execute_input": "2023-12-24T11:22:18.761775Z",
     "iopub.status.busy": "2023-12-24T11:22:18.761670Z",
     "iopub.status.idle": "2023-12-24T11:22:18.763490Z",
     "shell.execute_reply": "2023-12-24T11:22:18.763217Z"
    }
   },
   "outputs": [],
   "source": [
    "a = np.array([1, 2, 3, 4, 5, 6])\n",
    "expected = [2, 3, 3, 4, 5, 6]\n",
    "# solution\n"
   ]
  }
 ],
 "metadata": {
  "kernelspec": {
   "display_name": ".venv",
   "language": "python",
   "name": "python3"
  },
  "language_info": {
   "codemirror_mode": {
    "name": "ipython",
    "version": 3
   },
   "file_extension": ".py",
   "mimetype": "text/x-python",
   "name": "python",
   "nbconvert_exporter": "python",
   "pygments_lexer": "ipython3",
   "version": "3.10.6"
  },
  "vscode": {
   "interpreter": {
    "hash": "7daeb9a356073df578df6d7584369b7908e732a3e4cb2289ee7d810fc6635fc0"
   }
  }
 },
 "nbformat": 4,
 "nbformat_minor": 5
}
