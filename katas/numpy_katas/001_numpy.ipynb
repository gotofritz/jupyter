{
 "cells": [
  {
   "attachments": {},
   "cell_type": "markdown",
   "id": "99786a37",
   "metadata": {},
   "source": [
    "# NUMPY\n",
    "\n",
    "NumPy is the fundamental package for scientific computing in Python. It is a Python library that provides a multidimensional array object, various derived objects (such as masked arrays and matrices), and an assortment of routines for fast operations on arrays, including mathematical, logical, shape manipulation, sorting, selecting, I/O, discrete Fourier transforms, basic linear algebra, basic statistical operations, random simulation and much more.\n",
    "\n",
    "<https://numpy.org/doc/>"
   ]
  },
  {
   "attachments": {},
   "cell_type": "markdown",
   "id": "89ce8c2b",
   "metadata": {},
   "source": [
    "## 001. Creating Arrays"
   ]
  },
  {
   "cell_type": "code",
   "execution_count": 1,
   "id": "4228fec7",
   "metadata": {
    "execution": {
     "iopub.execute_input": "2023-01-21T13:11:32.407268Z",
     "iopub.status.busy": "2023-01-21T13:11:32.407120Z",
     "iopub.status.idle": "2023-01-21T13:11:32.413200Z",
     "shell.execute_reply": "2023-01-21T13:11:32.412875Z"
    }
   },
   "outputs": [],
   "source": [
    "import sys\n",
    "from pathlib import Path\n",
    "\n",
    "current_dir = Path().resolve()\n",
    "while current_dir != current_dir.parent and current_dir.name != \"katas\":\n",
    "    current_dir = current_dir.parent\n",
    "if current_dir != current_dir.parent:\n",
    "    sys.path.append(current_dir.as_posix())"
   ]
  },
  {
   "cell_type": "code",
   "execution_count": 2,
   "id": "02ca7850",
   "metadata": {
    "execution": {
     "iopub.execute_input": "2023-01-21T13:11:32.415205Z",
     "iopub.status.busy": "2023-01-21T13:11:32.415059Z",
     "iopub.status.idle": "2023-01-21T13:11:32.685786Z",
     "shell.execute_reply": "2023-01-21T13:11:32.676919Z"
    }
   },
   "outputs": [],
   "source": [
    "import math \n",
    "import numpy as np\n",
    "import matplotlib.pyplot as plt\n",
    "from IPython.core.interactiveshell import InteractiveShell\n",
    "InteractiveShell.ast_node_interactivity = \"all\"\n",
    "\n",
    "%matplotlib inline"
   ]
  },
  {
   "attachments": {},
   "cell_type": "markdown",
   "id": "5b212460",
   "metadata": {},
   "source": [
    "### 001.001 Converting Python sequences to NumPy Arrays\n",
    "\n",
    "1. Create an ndarray with digits, and print it\n",
    "1. Create it but turn the members into floats. Print it\n",
    "1. Create a 2D array, with digits in both dimensions\n",
    "1. Print the number of axis / dimensions\n",
    "1. Print the number of items in the first and second axis \n",
    "1. Print the total number of items in the array\n",
    "1. Prove that if you create an array with a int8, it will silently overflow when the imput is out of range\n"
   ]
  },
  {
   "cell_type": "code",
   "execution_count": 3,
   "id": "c741ca30",
   "metadata": {
    "execution": {
     "iopub.execute_input": "2023-01-21T13:11:32.691114Z",
     "iopub.status.busy": "2023-01-21T13:11:32.690944Z",
     "iopub.status.idle": "2023-01-21T13:11:32.692659Z",
     "shell.execute_reply": "2023-01-21T13:11:32.692406Z"
    }
   },
   "outputs": [],
   "source": [
    "digits = range(10)\n",
    "# solution\n"
   ]
  },
  {
   "attachments": {},
   "cell_type": "markdown",
   "id": "91a8b12a",
   "metadata": {},
   "source": [
    "### 001.002  Create basic arrays\n",
    "\n",
    "1. Create an ndarray of evenly spaced points between 0 and 11 using arange. Create an array with the same number of 1s. Add to a matplotlib plot\n",
    "1. Create an ndarray of 6 evenly spaced points between 0 and 11 using arange. Create an array with the same number of 2s. Add to a matplotlib plot\n",
    "1. Create an ndarray of evenly spaced points between 0 and 11 using arange with an 0.8 step. Create an array with the same number of 3s. Add to a matplotlib plot\n",
    "1. Create an ndarray of evenly spaced points between 0 and 11 using arange with an 0.8 step. Create an array with the same number of 3s. Add to a matplotlib plot\n",
    "1. Create the same array, but show the size between steps\n",
    "1. Show it with \n",
    "   ```\n",
    "   plt.ylim([-0.5, 6])\n",
    "   plt.show()\n",
    "   ```"
   ]
  },
  {
   "cell_type": "code",
   "execution_count": 4,
   "id": "a4b79f55",
   "metadata": {
    "execution": {
     "iopub.execute_input": "2023-01-21T13:11:32.694244Z",
     "iopub.status.busy": "2023-01-21T13:11:32.694141Z",
     "iopub.status.idle": "2023-01-21T13:11:32.695707Z",
     "shell.execute_reply": "2023-01-21T13:11:32.695448Z"
    }
   },
   "outputs": [],
   "source": [
    "# solution\n"
   ]
  },
  {
   "cell_type": "markdown",
   "id": "27635623",
   "metadata": {},
   "source": []
  },
  {
   "attachments": {},
   "cell_type": "markdown",
   "id": "127d168b",
   "metadata": {},
   "source": [
    "### 001.003 log ndarrays\n",
    "\n",
    "1. Create a 1D vector of 8 evenly spaces points between 10 and 12 as x axis, 1 as y axis, and add them to a plot\n",
    "1. Create the same as log, using geomspace\n",
    "1. Create the same as 2, but using logspace\n",
    "1. Repeat the previous step, but with base 2 (note that it's identical)\n",
    "1. Show it with \n",
    "   ```\n",
    "   plt.ylim([-0.5, 6])\n",
    "   plt.show()\n",
    "   ```"
   ]
  },
  {
   "cell_type": "code",
   "execution_count": 5,
   "id": "ee6c54d5",
   "metadata": {
    "execution": {
     "iopub.execute_input": "2023-01-21T13:11:32.697257Z",
     "iopub.status.busy": "2023-01-21T13:11:32.697145Z",
     "iopub.status.idle": "2023-01-21T13:11:32.698713Z",
     "shell.execute_reply": "2023-01-21T13:11:32.698485Z"
    }
   },
   "outputs": [],
   "source": [
    "# solution\n"
   ]
  },
  {
   "attachments": {},
   "cell_type": "markdown",
   "id": "19f65264",
   "metadata": {},
   "source": [
    "### 001.004 2D arrays\n",
    "\n",
    "1. You can multiply an image by a matrix to transform it, scale it, etc. The identity matrix is a good starting point, because if you multiply the image by it it returns the same image. \n",
    "\n",
    "  1. Create the identity matrix I for the \"image\", T\n",
    "  1. multiply T by the identity matrix\n",
    "\n",
    "2. Wrap the following in a function to avoid too much ouput by matplotlib. The diagonal matrix is useful as an intermediate step in image manipulation\n",
    "  1. Read img_file\n",
    "  1. Convert the image to grayscale with openCV\n",
    "  1. Create a subplot in cell 1 of a 1row, 2cols grid \n",
    "  1. and add the image to it with title \"Original Image\"\n",
    "  1. Extract the diagonal pixels from the image as a 1D array\n",
    "  1. Pad it with black (zero) pixels and turn it into a square 2D array\n",
    "  1. Create a subplot in cell 2 of a 1row, 2cols grid \n",
    "  1. and add the diagonal image to it with title \"Original Image\""
   ]
  },
  {
   "cell_type": "code",
   "execution_count": null,
   "id": "0b5e71b1",
   "metadata": {},
   "outputs": [],
   "source": []
  },
  {
   "cell_type": "code",
   "execution_count": 6,
   "id": "17dad8ba",
   "metadata": {
    "execution": {
     "iopub.execute_input": "2023-01-21T13:11:32.700295Z",
     "iopub.status.busy": "2023-01-21T13:11:32.700183Z",
     "iopub.status.idle": "2023-01-21T13:11:32.727201Z",
     "shell.execute_reply": "2023-01-21T13:11:32.726855Z"
    }
   },
   "outputs": [],
   "source": [
    "import cv2\n",
    "\n",
    "T = np.array([[2, 4], [7, 3]])\n",
    "img_file = \"img.jpg\"\n",
    "# solution\n"
   ]
  },
  {
   "attachments": {},
   "cell_type": "markdown",
   "id": "5dd53292",
   "metadata": {},
   "source": [
    "### 001.005 Generate array\n",
    "\n",
    "1. Create with the suitable method\n",
    "   ```\n",
    "   [[0., 0., 0.],\n",
    "   [0., 0., 0.]]\n",
    "   ```\n",
    "1. The same, but with all ones\n",
    "1. The same, but doesn't matter what the values are, just make it fast\n",
    "1. The same, but random numbers between -5 and 0\n",
    "1. The same, but `14.`\n",
    "1. Create an array of empty values or zeros which mimic the `column` arrary"
   ]
  },
  {
   "cell_type": "code",
   "execution_count": 7,
   "id": "e67644cb",
   "metadata": {
    "execution": {
     "iopub.execute_input": "2023-01-21T13:11:32.729190Z",
     "iopub.status.busy": "2023-01-21T13:11:32.729060Z",
     "iopub.status.idle": "2023-01-21T13:11:32.730908Z",
     "shell.execute_reply": "2023-01-21T13:11:32.730631Z"
    }
   },
   "outputs": [],
   "source": [
    "column = [[1], [2], [3], [4]]\n",
    "# solution\n"
   ]
  },
  {
   "attachments": {},
   "cell_type": "markdown",
   "id": "9d5f61bb",
   "metadata": {},
   "source": [
    "### 001.006 View into another np.array\n",
    "\n",
    "If you assign a subset of an array to another, it will just be a view into the original\n",
    "\n",
    "1. Create b by taking a subset of a. Use b to make a == expected\n",
    "1. Repeat with c, but use the correct method to keep a unchanged"
   ]
  },
  {
   "cell_type": "code",
   "execution_count": 8,
   "id": "b4f23e78",
   "metadata": {
    "execution": {
     "iopub.execute_input": "2023-01-21T13:11:32.732500Z",
     "iopub.status.busy": "2023-01-21T13:11:32.732384Z",
     "iopub.status.idle": "2023-01-21T13:11:32.734192Z",
     "shell.execute_reply": "2023-01-21T13:11:32.733937Z"
    }
   },
   "outputs": [],
   "source": [
    "a = np.array([1, 2, 3, 4, 5, 6])\n",
    "expected = [2, 3, 3, 4, 5, 6]\n",
    "# solution\n"
   ]
  }
 ],
 "metadata": {
  "kernelspec": {
   "display_name": ".venv",
   "language": "python",
   "name": "python3"
  },
  "language_info": {
   "codemirror_mode": {
    "name": "ipython",
    "version": 3
   },
   "file_extension": ".py",
   "mimetype": "text/x-python",
   "name": "python",
   "nbconvert_exporter": "python",
   "pygments_lexer": "ipython3",
   "version": "3.10.6"
  },
  "vscode": {
   "interpreter": {
    "hash": "7daeb9a356073df578df6d7584369b7908e732a3e4cb2289ee7d810fc6635fc0"
   }
  }
 },
 "nbformat": 4,
 "nbformat_minor": 5
}
