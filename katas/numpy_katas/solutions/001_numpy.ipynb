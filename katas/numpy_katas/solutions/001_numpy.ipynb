{
 "cells": [
  {
   "attachments": {},
   "cell_type": "markdown",
   "id": "99786a37",
   "metadata": {},
   "source": [
    "# NUMPY\n",
    "\n",
    "NumPy is the fundamental package for scientific computing in Python. It is a Python library that provides a multidimensional array object, various derived objects (such as masked arrays and matrices), and an assortment of routines for fast operations on arrays, including mathematical, logical, shape manipulation, sorting, selecting, I/O, discrete Fourier transforms, basic linear algebra, basic statistical operations, random simulation and much more.\n",
    "\n",
    "<https://numpy.org/doc/>"
   ]
  },
  {
   "attachments": {},
   "cell_type": "markdown",
   "id": "89ce8c2b",
   "metadata": {},
   "source": [
    "## 001. Creating Arrays"
   ]
  },
  {
   "cell_type": "code",
   "execution_count": 15,
   "id": "4228fec7",
   "metadata": {
    "execution": {
     "iopub.execute_input": "2023-03-29T21:25:51.276173Z",
     "iopub.status.busy": "2023-03-29T21:25:51.275869Z",
     "iopub.status.idle": "2023-03-29T21:25:51.286611Z",
     "shell.execute_reply": "2023-03-29T21:25:51.286124Z"
    }
   },
   "outputs": [],
   "source": [
    "import sys\n",
    "from pathlib import Path\n",
    "\n",
    "current_dir = Path().resolve()\n",
    "while current_dir != current_dir.parent and current_dir.name != \"katas\":\n",
    "    current_dir = current_dir.parent\n",
    "if current_dir != current_dir.parent:\n",
    "    sys.path.append(current_dir.as_posix())"
   ]
  },
  {
   "cell_type": "code",
   "execution_count": 16,
   "id": "02ca7850",
   "metadata": {
    "execution": {
     "iopub.execute_input": "2023-03-29T21:25:51.289247Z",
     "iopub.status.busy": "2023-03-29T21:25:51.289041Z",
     "iopub.status.idle": "2023-03-29T21:25:51.708475Z",
     "shell.execute_reply": "2023-03-29T21:25:51.708071Z"
    }
   },
   "outputs": [],
   "source": [
    "import math \n",
    "import numpy as np\n",
    "import matplotlib.pyplot as plt\n",
    "import seaborn as sns\n",
    "from IPython.core.interactiveshell import InteractiveShell\n",
    "InteractiveShell.ast_node_interactivity = \"all\"\n",
    "\n",
    "sns.set_theme()\n",
    "%matplotlib inline"
   ]
  },
  {
   "attachments": {},
   "cell_type": "markdown",
   "id": "5b212460",
   "metadata": {},
   "source": [
    "### 001.001 Converting Python sequences to NumPy Arrays\n",
    "\n",
    "1. Create an ndarray with digits, and print it\n",
    "1. Create it but turn the members into floats. Print it\n",
    "1. Create a 2D array, with digits in both dimensions\n",
    "1. Print the number of axis / dimensions\n",
    "1. Print the number of items in the first and second axis \n",
    "1. Print the total number of items in the array\n",
    "1. Prove that if you create an array with a int8, it will silently overflow when the imput is out of range\n"
   ]
  },
  {
   "cell_type": "code",
   "execution_count": 17,
   "id": "c741ca30",
   "metadata": {
    "execution": {
     "iopub.execute_input": "2023-03-29T21:25:51.710497Z",
     "iopub.status.busy": "2023-03-29T21:25:51.710328Z",
     "iopub.status.idle": "2023-03-29T21:25:51.712197Z",
     "shell.execute_reply": "2023-03-29T21:25:51.711944Z"
    }
   },
   "outputs": [
    {
     "data": {
      "text/plain": [
       "1"
      ]
     },
     "execution_count": 17,
     "metadata": {},
     "output_type": "execute_result"
    },
    {
     "data": {
      "text/plain": [
       "array([0, 1, 2, 3, 4, 5, 6, 7, 8, 9])"
      ]
     },
     "execution_count": 17,
     "metadata": {},
     "output_type": "execute_result"
    },
    {
     "data": {
      "text/plain": [
       "2"
      ]
     },
     "execution_count": 17,
     "metadata": {},
     "output_type": "execute_result"
    },
    {
     "data": {
      "text/plain": [
       "array([0., 1., 2., 3., 4., 5., 6., 7., 8., 9.])"
      ]
     },
     "execution_count": 17,
     "metadata": {},
     "output_type": "execute_result"
    },
    {
     "data": {
      "text/plain": [
       "3"
      ]
     },
     "execution_count": 17,
     "metadata": {},
     "output_type": "execute_result"
    },
    {
     "data": {
      "text/plain": [
       "array([[0, 1, 2, 3, 4, 5, 6, 7, 8, 9],\n",
       "       [0, 1, 2, 3, 4, 5, 6, 7, 8, 9]])"
      ]
     },
     "execution_count": 17,
     "metadata": {},
     "output_type": "execute_result"
    },
    {
     "data": {
      "text/plain": [
       "4"
      ]
     },
     "execution_count": 17,
     "metadata": {},
     "output_type": "execute_result"
    },
    {
     "data": {
      "text/plain": [
       "2"
      ]
     },
     "execution_count": 17,
     "metadata": {},
     "output_type": "execute_result"
    },
    {
     "data": {
      "text/plain": [
       "5"
      ]
     },
     "execution_count": 17,
     "metadata": {},
     "output_type": "execute_result"
    },
    {
     "data": {
      "text/plain": [
       "(2, 10)"
      ]
     },
     "execution_count": 17,
     "metadata": {},
     "output_type": "execute_result"
    },
    {
     "data": {
      "text/plain": [
       "6"
      ]
     },
     "execution_count": 17,
     "metadata": {},
     "output_type": "execute_result"
    },
    {
     "data": {
      "text/plain": [
       "20"
      ]
     },
     "execution_count": 17,
     "metadata": {},
     "output_type": "execute_result"
    },
    {
     "data": {
      "text/plain": [
       "7"
      ]
     },
     "execution_count": 17,
     "metadata": {},
     "output_type": "execute_result"
    },
    {
     "data": {
      "text/plain": [
       "array([  0,   1,  16,  81,   0, 113,  16,  97,   0, -95], dtype=int8)"
      ]
     },
     "execution_count": 17,
     "metadata": {},
     "output_type": "execute_result"
    }
   ],
   "source": [
    "digits = range(10)\n",
    "# solution\n",
    "\n",
    "1\n",
    "np.array(digits)\n",
    "\n",
    "2\n",
    "np.array(digits, dtype=np.float64)\n",
    "\n",
    "3\n",
    "arr = np.array([digits, digits])\n",
    "arr\n",
    "\n",
    "4\n",
    "arr.ndim\n",
    "\n",
    "5\n",
    "arr.shape\n",
    "\n",
    "6\n",
    "arr.size\n",
    "\n",
    "7\n",
    "np.array([n**4 for n in digits], dtype=np.int8)\n"
   ]
  },
  {
   "attachments": {},
   "cell_type": "markdown",
   "id": "91a8b12a",
   "metadata": {},
   "source": [
    "### 001.002  Create basic arrays\n",
    "\n",
    "1. Create an ndarray `x` of evenly spaced points between 0 and 11 using arange. Create an array `y` with the same number of 1s. Add to a matplotlib plot\n",
    "1. Create an ndarray `x` of 6 evenly spaced points between 0 and 11 using arange. Create an array `y` with the same number of 2s. Add to a matplotlib plot\n",
    "1. Create an ndarray `x` of evenly spaced points between 0 and 11 using arange with an 0.8 step. Create an array `y` with the same number of 3s. Add to a matplotlib plot\n",
    "1. Create the same array, but show the size between steps\n",
    "1. Show it with \n",
    "   ```\n",
    "   plt.ylim([-0.5, 6])\n",
    "   plt.show()\n",
    "   ```"
   ]
  },
  {
   "cell_type": "code",
   "execution_count": 18,
   "id": "a4b79f55",
   "metadata": {
    "execution": {
     "iopub.execute_input": "2023-03-29T21:25:51.713790Z",
     "iopub.status.busy": "2023-03-29T21:25:51.713685Z",
     "iopub.status.idle": "2023-03-29T21:25:51.715279Z",
     "shell.execute_reply": "2023-03-29T21:25:51.715027Z"
    }
   },
   "outputs": [
    {
     "data": {
      "text/plain": [
       "1"
      ]
     },
     "execution_count": 18,
     "metadata": {},
     "output_type": "execute_result"
    },
    {
     "data": {
      "text/plain": [
       "[<matplotlib.lines.Line2D at 0x1407281c0>]"
      ]
     },
     "execution_count": 18,
     "metadata": {},
     "output_type": "execute_result"
    },
    {
     "data": {
      "text/plain": [
       "2"
      ]
     },
     "execution_count": 18,
     "metadata": {},
     "output_type": "execute_result"
    },
    {
     "data": {
      "text/plain": [
       "[<matplotlib.lines.Line2D at 0x1406b7490>]"
      ]
     },
     "execution_count": 18,
     "metadata": {},
     "output_type": "execute_result"
    },
    {
     "data": {
      "text/plain": [
       "3"
      ]
     },
     "execution_count": 18,
     "metadata": {},
     "output_type": "execute_result"
    },
    {
     "data": {
      "text/plain": [
       "[<matplotlib.lines.Line2D at 0x1406b7640>]"
      ]
     },
     "execution_count": 18,
     "metadata": {},
     "output_type": "execute_result"
    },
    {
     "data": {
      "text/plain": [
       "4"
      ]
     },
     "execution_count": 18,
     "metadata": {},
     "output_type": "execute_result"
    },
    {
     "data": {
      "text/plain": [
       "'Step size: 2.75'"
      ]
     },
     "execution_count": 18,
     "metadata": {},
     "output_type": "execute_result"
    },
    {
     "data": {
      "text/plain": [
       "[<matplotlib.lines.Line2D at 0x1406b7c70>]"
      ]
     },
     "execution_count": 18,
     "metadata": {},
     "output_type": "execute_result"
    },
    {
     "data": {
      "text/plain": [
       "5"
      ]
     },
     "execution_count": 18,
     "metadata": {},
     "output_type": "execute_result"
    },
    {
     "data": {
      "text/plain": [
       "(-0.5, 6.0)"
      ]
     },
     "execution_count": 18,
     "metadata": {},
     "output_type": "execute_result"
    },
    {
     "data": {
      "image/png": "[encoded data removed]",
      "text/plain": [
       "<Figure size 640x480 with 1 Axes>"
      ]
     },
     "metadata": {},
     "output_type": "display_data"
    }
   ],
   "source": [
    "# solution\n",
    "1\n",
    "x = np.arange(0, 12)\n",
    "y = [1] * x.size\n",
    "plt.plot(x, y, 'o')\n",
    "\n",
    "2\n",
    "x = np.arange(0, 12, 2)\n",
    "y = [2] * x.size\n",
    "plt.plot(x, y, 'o')\n",
    "\n",
    "3\n",
    "x = np.arange(0, 12, 0.8)\n",
    "y = [3] * x.size\n",
    "plt.plot(x, y, 'o')\n",
    "\n",
    "4\n",
    "x, step_size = np.linspace(0, 11.0, num=5, retstep=True)\n",
    "f\"Step size: {step_size}\"\n",
    "y = [5] * x.size\n",
    "plt.plot(x, y, 'o')\n",
    "\n",
    "5\n",
    "plt.ylim([-0.5, 6])\n",
    "plt.show()\n"
   ]
  },
  {
   "cell_type": "markdown",
   "id": "27635623",
   "metadata": {},
   "source": []
  },
  {
   "attachments": {},
   "cell_type": "markdown",
   "id": "127d168b",
   "metadata": {},
   "source": [
    "### 001.003 log ndarrays\n",
    "\n",
    "1. Create a 1D vector of 8 evenly spaces points between 10 and 22 as x axis, create the same with all 1s as y axis, and add them to a plot\n",
    "1. Create the same as log and with 2 as y axis, using geomspace\n",
    "1. Create the same as 2, but using logspace and with 3 as y axis\n",
    "1. Repeat the previous step, but with base 2 (note that it's identical) and with 5 as y axis\n",
    "1. Show it with \n",
    "   ```\n",
    "   plt.ylim([-0.5, 6])\n",
    "   plt.show()\n",
    "   ```"
   ]
  },
  {
   "cell_type": "code",
   "execution_count": 19,
   "id": "ee6c54d5",
   "metadata": {
    "execution": {
     "iopub.execute_input": "2023-03-29T21:25:51.716852Z",
     "iopub.status.busy": "2023-03-29T21:25:51.716749Z",
     "iopub.status.idle": "2023-03-29T21:25:51.718210Z",
     "shell.execute_reply": "2023-03-29T21:25:51.717996Z"
    }
   },
   "outputs": [
    {
     "data": {
      "text/plain": [
       "1"
      ]
     },
     "execution_count": 19,
     "metadata": {},
     "output_type": "execute_result"
    },
    {
     "data": {
      "text/plain": [
       "[<matplotlib.lines.Line2D at 0x14072aaa0>]"
      ]
     },
     "execution_count": 19,
     "metadata": {},
     "output_type": "execute_result"
    },
    {
     "data": {
      "text/plain": [
       "2"
      ]
     },
     "execution_count": 19,
     "metadata": {},
     "output_type": "execute_result"
    },
    {
     "data": {
      "text/plain": [
       "[<matplotlib.lines.Line2D at 0x14072ad10>]"
      ]
     },
     "execution_count": 19,
     "metadata": {},
     "output_type": "execute_result"
    },
    {
     "data": {
      "text/plain": [
       "3"
      ]
     },
     "execution_count": 19,
     "metadata": {},
     "output_type": "execute_result"
    },
    {
     "data": {
      "text/plain": [
       "[<matplotlib.lines.Line2D at 0x14072afb0>]"
      ]
     },
     "execution_count": 19,
     "metadata": {},
     "output_type": "execute_result"
    },
    {
     "data": {
      "text/plain": [
       "4"
      ]
     },
     "execution_count": 19,
     "metadata": {},
     "output_type": "execute_result"
    },
    {
     "data": {
      "text/plain": [
       "[<matplotlib.lines.Line2D at 0x14072b2b0>]"
      ]
     },
     "execution_count": 19,
     "metadata": {},
     "output_type": "execute_result"
    },
    {
     "data": {
      "text/plain": [
       "(-0.5, 6.0)"
      ]
     },
     "execution_count": 19,
     "metadata": {},
     "output_type": "execute_result"
    },
    {
     "data": {
      "image/png": "[encoded data removed]",
      "text/plain": [
       "<Figure size 640x480 with 1 Axes>"
      ]
     },
     "metadata": {},
     "output_type": "display_data"
    }
   ],
   "source": [
    "# solution\n",
    "1\n",
    "x = np.linspace(10., 22., num=8)\n",
    "y = [1] * x.size\n",
    "plt.plot(x, y, 'v')\n",
    "\n",
    "2\n",
    "x = np.geomspace(10., 22., num=8)\n",
    "y = [2] * x.size\n",
    "plt.plot(x, y, 'v')\n",
    "\n",
    "3\n",
    "x = np.logspace(math.log(10, 10), math.log(22, 10), num=8, base=10)\n",
    "y = [3] * x.size\n",
    "plt.plot(x, y, 'v')\n",
    "\n",
    "4\n",
    "x = np.logspace(math.log(10, 2), math.log(22, 2), num=8, base=2)\n",
    "y = [4] * x.size\n",
    "plt.plot(x, y, 'v')\n",
    "plt.ylim([-0.5, 6])\n",
    "plt.show()"
   ]
  },
  {
   "attachments": {},
   "cell_type": "markdown",
   "id": "5dd53292",
   "metadata": {},
   "source": [
    "### 001.004 Generate array\n",
    "\n",
    "1. Create with the suitable method\n",
    "   ```\n",
    "   [[0., 0., 0.],\n",
    "   [0., 0., 0.]]\n",
    "   ```\n",
    "1. The same, but with all ones\n",
    "1. The same, but doesn't matter what the values are, just make it fast\n",
    "1. The same, but random numbers between -5 and 0\n",
    "1. The same, but `14.`\n",
    "1. Create an array of empty values and one of zeros which mimic the `column` arrary"
   ]
  },
  {
   "cell_type": "code",
   "execution_count": 20,
   "id": "e67644cb",
   "metadata": {
    "execution": {
     "iopub.execute_input": "2023-03-29T21:25:52.419141Z",
     "iopub.status.busy": "2023-03-29T21:25:52.419013Z",
     "iopub.status.idle": "2023-03-29T21:25:52.420922Z",
     "shell.execute_reply": "2023-03-29T21:25:52.420630Z"
    }
   },
   "outputs": [
    {
     "data": {
      "text/plain": [
       "1"
      ]
     },
     "execution_count": 20,
     "metadata": {},
     "output_type": "execute_result"
    },
    {
     "data": {
      "text/plain": [
       "array([[0., 0., 0.],\n",
       "       [0., 0., 0.]])"
      ]
     },
     "execution_count": 20,
     "metadata": {},
     "output_type": "execute_result"
    },
    {
     "data": {
      "text/plain": [
       "2"
      ]
     },
     "execution_count": 20,
     "metadata": {},
     "output_type": "execute_result"
    },
    {
     "data": {
      "text/plain": [
       "array([[1., 1., 1.],\n",
       "       [1., 1., 1.]])"
      ]
     },
     "execution_count": 20,
     "metadata": {},
     "output_type": "execute_result"
    },
    {
     "data": {
      "text/plain": [
       "3"
      ]
     },
     "execution_count": 20,
     "metadata": {},
     "output_type": "execute_result"
    },
    {
     "data": {
      "text/plain": [
       "array([[0., 0., 0.],\n",
       "       [0., 0., 0.]])"
      ]
     },
     "execution_count": 20,
     "metadata": {},
     "output_type": "execute_result"
    },
    {
     "data": {
      "text/plain": [
       "4"
      ]
     },
     "execution_count": 20,
     "metadata": {},
     "output_type": "execute_result"
    },
    {
     "data": {
      "text/plain": [
       "array([[-4.38259615, -3.45628359, -1.6346609 ],\n",
       "       [-4.55478771, -3.61700968, -4.5564639 ]])"
      ]
     },
     "execution_count": 20,
     "metadata": {},
     "output_type": "execute_result"
    },
    {
     "data": {
      "text/plain": [
       "5"
      ]
     },
     "execution_count": 20,
     "metadata": {},
     "output_type": "execute_result"
    },
    {
     "data": {
      "text/plain": [
       "array([[14., 14., 14.],\n",
       "       [14., 14., 14.]])"
      ]
     },
     "execution_count": 20,
     "metadata": {},
     "output_type": "execute_result"
    },
    {
     "data": {
      "text/plain": [
       "6"
      ]
     },
     "execution_count": 20,
     "metadata": {},
     "output_type": "execute_result"
    },
    {
     "data": {
      "text/plain": [
       "array([[-1299155070611960807],\n",
       "       [ 8908599493627411324],\n",
       "       [ 5304546901816634162],\n",
       "       [ 4053178866732327965]])"
      ]
     },
     "execution_count": 20,
     "metadata": {},
     "output_type": "execute_result"
    },
    {
     "data": {
      "text/plain": [
       "array([[0],\n",
       "       [0],\n",
       "       [0],\n",
       "       [0]])"
      ]
     },
     "execution_count": 20,
     "metadata": {},
     "output_type": "execute_result"
    }
   ],
   "source": [
    "column = [[1], [2], [3], [4]]\n",
    "# solution\n",
    "\n",
    "1\n",
    "np.zeros((2, 3))\n",
    "\n",
    "2\n",
    "np.ones((2, 3))\n",
    "\n",
    "3\n",
    "np.empty((2, 3))\n",
    "\n",
    "4\n",
    "rng = np.random.default_rng()\n",
    "5 * rng.random((2, 3)) - 5\n",
    "\n",
    "5\n",
    "np.full((2, 3), 14.)\n",
    "\n",
    "6\n",
    "np.empty_like(column)\n",
    "np.zeros_like(column)"
   ]
  },
  {
   "attachments": {},
   "cell_type": "markdown",
   "id": "9d5f61bb",
   "metadata": {},
   "source": [
    "### 001.005 View into another np.array\n",
    "\n",
    "If you assign a subset of an array to another, it will just be a view into the original\n",
    "\n",
    "1. Create b by taking a subset of a. Apply an operation to b to make a == expected. Notice that there is a subtle difference between the same operation done two ways, one which works and the other which doesn't\n",
    "1. Repeat with c, but this time make is so that the same operation on c doesn't change a"
   ]
  },
  {
   "cell_type": "code",
   "execution_count": 21,
   "id": "b4f23e78",
   "metadata": {
    "execution": {
     "iopub.execute_input": "2023-03-29T21:25:52.422636Z",
     "iopub.status.busy": "2023-03-29T21:25:52.422510Z",
     "iopub.status.idle": "2023-03-29T21:25:52.424512Z",
     "shell.execute_reply": "2023-03-29T21:25:52.424222Z"
    }
   },
   "outputs": [
    {
     "data": {
      "text/plain": [
       "1"
      ]
     },
     "execution_count": 21,
     "metadata": {},
     "output_type": "execute_result"
    },
    {
     "data": {
      "text/plain": [
       "array([1, 2, 3, 4, 5, 6])"
      ]
     },
     "execution_count": 21,
     "metadata": {},
     "output_type": "execute_result"
    },
    {
     "data": {
      "text/plain": [
       "array([3, 4])"
      ]
     },
     "execution_count": 21,
     "metadata": {},
     "output_type": "execute_result"
    },
    {
     "data": {
      "text/plain": [
       "2"
      ]
     },
     "execution_count": 21,
     "metadata": {},
     "output_type": "execute_result"
    },
    {
     "data": {
      "text/plain": [
       "array([1, 2, 3, 4, 5, 6])"
      ]
     },
     "execution_count": 21,
     "metadata": {},
     "output_type": "execute_result"
    },
    {
     "data": {
      "text/plain": [
       "array([2, 3])"
      ]
     },
     "execution_count": 21,
     "metadata": {},
     "output_type": "execute_result"
    }
   ],
   "source": [
    "a = np.array([1, 2, 3, 4, 5, 6])\n",
    "expected = [2, 3, 3, 4, 5, 6]\n",
    "# solution\n",
    "\n",
    "1\n",
    "b = a[:2]\n",
    "# doesn't work - b is reassigned and loses connection to a\n",
    "b = b + 1\n",
    "# works - +1 is applied to the still-connected b\n",
    "b += 1\n",
    "a\n",
    "b\n",
    "\n",
    "2\n",
    "a = np.array([1, 2, 3, 4, 5, 6])\n",
    "c = a[:2].copy()\n",
    "c += 1\n",
    "a\n",
    "c"
   ]
  }
 ],
 "metadata": {
  "kernelspec": {
   "display_name": ".venv",
   "language": "python",
   "name": "python3"
  },
  "language_info": {
   "codemirror_mode": {
    "name": "ipython",
    "version": 3
   },
   "file_extension": ".py",
   "mimetype": "text/x-python",
   "name": "python",
   "nbconvert_exporter": "python",
   "pygments_lexer": "ipython3",
   "version": "3.10.6"
  },
  "vscode": {
   "interpreter": {
    "hash": "7daeb9a356073df578df6d7584369b7908e732a3e4cb2289ee7d810fc6635fc0"
   }
  }
 },
 "nbformat": 4,
 "nbformat_minor": 5
}
