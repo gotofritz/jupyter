{
 "cells": [
  {
   "attachments": {},
   "cell_type": "markdown",
   "id": "99786a37",
   "metadata": {},
   "source": [
    "# NUMPY\n",
    "\n",
    "NumPy is the fundamental package for scientific computing in Python. It is a Python library that provides a multidimensional array object, various derived objects (such as masked arrays and matrices), and an assortment of routines for fast operations on arrays, including mathematical, logical, shape manipulation, sorting, selecting, I/O, discrete Fourier transforms, basic linear algebra, basic statistical operations, random simulation and much more.\n",
    "\n",
    "<https://numpy.org/doc/>"
   ]
  },
  {
   "attachments": {},
   "cell_type": "markdown",
   "id": "89ce8c2b",
   "metadata": {},
   "source": [
    "## 001. Creating Arrays"
   ]
  },
  {
   "cell_type": "code",
   "execution_count": 10,
   "id": "4228fec7",
   "metadata": {},
   "outputs": [],
   "source": [
    "import sys\n",
    "from pathlib import Path\n",
    "\n",
    "current_dir = Path().resolve()\n",
    "while current_dir != current_dir.parent and current_dir.name != \"katas\":\n",
    "    current_dir = current_dir.parent\n",
    "if current_dir != current_dir.parent:\n",
    "    sys.path.append(current_dir.as_posix())"
   ]
  },
  {
   "cell_type": "code",
   "execution_count": 11,
   "id": "02ca7850",
   "metadata": {},
   "outputs": [],
   "source": [
    "import math \n",
    "import numpy as np\n",
    "import matplotlib.pyplot as plt\n",
    "import seaborn as sns\n",
    "from IPython.core.interactiveshell import InteractiveShell\n",
    "InteractiveShell.ast_node_interactivity = \"all\"\n",
    "\n",
    "sns.set_theme()\n",
    "%matplotlib inline"
   ]
  },
  {
   "attachments": {},
   "cell_type": "markdown",
   "id": "5b212460",
   "metadata": {},
   "source": [
    "### 001.001 Converting Python sequences to NumPy Arrays\n",
    "\n",
    "1. Create an ndarray with digits, and print it\n",
    "1. Create it but turn the members into floats. Print it\n",
    "1. Create a 2D array, with digits in both dimensions\n",
    "1. Print the number of axis / dimensions\n",
    "1. Print the number of items in the first and second axis \n",
    "1. Print the total number of items in the array\n",
    "1. Prove that if you create an array with a int8, it will silently overflow when the imput is out of range\n"
   ]
  },
  {
   "cell_type": "code",
   "execution_count": 12,
   "id": "c741ca30",
   "metadata": {},
   "outputs": [
    {
     "data": {
      "text/plain": [
       "array([0, 1, 2, 3, 4, 5, 6, 7, 8, 9])"
      ]
     },
     "execution_count": 12,
     "metadata": {},
     "output_type": "execute_result"
    },
    {
     "data": {
      "text/plain": [
       "array([0., 1., 2., 3., 4., 5., 6., 7., 8., 9.], dtype=float16)"
      ]
     },
     "execution_count": 12,
     "metadata": {},
     "output_type": "execute_result"
    },
    {
     "data": {
      "text/plain": [
       "array([[0, 1, 2, 3, 4, 5, 6, 7, 8, 9],\n",
       "       [0, 1, 2, 3, 4, 5, 6, 7, 8, 9]])"
      ]
     },
     "execution_count": 12,
     "metadata": {},
     "output_type": "execute_result"
    },
    {
     "data": {
      "text/plain": [
       "2"
      ]
     },
     "execution_count": 12,
     "metadata": {},
     "output_type": "execute_result"
    },
    {
     "data": {
      "text/plain": [
       "(2, 10)"
      ]
     },
     "execution_count": 12,
     "metadata": {},
     "output_type": "execute_result"
    },
    {
     "data": {
      "text/plain": [
       "20"
      ]
     },
     "execution_count": 12,
     "metadata": {},
     "output_type": "execute_result"
    },
    {
     "data": {
      "text/plain": [
       "array([ 127, -127], dtype=int8)"
      ]
     },
     "execution_count": 12,
     "metadata": {},
     "output_type": "execute_result"
    }
   ],
   "source": [
    "digits = range(10)\n",
    "# solution\n",
    "\n",
    "# 1\n",
    "a = np.array(digits)\n",
    "a\n",
    "\n",
    "# 2\n",
    "a = np.array(digits, dtype=np.float16)\n",
    "a\n",
    "\n",
    "# 3\n",
    "a = np.array([ digits, digits])\n",
    "a\n",
    "\n",
    "# 4\n",
    "a.ndim\n",
    "\n",
    "# 5\n",
    "a.shape\n",
    "\n",
    "# 6\n",
    "a.size\n",
    "\n",
    "# 8\n",
    "a = np.array([127, 129], dtype=np.int8)\n",
    "a\n",
    "\n",
    "\n"
   ]
  },
  {
   "attachments": {},
   "cell_type": "markdown",
   "id": "91a8b12a",
   "metadata": {},
   "source": [
    "### 001.002  Create basic arrays\n",
    "\n",
    "1. Create an ndarray of evenly spaced points between 0 and 11 using arange. Create an array with the same number of 1s. Add to a matplotlib plot\n",
    "1. Create an ndarray of 6 evenly spaced points between 0 and 11 using arange. Create an array with the same number of 2s. Add to a matplotlib plot\n",
    "1. Create an ndarray of evenly spaced points between 0 and 11 using arange with an 0.8 step. Create an array with the same number of 3s. Add to a matplotlib plot\n",
    "1. Create an ndarray of evenly spaced points between 0 and 11 using arange with an 0.8 step. Create an array with the same number of 3s. Add to a matplotlib plot\n",
    "1. Create the same array, but show the size between steps\n",
    "1. Show it with \n",
    "   ```\n",
    "   plt.ylim([-0.5, 6])\n",
    "   plt.show()\n",
    "   ```"
   ]
  },
  {
   "cell_type": "code",
   "execution_count": 13,
   "id": "a4b79f55",
   "metadata": {},
   "outputs": [
    {
     "data": {
      "text/plain": [
       "1"
      ]
     },
     "execution_count": 13,
     "metadata": {},
     "output_type": "execute_result"
    },
    {
     "data": {
      "text/plain": [
       "[<matplotlib.lines.Line2D at 0x140504d30>]"
      ]
     },
     "execution_count": 13,
     "metadata": {},
     "output_type": "execute_result"
    },
    {
     "data": {
      "text/plain": [
       "array([ 0,  1,  2,  3,  4,  5,  6,  7,  8,  9, 10, 11])"
      ]
     },
     "execution_count": 13,
     "metadata": {},
     "output_type": "execute_result"
    },
    {
     "data": {
      "text/plain": [
       "2"
      ]
     },
     "execution_count": 13,
     "metadata": {},
     "output_type": "execute_result"
    },
    {
     "data": {
      "text/plain": [
       "[<matplotlib.lines.Line2D at 0x1405050f0>]"
      ]
     },
     "execution_count": 13,
     "metadata": {},
     "output_type": "execute_result"
    },
    {
     "data": {
      "text/plain": [
       "array([ 0,  2,  4,  6,  8, 10])"
      ]
     },
     "execution_count": 13,
     "metadata": {},
     "output_type": "execute_result"
    },
    {
     "data": {
      "text/plain": [
       "3"
      ]
     },
     "execution_count": 13,
     "metadata": {},
     "output_type": "execute_result"
    },
    {
     "data": {
      "text/plain": [
       "[<matplotlib.lines.Line2D at 0x140505360>]"
      ]
     },
     "execution_count": 13,
     "metadata": {},
     "output_type": "execute_result"
    },
    {
     "data": {
      "text/plain": [
       "array([ 0. ,  0.8,  1.6,  2.4,  3.2,  4. ,  4.8,  5.6,  6.4,  7.2,  8. ,\n",
       "        8.8,  9.6, 10.4, 11.2])"
      ]
     },
     "execution_count": 13,
     "metadata": {},
     "output_type": "execute_result"
    },
    {
     "data": {
      "text/plain": [
       "4"
      ]
     },
     "execution_count": 13,
     "metadata": {},
     "output_type": "execute_result"
    },
    {
     "data": {
      "text/plain": [
       "[<matplotlib.lines.Line2D at 0x140505600>]"
      ]
     },
     "execution_count": 13,
     "metadata": {},
     "output_type": "execute_result"
    },
    {
     "data": {
      "text/plain": [
       "array([ 0.,  4.,  8., 12.])"
      ]
     },
     "execution_count": 13,
     "metadata": {},
     "output_type": "execute_result"
    },
    {
     "data": {
      "text/plain": [
       "5"
      ]
     },
     "execution_count": 13,
     "metadata": {},
     "output_type": "execute_result"
    },
    {
     "data": {
      "text/plain": [
       "'Step size: 0.25'"
      ]
     },
     "execution_count": 13,
     "metadata": {},
     "output_type": "execute_result"
    },
    {
     "data": {
      "text/plain": [
       "[<matplotlib.lines.Line2D at 0x1405058d0>]"
      ]
     },
     "execution_count": 13,
     "metadata": {},
     "output_type": "execute_result"
    },
    {
     "data": {
      "text/plain": [
       "array([2.  , 2.25, 2.5 , 2.75, 3.  ])"
      ]
     },
     "execution_count": 13,
     "metadata": {},
     "output_type": "execute_result"
    },
    {
     "data": {
      "text/plain": [
       "6"
      ]
     },
     "execution_count": 13,
     "metadata": {},
     "output_type": "execute_result"
    },
    {
     "data": {
      "text/plain": [
       "(-0.5, 6.0)"
      ]
     },
     "execution_count": 13,
     "metadata": {},
     "output_type": "execute_result"
    },
    {
     "data": {
      "image/png": "[encoded data removed]",
      "text/plain": [
       "<Figure size 640x480 with 1 Axes>"
      ]
     },
     "metadata": {},
     "output_type": "display_data"
    }
   ],
   "source": [
    "# solution\n",
    "\n",
    "1\n",
    "x = np.arange(12)\n",
    "y = [1] * x.size\n",
    "plt.plot(x, y, 'o')\n",
    "x\n",
    "\n",
    "\n",
    "2\n",
    "x = np.arange(0, 12, 2)\n",
    "y = [2] * x.size\n",
    "plt.plot(x, y, 'o')\n",
    "x\n",
    "\n",
    "3\n",
    "x = np.arange(0, 12, 0.8)\n",
    "y = [3] * x.size\n",
    "plt.plot(x, y, 'o')\n",
    "x\n",
    "\n",
    "4\n",
    "x = np.linspace(0., 12., num=4)\n",
    "y = [4] * x.size\n",
    "plt.plot(x, y, 'o')\n",
    "x\n",
    "\n",
    "5\n",
    "x, step_size = np.linspace(2.0, 3.0, num=5, retstep=True)\n",
    "f\"Step size: {step_size}\"\n",
    "y = [5] * x.size\n",
    "plt.plot(x, y, 'o')\n",
    "x\n",
    "\n",
    "6\n",
    "plt.ylim([-0.5, 6])\n",
    "plt.show()"
   ]
  },
  {
   "cell_type": "markdown",
   "id": "27635623",
   "metadata": {},
   "source": []
  },
  {
   "attachments": {},
   "cell_type": "markdown",
   "id": "127d168b",
   "metadata": {},
   "source": [
    "### 001.003 log ndarrays\n",
    "\n",
    "1. Create a 1D vector of 8 evenly spaces points between 10 and 12 as x axis, 1 as y axis, and add them to a plot\n",
    "1. Create the same as log, using geomspace\n",
    "1. Create the same as 2, but using logspace\n",
    "1. Repeat the previous step, but with base 2 (note that it's identical)\n",
    "1. Show it with \n",
    "   ```\n",
    "   plt.ylim([-0.5, 6])\n",
    "   plt.show()\n",
    "   ```"
   ]
  },
  {
   "cell_type": "code",
   "execution_count": 14,
   "id": "ee6c54d5",
   "metadata": {},
   "outputs": [
    {
     "data": {
      "text/plain": [
       "1"
      ]
     },
     "execution_count": 14,
     "metadata": {},
     "output_type": "execute_result"
    },
    {
     "data": {
      "text/plain": [
       "[<matplotlib.lines.Line2D at 0x1407a70a0>]"
      ]
     },
     "execution_count": 14,
     "metadata": {},
     "output_type": "execute_result"
    },
    {
     "data": {
      "text/plain": [
       "array([10.        , 11.71428571, 13.42857143, 15.14285714, 16.85714286,\n",
       "       18.57142857, 20.28571429, 22.        ])"
      ]
     },
     "execution_count": 14,
     "metadata": {},
     "output_type": "execute_result"
    },
    {
     "data": {
      "text/plain": [
       "2"
      ]
     },
     "execution_count": 14,
     "metadata": {},
     "output_type": "execute_result"
    },
    {
     "data": {
      "text/plain": [
       "[<matplotlib.lines.Line2D at 0x1407a7370>]"
      ]
     },
     "execution_count": 14,
     "metadata": {},
     "output_type": "execute_result"
    },
    {
     "data": {
      "text/plain": [
       "array([10.        , 11.19225318, 12.52665313, 14.02014733, 15.69170386,\n",
       "       17.56255224, 19.65645312, 22.        ])"
      ]
     },
     "execution_count": 14,
     "metadata": {},
     "output_type": "execute_result"
    },
    {
     "data": {
      "text/plain": [
       "3"
      ]
     },
     "execution_count": 14,
     "metadata": {},
     "output_type": "execute_result"
    },
    {
     "data": {
      "text/plain": [
       "[<matplotlib.lines.Line2D at 0x1407a7610>]"
      ]
     },
     "execution_count": 14,
     "metadata": {},
     "output_type": "execute_result"
    },
    {
     "data": {
      "text/plain": [
       "array([10.        , 11.19225318, 12.52665313, 14.02014733, 15.69170386,\n",
       "       17.56255224, 19.65645312, 22.        ])"
      ]
     },
     "execution_count": 14,
     "metadata": {},
     "output_type": "execute_result"
    },
    {
     "data": {
      "text/plain": [
       "4"
      ]
     },
     "execution_count": 14,
     "metadata": {},
     "output_type": "execute_result"
    },
    {
     "data": {
      "text/plain": [
       "[<matplotlib.lines.Line2D at 0x1407a78b0>]"
      ]
     },
     "execution_count": 14,
     "metadata": {},
     "output_type": "execute_result"
    },
    {
     "data": {
      "text/plain": [
       "array([10.        , 11.19225318, 12.52665313, 14.02014733, 15.69170386,\n",
       "       17.56255224, 19.65645312, 22.        ])"
      ]
     },
     "execution_count": 14,
     "metadata": {},
     "output_type": "execute_result"
    },
    {
     "data": {
      "text/plain": [
       "5"
      ]
     },
     "execution_count": 14,
     "metadata": {},
     "output_type": "execute_result"
    },
    {
     "data": {
      "text/plain": [
       "(-0.5, 6.0)"
      ]
     },
     "execution_count": 14,
     "metadata": {},
     "output_type": "execute_result"
    },
    {
     "data": {
      "image/png": "[encoded data removed]",
      "text/plain": [
       "<Figure size 640x480 with 1 Axes>"
      ]
     },
     "metadata": {},
     "output_type": "display_data"
    }
   ],
   "source": [
    "# solution\n",
    "\n",
    "1\n",
    "x = np.linspace(10., 22., num=8)\n",
    "y = [1] * x.size\n",
    "plt.plot(x, y, 'v')\n",
    "x\n",
    "\n",
    "2\n",
    "x = np.geomspace(10., 22., num=8)\n",
    "y = [4] * x.size\n",
    "plt.plot(x, y, 'v')\n",
    "x\n",
    "\n",
    "3\n",
    "x = np.logspace(math.log(10, 10), math.log(22, 10), num=8, base=10)\n",
    "y = [2] * x.size\n",
    "plt.plot(x, y, 'v')\n",
    "x\n",
    "\n",
    "4\n",
    "x = np.logspace(math.log(10, 2), math.log(22, 2), num=8, base=2)\n",
    "y = [3] * x.size\n",
    "plt.plot(x, y, 'v')\n",
    "x\n",
    "\n",
    "5\n",
    "plt.ylim([-0.5, 6])\n",
    "plt.show()\n"
   ]
  },
  {
   "attachments": {},
   "cell_type": "markdown",
   "id": "19f65264",
   "metadata": {},
   "source": [
    "### 001.004 2D arrays\n",
    "\n",
    "1. You can multiply an image by a matrix to transform it, scale it, etc. The identity matrix is a good starting point, because if you multiply the image by it it returns the same image. \n",
    "\n",
    "  1. Create the identity matrix I for the \"image\", T\n",
    "  1. multiply T by the identity matrix\n",
    "\n",
    "2. Wrap the following in a function to avoid too much ouput by matplotlib. The diagonal matrix is useful as an intermediate step in image manipulation\n",
    "  1. Read img_file\n",
    "  1. Convert the image to grayscale with openCV\n",
    "  1. Create a subplot in cell 1 of a 1row, 2cols grid \n",
    "  1. and add the image to it with title \"Original Image\"\n",
    "  1. Extract the diagonal pixels from the image as a 1D array\n",
    "  1. Pad it with black (zero) pixels and turn it into a square 2D array\n",
    "  1. Create a subplot in cell 2 of a 1row, 2cols grid \n",
    "  1. and add the diagonal image to it with title \"Original Image\""
   ]
  },
  {
   "cell_type": "code",
   "execution_count": null,
   "id": "0b5e71b1",
   "metadata": {},
   "outputs": [],
   "source": []
  },
  {
   "cell_type": "code",
   "execution_count": 15,
   "id": "17dad8ba",
   "metadata": {},
   "outputs": [
    {
     "data": {
      "text/plain": [
       "array([[1., 0.],\n",
       "       [0., 1.]])"
      ]
     },
     "execution_count": 15,
     "metadata": {},
     "output_type": "execute_result"
    },
    {
     "data": {
      "text/plain": [
       "array([[2., 4.],\n",
       "       [7., 3.]])"
      ]
     },
     "execution_count": 15,
     "metadata": {},
     "output_type": "execute_result"
    },
    {
     "data": {
      "image/png": "[encoded data removed]",
      "text/plain": [
       "<Figure size 640x480 with 2 Axes>"
      ]
     },
     "metadata": {},
     "output_type": "display_data"
    }
   ],
   "source": [
    "import cv2\n",
    "\n",
    "T = np.array([[2, 4], [7, 3]])\n",
    "img_file = \"img.jpg\"\n",
    "# solution\n",
    "\n",
    "# 1\n",
    "I = np.eye(2)\n",
    "I\n",
    "np.dot(T ,I)\n",
    "\n",
    "# 2\n",
    "def step_2():\n",
    "    img = plt.imread(img_file)\n",
    "    gray = cv2.cvtColor(img, cv2.COLOR_BGR2GRAY)\n",
    "    plt.subplot(1,2,1)\n",
    "    plt.imshow(img)\n",
    "    plt.title(\"Original Image\")\n",
    "    \n",
    "    diag_img = np.diag(gray)\n",
    "    diag_img = np.diagflat(diag_img)\n",
    "    plt.subplot(1,2,2)\n",
    "    plt.imshow(diag_img, cmap='gray')\n",
    "    plt.title(\"Diagonal Image\")\n",
    "    plt.show()\n",
    "step_2()\n",
    "\n"
   ]
  },
  {
   "attachments": {},
   "cell_type": "markdown",
   "id": "5dd53292",
   "metadata": {},
   "source": [
    "### 001.005 Generate array\n",
    "\n",
    "1. Create with the suitable method\n",
    "   ```\n",
    "   [[0., 0., 0.],\n",
    "   [0., 0., 0.]]\n",
    "   ```\n",
    "1. The same, but with all ones\n",
    "1. The same, but doesn't matter what the values are, just make it fast\n",
    "1. The same, but random numbers between -5 and 0\n",
    "1. The same, but `14.`\n",
    "1. Create an array of empty values or zeros which mimic the `column` arrary"
   ]
  },
  {
   "cell_type": "code",
   "execution_count": 16,
   "id": "e67644cb",
   "metadata": {},
   "outputs": [
    {
     "data": {
      "text/plain": [
       "array([[0., 0., 0.],\n",
       "       [0., 0., 0.]])"
      ]
     },
     "execution_count": 16,
     "metadata": {},
     "output_type": "execute_result"
    },
    {
     "data": {
      "text/plain": [
       "array([[1., 1., 1.],\n",
       "       [1., 1., 1.]])"
      ]
     },
     "execution_count": 16,
     "metadata": {},
     "output_type": "execute_result"
    },
    {
     "data": {
      "text/plain": [
       "array([[1., 1., 1.],\n",
       "       [1., 1., 1.]])"
      ]
     },
     "execution_count": 16,
     "metadata": {},
     "output_type": "execute_result"
    },
    {
     "data": {
      "text/plain": [
       "array([[-0.13817854, -0.13970068, -4.78076576],\n",
       "       [-2.03286687, -3.41199913, -0.62018214]])"
      ]
     },
     "execution_count": 16,
     "metadata": {},
     "output_type": "execute_result"
    },
    {
     "data": {
      "text/plain": [
       "array([[14., 14., 14.],\n",
       "       [14., 14., 14.]])"
      ]
     },
     "execution_count": 16,
     "metadata": {},
     "output_type": "execute_result"
    },
    {
     "data": {
      "text/plain": [
       "array([[-2250923666157291620],\n",
       "       [ 6304897847666296661],\n",
       "       [-4226695469916664931],\n",
       "       [ 5343412281534843051]])"
      ]
     },
     "execution_count": 16,
     "metadata": {},
     "output_type": "execute_result"
    },
    {
     "data": {
      "text/plain": [
       "array([[0],\n",
       "       [0],\n",
       "       [0],\n",
       "       [0]])"
      ]
     },
     "execution_count": 16,
     "metadata": {},
     "output_type": "execute_result"
    }
   ],
   "source": [
    "column = [[1], [2], [3], [4]]\n",
    "# solution\n",
    "\n",
    "# 1\n",
    "np.zeros((2, 3))\n",
    "\n",
    "# 2 \n",
    "np.ones((2, 3))\n",
    "\n",
    "# 3 \n",
    "np.empty((2, 3))\n",
    "\n",
    "# 4\n",
    "rng = np.random.default_rng()\n",
    "5 * rng.random((2, 3)) - 5\n",
    "\n",
    "# 5\n",
    "np.full((2, 3), 14.)\n",
    "\n",
    "# 6\n",
    "np.empty_like(column)\n",
    "np.zeros_like(column)"
   ]
  },
  {
   "attachments": {},
   "cell_type": "markdown",
   "id": "9d5f61bb",
   "metadata": {},
   "source": [
    "### 001.006 View into another np.array\n",
    "\n",
    "If you assign a subset of an array to another, it will just be a view into the original\n",
    "\n",
    "1. Create b by taking a subset of a. Use b to make a == expected\n",
    "1. Repeat with c, but use the correct method to keep a unchanged"
   ]
  },
  {
   "cell_type": "code",
   "execution_count": 17,
   "id": "b4f23e78",
   "metadata": {},
   "outputs": [
    {
     "data": {
      "text/plain": [
       "1"
      ]
     },
     "execution_count": 17,
     "metadata": {},
     "output_type": "execute_result"
    },
    {
     "data": {
      "text/plain": [
       "array([2, 3, 3, 4, 5, 6])"
      ]
     },
     "execution_count": 17,
     "metadata": {},
     "output_type": "execute_result"
    },
    {
     "data": {
      "text/plain": [
       "array([2, 3])"
      ]
     },
     "execution_count": 17,
     "metadata": {},
     "output_type": "execute_result"
    },
    {
     "data": {
      "text/plain": [
       "2"
      ]
     },
     "execution_count": 17,
     "metadata": {},
     "output_type": "execute_result"
    },
    {
     "data": {
      "text/plain": [
       "array([1, 2, 3, 4, 5, 6])"
      ]
     },
     "execution_count": 17,
     "metadata": {},
     "output_type": "execute_result"
    },
    {
     "data": {
      "text/plain": [
       "array([2, 3])"
      ]
     },
     "execution_count": 17,
     "metadata": {},
     "output_type": "execute_result"
    }
   ],
   "source": [
    "a = np.array([1, 2, 3, 4, 5, 6])\n",
    "expected = [2, 3, 3, 4, 5, 6]\n",
    "# solution\n",
    "\n",
    "1\n",
    "b = a[:2]\n",
    "b += 1\n",
    "a\n",
    "b\n",
    "\n",
    "2\n",
    "a = np.array([1, 2, 3, 4, 5, 6])\n",
    "c = a[:2].copy()\n",
    "c += 1\n",
    "a\n",
    "c\n"
   ]
  }
 ],
 "metadata": {
  "kernelspec": {
   "display_name": ".venv",
   "language": "python",
   "name": "python3"
  },
  "language_info": {
   "codemirror_mode": {
    "name": "ipython",
    "version": 3
   },
   "file_extension": ".py",
   "mimetype": "text/x-python",
   "name": "python",
   "nbconvert_exporter": "python",
   "pygments_lexer": "ipython3",
   "version": "3.10.6"
  },
  "vscode": {
   "interpreter": {
    "hash": "7daeb9a356073df578df6d7584369b7908e732a3e4cb2289ee7d810fc6635fc0"
   }
  }
 },
 "nbformat": 4,
 "nbformat_minor": 5
}
