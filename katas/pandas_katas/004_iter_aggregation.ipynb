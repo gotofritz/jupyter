{
 "cells": [
  {
   "cell_type": "markdown",
   "id": "99786a37",
   "metadata": {},
   "source": [
    "# Pandas\n",
    "\n",
    "Pandas is a powerful library for data manipulation and analysis in Python. It is widely used in a range of fields, including data science, finance, and statistics."
   ]
  },
  {
   "cell_type": "markdown",
   "id": "89ce8c2b",
   "metadata": {},
   "source": [
    "## 004. Iteration"
   ]
  },
  {
   "cell_type": "markdown",
   "id": "61c0a177",
   "metadata": {},
   "source": [
    "## 004.000 Assets\n",
    "\n",
    "Some assets to avoid too much typing\n",
    "\n",
    "| Name        | Age|\n",
    "|-------------|----|\n",
    "| Mbappé      | 23 |\n",
    "| De Bruyne   | 31 |\n",
    "| Lewandowski | 33 |\n",
    "| Benzema     | 34 |\n",
    "| Messi       | 35 |"
   ]
  },
  {
   "cell_type": "code",
   "execution_count": 1,
   "id": "4228fec7",
   "metadata": {
    "execution": {
     "iopub.execute_input": "2023-01-06T12:09:39.021404Z",
     "iopub.status.busy": "2023-01-06T12:09:39.020983Z",
     "iopub.status.idle": "2023-01-06T12:09:39.030468Z",
     "shell.execute_reply": "2023-01-06T12:09:39.029964Z"
    }
   },
   "outputs": [],
   "source": [
    "import sys\n",
    "from pathlib import Path\n",
    "\n",
    "current_dir = Path().resolve()\n",
    "while current_dir != current_dir.parent and current_dir.name != \"katas\":\n",
    "    current_dir = current_dir.parent\n",
    "if current_dir != current_dir.parent:\n",
    "    sys.path.append(current_dir.as_posix())"
   ]
  },
  {
   "cell_type": "code",
   "execution_count": 2,
   "id": "02ca7850",
   "metadata": {
    "execution": {
     "iopub.execute_input": "2023-01-06T12:09:39.033662Z",
     "iopub.status.busy": "2023-01-06T12:09:39.033429Z",
     "iopub.status.idle": "2023-01-06T12:09:39.218935Z",
     "shell.execute_reply": "2023-01-06T12:09:39.217878Z"
    }
   },
   "outputs": [],
   "source": [
    "import pandas as pd\n",
    "from lib.utils import fresh_df\n",
    "from IPython.core.interactiveshell import InteractiveShell\n",
    "\n",
    "pd.set_option('display.max_rows', None)\n",
    "InteractiveShell.ast_node_interactivity = \"all\""
   ]
  },
  {
   "cell_type": "markdown",
   "id": "5b212460",
   "metadata": {},
   "source": [
    "### 004.001 Using Itertuples\n",
    "\n",
    "1. Use itertuples to print each row\n"
   ]
  },
  {
   "cell_type": "code",
   "execution_count": 3,
   "id": "c741ca30",
   "metadata": {
    "execution": {
     "iopub.execute_input": "2023-01-06T12:09:39.224527Z",
     "iopub.status.busy": "2023-01-06T12:09:39.223771Z",
     "iopub.status.idle": "2023-01-06T12:09:39.233249Z",
     "shell.execute_reply": "2023-01-06T12:09:39.231911Z"
    }
   },
   "outputs": [],
   "source": [
    "df = fresh_df(\"002.tsv\", id=\"Name\")\n",
    "# solution\n"
   ]
  },
  {
   "cell_type": "markdown",
   "id": "de330c8b",
   "metadata": {},
   "source": [
    "### 004.002 Using iterrows\n",
    "\n",
    "1. Use iterrows to print the index of each row, and then the row as a Series"
   ]
  },
  {
   "cell_type": "code",
   "execution_count": 4,
   "id": "8eb9df12",
   "metadata": {
    "execution": {
     "iopub.execute_input": "2023-01-06T12:09:39.238772Z",
     "iopub.status.busy": "2023-01-06T12:09:39.237271Z",
     "iopub.status.idle": "2023-01-06T12:09:39.243183Z",
     "shell.execute_reply": "2023-01-06T12:09:39.242484Z"
    }
   },
   "outputs": [],
   "source": [
    "df = fresh_df(\"002.tsv\")\n",
    "# solution\n"
   ]
  },
  {
   "cell_type": "markdown",
   "id": "b52dd2e1",
   "metadata": {},
   "source": [
    "### 004.003 Using Items\n",
    "\n",
    "1. Use items to print each column as a series\n"
   ]
  },
  {
   "cell_type": "code",
   "execution_count": 5,
   "id": "51e33d49",
   "metadata": {
    "execution": {
     "iopub.execute_input": "2023-01-06T12:09:39.247827Z",
     "iopub.status.busy": "2023-01-06T12:09:39.246892Z",
     "iopub.status.idle": "2023-01-06T12:09:39.252691Z",
     "shell.execute_reply": "2023-01-06T12:09:39.251493Z"
    }
   },
   "outputs": [],
   "source": [
    "df = fresh_df(\"002.tsv\")\n",
    "# solution\n"
   ]
  },
  {
   "cell_type": "markdown",
   "id": "168a2861",
   "metadata": {},
   "source": [
    "### 004.004 Using Query\n",
    "\n",
    "1. Add an 'Age' column with years of player\n",
    "1. Use query to find all players older than 30 years \n",
    "1. Make another query for all players older than 30 and with a name longer than 8 characters\n"
   ]
  },
  {
   "cell_type": "code",
   "execution_count": 6,
   "id": "74defeb7",
   "metadata": {
    "execution": {
     "iopub.execute_input": "2023-01-06T12:09:39.258763Z",
     "iopub.status.busy": "2023-01-06T12:09:39.257674Z",
     "iopub.status.idle": "2023-01-06T12:09:39.264790Z",
     "shell.execute_reply": "2023-01-06T12:09:39.263670Z"
    }
   },
   "outputs": [],
   "source": [
    "from datetime import datetime\n",
    "df = fresh_df(\"002.tsv\")\n",
    "# solution\n"
   ]
  },
  {
   "attachments": {},
   "cell_type": "markdown",
   "id": "488a5cf6",
   "metadata": {},
   "source": [
    "### 004.003 aggregagtion\n",
    "\n",
    "1. Load the minimal_player_list file\n",
    "1. Find the mean, median and max for Age and Wages in the complete datase"
   ]
  },
  {
   "cell_type": "code",
   "execution_count": 7,
   "id": "b99f9666",
   "metadata": {
    "execution": {
     "iopub.execute_input": "2023-01-06T12:09:39.278672Z",
     "iopub.status.busy": "2023-01-06T12:09:39.277194Z",
     "iopub.status.idle": "2023-01-06T12:09:39.311531Z",
     "shell.execute_reply": "2023-01-06T12:09:39.311218Z"
    }
   },
   "outputs": [
    {
     "data": {
      "text/html": [
       "<div>\n",
       "<style scoped>\n",
       "    .dataframe tbody tr th:only-of-type {\n",
       "        vertical-align: middle;\n",
       "    }\n",
       "\n",
       "    .dataframe tbody tr th {\n",
       "        vertical-align: top;\n",
       "    }\n",
       "\n",
       "    .dataframe thead th {\n",
       "        text-align: right;\n",
       "    }\n",
       "</style>\n",
       "<table border=\"1\" class=\"dataframe\">\n",
       "  <thead>\n",
       "    <tr style=\"text-align: right;\">\n",
       "      <th></th>\n",
       "      <th>Name</th>\n",
       "      <th>Age</th>\n",
       "      <th>Nationality</th>\n",
       "      <th>Overall</th>\n",
       "      <th>Potential</th>\n",
       "      <th>Club</th>\n",
       "      <th>Value</th>\n",
       "      <th>Wage</th>\n",
       "      <th>Position</th>\n",
       "    </tr>\n",
       "    <tr>\n",
       "      <th>ID</th>\n",
       "      <th></th>\n",
       "      <th></th>\n",
       "      <th></th>\n",
       "      <th></th>\n",
       "      <th></th>\n",
       "      <th></th>\n",
       "      <th></th>\n",
       "      <th></th>\n",
       "      <th></th>\n",
       "    </tr>\n",
       "  </thead>\n",
       "  <tbody>\n",
       "    <tr>\n",
       "      <th>231747</th>\n",
       "      <td>Kylian Mbappé</td>\n",
       "      <td>23</td>\n",
       "      <td>France</td>\n",
       "      <td>91</td>\n",
       "      <td>95</td>\n",
       "      <td>Paris Saint Germain</td>\n",
       "      <td>190500000</td>\n",
       "      <td>23000000</td>\n",
       "      <td>ST</td>\n",
       "    </tr>\n",
       "    <tr>\n",
       "      <th>192985</th>\n",
       "      <td>Kevin De Bruyne</td>\n",
       "      <td>31</td>\n",
       "      <td>Belgium</td>\n",
       "      <td>91</td>\n",
       "      <td>91</td>\n",
       "      <td>Manchester City</td>\n",
       "      <td>107500000</td>\n",
       "      <td>35000000</td>\n",
       "      <td>CM</td>\n",
       "    </tr>\n",
       "    <tr>\n",
       "      <th>188545</th>\n",
       "      <td>Robert Lewandowski</td>\n",
       "      <td>33</td>\n",
       "      <td>Poland</td>\n",
       "      <td>91</td>\n",
       "      <td>91</td>\n",
       "      <td>FC Barcelona</td>\n",
       "      <td>84000000</td>\n",
       "      <td>42000000</td>\n",
       "      <td>ST</td>\n",
       "    </tr>\n",
       "    <tr>\n",
       "      <th>165153</th>\n",
       "      <td>Karim Benzema</td>\n",
       "      <td>34</td>\n",
       "      <td>France</td>\n",
       "      <td>91</td>\n",
       "      <td>91</td>\n",
       "      <td>Real Madrid</td>\n",
       "      <td>64000000</td>\n",
       "      <td>45000000</td>\n",
       "      <td>CF</td>\n",
       "    </tr>\n",
       "    <tr>\n",
       "      <th>158023</th>\n",
       "      <td>Lionel Messi</td>\n",
       "      <td>35</td>\n",
       "      <td>Argentina</td>\n",
       "      <td>91</td>\n",
       "      <td>91</td>\n",
       "      <td>Paris Saint Germain</td>\n",
       "      <td>54000000</td>\n",
       "      <td>19500000</td>\n",
       "      <td>RW</td>\n",
       "    </tr>\n",
       "  </tbody>\n",
       "</table>\n",
       "</div>"
      ],
      "text/plain": [
       "                      Name  Age Nationality  Overall  Potential  \\\n",
       "ID                                                                \n",
       "231747       Kylian Mbappé   23      France       91         95   \n",
       "192985     Kevin De Bruyne   31     Belgium       91         91   \n",
       "188545  Robert Lewandowski   33      Poland       91         91   \n",
       "165153       Karim Benzema   34      France       91         91   \n",
       "158023        Lionel Messi   35   Argentina       91         91   \n",
       "\n",
       "                       Club      Value      Wage Position  \n",
       "ID                                                         \n",
       "231747  Paris Saint Germain  190500000  23000000       ST  \n",
       "192985      Manchester City  107500000  35000000       CM  \n",
       "188545         FC Barcelona   84000000  42000000       ST  \n",
       "165153          Real Madrid   64000000  45000000       CF  \n",
       "158023  Paris Saint Germain   54000000  19500000       RW  "
      ]
     },
     "execution_count": 7,
     "metadata": {},
     "output_type": "execute_result"
    }
   ],
   "source": [
    "datafile = \"minimal_player_list.csv\"\n",
    "df = fresh_df(datafile, id=\"ID\", sep=\",\")\n",
    "df.head()\n",
    "# solution\n"
   ]
  },
  {
   "attachments": {},
   "cell_type": "markdown",
   "id": "671db0a9",
   "metadata": {},
   "source": [
    "### 004.005 Using Grouping\n",
    "\n",
    "1. Generate a DataFrame with the rows grouped by nationality and for each nationality the max wages. Use `reset_index` to generate the DataFrame\n",
    "1. Merge back to the original dataframe, so that the original rows are still with the aggregates. \n",
    "1. Extract the \"Name\", \"nationality\", and \"wage\" fields\n",
    "1. Sort by Wage descending\n",
    "1. Format so that \"Wage\" has no decimals and commas\n"
   ]
  },
  {
   "cell_type": "code",
   "execution_count": 8,
   "id": "dc556a22",
   "metadata": {
    "execution": {
     "iopub.execute_input": "2023-01-06T12:09:39.313357Z",
     "iopub.status.busy": "2023-01-06T12:09:39.313238Z",
     "iopub.status.idle": "2023-01-06T12:09:39.325321Z",
     "shell.execute_reply": "2023-01-06T12:09:39.325048Z"
    }
   },
   "outputs": [],
   "source": [
    "datafile = \"minimal_player_list.csv\"\n",
    "df = fresh_df(datafile, id=\"ID\", sep=\",\")\n",
    "group_by_field = \"Nationality\"\n",
    "# solution\n"
   ]
  },
  {
   "attachments": {},
   "cell_type": "markdown",
   "id": "8a103e97",
   "metadata": {},
   "source": [
    "### 004.006 Using Grouping\n",
    "\n",
    "1. Repeat 004.005, but applied to \"Club\" instead of \"Nationality\"\n",
    "1. Also, it should only apply to players with \"Wage > 2000000\""
   ]
  },
  {
   "cell_type": "code",
   "execution_count": 9,
   "id": "18fbe116",
   "metadata": {
    "execution": {
     "iopub.execute_input": "2023-01-06T12:09:39.327014Z",
     "iopub.status.busy": "2023-01-06T12:09:39.326923Z",
     "iopub.status.idle": "2023-01-06T12:09:39.338817Z",
     "shell.execute_reply": "2023-01-06T12:09:39.338515Z"
    }
   },
   "outputs": [],
   "source": [
    "datafile = \"minimal_player_list.csv\"\n",
    "df = fresh_df(datafile, id=\"ID\", sep=\",\")\n",
    "group_by_field = \"Club\"\n",
    "# solution\n"
   ]
  }
 ],
 "metadata": {
  "kernelspec": {
   "display_name": "Python 3 (ipykernel)",
   "language": "python",
   "name": "python3"
  },
  "language_info": {
   "codemirror_mode": {
    "name": "ipython",
    "version": 3
   },
   "file_extension": ".py",
   "mimetype": "text/x-python",
   "name": "python",
   "nbconvert_exporter": "python",
   "pygments_lexer": "ipython3",
   "version": "3.10.6"
  },
  "vscode": {
   "interpreter": {
    "hash": "7daeb9a356073df578df6d7584369b7908e732a3e4cb2289ee7d810fc6635fc0"
   }
  }
 },
 "nbformat": 4,
 "nbformat_minor": 5
}
