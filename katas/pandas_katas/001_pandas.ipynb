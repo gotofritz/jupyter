{
 "cells": [
  {
   "cell_type": "markdown",
   "id": "99786a37",
   "metadata": {},
   "source": [
    "# Pandas\n",
    "\n",
    "Pandas is a powerful library for data manipulation and analysis in Python. It is widely used in a range of fields, including data science, finance, and statistics."
   ]
  },
  {
   "attachments": {},
   "cell_type": "markdown",
   "id": "89ce8c2b",
   "metadata": {},
   "source": [
    "## 001. DataFrame Importing / Exporting"
   ]
  },
  {
   "attachments": {},
   "cell_type": "markdown",
   "id": "61c0a177",
   "metadata": {},
   "source": [
    "## 001.000 Assets\n",
    "\n",
    "Some assets to avoid too much typing\n",
    "\n",
    "| Name        | Age|\n",
    "|-------------|----|\n",
    "| Mbappé      | 23 |\n",
    "| De Bruyne   | 31 |\n",
    "| Lewandowski | 33 |\n",
    "| Benzema     | 34 |\n",
    "| Messi       | 35 |"
   ]
  },
  {
   "cell_type": "code",
   "execution_count": null,
   "id": "062bf7d3",
   "metadata": {},
   "outputs": [],
   "source": []
  },
  {
   "cell_type": "code",
   "execution_count": 1,
   "id": "6b935743",
   "metadata": {
    "execution": {
     "iopub.execute_input": "2023-01-17T22:32:08.389508Z",
     "iopub.status.busy": "2023-01-17T22:32:08.389258Z",
     "iopub.status.idle": "2023-01-17T22:32:08.399096Z",
     "shell.execute_reply": "2023-01-17T22:32:08.398628Z"
    }
   },
   "outputs": [],
   "source": [
    "import sys\n",
    "from pathlib import Path\n",
    "\n",
    "current_dir = Path().resolve()\n",
    "while current_dir != current_dir.parent and current_dir.name != \"katas\":\n",
    "    current_dir = current_dir.parent\n",
    "if current_dir != current_dir.parent:\n",
    "    sys.path.append(current_dir.as_posix())"
   ]
  },
  {
   "cell_type": "code",
   "execution_count": 2,
   "id": "02ca7850",
   "metadata": {
    "execution": {
     "iopub.execute_input": "2023-01-17T22:32:08.402022Z",
     "iopub.status.busy": "2023-01-17T22:32:08.401806Z",
     "iopub.status.idle": "2023-01-17T22:32:08.591778Z",
     "shell.execute_reply": "2023-01-17T22:32:08.590876Z"
    }
   },
   "outputs": [],
   "source": [
    "import pandas as pd\n",
    "from lib.utils import fresh_df\n",
    "from IPython.core.interactiveshell import InteractiveShell\n",
    "\n",
    "pd.set_option('display.max_rows', None)\n",
    "InteractiveShell.ast_node_interactivity = \"all\"\n",
    "names_as_list = [\"Mbappé\", \"De Bruyne\", \"Lewandowski\", \"Benzema\", \"Messi\"]\n",
    "ages_as_list = [ 23,       31,          33,             34,        35]\n"
   ]
  },
  {
   "attachments": {},
   "cell_type": "markdown",
   "id": "5b212460",
   "metadata": {},
   "source": [
    "### 001.001 Dictionary of arrays\n",
    "\n",
    "1. Replicate this data as a dataframe with a dictionary of arrays, using a constructor, and print it\n",
    "1. Do the same, but using from_dict\n",
    "1. Extract the dict out of the df again with to_dict\n"
   ]
  },
  {
   "cell_type": "code",
   "execution_count": 3,
   "id": "c741ca30",
   "metadata": {
    "execution": {
     "iopub.execute_input": "2023-01-17T22:32:08.598055Z",
     "iopub.status.busy": "2023-01-17T22:32:08.597472Z",
     "iopub.status.idle": "2023-01-17T22:32:08.603052Z",
     "shell.execute_reply": "2023-01-17T22:32:08.602177Z"
    }
   },
   "outputs": [],
   "source": [
    "# solution\n"
   ]
  },
  {
   "attachments": {},
   "cell_type": "markdown",
   "id": "54889ea9",
   "metadata": {},
   "source": [
    "### 001.002 List of dictionaries\n",
    "\n",
    "1. Create a list where every entry is a dict with keys \"Name\" and \"Age\", and print it\n",
    "1. Do the same, but using from_records\n",
    "1. Extract the list out of the df again with to_dict (not to_records). Note that you can actually get a list and not a dict, with the right parameters...\n"
   ]
  },
  {
   "cell_type": "code",
   "execution_count": 4,
   "id": "42da9c2b",
   "metadata": {
    "execution": {
     "iopub.execute_input": "2023-01-17T22:32:08.609484Z",
     "iopub.status.busy": "2023-01-17T22:32:08.609090Z",
     "iopub.status.idle": "2023-01-17T22:32:08.614686Z",
     "shell.execute_reply": "2023-01-17T22:32:08.612249Z"
    }
   },
   "outputs": [],
   "source": [
    "# solution\n"
   ]
  },
  {
   "attachments": {},
   "cell_type": "markdown",
   "id": "07d889f0",
   "metadata": {},
   "source": [
    "### 001.003 2D Numpy array\n",
    "\n",
    "1. Import numpy\n",
    "1. Create a Nump 2D array with the same data as before, but with an extra column for \"Last Updated\" with a pd.Timestamp\n",
    "1. Print the numpy array\n",
    "2. Import as a pandas DataFrame\n",
    "1. Update the Last Updated column to the current timestamp\n",
    "3. Make sure the colum names are still \"Name\", \"Age\", \"Last Updated\"\n",
    "1. Export to a Nump 2D array\n",
    "1. convert to a NumPy and print it, proving the timestamp is different\n"
   ]
  },
  {
   "cell_type": "code",
   "execution_count": 5,
   "id": "58384722",
   "metadata": {
    "execution": {
     "iopub.execute_input": "2023-01-17T22:32:08.619665Z",
     "iopub.status.busy": "2023-01-17T22:32:08.619276Z",
     "iopub.status.idle": "2023-01-17T22:32:08.625293Z",
     "shell.execute_reply": "2023-01-17T22:32:08.624107Z"
    }
   },
   "outputs": [],
   "source": [
    "# solution\n"
   ]
  },
  {
   "cell_type": "markdown",
   "id": "1205b09a",
   "metadata": {},
   "source": [
    "### 001.004 Pandas Series\n",
    "\n",
    "1. Replicate 001.003 but create two pandas series from the two lists, and then concatenate them\n",
    "1. Make sure the colum names are still \"Name\" and \"Age\""
   ]
  },
  {
   "cell_type": "code",
   "execution_count": 6,
   "id": "57db64a0",
   "metadata": {
    "execution": {
     "iopub.execute_input": "2023-01-17T22:32:08.630660Z",
     "iopub.status.busy": "2023-01-17T22:32:08.629980Z",
     "iopub.status.idle": "2023-01-17T22:32:08.636600Z",
     "shell.execute_reply": "2023-01-17T22:32:08.635606Z"
    }
   },
   "outputs": [],
   "source": [
    "# solution\n"
   ]
  },
  {
   "attachments": {},
   "cell_type": "markdown",
   "id": "29b3d83f",
   "metadata": {},
   "source": [
    "### 001.005 SQL (sqlite)\n",
    "\n",
    "1. Create a DataFrame by reading from table 'players' in SQLite DB \"001.005.sqlite\" with the built-in SQLite module. Note that the index column is called 'id'\n",
    "1. Show it with df.head()\n",
    "1. Change the Last Updated column to the current timestamp in the DataFrame\n",
    "1. Write the updated DataFrame data to the database. Make sure you tell the function to use the 'id' column for indices\n",
    "1. Load the data again in a new DataFrame\n",
    "1. Show it with df.head(), and confirm it's different from the previous one.\n",
    "1. Also confirm there are no extra index columns\n",
    "\n"
   ]
  },
  {
   "cell_type": "code",
   "execution_count": 7,
   "id": "eaa7d2ae",
   "metadata": {
    "execution": {
     "iopub.execute_input": "2023-01-17T22:32:08.641973Z",
     "iopub.status.busy": "2023-01-17T22:32:08.641590Z",
     "iopub.status.idle": "2023-01-17T22:32:08.645490Z",
     "shell.execute_reply": "2023-01-17T22:32:08.644371Z"
    }
   },
   "outputs": [],
   "source": [
    "# solution\n"
   ]
  },
  {
   "cell_type": "markdown",
   "id": "9f963146",
   "metadata": {},
   "source": [
    "### 001.006 SQL (sqlalchemy)\n",
    "\n",
    "1. Replicate 001.005 but use sqlalchemy to connect to the DB\n",
    "\n",
    "(Note: you will probably get warnings, but you can ignore them)"
   ]
  },
  {
   "cell_type": "code",
   "execution_count": 8,
   "id": "163074bb",
   "metadata": {
    "execution": {
     "iopub.execute_input": "2023-01-17T22:32:08.649812Z",
     "iopub.status.busy": "2023-01-17T22:32:08.649493Z",
     "iopub.status.idle": "2023-01-17T22:32:08.653374Z",
     "shell.execute_reply": "2023-01-17T22:32:08.652069Z"
    }
   },
   "outputs": [],
   "source": [
    "# solution\n"
   ]
  },
  {
   "cell_type": "markdown",
   "id": "a26e421c",
   "metadata": {},
   "source": [
    "### 001.007 TSV file\n",
    "\n",
    "1. Replicate 001.005 but with the TSV file \"[001.007.tsv](001.007.tsv)\". Save that file location to a variable\n",
    "1. TSV is a CSV but with \"\\t\" as seprator\n",
    "1. Bear in mind the same issues as 001.004 for index columns"
   ]
  },
  {
   "cell_type": "code",
   "execution_count": 9,
   "id": "93d93f42",
   "metadata": {
    "execution": {
     "iopub.execute_input": "2023-01-17T22:32:08.657179Z",
     "iopub.status.busy": "2023-01-17T22:32:08.656855Z",
     "iopub.status.idle": "2023-01-17T22:32:08.661093Z",
     "shell.execute_reply": "2023-01-17T22:32:08.659943Z"
    }
   },
   "outputs": [],
   "source": [
    "data_file = \"001.007.tsv\"\n",
    "# solution\n"
   ]
  },
  {
   "cell_type": "markdown",
   "id": "7a202cfd",
   "metadata": {},
   "source": [
    "### 001.008 JSON file\n",
    "\n",
    "1. Replicate 001.005 but with the JSON file \"[001.008.json](001.008.json)\". Save that file location to a variable\n",
    "1. Make sure non ASCII characters are readable"
   ]
  },
  {
   "cell_type": "code",
   "execution_count": 10,
   "id": "aa08304c",
   "metadata": {
    "execution": {
     "iopub.execute_input": "2023-01-17T22:32:08.665221Z",
     "iopub.status.busy": "2023-01-17T22:32:08.664915Z",
     "iopub.status.idle": "2023-01-17T22:32:08.668482Z",
     "shell.execute_reply": "2023-01-17T22:32:08.667574Z"
    }
   },
   "outputs": [],
   "source": [
    "data_file = \"001.008.json\"\n",
    "# solution\n"
   ]
  },
  {
   "attachments": {},
   "cell_type": "markdown",
   "id": "5f1782ab",
   "metadata": {},
   "source": [
    "### 001.009 From a table in an HTML page\n",
    "\n",
    "1. Replicate 001.005 but with the HTML file \"[001.009.html](001.009.html)\". Use beautifulsoup4 flavor\n",
    "1. Make sure there is only a single header row, ids are shown, and the ID column is called 'ID'"
   ]
  },
  {
   "cell_type": "code",
   "execution_count": 11,
   "id": "9c84bd48",
   "metadata": {
    "execution": {
     "iopub.execute_input": "2023-01-17T22:32:08.672877Z",
     "iopub.status.busy": "2023-01-17T22:32:08.672541Z",
     "iopub.status.idle": "2023-01-17T22:32:08.676170Z",
     "shell.execute_reply": "2023-01-17T22:32:08.675154Z"
    }
   },
   "outputs": [],
   "source": [
    "data_file = \"001.009.html\"\n",
    "# solution\n"
   ]
  }
 ],
 "metadata": {
  "kernelspec": {
   "display_name": ".venv",
   "language": "python",
   "name": "python3"
  },
  "language_info": {
   "codemirror_mode": {
    "name": "ipython",
    "version": 3
   },
   "file_extension": ".py",
   "mimetype": "text/x-python",
   "name": "python",
   "nbconvert_exporter": "python",
   "pygments_lexer": "ipython3",
   "version": "3.10.6"
  },
  "vscode": {
   "interpreter": {
    "hash": "7daeb9a356073df578df6d7584369b7908e732a3e4cb2289ee7d810fc6635fc0"
   }
  }
 },
 "nbformat": 4,
 "nbformat_minor": 5
}
