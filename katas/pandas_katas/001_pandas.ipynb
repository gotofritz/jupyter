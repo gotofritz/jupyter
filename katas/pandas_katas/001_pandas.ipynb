{
 "cells": [
  {
   "cell_type": "markdown",
   "id": "99786a37",
   "metadata": {},
   "source": [
    "# Pandas\n",
    "\n",
    "Pandas is a powerful library for data manipulation and analysis in Python. It is widely used in a range of fields, including data science, finance, and statistics."
   ]
  },
  {
   "attachments": {},
   "cell_type": "markdown",
   "id": "89ce8c2b",
   "metadata": {},
   "source": [
    "## 001. DataFrame Importing / Exporting"
   ]
  },
  {
   "attachments": {},
   "cell_type": "markdown",
   "id": "61c0a177",
   "metadata": {},
   "source": [
    "## 001.000 Assets\n",
    "\n",
    "Some assets to avoid too much typing\n",
    "\n",
    "| Name        | Age|\n",
    "|-------------|----|\n",
    "| Mbappé      | 23 |\n",
    "| De Bruyne   | 31 |\n",
    "| Lewandowski | 33 |\n",
    "| Benzema     | 34 |\n",
    "| Messi       | 35 |"
   ]
  },
  {
   "cell_type": "code",
   "execution_count": null,
   "id": "062bf7d3",
   "metadata": {},
   "outputs": [],
   "source": []
  },
  {
   "cell_type": "code",
   "execution_count": 1,
   "id": "6b935743",
   "metadata": {
    "execution": {
     "iopub.execute_input": "2023-09-04T22:55:37.827030Z",
     "iopub.status.busy": "2023-09-04T22:55:37.826510Z",
     "iopub.status.idle": "2023-09-04T22:55:37.842761Z",
     "shell.execute_reply": "2023-09-04T22:55:37.842415Z"
    }
   },
   "outputs": [],
   "source": [
    "import sys\n",
    "from pathlib import Path\n",
    "\n",
    "current_dir = Path().resolve()\n",
    "while current_dir != current_dir.parent and current_dir.name != \"katas\":\n",
    "    current_dir = current_dir.parent\n",
    "if current_dir != current_dir.parent:\n",
    "    sys.path.append(current_dir.as_posix())"
   ]
  },
  {
   "cell_type": "code",
   "execution_count": 2,
   "id": "02ca7850",
   "metadata": {
    "execution": {
     "iopub.execute_input": "2023-09-04T22:55:37.844938Z",
     "iopub.status.busy": "2023-09-04T22:55:37.844794Z",
     "iopub.status.idle": "2023-09-04T22:55:38.051692Z",
     "shell.execute_reply": "2023-09-04T22:55:38.049313Z"
    }
   },
   "outputs": [],
   "source": [
    "import pandas as pd\n",
    "import numpy as np\n",
    "from lib.utils import fresh_df\n",
    "from IPython.core.interactiveshell import InteractiveShell\n",
    "\n",
    "pd.set_option('display.max_rows', None)\n",
    "InteractiveShell.ast_node_interactivity = \"all\"\n",
    "names_as_list = [\"Mbappé\", \"De Bruyne\", \"Lewandowski\", \"Benzema\", \"Messi\"]\n",
    "ages_as_list = [ 23,       31,          33,             34,        35]\n"
   ]
  },
  {
   "attachments": {},
   "cell_type": "markdown",
   "id": "5b212460",
   "metadata": {},
   "source": [
    "### 001.001 Dictionary of arrays\n",
    "\n",
    "1. Replicate this data as a dataframe with a dictionary of arrays, using a constructor, and print it\n",
    "1. Do the same, but using from_dict\n",
    "1. Extract the dict out of the df again with to_dict\n"
   ]
  },
  {
   "cell_type": "code",
   "execution_count": 3,
   "id": "c741ca30",
   "metadata": {
    "execution": {
     "iopub.execute_input": "2023-09-04T22:55:38.057366Z",
     "iopub.status.busy": "2023-09-04T22:55:38.056897Z",
     "iopub.status.idle": "2023-09-04T22:55:38.069472Z",
     "shell.execute_reply": "2023-09-04T22:55:38.068634Z"
    }
   },
   "outputs": [],
   "source": [
    "# solution\n"
   ]
  },
  {
   "attachments": {},
   "cell_type": "markdown",
   "id": "54889ea9",
   "metadata": {},
   "source": [
    "### 001.002 List of dictionaries\n",
    "\n",
    "1. Create a list where every entry is a dict with keys \"Name\" and \"Age\", and print\n",
    "1. Create a df from it\n",
    "1. Do the same, but using from_records\n",
    "1. Extract the list out of the df again with to_dict (not to_records). Note that you can actually get a list and not a dict, with the right parameters...\n"
   ]
  },
  {
   "cell_type": "code",
   "execution_count": 4,
   "id": "42da9c2b",
   "metadata": {
    "execution": {
     "iopub.execute_input": "2023-09-04T22:55:38.080586Z",
     "iopub.status.busy": "2023-09-04T22:55:38.080138Z",
     "iopub.status.idle": "2023-09-04T22:55:38.089409Z",
     "shell.execute_reply": "2023-09-04T22:55:38.088239Z"
    }
   },
   "outputs": [],
   "source": [
    "# solution\n"
   ]
  },
  {
   "attachments": {},
   "cell_type": "markdown",
   "id": "07d889f0",
   "metadata": {},
   "source": [
    "### 001.003 2D NumPy array\n",
    "\n",
    "1. Print a NumPy 2D array with the same data as before, but with an extra column for \"Last Updated\" with a pd.Timestamp, and create a df with it. Make sure the column names are still \"Name\", \"Age\", \"Last Updated\"\n",
    "1. Update the \"Last Updated\" column with the current timestamp\n",
    "1. Convert to a NumPy and print it, proving the timestamp is different\n"
   ]
  },
  {
   "cell_type": "code",
   "execution_count": 5,
   "id": "58384722",
   "metadata": {
    "execution": {
     "iopub.execute_input": "2023-09-04T22:55:38.104461Z",
     "iopub.status.busy": "2023-09-04T22:55:38.101108Z",
     "iopub.status.idle": "2023-09-04T22:55:38.120728Z",
     "shell.execute_reply": "2023-09-04T22:55:38.120325Z"
    }
   },
   "outputs": [],
   "source": [
    "# solution\n"
   ]
  },
  {
   "attachments": {},
   "cell_type": "markdown",
   "id": "1205b09a",
   "metadata": {},
   "source": [
    "### 001.004 Pandas Series\n",
    "\n",
    "1. Create two pandas series from the two lists, and then concatenate them into a df. Make sure the column names are still \"Name\" and \"Age\"\n",
    "1. Do the same thing, but differently - this time mae sure the names are already in the Series"
   ]
  },
  {
   "cell_type": "code",
   "execution_count": 6,
   "id": "57db64a0",
   "metadata": {
    "execution": {
     "iopub.execute_input": "2023-09-04T22:55:38.122370Z",
     "iopub.status.busy": "2023-09-04T22:55:38.122281Z",
     "iopub.status.idle": "2023-09-04T22:55:38.123952Z",
     "shell.execute_reply": "2023-09-04T22:55:38.123706Z"
    }
   },
   "outputs": [],
   "source": [
    "# solution\n"
   ]
  },
  {
   "attachments": {},
   "cell_type": "markdown",
   "id": "29b3d83f",
   "metadata": {},
   "source": [
    "### 001.005 SQL (sqlite)\n",
    "\n",
    "1. Create a DataFrame by reading from table 'players' in SQLite DB \"001.005.sqlite\" with the built-in SQLite module. Note that the index column is called 'id'\n",
    "1. Change the Last Updated column to the current timestamp in the DataFrame. Write the updated DataFrame data to the database. HINT: Make sure you tell the function to use the 'id' column for indices\n",
    "1. Load the data again in a new DataFrame, and confirm it's same as for step (1) except for the timestamp\n",
    "\n"
   ]
  },
  {
   "cell_type": "code",
   "execution_count": 7,
   "id": "eaa7d2ae",
   "metadata": {
    "execution": {
     "iopub.execute_input": "2023-09-04T22:55:38.125533Z",
     "iopub.status.busy": "2023-09-04T22:55:38.125432Z",
     "iopub.status.idle": "2023-09-04T22:55:38.127384Z",
     "shell.execute_reply": "2023-09-04T22:55:38.126998Z"
    }
   },
   "outputs": [],
   "source": [
    "# solution\n"
   ]
  },
  {
   "cell_type": "markdown",
   "id": "9f963146",
   "metadata": {},
   "source": [
    "### 001.006 SQL (sqlalchemy)\n",
    "\n",
    "1. Replicate 001.005 but use sqlalchemy to connect to the DB\n",
    "\n",
    "(Note: you will probably get warnings, but you can ignore them)"
   ]
  },
  {
   "cell_type": "code",
   "execution_count": 8,
   "id": "163074bb",
   "metadata": {
    "execution": {
     "iopub.execute_input": "2023-09-04T22:55:38.129159Z",
     "iopub.status.busy": "2023-09-04T22:55:38.129065Z",
     "iopub.status.idle": "2023-09-04T22:55:38.131053Z",
     "shell.execute_reply": "2023-09-04T22:55:38.130610Z"
    }
   },
   "outputs": [],
   "source": [
    "# solution\n"
   ]
  },
  {
   "attachments": {},
   "cell_type": "markdown",
   "id": "a26e421c",
   "metadata": {},
   "source": [
    "### 001.007 TSV file\n",
    "\n",
    "1. Create a DataFrame by reading from TSV file in `data_file`. Note that the index column is called 'id'\n",
    "1. Change the Last Updated column to the current timestamp in the DataFrame. Write the updated DataFrame data to the same file. HINT: Make sure you tell the function to use the 'id' column for indices\n",
    "1. Load the data again in a new DataFrame, and confirm it's same as for step (1) except for the timestamp"
   ]
  },
  {
   "cell_type": "code",
   "execution_count": 9,
   "id": "93d93f42",
   "metadata": {
    "execution": {
     "iopub.execute_input": "2023-09-04T22:55:38.132651Z",
     "iopub.status.busy": "2023-09-04T22:55:38.132558Z",
     "iopub.status.idle": "2023-09-04T22:55:38.134102Z",
     "shell.execute_reply": "2023-09-04T22:55:38.133842Z"
    }
   },
   "outputs": [],
   "source": [
    "data_file = \"001.007.tsv\"\n",
    "# solution\n"
   ]
  },
  {
   "attachments": {},
   "cell_type": "markdown",
   "id": "7a202cfd",
   "metadata": {},
   "source": [
    "### 001.008 JSON file\n",
    "\n",
    "1. Create a DataFrame by reading from JSON file in `data_file`\n",
    "1. Change the Last Updated column to the current timestamp in the DataFrame. Write the updated DataFrame data to the same file. HINT: Make sure you tell the function to use the 'id' column for indices\n",
    "1. Load the data again in a new DataFrame, and confirm it's same as for step (1) except for the timestamp. Make sure non ASCII characters are readable"
   ]
  },
  {
   "cell_type": "code",
   "execution_count": 10,
   "id": "aa08304c",
   "metadata": {
    "execution": {
     "iopub.execute_input": "2023-09-04T22:55:38.135603Z",
     "iopub.status.busy": "2023-09-04T22:55:38.135516Z",
     "iopub.status.idle": "2023-09-04T22:55:38.137170Z",
     "shell.execute_reply": "2023-09-04T22:55:38.136898Z"
    }
   },
   "outputs": [],
   "source": [
    "data_file = \"001.008.json\"\n",
    "# solution\n"
   ]
  },
  {
   "attachments": {},
   "cell_type": "markdown",
   "id": "5f1782ab",
   "metadata": {},
   "source": [
    "### 001.009 From a table in an HTML page\n",
    "\n",
    "1. Create a DataFrame by reading from HTML file in `data_file`. Use beautifulsoup flavor. Note that the column ID is called \"ID\"\n",
    "1. Change the Last Updated column to the current timestamp in the DataFrame. Write the updated DataFrame data to the same file. HINT: Make sure you \"flatten\" the indices, because `to_html` writes two rows for the headers exactly as you see in the output\n",
    "1. Load the data again in a new DataFrame, and confirm it's same as for step (1) except for the timestamp"
   ]
  },
  {
   "cell_type": "code",
   "execution_count": 11,
   "id": "9c84bd48",
   "metadata": {
    "execution": {
     "iopub.execute_input": "2023-09-04T22:55:38.138875Z",
     "iopub.status.busy": "2023-09-04T22:55:38.138776Z",
     "iopub.status.idle": "2023-09-04T22:55:38.140628Z",
     "shell.execute_reply": "2023-09-04T22:55:38.140283Z"
    }
   },
   "outputs": [],
   "source": [
    "data_file = \"001.009.html\"\n",
    "# solution\n"
   ]
  },
  {
   "attachments": {},
   "cell_type": "markdown",
   "id": "06d73c28",
   "metadata": {},
   "source": [
    "### 001.010 Markdown\n",
    "\n",
    "(requires the tabulate package)\n",
    "\n",
    "1. There is no read_markdown method. Use the generic method to load tabular data, making sure that\n",
    "   1. It is aware of | as delimiter\n",
    "   1. It handles the index as the 2nd (zero-based) column\n",
    "   1. It is aware that pd treats the 1st and last delimiters as _separators_, meaning it puts an empty column either side. So you need to remove empty columns; both the data, and the column name.\n",
    "   1. It treats the `------` row as a normal data row (which row is it? Given that there is a header...). Ignore it\n",
    "1. There is a to_markdown, method, but it doesn't write to a file like the similarly named ones. You'll have to do it old-school\n",
    "   1. Overwrite `Last Updated` with the current timestamp\n",
    "   1. Write a file using the output of to_markdown, using the 'github' table format\n",
    "1. Reload the table again and prove it was overwritten correctly\n",
    "\n"
   ]
  },
  {
   "cell_type": "code",
   "execution_count": 12,
   "id": "fc92662d",
   "metadata": {
    "execution": {
     "iopub.execute_input": "2023-09-04T22:55:38.142134Z",
     "iopub.status.busy": "2023-09-04T22:55:38.142046Z",
     "iopub.status.idle": "2023-09-04T22:55:38.143871Z",
     "shell.execute_reply": "2023-09-04T22:55:38.143434Z"
    }
   },
   "outputs": [],
   "source": [
    "data_file = \"001.010.md\"\n",
    "# solution\n"
   ]
  }
 ],
 "metadata": {
  "kernelspec": {
   "display_name": ".venv",
   "language": "python",
   "name": "python3"
  },
  "language_info": {
   "codemirror_mode": {
    "name": "ipython",
    "version": 3
   },
   "file_extension": ".py",
   "mimetype": "text/x-python",
   "name": "python",
   "nbconvert_exporter": "python",
   "pygments_lexer": "ipython3",
   "version": "3.10.6"
  },
  "vscode": {
   "interpreter": {
    "hash": "7daeb9a356073df578df6d7584369b7908e732a3e4cb2289ee7d810fc6635fc0"
   }
  }
 },
 "nbformat": 4,
 "nbformat_minor": 5
}
