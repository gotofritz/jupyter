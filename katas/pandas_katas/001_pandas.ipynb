{
 "cells": [
  {
   "cell_type": "markdown",
   "id": "99786a37",
   "metadata": {},
   "source": [
    "# Pandas\n",
    "\n",
    "Pandas is a powerful library for data manipulation and analysis in Python. It is widely used in a range of fields, including data science, finance, and statistics."
   ]
  },
  {
   "attachments": {},
   "cell_type": "markdown",
   "id": "89ce8c2b",
   "metadata": {},
   "source": [
    "## 001. DataFrame Importing / Exporting"
   ]
  },
  {
   "attachments": {},
   "cell_type": "markdown",
   "id": "61c0a177",
   "metadata": {},
   "source": [
    "## 001.000 Assets\n",
    "\n",
    "Some assets to avoid too much typing\n",
    "\n",
    "| Name        | Age|\n",
    "|-------------|----|\n",
    "| Mbappé      | 23 |\n",
    "| De Bruyne   | 31 |\n",
    "| Lewandowski | 33 |\n",
    "| Benzema     | 34 |\n",
    "| Messi       | 35 |"
   ]
  },
  {
   "cell_type": "code",
   "execution_count": 1,
   "id": "02ca7850",
   "metadata": {
    "execution": {
     "iopub.execute_input": "2024-01-11T07:31:49.082965Z",
     "iopub.status.busy": "2024-01-11T07:31:49.082755Z",
     "iopub.status.idle": "2024-01-11T07:31:49.451756Z",
     "shell.execute_reply": "2024-01-11T07:31:49.451447Z"
    }
   },
   "outputs": [],
   "source": [
    "import pandas as pd\n",
    "import numpy as np\n",
    "from IPython.core.interactiveshell import InteractiveShell\n",
    "\n",
    "pd.set_option('display.max_rows', None)\n",
    "InteractiveShell.ast_node_interactivity = \"all\"\n",
    "names_as_list = [\"Mbappé\", \"De Bruyne\", \"Lewandowski\", \"Benzema\", \"Messi\"]\n",
    "ages_as_list = [ 23,       31,          33,             34,        35]\n"
   ]
  },
  {
   "attachments": {},
   "cell_type": "markdown",
   "id": "5b212460",
   "metadata": {},
   "source": [
    "### 001.001 Dictionary of arrays\n",
    "\n",
    "1. Replicate this data as a dataframe with a dictionary of arrays, using a constructor, and print it\n",
    "1. Do the same, but using from_dict\n",
    "1. Extract the dict out of the df again with to_dict\n"
   ]
  },
  {
   "cell_type": "code",
   "execution_count": 2,
   "id": "c741ca30",
   "metadata": {
    "execution": {
     "iopub.execute_input": "2024-01-11T07:31:49.453498Z",
     "iopub.status.busy": "2024-01-11T07:31:49.453390Z",
     "iopub.status.idle": "2024-01-11T07:31:49.455056Z",
     "shell.execute_reply": "2024-01-11T07:31:49.454814Z"
    }
   },
   "outputs": [],
   "source": [
    "# solution\n"
   ]
  },
  {
   "attachments": {},
   "cell_type": "markdown",
   "id": "54889ea9",
   "metadata": {},
   "source": [
    "### 001.002 List of dictionaries\n",
    "\n",
    "1. Create a list where every entry is a dict with keys \"Name\" and \"Age\", and print\n",
    "1. Create a df from it\n",
    "1. Do the same, but using from_records\n",
    "1. Extract the list out of the df again with to_dict (not to_records). Note that you can actually get a list and not a dict, with the right parameters...\n"
   ]
  },
  {
   "cell_type": "code",
   "execution_count": 3,
   "id": "42da9c2b",
   "metadata": {
    "execution": {
     "iopub.execute_input": "2024-01-11T07:31:49.456420Z",
     "iopub.status.busy": "2024-01-11T07:31:49.456337Z",
     "iopub.status.idle": "2024-01-11T07:31:49.457900Z",
     "shell.execute_reply": "2024-01-11T07:31:49.457672Z"
    }
   },
   "outputs": [],
   "source": [
    "# solution\n"
   ]
  },
  {
   "attachments": {},
   "cell_type": "markdown",
   "id": "07d889f0",
   "metadata": {},
   "source": [
    "### 001.003 2D NumPy array\n",
    "\n",
    "1. Create a NumPy 2D array with the same data as before, but with an extra column for \"Last Updated\" with a pd.Timestamp\n",
    "    1. and create a df with it\n",
    "    1. Make sure the column names are still \"Name\", \"Age\", \"Last Updated\"\n",
    "1. Update the \"Last Updated\" column with the current timestamp\n",
    "1. Convert to a NumPy and print it, proving the timestamp is different\n"
   ]
  },
  {
   "cell_type": "code",
   "execution_count": 4,
   "id": "58384722",
   "metadata": {
    "execution": {
     "iopub.execute_input": "2024-01-11T07:31:49.459265Z",
     "iopub.status.busy": "2024-01-11T07:31:49.459193Z",
     "iopub.status.idle": "2024-01-11T07:31:49.460616Z",
     "shell.execute_reply": "2024-01-11T07:31:49.460369Z"
    }
   },
   "outputs": [],
   "source": [
    "# solution\n"
   ]
  },
  {
   "attachments": {},
   "cell_type": "markdown",
   "id": "1205b09a",
   "metadata": {},
   "source": [
    "### 001.004 Pandas Series\n",
    "\n",
    "1. Create two pandas series from the two lists, and then concatenate them into a df. Make sure the column names are still \"Name\" and \"Age\"\n",
    "1. Do the same thing, but differently - this time make sure the names are already in the Series"
   ]
  },
  {
   "cell_type": "code",
   "execution_count": 5,
   "id": "57db64a0",
   "metadata": {
    "execution": {
     "iopub.execute_input": "2024-01-11T07:31:49.461923Z",
     "iopub.status.busy": "2024-01-11T07:31:49.461850Z",
     "iopub.status.idle": "2024-01-11T07:31:49.463260Z",
     "shell.execute_reply": "2024-01-11T07:31:49.463060Z"
    }
   },
   "outputs": [],
   "source": [
    "# solution\n"
   ]
  },
  {
   "attachments": {},
   "cell_type": "markdown",
   "id": "29b3d83f",
   "metadata": {},
   "source": [
    "### 001.005 SQL (sqlite)\n",
    "\n",
    "1. Use sqlite module to read from db file DB\n",
    "    1. import module\n",
    "    1. Create a DataFrame by reading from table 'players' \n",
    "    1. Note that the index column is called 'id'\n",
    "1. Change the Last Updated column to the current timestamp in the DataFrame.\n",
    "    1. Write the updated DataFrame data to the database\n",
    "    1. HINT: Make sure you tell the function to use the 'id' column for indices\n",
    "    1. What happens if records already exist?\n",
    "1. Load the data again in a new DataFrame, and confirm it's same as for step (1) except for the timestamp\n",
    "\n"
   ]
  },
  {
   "cell_type": "code",
   "execution_count": 6,
   "id": "eaa7d2ae",
   "metadata": {
    "execution": {
     "iopub.execute_input": "2024-01-11T07:31:49.464598Z",
     "iopub.status.busy": "2024-01-11T07:31:49.464507Z",
     "iopub.status.idle": "2024-01-11T07:31:49.465874Z",
     "shell.execute_reply": "2024-01-11T07:31:49.465656Z"
    }
   },
   "outputs": [],
   "source": [
    "DB = \"001.005.sqlite\"\n",
    "# solution\n"
   ]
  },
  {
   "cell_type": "markdown",
   "id": "9f963146",
   "metadata": {},
   "source": [
    "### 001.006 SQL (sqlalchemy)\n",
    "\n",
    "1. Replicate 001.005 but use sqlalchemy to connect to the DB\n",
    "    1. You need to use an undocumented method of engine\n",
    "    1. you will probably get warnings, but you can ignore them"
   ]
  },
  {
   "cell_type": "code",
   "execution_count": 7,
   "id": "163074bb",
   "metadata": {
    "execution": {
     "iopub.execute_input": "2024-01-11T07:31:49.467233Z",
     "iopub.status.busy": "2024-01-11T07:31:49.467167Z",
     "iopub.status.idle": "2024-01-11T07:31:49.468631Z",
     "shell.execute_reply": "2024-01-11T07:31:49.468424Z"
    }
   },
   "outputs": [],
   "source": [
    "DB = \"001.005.sqlite\"\n",
    "# solution\n"
   ]
  },
  {
   "attachments": {},
   "cell_type": "markdown",
   "id": "a26e421c",
   "metadata": {},
   "source": [
    "### 001.007 TSV file\n",
    "\n",
    "1. Create a DataFrame by reading from TSV file in `data_file`\n",
    "    1. It's a tsv, not csv\n",
    "    1. The index column is called 'id'\n",
    "1. Change the Last Updated column to the current timestamp in the DataFrame\n",
    "    1. Write the updated DataFrame data to the same file. \n",
    "    1. Make sure you tell the function to use the 'id' column for indices\n",
    "1. Load the data again in a new DataFrame, and confirm it's same as for step (1) except for the timestamp"
   ]
  },
  {
   "cell_type": "code",
   "execution_count": 8,
   "id": "93d93f42",
   "metadata": {
    "execution": {
     "iopub.execute_input": "2024-01-11T07:31:49.469877Z",
     "iopub.status.busy": "2024-01-11T07:31:49.469799Z",
     "iopub.status.idle": "2024-01-11T07:31:49.471344Z",
     "shell.execute_reply": "2024-01-11T07:31:49.471114Z"
    }
   },
   "outputs": [],
   "source": [
    "data_file = \"001.007.tsv\"\n",
    "# solution\n"
   ]
  },
  {
   "attachments": {},
   "cell_type": "markdown",
   "id": "7a202cfd",
   "metadata": {},
   "source": [
    "### 001.008 JSON file\n",
    "\n",
    "1. Create a DataFrame by reading from JSON file in `data_file`\n",
    "1. Change the Last Updated column to the current timestamp in the DataFrame.\n",
    "    1. Write the updated DataFrame data to the same file. \n",
    "    1. Make sure it handles non-ASCII characters\n",
    "1. Load the data again in a new DataFrame, and confirm it's same as for step (1) except for the timestamp"
   ]
  },
  {
   "cell_type": "code",
   "execution_count": 9,
   "id": "aa08304c",
   "metadata": {
    "execution": {
     "iopub.execute_input": "2024-01-11T07:31:49.472657Z",
     "iopub.status.busy": "2024-01-11T07:31:49.472580Z",
     "iopub.status.idle": "2024-01-11T07:31:49.473981Z",
     "shell.execute_reply": "2024-01-11T07:31:49.473755Z"
    }
   },
   "outputs": [],
   "source": [
    "data_file = \"001.008.json\"\n",
    "# solution\n"
   ]
  },
  {
   "attachments": {},
   "cell_type": "markdown",
   "id": "5f1782ab",
   "metadata": {},
   "source": [
    "### 001.009 From a table in an HTML page\n",
    "\n",
    "1. Create a DataFrame by reading from HTML file in `data_file`\n",
    "    1. Use beautifulsoup flavor\n",
    "    1. Note that the column ID is called \"ID\"\n",
    "1. Change the Last Updated column to the current timestamp in the DataFrame\n",
    "    1. Write the updated DataFrame data to the same file. \n",
    "    1. Make sure you \"flatten\" the indices, because `to_html` writes two rows for the headers exactly as you see in the output here in the notebook:\n",
    "        1. the empty 0th column needs at to be called 'ID'\n",
    "        1. the column with 'ID' in the notebook needs to have no name, so the whole row disappears\n",
    "        1. when you write the table, you need to re-tell pd what the column names are, including ID\n",
    "1. Load the data again in a new DataFrame, and confirm it's same as for step (1) except for the timestamp"
   ]
  },
  {
   "cell_type": "code",
   "execution_count": 10,
   "id": "9c84bd48",
   "metadata": {
    "execution": {
     "iopub.execute_input": "2024-01-11T07:31:49.475240Z",
     "iopub.status.busy": "2024-01-11T07:31:49.475146Z",
     "iopub.status.idle": "2024-01-11T07:31:49.476559Z",
     "shell.execute_reply": "2024-01-11T07:31:49.476338Z"
    }
   },
   "outputs": [],
   "source": [
    "data_file = \"001.009.html\"\n",
    "# solution\n"
   ]
  },
  {
   "attachments": {},
   "cell_type": "markdown",
   "id": "06d73c28",
   "metadata": {},
   "source": [
    "### 001.010 Markdown\n",
    "\n",
    "(requires the tabulate package)\n",
    "\n",
    "1. There is no read_markdown method. Use the generic method to load tabular data, making sure that\n",
    "   1. data_file is passed using the whacky named argument\n",
    "   1. It is aware of | as delimiter\n",
    "   1. It handles the index as the 2nd (zero-based) column\n",
    "   1. Remove empty columns\n",
    "       1. It is aware that pd treats the 1st and last delimiters as _separators_, meaning it puts an empty column either side. So drop in column dimension\n",
    "       1. Remove both the data, and the column name.\n",
    "   1. The converter treats the `------` row as a normal data row (which row is it? Given that there is a header...), so skip it\n",
    "1. There is a to_markdown, method, but it doesn't write to a file like the similarly named ones. You'll have to do it old-school\n",
    "   1. Overwrite `Last Updated` with the current timestamp\n",
    "   1. Write a file using the output of to_markdown, using the 'github' table format\n",
    "1. Reload the table again and prove it was overwritten correctly\n",
    "\n"
   ]
  },
  {
   "cell_type": "code",
   "execution_count": 11,
   "id": "fc92662d",
   "metadata": {
    "execution": {
     "iopub.execute_input": "2024-01-11T07:31:49.477920Z",
     "iopub.status.busy": "2024-01-11T07:31:49.477847Z",
     "iopub.status.idle": "2024-01-11T07:31:49.479271Z",
     "shell.execute_reply": "2024-01-11T07:31:49.479066Z"
    }
   },
   "outputs": [],
   "source": [
    "data_file = \"001.010.md\"\n",
    "# solution\n"
   ]
  }
 ],
 "metadata": {
  "kernelspec": {
   "display_name": ".venv",
   "language": "python",
   "name": "python3"
  },
  "language_info": {
   "codemirror_mode": {
    "name": "ipython",
    "version": 3
   },
   "file_extension": ".py",
   "mimetype": "text/x-python",
   "name": "python",
   "nbconvert_exporter": "python",
   "pygments_lexer": "ipython3",
   "version": "3.11.1"
  },
  "vscode": {
   "interpreter": {
    "hash": "7daeb9a356073df578df6d7584369b7908e732a3e4cb2289ee7d810fc6635fc0"
   }
  }
 },
 "nbformat": 4,
 "nbformat_minor": 5
}
