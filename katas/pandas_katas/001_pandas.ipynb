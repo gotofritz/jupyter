{
 "cells": [
  {
   "cell_type": "markdown",
   "id": "99786a37",
   "metadata": {},
   "source": [
    "# Pandas\n",
    "\n",
    "Pandas is a powerful library for data manipulation and analysis in Python. It is widely used in a range of fields, including data science, finance, and statistics."
   ]
  },
  {
   "attachments": {},
   "cell_type": "markdown",
   "id": "89ce8c2b",
   "metadata": {},
   "source": [
    "## 001. DataFrame Importing / Exporting"
   ]
  },
  {
   "attachments": {},
   "cell_type": "markdown",
   "id": "61c0a177",
   "metadata": {},
   "source": [
    "## 001.000 Assets\n",
    "\n",
    "Some assets to avoid too much typing\n",
    "\n",
    "| Name        | Age|\n",
    "|-------------|----|\n",
    "| Mbappé      | 23 |\n",
    "| De Bruyne   | 31 |\n",
    "| Lewandowski | 33 |\n",
    "| Benzema     | 34 |\n",
    "| Messi       | 35 |"
   ]
  },
  {
   "cell_type": "code",
   "execution_count": null,
   "id": "062bf7d3",
   "metadata": {},
   "outputs": [],
   "source": []
  },
  {
   "cell_type": "code",
   "execution_count": 1,
   "id": "6b935743",
   "metadata": {
    "execution": {
     "iopub.execute_input": "2023-01-28T10:42:01.883132Z",
     "iopub.status.busy": "2023-01-28T10:42:01.882864Z",
     "iopub.status.idle": "2023-01-28T10:42:01.892247Z",
     "shell.execute_reply": "2023-01-28T10:42:01.891758Z"
    }
   },
   "outputs": [],
   "source": [
    "import sys\n",
    "from pathlib import Path\n",
    "\n",
    "current_dir = Path().resolve()\n",
    "while current_dir != current_dir.parent and current_dir.name != \"katas\":\n",
    "    current_dir = current_dir.parent\n",
    "if current_dir != current_dir.parent:\n",
    "    sys.path.append(current_dir.as_posix())"
   ]
  },
  {
   "cell_type": "code",
   "execution_count": 2,
   "id": "02ca7850",
   "metadata": {
    "execution": {
     "iopub.execute_input": "2023-01-28T10:42:01.895063Z",
     "iopub.status.busy": "2023-01-28T10:42:01.894848Z",
     "iopub.status.idle": "2023-01-28T10:42:02.128923Z",
     "shell.execute_reply": "2023-01-28T10:42:02.106577Z"
    }
   },
   "outputs": [],
   "source": [
    "import pandas as pd\n",
    "import numpy as np\n",
    "from lib.utils import fresh_df\n",
    "from IPython.core.interactiveshell import InteractiveShell\n",
    "\n",
    "pd.set_option('display.max_rows', None)\n",
    "InteractiveShell.ast_node_interactivity = \"all\"\n",
    "names_as_list = [\"Mbappé\", \"De Bruyne\", \"Lewandowski\", \"Benzema\", \"Messi\"]\n",
    "ages_as_list = [ 23,       31,          33,             34,        35]\n"
   ]
  },
  {
   "attachments": {},
   "cell_type": "markdown",
   "id": "5b212460",
   "metadata": {},
   "source": [
    "### 001.001 Dictionary of arrays\n",
    "\n",
    "1. Replicate this data as a dataframe with a dictionary of arrays, using a constructor, and print it\n",
    "1. Do the same, but using from_dict\n",
    "1. Extract the dict out of the df again with to_dict\n"
   ]
  },
  {
   "cell_type": "code",
   "execution_count": 3,
   "id": "c741ca30",
   "metadata": {
    "execution": {
     "iopub.execute_input": "2023-01-28T10:42:02.174083Z",
     "iopub.status.busy": "2023-01-28T10:42:02.173900Z",
     "iopub.status.idle": "2023-01-28T10:42:02.175700Z",
     "shell.execute_reply": "2023-01-28T10:42:02.175361Z"
    }
   },
   "outputs": [],
   "source": [
    "# solution\n"
   ]
  },
  {
   "attachments": {},
   "cell_type": "markdown",
   "id": "54889ea9",
   "metadata": {},
   "source": [
    "### 001.002 List of dictionaries\n",
    "\n",
    "1. Create a list where every entry is a dict with keys \"Name\" and \"Age\", and print\n",
    "1. Create a df from it\n",
    "1. Do the same, but using from_records\n",
    "1. Extract the list out of the df again with to_dict (not to_records). Note that you can actually get a list and not a dict, with the right parameters...\n"
   ]
  },
  {
   "cell_type": "code",
   "execution_count": 4,
   "id": "42da9c2b",
   "metadata": {
    "execution": {
     "iopub.execute_input": "2023-01-28T10:42:02.177353Z",
     "iopub.status.busy": "2023-01-28T10:42:02.177202Z",
     "iopub.status.idle": "2023-01-28T10:42:02.179383Z",
     "shell.execute_reply": "2023-01-28T10:42:02.178929Z"
    }
   },
   "outputs": [],
   "source": [
    "# solution\n"
   ]
  },
  {
   "attachments": {},
   "cell_type": "markdown",
   "id": "07d889f0",
   "metadata": {},
   "source": [
    "### 001.003 2D NumPy array\n",
    "\n",
    "1. Print a NumPy 2D array with the same data as before, but with an extra column for \"Last Updated\" with a pd.Timestamp, and create a df with it. Make sure the column names are still \"Name\", \"Age\", \"Last Updated\"\n",
    "1. Update the \"Last Updated\" column with the current timestamp\n",
    "1. Convert to a NumPy and print it, proving the timestamp is different\n"
   ]
  },
  {
   "cell_type": "code",
   "execution_count": 5,
   "id": "58384722",
   "metadata": {
    "execution": {
     "iopub.execute_input": "2023-01-28T10:42:02.181446Z",
     "iopub.status.busy": "2023-01-28T10:42:02.181308Z",
     "iopub.status.idle": "2023-01-28T10:42:02.182943Z",
     "shell.execute_reply": "2023-01-28T10:42:02.182677Z"
    }
   },
   "outputs": [],
   "source": [
    "# solution\n"
   ]
  },
  {
   "attachments": {},
   "cell_type": "markdown",
   "id": "1205b09a",
   "metadata": {},
   "source": [
    "### 001.004 Pandas Series\n",
    "\n",
    "1. Create two pandas series from the two lists, and then concatenate them into a df. Make sure the colum names are still \"Name\" and \"Age\""
   ]
  },
  {
   "cell_type": "code",
   "execution_count": 6,
   "id": "57db64a0",
   "metadata": {
    "execution": {
     "iopub.execute_input": "2023-01-28T10:42:02.184823Z",
     "iopub.status.busy": "2023-01-28T10:42:02.184664Z",
     "iopub.status.idle": "2023-01-28T10:42:02.186585Z",
     "shell.execute_reply": "2023-01-28T10:42:02.186197Z"
    }
   },
   "outputs": [],
   "source": [
    "# solution\n"
   ]
  },
  {
   "attachments": {},
   "cell_type": "markdown",
   "id": "29b3d83f",
   "metadata": {},
   "source": [
    "### 001.005 SQL (sqlite)\n",
    "\n",
    "1. Create a DataFrame by reading from table 'players' in SQLite DB \"001.005.sqlite\" with the built-in SQLite module. Note that the index column is called 'id'\n",
    "1. Change the Last Updated column to the current timestamp in the DataFrame. Write the updated DataFrame data to the database. HINT: Make sure you tell the function to use the 'id' column for indices\n",
    "1. Load the data again in a new DataFrame, and confirm it's same as for step (1) except for the timestamp\n",
    "\n"
   ]
  },
  {
   "cell_type": "code",
   "execution_count": 7,
   "id": "eaa7d2ae",
   "metadata": {
    "execution": {
     "iopub.execute_input": "2023-01-28T10:42:02.188475Z",
     "iopub.status.busy": "2023-01-28T10:42:02.188345Z",
     "iopub.status.idle": "2023-01-28T10:42:02.190029Z",
     "shell.execute_reply": "2023-01-28T10:42:02.189742Z"
    }
   },
   "outputs": [],
   "source": [
    "# solution\n"
   ]
  },
  {
   "cell_type": "markdown",
   "id": "9f963146",
   "metadata": {},
   "source": [
    "### 001.006 SQL (sqlalchemy)\n",
    "\n",
    "1. Replicate 001.005 but use sqlalchemy to connect to the DB\n",
    "\n",
    "(Note: you will probably get warnings, but you can ignore them)"
   ]
  },
  {
   "cell_type": "code",
   "execution_count": 8,
   "id": "163074bb",
   "metadata": {
    "execution": {
     "iopub.execute_input": "2023-01-28T10:42:02.191918Z",
     "iopub.status.busy": "2023-01-28T10:42:02.191783Z",
     "iopub.status.idle": "2023-01-28T10:42:02.193715Z",
     "shell.execute_reply": "2023-01-28T10:42:02.193303Z"
    }
   },
   "outputs": [],
   "source": [
    "# solution\n"
   ]
  },
  {
   "attachments": {},
   "cell_type": "markdown",
   "id": "a26e421c",
   "metadata": {},
   "source": [
    "### 001.007 TSV file\n",
    "\n",
    "1. Create a DataFrame by reading from TSV file in `data_file`. Note that the index column is called 'id'\n",
    "1. Change the Last Updated column to the current timestamp in the DataFrame. Write the updated DataFrame data to the same file. HINT: Make sure you tell the function to use the 'id' column for indices\n",
    "1. Load the data again in a new DataFrame, and confirm it's same as for step (1) except for the timestamp"
   ]
  },
  {
   "cell_type": "code",
   "execution_count": 9,
   "id": "93d93f42",
   "metadata": {
    "execution": {
     "iopub.execute_input": "2023-01-28T10:42:02.195586Z",
     "iopub.status.busy": "2023-01-28T10:42:02.195453Z",
     "iopub.status.idle": "2023-01-28T10:42:02.197220Z",
     "shell.execute_reply": "2023-01-28T10:42:02.196938Z"
    }
   },
   "outputs": [],
   "source": [
    "data_file = \"001.007.tsv\"\n",
    "# solution\n"
   ]
  },
  {
   "attachments": {},
   "cell_type": "markdown",
   "id": "7a202cfd",
   "metadata": {},
   "source": [
    "### 001.008 JSON file\n",
    "\n",
    "1. Create a DataFrame by reading from JSON file in `data_file`\n",
    "1. Change the Last Updated column to the current timestamp in the DataFrame. Write the updated DataFrame data to the same file. HINT: Make sure you tell the function to use the 'id' column for indices\n",
    "1. Load the data again in a new DataFrame, and confirm it's same as for step (1) except for the timestamp. Make sure non ASCII characters are readable"
   ]
  },
  {
   "cell_type": "code",
   "execution_count": 10,
   "id": "aa08304c",
   "metadata": {
    "execution": {
     "iopub.execute_input": "2023-01-28T10:42:02.198748Z",
     "iopub.status.busy": "2023-01-28T10:42:02.198646Z",
     "iopub.status.idle": "2023-01-28T10:42:02.200203Z",
     "shell.execute_reply": "2023-01-28T10:42:02.199947Z"
    }
   },
   "outputs": [],
   "source": [
    "data_file = \"001.008.json\"\n",
    "# solution\n"
   ]
  },
  {
   "attachments": {},
   "cell_type": "markdown",
   "id": "5f1782ab",
   "metadata": {},
   "source": [
    "### 001.009 From a table in an HTML page\n",
    "\n",
    "1. Create a DataFrame by reading from HTML file in `data_file`. Use beautifulsoup flavor. Note that the column ID is called \"ID\"\n",
    "1. Change the Last Updated column to the current timestamp in the DataFrame. Write the updated DataFrame data to the same file. HINT: Make sure you \"flatten\" the indices, because `to_html` writes two rows for the headers exactly as you see in the output\n",
    "1. Load the data again in a new DataFrame, and confirm it's same as for step (1) except for the timestamp"
   ]
  },
  {
   "cell_type": "code",
   "execution_count": 11,
   "id": "9c84bd48",
   "metadata": {
    "execution": {
     "iopub.execute_input": "2023-01-28T10:42:02.201778Z",
     "iopub.status.busy": "2023-01-28T10:42:02.201669Z",
     "iopub.status.idle": "2023-01-28T10:42:02.203337Z",
     "shell.execute_reply": "2023-01-28T10:42:02.203088Z"
    }
   },
   "outputs": [],
   "source": [
    "data_file = \"001.009.html\"\n",
    "# solution\n"
   ]
  }
 ],
 "metadata": {
  "kernelspec": {
   "display_name": ".venv",
   "language": "python",
   "name": "python3"
  },
  "language_info": {
   "codemirror_mode": {
    "name": "ipython",
    "version": 3
   },
   "file_extension": ".py",
   "mimetype": "text/x-python",
   "name": "python",
   "nbconvert_exporter": "python",
   "pygments_lexer": "ipython3",
   "version": "3.10.6"
  },
  "vscode": {
   "interpreter": {
    "hash": "7daeb9a356073df578df6d7584369b7908e732a3e4cb2289ee7d810fc6635fc0"
   }
  }
 },
 "nbformat": 4,
 "nbformat_minor": 5
}
