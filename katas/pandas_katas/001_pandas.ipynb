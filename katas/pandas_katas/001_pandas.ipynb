{
 "cells": [
  {
   "cell_type": "markdown",
   "id": "99786a37",
   "metadata": {},
   "source": [
    "# Pandas\n",
    "\n",
    "Pandas is a powerful library for data manipulation and analysis in Python. It is widely used in a range of fields, including data science, finance, and statistics."
   ]
  },
  {
   "attachments": {},
   "cell_type": "markdown",
   "id": "89ce8c2b",
   "metadata": {},
   "source": [
    "## 001. DataFrame Importing / Exporting"
   ]
  },
  {
   "attachments": {},
   "cell_type": "markdown",
   "id": "61c0a177",
   "metadata": {},
   "source": [
    "## 001.000 Assets\n",
    "\n",
    "Some assets to avoid too much typing\n",
    "\n",
    "| Name        | Age|\n",
    "|-------------|----|\n",
    "| Mbappé      | 23 |\n",
    "| De Bruyne   | 31 |\n",
    "| Lewandowski | 33 |\n",
    "| Benzema     | 34 |\n",
    "| Messi       | 35 |"
   ]
  },
  {
   "cell_type": "code",
   "execution_count": null,
   "id": "062bf7d3",
   "metadata": {},
   "outputs": [],
   "source": []
  },
  {
   "cell_type": "code",
   "execution_count": 1,
   "id": "6b935743",
   "metadata": {
    "execution": {
     "iopub.execute_input": "2023-03-26T20:19:44.443270Z",
     "iopub.status.busy": "2023-03-26T20:19:44.442312Z",
     "iopub.status.idle": "2023-03-26T20:19:44.463161Z",
     "shell.execute_reply": "2023-03-26T20:19:44.462709Z"
    }
   },
   "outputs": [],
   "source": [
    "import sys\n",
    "from pathlib import Path\n",
    "\n",
    "current_dir = Path().resolve()\n",
    "while current_dir != current_dir.parent and current_dir.name != \"katas\":\n",
    "    current_dir = current_dir.parent\n",
    "if current_dir != current_dir.parent:\n",
    "    sys.path.append(current_dir.as_posix())"
   ]
  },
  {
   "cell_type": "code",
   "execution_count": 2,
   "id": "02ca7850",
   "metadata": {
    "execution": {
     "iopub.execute_input": "2023-03-26T20:19:44.465978Z",
     "iopub.status.busy": "2023-03-26T20:19:44.465586Z",
     "iopub.status.idle": "2023-03-26T20:19:44.672280Z",
     "shell.execute_reply": "2023-03-26T20:19:44.671425Z"
    }
   },
   "outputs": [],
   "source": [
    "import pandas as pd\n",
    "import numpy as np\n",
    "from lib.utils import fresh_df\n",
    "from IPython.core.interactiveshell import InteractiveShell\n",
    "\n",
    "pd.set_option('display.max_rows', None)\n",
    "InteractiveShell.ast_node_interactivity = \"all\"\n",
    "names_as_list = [\"Mbappé\", \"De Bruyne\", \"Lewandowski\", \"Benzema\", \"Messi\"]\n",
    "ages_as_list = [ 23,       31,          33,             34,        35]\n"
   ]
  },
  {
   "attachments": {},
   "cell_type": "markdown",
   "id": "5b212460",
   "metadata": {},
   "source": [
    "### 001.001 Dictionary of arrays\n",
    "\n",
    "1. Replicate this data as a dataframe with a dictionary of arrays, using a constructor, and print it\n",
    "1. Do the same, but using from_dict\n",
    "1. Extract the dict out of the df again with to_dict\n"
   ]
  },
  {
   "cell_type": "code",
   "execution_count": 16,
   "id": "c741ca30",
   "metadata": {
    "execution": {
     "iopub.execute_input": "2023-03-26T20:19:44.678409Z",
     "iopub.status.busy": "2023-03-26T20:19:44.677822Z",
     "iopub.status.idle": "2023-03-26T20:19:44.685939Z",
     "shell.execute_reply": "2023-03-26T20:19:44.682680Z"
    }
   },
   "outputs": [
    {
     "data": {
      "text/html": [
       "<div>\n",
       "<style scoped>\n",
       "    .dataframe tbody tr th:only-of-type {\n",
       "        vertical-align: middle;\n",
       "    }\n",
       "\n",
       "    .dataframe tbody tr th {\n",
       "        vertical-align: top;\n",
       "    }\n",
       "\n",
       "    .dataframe thead th {\n",
       "        text-align: right;\n",
       "    }\n",
       "</style>\n",
       "<table border=\"1\" class=\"dataframe\">\n",
       "  <thead>\n",
       "    <tr style=\"text-align: right;\">\n",
       "      <th></th>\n",
       "      <th>Name</th>\n",
       "      <th>Age</th>\n",
       "    </tr>\n",
       "  </thead>\n",
       "  <tbody>\n",
       "    <tr>\n",
       "      <th>0</th>\n",
       "      <td>Mbappé</td>\n",
       "      <td>23</td>\n",
       "    </tr>\n",
       "    <tr>\n",
       "      <th>1</th>\n",
       "      <td>De Bruyne</td>\n",
       "      <td>31</td>\n",
       "    </tr>\n",
       "    <tr>\n",
       "      <th>2</th>\n",
       "      <td>Lewandowski</td>\n",
       "      <td>33</td>\n",
       "    </tr>\n",
       "    <tr>\n",
       "      <th>3</th>\n",
       "      <td>Benzema</td>\n",
       "      <td>34</td>\n",
       "    </tr>\n",
       "    <tr>\n",
       "      <th>4</th>\n",
       "      <td>Messi</td>\n",
       "      <td>35</td>\n",
       "    </tr>\n",
       "  </tbody>\n",
       "</table>\n",
       "</div>"
      ],
      "text/plain": [
       "          Name  Age\n",
       "0       Mbappé   23\n",
       "1    De Bruyne   31\n",
       "2  Lewandowski   33\n",
       "3      Benzema   34\n",
       "4        Messi   35"
      ]
     },
     "execution_count": 16,
     "metadata": {},
     "output_type": "execute_result"
    },
    {
     "data": {
      "text/html": [
       "<div>\n",
       "<style scoped>\n",
       "    .dataframe tbody tr th:only-of-type {\n",
       "        vertical-align: middle;\n",
       "    }\n",
       "\n",
       "    .dataframe tbody tr th {\n",
       "        vertical-align: top;\n",
       "    }\n",
       "\n",
       "    .dataframe thead th {\n",
       "        text-align: right;\n",
       "    }\n",
       "</style>\n",
       "<table border=\"1\" class=\"dataframe\">\n",
       "  <thead>\n",
       "    <tr style=\"text-align: right;\">\n",
       "      <th></th>\n",
       "      <th>Name</th>\n",
       "      <th>Age</th>\n",
       "    </tr>\n",
       "  </thead>\n",
       "  <tbody>\n",
       "    <tr>\n",
       "      <th>0</th>\n",
       "      <td>Mbappé</td>\n",
       "      <td>23</td>\n",
       "    </tr>\n",
       "    <tr>\n",
       "      <th>1</th>\n",
       "      <td>De Bruyne</td>\n",
       "      <td>31</td>\n",
       "    </tr>\n",
       "    <tr>\n",
       "      <th>2</th>\n",
       "      <td>Lewandowski</td>\n",
       "      <td>33</td>\n",
       "    </tr>\n",
       "    <tr>\n",
       "      <th>3</th>\n",
       "      <td>Benzema</td>\n",
       "      <td>34</td>\n",
       "    </tr>\n",
       "    <tr>\n",
       "      <th>4</th>\n",
       "      <td>Messi</td>\n",
       "      <td>35</td>\n",
       "    </tr>\n",
       "  </tbody>\n",
       "</table>\n",
       "</div>"
      ],
      "text/plain": [
       "          Name  Age\n",
       "0       Mbappé   23\n",
       "1    De Bruyne   31\n",
       "2  Lewandowski   33\n",
       "3      Benzema   34\n",
       "4        Messi   35"
      ]
     },
     "execution_count": 16,
     "metadata": {},
     "output_type": "execute_result"
    },
    {
     "data": {
      "text/plain": [
       "{'Name': ['Mbappé', 'De Bruyne', 'Lewandowski', 'Benzema', 'Messi'],\n",
       " 'Age': [23, 31, 33, 34, 35]}"
      ]
     },
     "execution_count": 16,
     "metadata": {},
     "output_type": "execute_result"
    }
   ],
   "source": [
    "# solution\n",
    "data = {\n",
    "    \"Name\": names_as_list,\n",
    "    \"Age\": ages_as_list\n",
    "}\n",
    "df = pd.DataFrame(data)\n",
    "df \n",
    "\n",
    "\n",
    "df = pd.DataFrame.from_dict(data=data)\n",
    "df \n",
    "\n",
    "df.to_dict(orient=\"list\")\n",
    "\n",
    "\n"
   ]
  },
  {
   "attachments": {},
   "cell_type": "markdown",
   "id": "54889ea9",
   "metadata": {},
   "source": [
    "### 001.002 List of dictionaries\n",
    "\n",
    "1. Create a list where every entry is a dict with keys \"Name\" and \"Age\", and print\n",
    "1. Create a df from it\n",
    "1. Do the same, but using from_records\n",
    "1. Extract the list out of the df again with to_dict (not to_records). Note that you can actually get a list and not a dict, with the right parameters...\n"
   ]
  },
  {
   "cell_type": "code",
   "execution_count": 18,
   "id": "42da9c2b",
   "metadata": {
    "execution": {
     "iopub.execute_input": "2023-03-26T20:19:44.696872Z",
     "iopub.status.busy": "2023-03-26T20:19:44.696004Z",
     "iopub.status.idle": "2023-03-26T20:19:44.702731Z",
     "shell.execute_reply": "2023-03-26T20:19:44.700983Z"
    }
   },
   "outputs": [
    {
     "data": {
      "text/plain": [
       "[{'Name': 'Mbappé', 'Age': 23},\n",
       " {'Name': 'De Bruyne', 'Age': 31},\n",
       " {'Name': 'Lewandowski', 'Age': 33},\n",
       " {'Name': 'Benzema', 'Age': 34},\n",
       " {'Name': 'Messi', 'Age': 35}]"
      ]
     },
     "execution_count": 18,
     "metadata": {},
     "output_type": "execute_result"
    },
    {
     "data": {
      "text/html": [
       "<div>\n",
       "<style scoped>\n",
       "    .dataframe tbody tr th:only-of-type {\n",
       "        vertical-align: middle;\n",
       "    }\n",
       "\n",
       "    .dataframe tbody tr th {\n",
       "        vertical-align: top;\n",
       "    }\n",
       "\n",
       "    .dataframe thead th {\n",
       "        text-align: right;\n",
       "    }\n",
       "</style>\n",
       "<table border=\"1\" class=\"dataframe\">\n",
       "  <thead>\n",
       "    <tr style=\"text-align: right;\">\n",
       "      <th></th>\n",
       "      <th>Name</th>\n",
       "      <th>Age</th>\n",
       "    </tr>\n",
       "  </thead>\n",
       "  <tbody>\n",
       "    <tr>\n",
       "      <th>0</th>\n",
       "      <td>Mbappé</td>\n",
       "      <td>23</td>\n",
       "    </tr>\n",
       "    <tr>\n",
       "      <th>1</th>\n",
       "      <td>De Bruyne</td>\n",
       "      <td>31</td>\n",
       "    </tr>\n",
       "    <tr>\n",
       "      <th>2</th>\n",
       "      <td>Lewandowski</td>\n",
       "      <td>33</td>\n",
       "    </tr>\n",
       "    <tr>\n",
       "      <th>3</th>\n",
       "      <td>Benzema</td>\n",
       "      <td>34</td>\n",
       "    </tr>\n",
       "    <tr>\n",
       "      <th>4</th>\n",
       "      <td>Messi</td>\n",
       "      <td>35</td>\n",
       "    </tr>\n",
       "  </tbody>\n",
       "</table>\n",
       "</div>"
      ],
      "text/plain": [
       "          Name  Age\n",
       "0       Mbappé   23\n",
       "1    De Bruyne   31\n",
       "2  Lewandowski   33\n",
       "3      Benzema   34\n",
       "4        Messi   35"
      ]
     },
     "execution_count": 18,
     "metadata": {},
     "output_type": "execute_result"
    },
    {
     "data": {
      "text/html": [
       "<div>\n",
       "<style scoped>\n",
       "    .dataframe tbody tr th:only-of-type {\n",
       "        vertical-align: middle;\n",
       "    }\n",
       "\n",
       "    .dataframe tbody tr th {\n",
       "        vertical-align: top;\n",
       "    }\n",
       "\n",
       "    .dataframe thead th {\n",
       "        text-align: right;\n",
       "    }\n",
       "</style>\n",
       "<table border=\"1\" class=\"dataframe\">\n",
       "  <thead>\n",
       "    <tr style=\"text-align: right;\">\n",
       "      <th></th>\n",
       "      <th>Name</th>\n",
       "      <th>Age</th>\n",
       "    </tr>\n",
       "  </thead>\n",
       "  <tbody>\n",
       "    <tr>\n",
       "      <th>0</th>\n",
       "      <td>Mbappé</td>\n",
       "      <td>23</td>\n",
       "    </tr>\n",
       "    <tr>\n",
       "      <th>1</th>\n",
       "      <td>De Bruyne</td>\n",
       "      <td>31</td>\n",
       "    </tr>\n",
       "    <tr>\n",
       "      <th>2</th>\n",
       "      <td>Lewandowski</td>\n",
       "      <td>33</td>\n",
       "    </tr>\n",
       "    <tr>\n",
       "      <th>3</th>\n",
       "      <td>Benzema</td>\n",
       "      <td>34</td>\n",
       "    </tr>\n",
       "    <tr>\n",
       "      <th>4</th>\n",
       "      <td>Messi</td>\n",
       "      <td>35</td>\n",
       "    </tr>\n",
       "  </tbody>\n",
       "</table>\n",
       "</div>"
      ],
      "text/plain": [
       "          Name  Age\n",
       "0       Mbappé   23\n",
       "1    De Bruyne   31\n",
       "2  Lewandowski   33\n",
       "3      Benzema   34\n",
       "4        Messi   35"
      ]
     },
     "execution_count": 18,
     "metadata": {},
     "output_type": "execute_result"
    },
    {
     "data": {
      "text/plain": [
       "[{'Name': 'Mbappé', 'Age': 23},\n",
       " {'Name': 'De Bruyne', 'Age': 31},\n",
       " {'Name': 'Lewandowski', 'Age': 33},\n",
       " {'Name': 'Benzema', 'Age': 34},\n",
       " {'Name': 'Messi', 'Age': 35}]"
      ]
     },
     "execution_count": 18,
     "metadata": {},
     "output_type": "execute_result"
    }
   ],
   "source": [
    "# solution\n",
    "\n",
    "data = [{\"Name\": name, \"Age\": age} for name, age in zip(names_as_list, ages_as_list)]\n",
    "data\n",
    "\n",
    "df = pd.DataFrame(data)\n",
    "df \n",
    "\n",
    "\n",
    "df = pd.DataFrame.from_records(data=data)\n",
    "df \n",
    "\n",
    "df.to_dict(orient=\"records\")"
   ]
  },
  {
   "attachments": {},
   "cell_type": "markdown",
   "id": "07d889f0",
   "metadata": {},
   "source": [
    "### 001.003 2D NumPy array\n",
    "\n",
    "1. Print a NumPy 2D array with the same data as before, but with an extra column for \"Last Updated\" with a pd.Timestamp, and create a df with it. Make sure the column names are still \"Name\", \"Age\", \"Last Updated\"\n",
    "1. Update the \"Last Updated\" column with the current timestamp\n",
    "1. Convert to a NumPy and print it, proving the timestamp is different\n"
   ]
  },
  {
   "cell_type": "code",
   "execution_count": 22,
   "id": "58384722",
   "metadata": {
    "execution": {
     "iopub.execute_input": "2023-03-26T20:19:44.707763Z",
     "iopub.status.busy": "2023-03-26T20:19:44.707341Z",
     "iopub.status.idle": "2023-03-26T20:19:44.710380Z",
     "shell.execute_reply": "2023-03-26T20:19:44.709589Z"
    }
   },
   "outputs": [
    {
     "data": {
      "text/plain": [
       "array([['Mbappé', 23, Timestamp('2023-03-29 00:25:41.002063')],\n",
       "       ['De Bruyne', 31, Timestamp('2023-03-29 00:25:41.002079')],\n",
       "       ['Lewandowski', 33, Timestamp('2023-03-29 00:25:41.002081')],\n",
       "       ['Benzema', 34, Timestamp('2023-03-29 00:25:41.002083')],\n",
       "       ['Messi', 35, Timestamp('2023-03-29 00:25:41.002084')]],\n",
       "      dtype=object)"
      ]
     },
     "execution_count": 22,
     "metadata": {},
     "output_type": "execute_result"
    },
    {
     "data": {
      "text/html": [
       "<div>\n",
       "<style scoped>\n",
       "    .dataframe tbody tr th:only-of-type {\n",
       "        vertical-align: middle;\n",
       "    }\n",
       "\n",
       "    .dataframe tbody tr th {\n",
       "        vertical-align: top;\n",
       "    }\n",
       "\n",
       "    .dataframe thead th {\n",
       "        text-align: right;\n",
       "    }\n",
       "</style>\n",
       "<table border=\"1\" class=\"dataframe\">\n",
       "  <thead>\n",
       "    <tr style=\"text-align: right;\">\n",
       "      <th></th>\n",
       "      <th>Name</th>\n",
       "      <th>Age</th>\n",
       "      <th>Last Updated</th>\n",
       "    </tr>\n",
       "  </thead>\n",
       "  <tbody>\n",
       "    <tr>\n",
       "      <th>0</th>\n",
       "      <td>Mbappé</td>\n",
       "      <td>23</td>\n",
       "      <td>2023-03-29 00:25:41.002063</td>\n",
       "    </tr>\n",
       "    <tr>\n",
       "      <th>1</th>\n",
       "      <td>De Bruyne</td>\n",
       "      <td>31</td>\n",
       "      <td>2023-03-29 00:25:41.002079</td>\n",
       "    </tr>\n",
       "    <tr>\n",
       "      <th>2</th>\n",
       "      <td>Lewandowski</td>\n",
       "      <td>33</td>\n",
       "      <td>2023-03-29 00:25:41.002081</td>\n",
       "    </tr>\n",
       "    <tr>\n",
       "      <th>3</th>\n",
       "      <td>Benzema</td>\n",
       "      <td>34</td>\n",
       "      <td>2023-03-29 00:25:41.002083</td>\n",
       "    </tr>\n",
       "    <tr>\n",
       "      <th>4</th>\n",
       "      <td>Messi</td>\n",
       "      <td>35</td>\n",
       "      <td>2023-03-29 00:25:41.002084</td>\n",
       "    </tr>\n",
       "  </tbody>\n",
       "</table>\n",
       "</div>"
      ],
      "text/plain": [
       "          Name Age               Last Updated\n",
       "0       Mbappé  23 2023-03-29 00:25:41.002063\n",
       "1    De Bruyne  31 2023-03-29 00:25:41.002079\n",
       "2  Lewandowski  33 2023-03-29 00:25:41.002081\n",
       "3      Benzema  34 2023-03-29 00:25:41.002083\n",
       "4        Messi  35 2023-03-29 00:25:41.002084"
      ]
     },
     "execution_count": 22,
     "metadata": {},
     "output_type": "execute_result"
    },
    {
     "data": {
      "text/plain": [
       "array([['Mbappé', 23, Timestamp('2023-03-29 00:25:41.006848')],\n",
       "       ['De Bruyne', 31, Timestamp('2023-03-29 00:25:41.006848')],\n",
       "       ['Lewandowski', 33, Timestamp('2023-03-29 00:25:41.006848')],\n",
       "       ['Benzema', 34, Timestamp('2023-03-29 00:25:41.006848')],\n",
       "       ['Messi', 35, Timestamp('2023-03-29 00:25:41.006848')]],\n",
       "      dtype=object)"
      ]
     },
     "execution_count": 22,
     "metadata": {},
     "output_type": "execute_result"
    }
   ],
   "source": [
    "# solution\n",
    "data = np.array([[name, age, pd.Timestamp.now()] for name, age in zip(names_as_list, ages_as_list)])\n",
    "data\n",
    "\n",
    "df = pd.DataFrame(data, columns=[\"Name\", \"Age\", \"Last Updated\"])\n",
    "df \n",
    "\n",
    "df[\"Last Updated\"] = pd.Timestamp.now()\n",
    "\n",
    "df.to_numpy()"
   ]
  },
  {
   "attachments": {},
   "cell_type": "markdown",
   "id": "1205b09a",
   "metadata": {},
   "source": [
    "### 001.004 Pandas Series\n",
    "\n",
    "1. Create two pandas series from the two lists, and then concatenate them into a df. Make sure the column names are still \"Name\" and \"Age\"\n",
    "1. Do the same thing, but differently - this time mae sure the names are already in the Series"
   ]
  },
  {
   "cell_type": "code",
   "execution_count": 25,
   "id": "57db64a0",
   "metadata": {
    "execution": {
     "iopub.execute_input": "2023-03-26T20:19:44.714843Z",
     "iopub.status.busy": "2023-03-26T20:19:44.714437Z",
     "iopub.status.idle": "2023-03-26T20:19:44.718118Z",
     "shell.execute_reply": "2023-03-26T20:19:44.717082Z"
    }
   },
   "outputs": [
    {
     "data": {
      "text/html": [
       "<div>\n",
       "<style scoped>\n",
       "    .dataframe tbody tr th:only-of-type {\n",
       "        vertical-align: middle;\n",
       "    }\n",
       "\n",
       "    .dataframe tbody tr th {\n",
       "        vertical-align: top;\n",
       "    }\n",
       "\n",
       "    .dataframe thead th {\n",
       "        text-align: right;\n",
       "    }\n",
       "</style>\n",
       "<table border=\"1\" class=\"dataframe\">\n",
       "  <thead>\n",
       "    <tr style=\"text-align: right;\">\n",
       "      <th></th>\n",
       "      <th>Name</th>\n",
       "      <th>Age</th>\n",
       "    </tr>\n",
       "  </thead>\n",
       "  <tbody>\n",
       "    <tr>\n",
       "      <th>0</th>\n",
       "      <td>Mbappé</td>\n",
       "      <td>23</td>\n",
       "    </tr>\n",
       "    <tr>\n",
       "      <th>1</th>\n",
       "      <td>De Bruyne</td>\n",
       "      <td>31</td>\n",
       "    </tr>\n",
       "    <tr>\n",
       "      <th>2</th>\n",
       "      <td>Lewandowski</td>\n",
       "      <td>33</td>\n",
       "    </tr>\n",
       "    <tr>\n",
       "      <th>3</th>\n",
       "      <td>Benzema</td>\n",
       "      <td>34</td>\n",
       "    </tr>\n",
       "    <tr>\n",
       "      <th>4</th>\n",
       "      <td>Messi</td>\n",
       "      <td>35</td>\n",
       "    </tr>\n",
       "  </tbody>\n",
       "</table>\n",
       "</div>"
      ],
      "text/plain": [
       "          Name  Age\n",
       "0       Mbappé   23\n",
       "1    De Bruyne   31\n",
       "2  Lewandowski   33\n",
       "3      Benzema   34\n",
       "4        Messi   35"
      ]
     },
     "execution_count": 25,
     "metadata": {},
     "output_type": "execute_result"
    },
    {
     "data": {
      "text/html": [
       "<div>\n",
       "<style scoped>\n",
       "    .dataframe tbody tr th:only-of-type {\n",
       "        vertical-align: middle;\n",
       "    }\n",
       "\n",
       "    .dataframe tbody tr th {\n",
       "        vertical-align: top;\n",
       "    }\n",
       "\n",
       "    .dataframe thead th {\n",
       "        text-align: right;\n",
       "    }\n",
       "</style>\n",
       "<table border=\"1\" class=\"dataframe\">\n",
       "  <thead>\n",
       "    <tr style=\"text-align: right;\">\n",
       "      <th></th>\n",
       "      <th>Name</th>\n",
       "      <th>Age</th>\n",
       "    </tr>\n",
       "  </thead>\n",
       "  <tbody>\n",
       "    <tr>\n",
       "      <th>0</th>\n",
       "      <td>Mbappé</td>\n",
       "      <td>23</td>\n",
       "    </tr>\n",
       "    <tr>\n",
       "      <th>1</th>\n",
       "      <td>De Bruyne</td>\n",
       "      <td>31</td>\n",
       "    </tr>\n",
       "    <tr>\n",
       "      <th>2</th>\n",
       "      <td>Lewandowski</td>\n",
       "      <td>33</td>\n",
       "    </tr>\n",
       "    <tr>\n",
       "      <th>3</th>\n",
       "      <td>Benzema</td>\n",
       "      <td>34</td>\n",
       "    </tr>\n",
       "    <tr>\n",
       "      <th>4</th>\n",
       "      <td>Messi</td>\n",
       "      <td>35</td>\n",
       "    </tr>\n",
       "  </tbody>\n",
       "</table>\n",
       "</div>"
      ],
      "text/plain": [
       "          Name  Age\n",
       "0       Mbappé   23\n",
       "1    De Bruyne   31\n",
       "2  Lewandowski   33\n",
       "3      Benzema   34\n",
       "4        Messi   35"
      ]
     },
     "execution_count": 25,
     "metadata": {},
     "output_type": "execute_result"
    }
   ],
   "source": [
    "# solution\n",
    "s1 = pd.Series(names_as_list)\n",
    "s2 = pd.Series(ages_as_list)\n",
    "\n",
    "df = pd.concat([s1, s2], keys=[\"Name\", \"Age\"], axis=1)\n",
    "df\n",
    "\n",
    "df = pd.concat([s1, s2], axis=1)\n",
    "df.columns = [\"Name\", \"Age\"]\n",
    "df"
   ]
  },
  {
   "attachments": {},
   "cell_type": "markdown",
   "id": "29b3d83f",
   "metadata": {},
   "source": [
    "### 001.005 SQL (sqlite)\n",
    "\n",
    "1. Create a DataFrame by reading from table 'players' in SQLite DB \"001.005.sqlite\" with the built-in SQLite module. Note that the index column is called 'id'\n",
    "1. Change the Last Updated column to the current timestamp in the DataFrame. Write the updated DataFrame data to the database. HINT: Make sure you tell the function to use the 'id' column for indices\n",
    "1. Load the data again in a new DataFrame, and confirm it's same as for step (1) except for the timestamp\n",
    "\n"
   ]
  },
  {
   "cell_type": "code",
   "execution_count": 32,
   "id": "eaa7d2ae",
   "metadata": {
    "execution": {
     "iopub.execute_input": "2023-03-26T20:19:44.724714Z",
     "iopub.status.busy": "2023-03-26T20:19:44.724356Z",
     "iopub.status.idle": "2023-03-26T20:19:44.728576Z",
     "shell.execute_reply": "2023-03-26T20:19:44.727656Z"
    }
   },
   "outputs": [
    {
     "data": {
      "text/html": [
       "<div>\n",
       "<style scoped>\n",
       "    .dataframe tbody tr th:only-of-type {\n",
       "        vertical-align: middle;\n",
       "    }\n",
       "\n",
       "    .dataframe tbody tr th {\n",
       "        vertical-align: top;\n",
       "    }\n",
       "\n",
       "    .dataframe thead th {\n",
       "        text-align: right;\n",
       "    }\n",
       "</style>\n",
       "<table border=\"1\" class=\"dataframe\">\n",
       "  <thead>\n",
       "    <tr style=\"text-align: right;\">\n",
       "      <th></th>\n",
       "      <th>Name</th>\n",
       "      <th>Age</th>\n",
       "      <th>Last Updated</th>\n",
       "    </tr>\n",
       "    <tr>\n",
       "      <th>id</th>\n",
       "      <th></th>\n",
       "      <th></th>\n",
       "      <th></th>\n",
       "    </tr>\n",
       "  </thead>\n",
       "  <tbody>\n",
       "    <tr>\n",
       "      <th>0</th>\n",
       "      <td>Mbappé</td>\n",
       "      <td>23</td>\n",
       "      <td>2023-03-21 23:06:10.611184</td>\n",
       "    </tr>\n",
       "    <tr>\n",
       "      <th>1</th>\n",
       "      <td>De Bruyne</td>\n",
       "      <td>31</td>\n",
       "      <td>2023-03-21 23:06:10.611184</td>\n",
       "    </tr>\n",
       "    <tr>\n",
       "      <th>2</th>\n",
       "      <td>Lewandowski</td>\n",
       "      <td>33</td>\n",
       "      <td>2023-03-21 23:06:10.611184</td>\n",
       "    </tr>\n",
       "    <tr>\n",
       "      <th>3</th>\n",
       "      <td>Benzema</td>\n",
       "      <td>34</td>\n",
       "      <td>2023-03-21 23:06:10.611184</td>\n",
       "    </tr>\n",
       "    <tr>\n",
       "      <th>4</th>\n",
       "      <td>Messi</td>\n",
       "      <td>35</td>\n",
       "      <td>2023-03-21 23:06:10.611184</td>\n",
       "    </tr>\n",
       "  </tbody>\n",
       "</table>\n",
       "</div>"
      ],
      "text/plain": [
       "           Name  Age                Last Updated\n",
       "id                                              \n",
       "0        Mbappé   23  2023-03-21 23:06:10.611184\n",
       "1     De Bruyne   31  2023-03-21 23:06:10.611184\n",
       "2   Lewandowski   33  2023-03-21 23:06:10.611184\n",
       "3       Benzema   34  2023-03-21 23:06:10.611184\n",
       "4         Messi   35  2023-03-21 23:06:10.611184"
      ]
     },
     "execution_count": 32,
     "metadata": {},
     "output_type": "execute_result"
    },
    {
     "data": {
      "text/plain": [
       "5"
      ]
     },
     "execution_count": 32,
     "metadata": {},
     "output_type": "execute_result"
    },
    {
     "data": {
      "text/html": [
       "<div>\n",
       "<style scoped>\n",
       "    .dataframe tbody tr th:only-of-type {\n",
       "        vertical-align: middle;\n",
       "    }\n",
       "\n",
       "    .dataframe tbody tr th {\n",
       "        vertical-align: top;\n",
       "    }\n",
       "\n",
       "    .dataframe thead th {\n",
       "        text-align: right;\n",
       "    }\n",
       "</style>\n",
       "<table border=\"1\" class=\"dataframe\">\n",
       "  <thead>\n",
       "    <tr style=\"text-align: right;\">\n",
       "      <th></th>\n",
       "      <th>Name</th>\n",
       "      <th>Age</th>\n",
       "      <th>Last Updated</th>\n",
       "    </tr>\n",
       "    <tr>\n",
       "      <th>id</th>\n",
       "      <th></th>\n",
       "      <th></th>\n",
       "      <th></th>\n",
       "    </tr>\n",
       "  </thead>\n",
       "  <tbody>\n",
       "    <tr>\n",
       "      <th>0</th>\n",
       "      <td>Mbappé</td>\n",
       "      <td>23</td>\n",
       "      <td>2023-03-29 00:30:50.013150</td>\n",
       "    </tr>\n",
       "    <tr>\n",
       "      <th>1</th>\n",
       "      <td>De Bruyne</td>\n",
       "      <td>31</td>\n",
       "      <td>2023-03-29 00:30:50.013150</td>\n",
       "    </tr>\n",
       "    <tr>\n",
       "      <th>2</th>\n",
       "      <td>Lewandowski</td>\n",
       "      <td>33</td>\n",
       "      <td>2023-03-29 00:30:50.013150</td>\n",
       "    </tr>\n",
       "    <tr>\n",
       "      <th>3</th>\n",
       "      <td>Benzema</td>\n",
       "      <td>34</td>\n",
       "      <td>2023-03-29 00:30:50.013150</td>\n",
       "    </tr>\n",
       "    <tr>\n",
       "      <th>4</th>\n",
       "      <td>Messi</td>\n",
       "      <td>35</td>\n",
       "      <td>2023-03-29 00:30:50.013150</td>\n",
       "    </tr>\n",
       "  </tbody>\n",
       "</table>\n",
       "</div>"
      ],
      "text/plain": [
       "           Name  Age                Last Updated\n",
       "id                                              \n",
       "0        Mbappé   23  2023-03-29 00:30:50.013150\n",
       "1     De Bruyne   31  2023-03-29 00:30:50.013150\n",
       "2   Lewandowski   33  2023-03-29 00:30:50.013150\n",
       "3       Benzema   34  2023-03-29 00:30:50.013150\n",
       "4         Messi   35  2023-03-29 00:30:50.013150"
      ]
     },
     "execution_count": 32,
     "metadata": {},
     "output_type": "execute_result"
    }
   ],
   "source": [
    "# solution\n",
    "import sqlite3 as sqlite\n",
    "\n",
    "con = sqlite.connect(\"001.005.sqlite\")\n",
    "df = pd.read_sql(\"SELECT * FROM players\", con=con, index_col=\"id\")\n",
    "df\n",
    "\n",
    "\n",
    "df[\"Last Updated\"] = pd.Timestamp.now()\n",
    "df.to_sql(\"players\", con=con, index=True, index_label=\"id\", if_exists=\"replace\")\n",
    "\n",
    "pd.read_sql(\"SELECT * FROM players\", con=con, index_col=\"id\")"
   ]
  },
  {
   "cell_type": "markdown",
   "id": "9f963146",
   "metadata": {},
   "source": [
    "### 001.006 SQL (sqlalchemy)\n",
    "\n",
    "1. Replicate 001.005 but use sqlalchemy to connect to the DB\n",
    "\n",
    "(Note: you will probably get warnings, but you can ignore them)"
   ]
  },
  {
   "cell_type": "code",
   "execution_count": 33,
   "id": "163074bb",
   "metadata": {
    "execution": {
     "iopub.execute_input": "2023-03-26T20:19:44.732845Z",
     "iopub.status.busy": "2023-03-26T20:19:44.732430Z",
     "iopub.status.idle": "2023-03-26T20:19:44.736844Z",
     "shell.execute_reply": "2023-03-26T20:19:44.735569Z"
    }
   },
   "outputs": [
    {
     "name": "stderr",
     "output_type": "stream",
     "text": [
      "/var/folders/xx/dkxnk6_906gd2s414jw_d4m80000gn/T/ipykernel_27951/2822636014.py:6: UserWarning: pandas only supports SQLAlchemy connectable (engine/connection) or database string URI or sqlite3 DBAPI2 connection. Other DBAPI2 objects are not tested. Please consider using SQLAlchemy.\n",
      "  df = pd.read_sql(\"SELECT * FROM players\", con=con, index_col=\"id\")\n"
     ]
    },
    {
     "data": {
      "text/html": [
       "<div>\n",
       "<style scoped>\n",
       "    .dataframe tbody tr th:only-of-type {\n",
       "        vertical-align: middle;\n",
       "    }\n",
       "\n",
       "    .dataframe tbody tr th {\n",
       "        vertical-align: top;\n",
       "    }\n",
       "\n",
       "    .dataframe thead th {\n",
       "        text-align: right;\n",
       "    }\n",
       "</style>\n",
       "<table border=\"1\" class=\"dataframe\">\n",
       "  <thead>\n",
       "    <tr style=\"text-align: right;\">\n",
       "      <th></th>\n",
       "      <th>Name</th>\n",
       "      <th>Age</th>\n",
       "      <th>Last Updated</th>\n",
       "    </tr>\n",
       "    <tr>\n",
       "      <th>id</th>\n",
       "      <th></th>\n",
       "      <th></th>\n",
       "      <th></th>\n",
       "    </tr>\n",
       "  </thead>\n",
       "  <tbody>\n",
       "    <tr>\n",
       "      <th>0</th>\n",
       "      <td>Mbappé</td>\n",
       "      <td>23</td>\n",
       "      <td>2023-03-29 00:30:50.013150</td>\n",
       "    </tr>\n",
       "    <tr>\n",
       "      <th>1</th>\n",
       "      <td>De Bruyne</td>\n",
       "      <td>31</td>\n",
       "      <td>2023-03-29 00:30:50.013150</td>\n",
       "    </tr>\n",
       "    <tr>\n",
       "      <th>2</th>\n",
       "      <td>Lewandowski</td>\n",
       "      <td>33</td>\n",
       "      <td>2023-03-29 00:30:50.013150</td>\n",
       "    </tr>\n",
       "    <tr>\n",
       "      <th>3</th>\n",
       "      <td>Benzema</td>\n",
       "      <td>34</td>\n",
       "      <td>2023-03-29 00:30:50.013150</td>\n",
       "    </tr>\n",
       "    <tr>\n",
       "      <th>4</th>\n",
       "      <td>Messi</td>\n",
       "      <td>35</td>\n",
       "      <td>2023-03-29 00:30:50.013150</td>\n",
       "    </tr>\n",
       "  </tbody>\n",
       "</table>\n",
       "</div>"
      ],
      "text/plain": [
       "           Name  Age                Last Updated\n",
       "id                                              \n",
       "0        Mbappé   23  2023-03-29 00:30:50.013150\n",
       "1     De Bruyne   31  2023-03-29 00:30:50.013150\n",
       "2   Lewandowski   33  2023-03-29 00:30:50.013150\n",
       "3       Benzema   34  2023-03-29 00:30:50.013150\n",
       "4         Messi   35  2023-03-29 00:30:50.013150"
      ]
     },
     "execution_count": 33,
     "metadata": {},
     "output_type": "execute_result"
    },
    {
     "name": "stderr",
     "output_type": "stream",
     "text": [
      "/var/folders/xx/dkxnk6_906gd2s414jw_d4m80000gn/T/ipykernel_27951/2822636014.py:11: UserWarning: pandas only supports SQLAlchemy connectable (engine/connection) or database string URI or sqlite3 DBAPI2 connection. Other DBAPI2 objects are not tested. Please consider using SQLAlchemy.\n",
      "  df.to_sql(\"players\", con=con, index=True, index_label=\"id\", if_exists=\"replace\")\n"
     ]
    },
    {
     "data": {
      "text/plain": [
       "5"
      ]
     },
     "execution_count": 33,
     "metadata": {},
     "output_type": "execute_result"
    },
    {
     "name": "stderr",
     "output_type": "stream",
     "text": [
      "/var/folders/xx/dkxnk6_906gd2s414jw_d4m80000gn/T/ipykernel_27951/2822636014.py:13: UserWarning: pandas only supports SQLAlchemy connectable (engine/connection) or database string URI or sqlite3 DBAPI2 connection. Other DBAPI2 objects are not tested. Please consider using SQLAlchemy.\n",
      "  pd.read_sql(\"SELECT * FROM players\", con=con, index_col=\"id\")\n"
     ]
    },
    {
     "data": {
      "text/html": [
       "<div>\n",
       "<style scoped>\n",
       "    .dataframe tbody tr th:only-of-type {\n",
       "        vertical-align: middle;\n",
       "    }\n",
       "\n",
       "    .dataframe tbody tr th {\n",
       "        vertical-align: top;\n",
       "    }\n",
       "\n",
       "    .dataframe thead th {\n",
       "        text-align: right;\n",
       "    }\n",
       "</style>\n",
       "<table border=\"1\" class=\"dataframe\">\n",
       "  <thead>\n",
       "    <tr style=\"text-align: right;\">\n",
       "      <th></th>\n",
       "      <th>Name</th>\n",
       "      <th>Age</th>\n",
       "      <th>Last Updated</th>\n",
       "    </tr>\n",
       "    <tr>\n",
       "      <th>id</th>\n",
       "      <th></th>\n",
       "      <th></th>\n",
       "      <th></th>\n",
       "    </tr>\n",
       "  </thead>\n",
       "  <tbody>\n",
       "    <tr>\n",
       "      <th>0</th>\n",
       "      <td>Mbappé</td>\n",
       "      <td>23</td>\n",
       "      <td>2023-03-29 00:31:56.821521</td>\n",
       "    </tr>\n",
       "    <tr>\n",
       "      <th>1</th>\n",
       "      <td>De Bruyne</td>\n",
       "      <td>31</td>\n",
       "      <td>2023-03-29 00:31:56.821521</td>\n",
       "    </tr>\n",
       "    <tr>\n",
       "      <th>2</th>\n",
       "      <td>Lewandowski</td>\n",
       "      <td>33</td>\n",
       "      <td>2023-03-29 00:31:56.821521</td>\n",
       "    </tr>\n",
       "    <tr>\n",
       "      <th>3</th>\n",
       "      <td>Benzema</td>\n",
       "      <td>34</td>\n",
       "      <td>2023-03-29 00:31:56.821521</td>\n",
       "    </tr>\n",
       "    <tr>\n",
       "      <th>4</th>\n",
       "      <td>Messi</td>\n",
       "      <td>35</td>\n",
       "      <td>2023-03-29 00:31:56.821521</td>\n",
       "    </tr>\n",
       "  </tbody>\n",
       "</table>\n",
       "</div>"
      ],
      "text/plain": [
       "           Name  Age                Last Updated\n",
       "id                                              \n",
       "0        Mbappé   23  2023-03-29 00:31:56.821521\n",
       "1     De Bruyne   31  2023-03-29 00:31:56.821521\n",
       "2   Lewandowski   33  2023-03-29 00:31:56.821521\n",
       "3       Benzema   34  2023-03-29 00:31:56.821521\n",
       "4         Messi   35  2023-03-29 00:31:56.821521"
      ]
     },
     "execution_count": 33,
     "metadata": {},
     "output_type": "execute_result"
    }
   ],
   "source": [
    "# solution\n",
    "from sqlalchemy import create_engine\n",
    "\n",
    "engine = create_engine(\"sqlite:///001.005.sqlite\")\n",
    "con = engine.raw_connection()\n",
    "df = pd.read_sql(\"SELECT * FROM players\", con=con, index_col=\"id\")\n",
    "df\n",
    "\n",
    "\n",
    "df[\"Last Updated\"] = pd.Timestamp.now()\n",
    "df.to_sql(\"players\", con=con, index=True, index_label=\"id\", if_exists=\"replace\")\n",
    "\n",
    "pd.read_sql(\"SELECT * FROM players\", con=con, index_col=\"id\")"
   ]
  },
  {
   "attachments": {},
   "cell_type": "markdown",
   "id": "a26e421c",
   "metadata": {},
   "source": [
    "### 001.007 TSV file\n",
    "\n",
    "1. Create a DataFrame by reading from TSV file in `data_file`. Note that the index column is called 'id'\n",
    "1. Change the Last Updated column to the current timestamp in the DataFrame. Write the updated DataFrame data to the same file. HINT: Make sure you tell the function to use the 'id' column for indices\n",
    "1. Load the data again in a new DataFrame, and confirm it's same as for step (1) except for the timestamp"
   ]
  },
  {
   "cell_type": "code",
   "execution_count": 35,
   "id": "93d93f42",
   "metadata": {
    "execution": {
     "iopub.execute_input": "2023-03-26T20:19:44.741084Z",
     "iopub.status.busy": "2023-03-26T20:19:44.740707Z",
     "iopub.status.idle": "2023-03-26T20:19:44.743210Z",
     "shell.execute_reply": "2023-03-26T20:19:44.742924Z"
    }
   },
   "outputs": [
    {
     "data": {
      "text/html": [
       "<div>\n",
       "<style scoped>\n",
       "    .dataframe tbody tr th:only-of-type {\n",
       "        vertical-align: middle;\n",
       "    }\n",
       "\n",
       "    .dataframe tbody tr th {\n",
       "        vertical-align: top;\n",
       "    }\n",
       "\n",
       "    .dataframe thead th {\n",
       "        text-align: right;\n",
       "    }\n",
       "</style>\n",
       "<table border=\"1\" class=\"dataframe\">\n",
       "  <thead>\n",
       "    <tr style=\"text-align: right;\">\n",
       "      <th></th>\n",
       "      <th>Name</th>\n",
       "      <th>Age</th>\n",
       "      <th>Last Updated</th>\n",
       "    </tr>\n",
       "    <tr>\n",
       "      <th>id</th>\n",
       "      <th></th>\n",
       "      <th></th>\n",
       "      <th></th>\n",
       "    </tr>\n",
       "  </thead>\n",
       "  <tbody>\n",
       "    <tr>\n",
       "      <th>0</th>\n",
       "      <td>Mbappé</td>\n",
       "      <td>23</td>\n",
       "      <td>2023-03-29 00:34:15.229704</td>\n",
       "    </tr>\n",
       "    <tr>\n",
       "      <th>1</th>\n",
       "      <td>De Bruyne</td>\n",
       "      <td>31</td>\n",
       "      <td>2023-03-29 00:34:15.229704</td>\n",
       "    </tr>\n",
       "    <tr>\n",
       "      <th>2</th>\n",
       "      <td>Lewandowski</td>\n",
       "      <td>33</td>\n",
       "      <td>2023-03-29 00:34:15.229704</td>\n",
       "    </tr>\n",
       "    <tr>\n",
       "      <th>3</th>\n",
       "      <td>Benzema</td>\n",
       "      <td>34</td>\n",
       "      <td>2023-03-29 00:34:15.229704</td>\n",
       "    </tr>\n",
       "    <tr>\n",
       "      <th>4</th>\n",
       "      <td>Messi</td>\n",
       "      <td>35</td>\n",
       "      <td>2023-03-29 00:34:15.229704</td>\n",
       "    </tr>\n",
       "  </tbody>\n",
       "</table>\n",
       "</div>"
      ],
      "text/plain": [
       "           Name  Age                Last Updated\n",
       "id                                              \n",
       "0        Mbappé   23  2023-03-29 00:34:15.229704\n",
       "1     De Bruyne   31  2023-03-29 00:34:15.229704\n",
       "2   Lewandowski   33  2023-03-29 00:34:15.229704\n",
       "3       Benzema   34  2023-03-29 00:34:15.229704\n",
       "4         Messi   35  2023-03-29 00:34:15.229704"
      ]
     },
     "execution_count": 35,
     "metadata": {},
     "output_type": "execute_result"
    },
    {
     "data": {
      "text/html": [
       "<div>\n",
       "<style scoped>\n",
       "    .dataframe tbody tr th:only-of-type {\n",
       "        vertical-align: middle;\n",
       "    }\n",
       "\n",
       "    .dataframe tbody tr th {\n",
       "        vertical-align: top;\n",
       "    }\n",
       "\n",
       "    .dataframe thead th {\n",
       "        text-align: right;\n",
       "    }\n",
       "</style>\n",
       "<table border=\"1\" class=\"dataframe\">\n",
       "  <thead>\n",
       "    <tr style=\"text-align: right;\">\n",
       "      <th></th>\n",
       "      <th>Name</th>\n",
       "      <th>Age</th>\n",
       "      <th>Last Updated</th>\n",
       "    </tr>\n",
       "    <tr>\n",
       "      <th>id</th>\n",
       "      <th></th>\n",
       "      <th></th>\n",
       "      <th></th>\n",
       "    </tr>\n",
       "  </thead>\n",
       "  <tbody>\n",
       "    <tr>\n",
       "      <th>0</th>\n",
       "      <td>Mbappé</td>\n",
       "      <td>23</td>\n",
       "      <td>2023-03-29 00:34:23.276768</td>\n",
       "    </tr>\n",
       "    <tr>\n",
       "      <th>1</th>\n",
       "      <td>De Bruyne</td>\n",
       "      <td>31</td>\n",
       "      <td>2023-03-29 00:34:23.276768</td>\n",
       "    </tr>\n",
       "    <tr>\n",
       "      <th>2</th>\n",
       "      <td>Lewandowski</td>\n",
       "      <td>33</td>\n",
       "      <td>2023-03-29 00:34:23.276768</td>\n",
       "    </tr>\n",
       "    <tr>\n",
       "      <th>3</th>\n",
       "      <td>Benzema</td>\n",
       "      <td>34</td>\n",
       "      <td>2023-03-29 00:34:23.276768</td>\n",
       "    </tr>\n",
       "    <tr>\n",
       "      <th>4</th>\n",
       "      <td>Messi</td>\n",
       "      <td>35</td>\n",
       "      <td>2023-03-29 00:34:23.276768</td>\n",
       "    </tr>\n",
       "  </tbody>\n",
       "</table>\n",
       "</div>"
      ],
      "text/plain": [
       "           Name  Age                Last Updated\n",
       "id                                              \n",
       "0        Mbappé   23  2023-03-29 00:34:23.276768\n",
       "1     De Bruyne   31  2023-03-29 00:34:23.276768\n",
       "2   Lewandowski   33  2023-03-29 00:34:23.276768\n",
       "3       Benzema   34  2023-03-29 00:34:23.276768\n",
       "4         Messi   35  2023-03-29 00:34:23.276768"
      ]
     },
     "execution_count": 35,
     "metadata": {},
     "output_type": "execute_result"
    }
   ],
   "source": [
    "data_file = \"001.007.tsv\"\n",
    "# solution\n",
    "\n",
    "df = pd.read_csv(data_file, sep=\"\\t\", index_col=\"id\")\n",
    "df\n",
    "\n",
    "df[\"Last Updated\"] = pd.Timestamp.now()\n",
    "df.to_csv(data_file, sep=\"\\t\", index=True, index_label=\"id\")\n",
    "\n",
    "pd.read_csv(data_file, sep=\"\\t\", index_col=\"id\")"
   ]
  },
  {
   "attachments": {},
   "cell_type": "markdown",
   "id": "7a202cfd",
   "metadata": {},
   "source": [
    "### 001.008 JSON file\n",
    "\n",
    "1. Create a DataFrame by reading from JSON file in `data_file`\n",
    "1. Change the Last Updated column to the current timestamp in the DataFrame. Write the updated DataFrame data to the same file. HINT: Make sure you tell the function to use the 'id' column for indices\n",
    "1. Load the data again in a new DataFrame, and confirm it's same as for step (1) except for the timestamp. Make sure non ASCII characters are readable"
   ]
  },
  {
   "cell_type": "code",
   "execution_count": 10,
   "id": "aa08304c",
   "metadata": {
    "execution": {
     "iopub.execute_input": "2023-03-26T20:19:44.745078Z",
     "iopub.status.busy": "2023-03-26T20:19:44.744926Z",
     "iopub.status.idle": "2023-03-26T20:19:44.746737Z",
     "shell.execute_reply": "2023-03-26T20:19:44.746419Z"
    }
   },
   "outputs": [],
   "source": [
    "data_file = \"001.008.json\"\n",
    "# solution\n",
    "\n",
    "df = pd.read_json(data_file)\n",
    "df\n",
    "\n",
    "df[\"Last Updated\"] = pd.Timestamp.now()\n",
    "df.to_json(data_file, force_ascii=False)\n",
    "\n",
    "pd.read_json(data_file)\n"
   ]
  },
  {
   "attachments": {},
   "cell_type": "markdown",
   "id": "5f1782ab",
   "metadata": {},
   "source": [
    "### 001.009 From a table in an HTML page\n",
    "\n",
    "1. Create a DataFrame by reading from HTML file in `data_file`. Use beautifulsoup flavor. Note that the column ID is called \"ID\"\n",
    "1. Change the Last Updated column to the current timestamp in the DataFrame. Write the updated DataFrame data to the same file. HINT: Make sure you \"flatten\" the indices, because `to_html` writes two rows for the headers exactly as you see in the output\n",
    "1. Load the data again in a new DataFrame, and confirm it's same as for step (1) except for the timestamp"
   ]
  },
  {
   "cell_type": "code",
   "execution_count": 11,
   "id": "9c84bd48",
   "metadata": {
    "execution": {
     "iopub.execute_input": "2023-03-26T20:19:44.748403Z",
     "iopub.status.busy": "2023-03-26T20:19:44.748277Z",
     "iopub.status.idle": "2023-03-26T20:19:44.749839Z",
     "shell.execute_reply": "2023-03-26T20:19:44.749589Z"
    }
   },
   "outputs": [],
   "source": [
    "data_file = \"001.009.html\"\n",
    "# solution\n"
   ]
  },
  {
   "attachments": {},
   "cell_type": "markdown",
   "id": "06d73c28",
   "metadata": {},
   "source": [
    "### 001.010 Markdown\n",
    "\n",
    "(requires the tabulate package)\n",
    "\n",
    "1. There is no read_markdown method. Use the generic method to load tabular data, making sure that\n",
    "   1. It is aware of | as delimiter\n",
    "   1. It handles the index as the 1st (zero-based) column\n",
    "   1. It treates the 1st and last delimiters as _separators_, meaning it puts an empty column either side. Remove them\n",
    "   1. It treats the `------` row as a normal data row. Remove it\n",
    "1. There is a to_markdown, method, but it doesn't write to a file like the similarly named ones. You'll have to do it old-school\n",
    "   1. Overwrite `Last Updated` with the current timestamp\n",
    "   1. Write a file using the output of to_markdown, using the 'github' table format\n",
    "1. Reload the table again and prove it was overwritten correctly\n",
    "\n"
   ]
  },
  {
   "cell_type": "code",
   "execution_count": 12,
   "id": "fc92662d",
   "metadata": {
    "execution": {
     "iopub.execute_input": "2023-03-26T20:19:44.751482Z",
     "iopub.status.busy": "2023-03-26T20:19:44.751339Z",
     "iopub.status.idle": "2023-03-26T20:19:44.752928Z",
     "shell.execute_reply": "2023-03-26T20:19:44.752620Z"
    }
   },
   "outputs": [],
   "source": [
    "data_file = \"001.010.md\"\n",
    "# solution\n"
   ]
  }
 ],
 "metadata": {
  "kernelspec": {
   "display_name": ".venv",
   "language": "python",
   "name": "python3"
  },
  "language_info": {
   "codemirror_mode": {
    "name": "ipython",
    "version": 3
   },
   "file_extension": ".py",
   "mimetype": "text/x-python",
   "name": "python",
   "nbconvert_exporter": "python",
   "pygments_lexer": "ipython3",
   "version": "3.10.6"
  },
  "vscode": {
   "interpreter": {
    "hash": "7daeb9a356073df578df6d7584369b7908e732a3e4cb2289ee7d810fc6635fc0"
   }
  }
 },
 "nbformat": 4,
 "nbformat_minor": 5
}
