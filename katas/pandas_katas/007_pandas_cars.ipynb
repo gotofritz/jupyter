{
 "cells": [
  {
   "attachments": {},
   "cell_type": "markdown",
   "id": "99786a37",
   "metadata": {},
   "source": [
    "# Pandas\n",
    "\n",
    "Pandas is a powerful library for data manipulation and analysis in Python. It is widely used in a range of fields, including data science, finance, and statistics."
   ]
  },
  {
   "attachments": {},
   "cell_type": "markdown",
   "id": "89ce8c2b",
   "metadata": {},
   "source": [
    "## 007. CARS Dataset\n",
    "\n",
    "- Pandas, Seaborn, Kaggle Dataset\n",
    "From https://www.youtube.com/watch?v=od_mSGnf18o\n"
   ]
  },
  {
   "attachments": {},
   "cell_type": "markdown",
   "id": "61c0a177",
   "metadata": {},
   "source": [
    "## 007.000 About Dataset\n",
    "\n",
    "This dataset contains details of 1000 customers who intend to buy a car, considering their annual salaries.\n",
    "\n",
    "Columns:\n",
    "User ID\n",
    "Gender\n",
    "Age\n",
    "Annual Salary\n",
    "Purchase Decision (No = 0; Yes = 1)"
   ]
  },
  {
   "cell_type": "code",
   "execution_count": 1,
   "id": "02ca7850",
   "metadata": {
    "execution": {
     "iopub.execute_input": "2024-01-07T01:29:27.958016Z",
     "iopub.status.busy": "2024-01-07T01:29:27.957739Z",
     "iopub.status.idle": "2024-01-07T01:29:28.978892Z",
     "shell.execute_reply": "2024-01-07T01:29:28.978594Z"
    }
   },
   "outputs": [],
   "source": [
    "import pandas as pd\n",
    "import seaborn as sns\n",
    "from IPython.core.interactiveshell import InteractiveShell\n",
    "\n",
    "pd.set_option('display.max_rows', None)\n",
    "InteractiveShell.ast_node_interactivity = \"all\""
   ]
  },
  {
   "attachments": {},
   "cell_type": "markdown",
   "id": "5b212460",
   "metadata": {},
   "source": [
    "### 007.001 DF metadata\n",
    "\n",
    "1. Read data_source into df\n",
    "   1. print first five rows\n",
    "   1. Print number of rows, cols as a tuple\n",
    "   1. Print a summary of columns (NOT the one where you get mean, etc)\n",
    "1. Print all the duplicated rows, using the function\n",
    "   1. Realise they are too many, so use an aggregate function to print how many\n",
    "1. Do the same for empty cells \n",
    "1. Drop the `User ID` column, that you are not going to use\n",
    "   1. use the string version of `axis`\n",
    "   1. Print the updated list of columns\n",
    "   1. Read data_source into df again\n",
    "   1. Do it the shorter way\n",
    "1. Print a summary of the statistics of the data\n"
   ]
  },
  {
   "cell_type": "code",
   "execution_count": 2,
   "id": "c741ca30",
   "metadata": {
    "execution": {
     "iopub.execute_input": "2024-01-07T01:29:28.980745Z",
     "iopub.status.busy": "2024-01-07T01:29:28.980626Z",
     "iopub.status.idle": "2024-01-07T01:29:28.982298Z",
     "shell.execute_reply": "2024-01-07T01:29:28.982085Z"
    }
   },
   "outputs": [],
   "source": [
    "data_source = \"007_car_data.csv\"\n",
    "# solution\n"
   ]
  },
  {
   "attachments": {},
   "cell_type": "markdown",
   "id": "f85a185d",
   "metadata": {},
   "source": [
    "### 007.002 Salary by Gender\n",
    "\n",
    "1. Print breakdown (=how many of each value) of Gender data\n",
    "1. Do the same for Purchased\n",
    "1. Use Seaborn to plot a histogram of AnnualSalary\n",
    "   1. Use hue to show which bands F or M are in the majority"
   ]
  },
  {
   "cell_type": "code",
   "execution_count": 3,
   "id": "fbbf157d",
   "metadata": {
    "execution": {
     "iopub.execute_input": "2024-01-07T01:29:28.983667Z",
     "iopub.status.busy": "2024-01-07T01:29:28.983587Z",
     "iopub.status.idle": "2024-01-07T01:29:28.985189Z",
     "shell.execute_reply": "2024-01-07T01:29:28.984968Z"
    }
   },
   "outputs": [],
   "source": [
    "# solution\n"
   ]
  },
  {
   "attachments": {},
   "cell_type": "markdown",
   "id": "63e6e32d",
   "metadata": {},
   "source": [
    "### 007.003 Age by Gender\n",
    "\n",
    "1. Use Seaborn to plot a histogram of Age\n",
    "   1. Use hue to show which bands F or M are in the majority\n",
    "\n"
   ]
  },
  {
   "cell_type": "code",
   "execution_count": 4,
   "id": "4d60f667",
   "metadata": {
    "execution": {
     "iopub.execute_input": "2024-01-07T01:29:28.986562Z",
     "iopub.status.busy": "2024-01-07T01:29:28.986491Z",
     "iopub.status.idle": "2024-01-07T01:29:28.987928Z",
     "shell.execute_reply": "2024-01-07T01:29:28.987691Z"
    }
   },
   "outputs": [],
   "source": [
    "# solution\n"
   ]
  },
  {
   "attachments": {},
   "cell_type": "markdown",
   "id": "dae63e7f",
   "metadata": {},
   "source": [
    "### 007.004 Purchased by AnnualSalary\n",
    "\n",
    "1. Use Seaborn to plot a histogram of AnnualSalary\n",
    "   1. Use hue to show which bands do or don't purchase"
   ]
  },
  {
   "cell_type": "code",
   "execution_count": 5,
   "id": "ed626982",
   "metadata": {
    "execution": {
     "iopub.execute_input": "2024-01-07T01:29:28.989401Z",
     "iopub.status.busy": "2024-01-07T01:29:28.989327Z",
     "iopub.status.idle": "2024-01-07T01:29:28.990734Z",
     "shell.execute_reply": "2024-01-07T01:29:28.990519Z"
    }
   },
   "outputs": [],
   "source": [
    "# solution\n"
   ]
  },
  {
   "attachments": {},
   "cell_type": "markdown",
   "id": "b4ceb9ad",
   "metadata": {},
   "source": [
    "### 007.005 Purchased by Age\n",
    "\n",
    "1. Use Seaborn to plot a histogram of Age\n",
    "   1. Use hue to show which bands do or don't purchase\n",
    "1. Which of Age or AnnualSalary has the highest correlation with Purchased? Print sorted"
   ]
  },
  {
   "cell_type": "code",
   "execution_count": 6,
   "id": "3b995d22",
   "metadata": {
    "execution": {
     "iopub.execute_input": "2024-01-07T01:29:28.992066Z",
     "iopub.status.busy": "2024-01-07T01:29:28.991982Z",
     "iopub.status.idle": "2024-01-07T01:29:28.993448Z",
     "shell.execute_reply": "2024-01-07T01:29:28.993142Z"
    }
   },
   "outputs": [],
   "source": [
    "# solution\n"
   ]
  },
  {
   "attachments": {},
   "cell_type": "markdown",
   "id": "c61191d9",
   "metadata": {},
   "source": []
  }
 ],
 "metadata": {
  "kernelspec": {
   "display_name": ".venv",
   "language": "python",
   "name": "python3"
  },
  "language_info": {
   "codemirror_mode": {
    "name": "ipython",
    "version": 3
   },
   "file_extension": ".py",
   "mimetype": "text/x-python",
   "name": "python",
   "nbconvert_exporter": "python",
   "pygments_lexer": "ipython3",
   "version": "3.11.1"
  },
  "vscode": {
   "interpreter": {
    "hash": "7daeb9a356073df578df6d7584369b7908e732a3e4cb2289ee7d810fc6635fc0"
   }
  }
 },
 "nbformat": 4,
 "nbformat_minor": 5
}
