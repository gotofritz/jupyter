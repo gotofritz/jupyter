{
 "cells": [
  {
   "attachments": {},
   "cell_type": "markdown",
   "id": "99786a37",
   "metadata": {},
   "source": [
    "# Pandas\n",
    "\n",
    "Pandas is a powerful library for data manipulation and analysis in Python. It is widely used in a range of fields, including data science, finance, and statistics."
   ]
  },
  {
   "attachments": {},
   "cell_type": "markdown",
   "id": "89ce8c2b",
   "metadata": {},
   "source": [
    "## 007. CARS Dataset\n",
    "\n",
    "- Pandas, Seaborn, Kaggle Dataset\n",
    "From https://www.youtube.com/watch?v=od_mSGnf18o\n"
   ]
  },
  {
   "attachments": {},
   "cell_type": "markdown",
   "id": "61c0a177",
   "metadata": {},
   "source": [
    "## 007.000 About Dataset\n",
    "\n",
    "This dataset contains details of 1000 customers who intend to buy a car, considering their annual salaries.\n",
    "\n",
    "Columns:\n",
    "User ID\n",
    "Gender\n",
    "Age\n",
    "Annual Salary\n",
    "Purchase Decision (No = 0; Yes = 1)"
   ]
  },
  {
   "cell_type": "code",
   "execution_count": 1,
   "id": "02ca7850",
   "metadata": {
    "execution": {
     "iopub.execute_input": "2024-02-16T08:44:44.504797Z",
     "iopub.status.busy": "2024-02-16T08:44:44.504625Z",
     "iopub.status.idle": "2024-02-16T08:44:45.900650Z",
     "shell.execute_reply": "2024-02-16T08:44:45.900192Z"
    }
   },
   "outputs": [
    {
     "name": "stderr",
     "output_type": "stream",
     "text": [
      "/var/folders/xx/dkxnk6_906gd2s414jw_d4m80000gn/T/ipykernel_28008/3443057177.py:1: DeprecationWarning: \n",
      "Pyarrow will become a required dependency of pandas in the next major release of pandas (pandas 3.0),\n",
      "(to allow more performant data types, such as the Arrow string type, and better interoperability with other libraries)\n",
      "but was not found to be installed on your system.\n",
      "If this would cause problems for you,\n",
      "please provide us feedback at https://github.com/pandas-dev/pandas/issues/54466\n",
      "        \n",
      "  import pandas as pd\n"
     ]
    }
   ],
   "source": [
    "import pandas as pd\n",
    "import seaborn as sns\n",
    "from IPython.core.interactiveshell import InteractiveShell\n",
    "\n",
    "pd.set_option('display.max_rows', None)\n",
    "InteractiveShell.ast_node_interactivity = \"all\""
   ]
  },
  {
   "attachments": {},
   "cell_type": "markdown",
   "id": "5b212460",
   "metadata": {},
   "source": [
    "### 007.001 DF metadata\n",
    "\n",
    "1. Read data_source into df\n",
    "   1. print first five rows\n",
    "   1. Print number of rows, cols as a tuple\n",
    "   1. Print a summary of columns (NOT the one where you get mean, etc)\n",
    "1. Print all the duplicated rows, using the function\n",
    "   1. Realise they are too many, so use an aggregate function to print how many\n",
    "1. Do the same for empty cells \n",
    "1. Drop the `User ID` column, that you are not going to use\n",
    "   1. use the string version of `axis`\n",
    "   1. Print the updated list of columns\n",
    "   1. Read data_source into df again\n",
    "   1. Do it the shorter way\n",
    "1. Print a summary of the statistics of the data\n"
   ]
  },
  {
   "cell_type": "code",
   "execution_count": 2,
   "id": "c741ca30",
   "metadata": {
    "execution": {
     "iopub.execute_input": "2024-02-16T08:44:45.903116Z",
     "iopub.status.busy": "2024-02-16T08:44:45.902862Z",
     "iopub.status.idle": "2024-02-16T08:44:45.904925Z",
     "shell.execute_reply": "2024-02-16T08:44:45.904665Z"
    }
   },
   "outputs": [],
   "source": [
    "data_source = \"007_car_data.csv\"\n",
    "# solution\n"
   ]
  },
  {
   "attachments": {},
   "cell_type": "markdown",
   "id": "f85a185d",
   "metadata": {},
   "source": [
    "### 007.002 Salary by Gender\n",
    "\n",
    "1. Print breakdown (=how many of each value) of Gender data\n",
    "1. Do the same for Purchased\n",
    "1. Use Seaborn to plot a histogram of AnnualSalary\n",
    "   1. Use hue to show which bands F or M are in the majority"
   ]
  },
  {
   "cell_type": "code",
   "execution_count": 3,
   "id": "fbbf157d",
   "metadata": {
    "execution": {
     "iopub.execute_input": "2024-02-16T08:44:45.906962Z",
     "iopub.status.busy": "2024-02-16T08:44:45.906849Z",
     "iopub.status.idle": "2024-02-16T08:44:45.908714Z",
     "shell.execute_reply": "2024-02-16T08:44:45.908438Z"
    }
   },
   "outputs": [],
   "source": [
    "# solution\n"
   ]
  },
  {
   "attachments": {},
   "cell_type": "markdown",
   "id": "63e6e32d",
   "metadata": {},
   "source": [
    "### 007.003 Age by Gender\n",
    "\n",
    "1. Use Seaborn to plot a histogram of Age\n",
    "   1. Use hue to show which bands F or M are in the majority\n",
    "\n"
   ]
  },
  {
   "cell_type": "code",
   "execution_count": 4,
   "id": "4d60f667",
   "metadata": {
    "execution": {
     "iopub.execute_input": "2024-02-16T08:44:45.910337Z",
     "iopub.status.busy": "2024-02-16T08:44:45.910239Z",
     "iopub.status.idle": "2024-02-16T08:44:45.911752Z",
     "shell.execute_reply": "2024-02-16T08:44:45.911465Z"
    }
   },
   "outputs": [],
   "source": [
    "# solution\n"
   ]
  },
  {
   "attachments": {},
   "cell_type": "markdown",
   "id": "dae63e7f",
   "metadata": {},
   "source": [
    "### 007.004 Purchased by AnnualSalary\n",
    "\n",
    "1. Use Seaborn to plot a histogram of AnnualSalary\n",
    "   1. Use hue to show which bands do or don't purchase"
   ]
  },
  {
   "cell_type": "code",
   "execution_count": 5,
   "id": "ed626982",
   "metadata": {
    "execution": {
     "iopub.execute_input": "2024-02-16T08:44:45.913317Z",
     "iopub.status.busy": "2024-02-16T08:44:45.913188Z",
     "iopub.status.idle": "2024-02-16T08:44:45.915701Z",
     "shell.execute_reply": "2024-02-16T08:44:45.915452Z"
    }
   },
   "outputs": [],
   "source": [
    "# solution\n"
   ]
  },
  {
   "attachments": {},
   "cell_type": "markdown",
   "id": "b4ceb9ad",
   "metadata": {},
   "source": [
    "### 007.005 Purchased by Age\n",
    "\n",
    "1. Use Seaborn to plot a histogram of Age\n",
    "   1. Use hue to show which bands do or don't purchase\n",
    "1. Which of Age or AnnualSalary has the highest correlation with Purchased? Print sorted"
   ]
  },
  {
   "cell_type": "code",
   "execution_count": 6,
   "id": "3b995d22",
   "metadata": {
    "execution": {
     "iopub.execute_input": "2024-02-16T08:44:45.917847Z",
     "iopub.status.busy": "2024-02-16T08:44:45.917742Z",
     "iopub.status.idle": "2024-02-16T08:44:45.919636Z",
     "shell.execute_reply": "2024-02-16T08:44:45.919185Z"
    }
   },
   "outputs": [],
   "source": [
    "# solution\n"
   ]
  },
  {
   "attachments": {},
   "cell_type": "markdown",
   "id": "c61191d9",
   "metadata": {},
   "source": []
  }
 ],
 "metadata": {
  "kernelspec": {
   "display_name": ".venv",
   "language": "python",
   "name": "python3"
  },
  "language_info": {
   "codemirror_mode": {
    "name": "ipython",
    "version": 3
   },
   "file_extension": ".py",
   "mimetype": "text/x-python",
   "name": "python",
   "nbconvert_exporter": "python",
   "pygments_lexer": "ipython3",
   "version": "3.11.1"
  },
  "vscode": {
   "interpreter": {
    "hash": "7daeb9a356073df578df6d7584369b7908e732a3e4cb2289ee7d810fc6635fc0"
   }
  }
 },
 "nbformat": 4,
 "nbformat_minor": 5
}
