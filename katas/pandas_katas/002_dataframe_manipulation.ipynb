{
 "cells": [
  {
   "cell_type": "markdown",
   "id": "99786a37",
   "metadata": {},
   "source": [
    "# Pandas\n",
    "\n",
    "Pandas is a powerful library for data manipulation and analysis in Python. It is widely used in a range of fields, including data science, finance, and statistics."
   ]
  },
  {
   "attachments": {},
   "cell_type": "markdown",
   "id": "fd31e6b7",
   "metadata": {},
   "source": [
    "## 002 Basic DataFrame manipulation"
   ]
  },
  {
   "attachments": {},
   "cell_type": "markdown",
   "id": "61c0a177",
   "metadata": {},
   "source": [
    "## 002.000 Assets\n",
    "\n",
    "Some assets to avoid too much typing\n",
    "\n",
    "The content of the tsv file is:\n",
    "\n",
    "| Name        | Age|\n",
    "|-------------|----|\n",
    "| Mbappé      | 23 |\n",
    "| De Bruyne   | 31 |\n",
    "| Lewandowski | 33 |\n",
    "| Benzema     | 34 |\n",
    "| Messi       | 35 |"
   ]
  },
  {
   "cell_type": "code",
   "execution_count": 1,
   "id": "3f6c4f94",
   "metadata": {
    "execution": {
     "iopub.execute_input": "2023-01-01T13:56:58.165929Z",
     "iopub.status.busy": "2023-01-01T13:56:58.165611Z",
     "iopub.status.idle": "2023-01-01T13:56:58.173676Z",
     "shell.execute_reply": "2023-01-01T13:56:58.173272Z"
    }
   },
   "outputs": [],
   "source": [
    "import sys\n",
    "from pathlib import Path\n",
    "\n",
    "current_dir = Path().resolve()\n",
    "while current_dir != current_dir.parent and current_dir.name != \"katas\":\n",
    "    current_dir = current_dir.parent\n",
    "if current_dir != current_dir.parent:\n",
    "    sys.path.append(current_dir.as_posix())\n"
   ]
  },
  {
   "cell_type": "code",
   "execution_count": 2,
   "id": "34645c94",
   "metadata": {
    "execution": {
     "iopub.execute_input": "2023-01-01T13:56:58.175964Z",
     "iopub.status.busy": "2023-01-01T13:56:58.175805Z",
     "iopub.status.idle": "2023-01-01T13:56:58.350764Z",
     "shell.execute_reply": "2023-01-01T13:56:58.349830Z"
    }
   },
   "outputs": [],
   "source": [
    "\n",
    "import pandas as pd\n",
    "from lib.utils import fresh_df"
   ]
  },
  {
   "attachments": {},
   "cell_type": "markdown",
   "id": "89ce8c2b",
   "metadata": {},
   "source": []
  },
  {
   "attachments": {},
   "cell_type": "markdown",
   "id": "a5dfaeb9",
   "metadata": {},
   "source": [
    "### 002.001 Indices\n",
    "\n",
    "1. Print the df - not that it has an unnamed index column, created by Pandas\n",
    "1. Rename the index column to 'ID', and print it again"
   ]
  },
  {
   "cell_type": "code",
   "execution_count": 3,
   "id": "c741ca30",
   "metadata": {
    "execution": {
     "iopub.execute_input": "2023-01-01T13:56:58.356595Z",
     "iopub.status.busy": "2023-01-01T13:56:58.355933Z",
     "iopub.status.idle": "2023-01-01T13:56:58.364618Z",
     "shell.execute_reply": "2023-01-01T13:56:58.363423Z"
    }
   },
   "outputs": [],
   "source": [
    "df = fresh_df(src=\"002.tsv\")\n",
    "# solution\n"
   ]
  },
  {
   "attachments": {},
   "cell_type": "markdown",
   "id": "a103f071",
   "metadata": {},
   "source": [
    "### 002.002 Basic cell access\n",
    "\n",
    "1. Get a new DataFrame, with \"Name\" as the index column\n",
    "1. Save \"De Bruyne\" to a var and use it to fetch the DOB with the loc method\n",
    "1. Save \"Benzema\" to a var and use it to fetch the DOB with the iloc method"
   ]
  },
  {
   "cell_type": "code",
   "execution_count": 4,
   "id": "3d92d87a",
   "metadata": {
    "execution": {
     "iopub.execute_input": "2023-01-01T13:56:58.369658Z",
     "iopub.status.busy": "2023-01-01T13:56:58.369187Z",
     "iopub.status.idle": "2023-01-01T13:56:58.382893Z",
     "shell.execute_reply": "2023-01-01T13:56:58.380199Z"
    }
   },
   "outputs": [
    {
     "name": "stdout",
     "output_type": "stream",
     "text": [
      "                    DOB\n",
      "Name                   \n",
      "Mbappé       1998-12-20\n",
      "De Bruyne    1991-06-28\n",
      "Lewandowski  1988-08-21\n",
      "Benzema      1987-12-19\n",
      "Messi        1987-06-24\n"
     ]
    }
   ],
   "source": [
    "df = fresh_df(src=\"002.tsv\", id=\"Name\")\n",
    "print(df)\n",
    "# solution\n"
   ]
  },
  {
   "attachments": {},
   "cell_type": "markdown",
   "id": "54889ea9",
   "metadata": {},
   "source": [
    "### 002.003 Columns\n",
    "\n",
    "1. Get a new dataframe\n",
    "1. Add a \"Profession\" column at the end, with \"footballer\" as a value for all rows\n",
    "1. Add a \"Still Playing\" column at the beginning, with True as value for all rows\n",
    "1. Rename the \"Still Playing\" column as \"Active\"\n",
    "1. Print the dataframe\n",
    "1. Remove the \"Profession\" column\n",
    "1. Print the dataframe\n"
   ]
  },
  {
   "cell_type": "code",
   "execution_count": 5,
   "id": "42da9c2b",
   "metadata": {
    "execution": {
     "iopub.execute_input": "2023-01-01T13:56:58.388237Z",
     "iopub.status.busy": "2023-01-01T13:56:58.387888Z",
     "iopub.status.idle": "2023-01-01T13:56:58.398519Z",
     "shell.execute_reply": "2023-01-01T13:56:58.396623Z"
    }
   },
   "outputs": [
    {
     "name": "stdout",
     "output_type": "stream",
     "text": [
      "          Name         DOB\n",
      "0       Mbappé  1998-12-20\n",
      "1    De Bruyne  1991-06-28\n",
      "2  Lewandowski  1988-08-21\n",
      "3      Benzema  1987-12-19\n",
      "4        Messi  1987-06-24\n"
     ]
    }
   ],
   "source": [
    "df = fresh_df(src=\"002.tsv\")\n",
    "print(df)\n",
    "# solution\n"
   ]
  },
  {
   "attachments": {},
   "cell_type": "markdown",
   "id": "07d889f0",
   "metadata": {},
   "source": [
    "### 002.004 Applying transforms\n",
    "\n",
    "1. Get a fresh DataFrame\n",
    "2. Convert the DOB column to datetime\n",
    "3. Create a new column Age, by using 'apply' to derive the data from the DOB\n",
    "1. Print it, and print the type of each column\n",
    "1. The same, but  using 'map'; this time convert the Age to string.\n",
    "1. Print it, and print the type of each column\n",
    "\n"
   ]
  },
  {
   "cell_type": "code",
   "execution_count": 6,
   "id": "58384722",
   "metadata": {
    "execution": {
     "iopub.execute_input": "2023-01-01T13:56:58.403337Z",
     "iopub.status.busy": "2023-01-01T13:56:58.402890Z",
     "iopub.status.idle": "2023-01-01T13:56:58.412907Z",
     "shell.execute_reply": "2023-01-01T13:56:58.410595Z"
    }
   },
   "outputs": [
    {
     "name": "stdout",
     "output_type": "stream",
     "text": [
      "          Name         DOB\n",
      "0       Mbappé  1998-12-20\n",
      "1    De Bruyne  1991-06-28\n",
      "2  Lewandowski  1988-08-21\n",
      "3      Benzema  1987-12-19\n",
      "4        Messi  1987-06-24\n"
     ]
    }
   ],
   "source": [
    "from datetime import datetime\n",
    "\n",
    "df = fresh_df(src=\"002.tsv\")\n",
    "print(df)\n",
    "# solution\n"
   ]
  }
 ],
 "metadata": {
  "kernelspec": {
   "display_name": ".venv",
   "language": "python",
   "name": "python3"
  },
  "language_info": {
   "codemirror_mode": {
    "name": "ipython",
    "version": 3
   },
   "file_extension": ".py",
   "mimetype": "text/x-python",
   "name": "python",
   "nbconvert_exporter": "python",
   "pygments_lexer": "ipython3",
   "version": "3.10.6"
  },
  "vscode": {
   "interpreter": {
    "hash": "7daeb9a356073df578df6d7584369b7908e732a3e4cb2289ee7d810fc6635fc0"
   }
  }
 },
 "nbformat": 4,
 "nbformat_minor": 5
}
