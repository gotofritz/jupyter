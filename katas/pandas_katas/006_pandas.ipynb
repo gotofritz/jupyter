{
 "cells": [
  {
   "attachments": {},
   "cell_type": "markdown",
   "id": "99786a37",
   "metadata": {},
   "source": [
    "# Pandas\n",
    "\n",
    "Pandas is a powerful library for data manipulation and analysis in Python. It is widely used in a range of fields, including data science, finance, and statistics."
   ]
  },
  {
   "attachments": {},
   "cell_type": "markdown",
   "id": "89ce8c2b",
   "metadata": {},
   "source": [
    "## 006. Preparing csv for anki\n",
    "\n"
   ]
  },
  {
   "attachments": {},
   "cell_type": "markdown",
   "id": "61c0a177",
   "metadata": {},
   "source": [
    "## 005.000 Assets\n",
    "\n",
    "\"006_4000_words.tsv\"\n",
    "\n",
    "| German               | English              | Plural and inflected forms   | Sample sentence      | Sample sentence Typing Corrects   | Part of Speech   | Audio                |\n",
    "|----------------------|----------------------|------------------------------|----------------------|-----------------------------------|------------------|----------------------|\n",
    "| nicht                | not                  |                              | Ich kann nicht ko... |                                   | part             | [sound:fa4a14bc-d... |\n",
    "| das Jahr             | year                 | die Jahre                    | Das Jahr geht zu ... |                                   | noun             | [sound:325a6575-8... |\n",
    "| werden               | to become, get       | wird; wurde; ist ...         | Ich werde müde.      |                                   | verb             | [sound:affec09d-2... |\n",
    "| öffentlich           | public               |                              | Die Sitzung des P... | Jan Hus wurde in ...              | adj              | [sound:18a7da24-0... |\n",
    "| sich                 | -self                |                              | Sie hat sich im S... |                                   | pron             | [sound:ac72a75d-8... |\n",
    "| nicht nur...sonde... | not only...but also  |                              | Diese Kirche ist ... |                                   |                  | [sound:ec47774e-7... |\n",
    "| so                   | 1) so, thus, this... |                              | 1) Das musst du s... |                                   | 1) adv; 2) part  | [sound:e13177f4-9... |\n",
    "| noch                 | still, yet           |                              | Habt ihr noch Fra... |                                   | adv              | [sound:4a735775-6... |\n",
    "| nach                 | after, towards       |                              | Nach dem Mittages... |                                   | prep             | [sound:31b1f293-3... |\n",
    "| also                 | so                   |                              | Du hast also kein... |                                   | adv              | [sound:903c7e45-4... |\n",
    "| nach und nach        | little by little     |                              | Nach und nach ver... |                                   |                  | [sound:16b55cb8-0... |\n",
    "| ihr                  | you (plural, info... |                              | Habt ihr das gewu... | Ist das Ihr Hund?                 | pron             | [sound:6fd5735d-4... |\n",
    "| was                  | what                 |                              | Was hast du gesagt?  |                                   | pron             | [sound:97b33d87-f... |\n",
    "| dass                 | that                 |                              | Schön, dass Sie k... |                                   | conj             | [sound:ae275fb5-b... |\n",
    "| bei                  | by, with, at         |                              | Sie war gestern b... |                                   | prep             | [sound:ccd11177-b... |\n",
    "| oder                 | or                   |                              | Möchtest du liebe... |                                   | conj             | [sound:0043eee7-c... |\n",
    "| ja                   | yes / certainly      |                              | Ja, ich bin damit... |                                   | part             | [sound:45b5c86b-e... |\n",
    "| dann                 | then                 |                              | Dann gehen wir sc... |                                   | adv              | [sound:30fef954-4... |\n",
    "| da                   | 1) there; 2) because |                              | 1) Da oben fliegt... |                                   | 1) adv; 2) conj  | [sound:3267a8e2-9... |\n",
    "| sein                 | his, its             |                              | Seine Tochter geh... | Ich bin Student.                  | pron             | [sound:0f1dd6c7-e... |"
   ]
  },
  {
   "cell_type": "code",
   "execution_count": 1,
   "id": "4228fec7",
   "metadata": {
    "execution": {
     "iopub.execute_input": "2023-05-13T00:54:35.291911Z",
     "iopub.status.busy": "2023-05-13T00:54:35.291619Z",
     "iopub.status.idle": "2023-05-13T00:54:35.300199Z",
     "shell.execute_reply": "2023-05-13T00:54:35.299553Z"
    }
   },
   "outputs": [],
   "source": [
    "import sys\n",
    "from pathlib import Path\n",
    "\n",
    "current_dir = Path().resolve()\n",
    "while current_dir != current_dir.parent and current_dir.name != \"katas\":\n",
    "    current_dir = current_dir.parent\n",
    "if current_dir != current_dir.parent:\n",
    "    sys.path.append(current_dir.as_posix())\n"
   ]
  },
  {
   "cell_type": "code",
   "execution_count": 2,
   "id": "02ca7850",
   "metadata": {
    "execution": {
     "iopub.execute_input": "2023-05-13T00:54:35.303482Z",
     "iopub.status.busy": "2023-05-13T00:54:35.303207Z",
     "iopub.status.idle": "2023-05-13T00:54:36.174301Z",
     "shell.execute_reply": "2023-05-13T00:54:36.173644Z"
    }
   },
   "outputs": [],
   "source": [
    "import pandas as pd\n",
    "import perfplot\n",
    "\n",
    "from codetiming import Timer\n",
    "\n",
    "from IPython.core.interactiveshell import InteractiveShell\n",
    "\n",
    "pd.set_option('display.max_rows', None)\n",
    "InteractiveShell.ast_node_interactivity = \"all\""
   ]
  },
  {
   "attachments": {},
   "cell_type": "markdown",
   "id": "5b212460",
   "metadata": {},
   "source": [
    "### 006.001 Create the summary above\n",
    "\n",
    "1. Read file_4000_words and print the head, bearing in mind that\n",
    "   1. it's a tsv file\n",
    "   1. the file has no header row; the column names are in cols_4000_words\n",
    "   1. empty cells should be an empty string\n",
    "1. Print the first 10 rows of the table in markdown format (github-flavoured tables)\n",
    "   1. NOTE: you actually have a print statement\n",
    "   1. You should hide the index column\n",
    "   1. Create a function that truncates it to 17 characters and adds 3 dots, and use the function that applies it to every cell\n"
   ]
  },
  {
   "cell_type": "code",
   "execution_count": 3,
   "id": "c741ca30",
   "metadata": {
    "execution": {
     "iopub.execute_input": "2023-05-13T00:54:36.177617Z",
     "iopub.status.busy": "2023-05-13T00:54:36.177297Z",
     "iopub.status.idle": "2023-05-13T00:54:36.180586Z",
     "shell.execute_reply": "2023-05-13T00:54:36.180069Z"
    }
   },
   "outputs": [],
   "source": [
    "file_4000_words = \"006_4000_words.tsv\"\n",
    "cols_4000_words = [\"German\", \"English\", \"Plural and inflected forms\", \"Sample sentence\", \"Sample sentence Typing Corrects\", \"Part of Speech\", \"Audio\"]\n",
    "# solution\n"
   ]
  },
  {
   "attachments": {},
   "cell_type": "markdown",
   "id": "03f1b466",
   "metadata": {},
   "source": [
    "### 006.001 Create the summary above\n",
    "\n",
    "1. Read file_4000_words and print the head, bearing in mind that\n",
    "1. Create a new df, `name_article_df`, with two columns; one with the article, if it exists, the other with the noun without the article, or with the complete entry otherwise\n",
    "   1. take the \"German\" column as starting point and use a regular expression to extract the two columns\n",
    "   1. Use named column `artikel_d` for the article followed by a space, and `base_d` for the rest of the string, without article if any\n",
    "   1. Make sure there are alwwys two column\n",
    "   1. Make sure NaN are empty strings\n",
    "   1. print head\n",
    "1. Insert `base_d` as 2nd, and `artikel_d` as 4th in `df_4000_words_2`\n",
    "1. Use insert to..\n",
    "   1. rename \"Plural and inflected forms\" to `full_d` and move it to 1st\n",
    "   1. rename \"English\" to `base_e` and move it to 2nd\n",
    "   1. Remove both columns and \"German\"\n",
    "   1. rename \"Part of Speech\" to \"pos\" and \"Audio\" to \"audio\"\n",
    "1. Create 2 new columns, \"s1\" and \"s2\", by splitting `Sample sentence` on `2) `\n",
    "   1. Make sure \"None\" columns are actually empty strings\n",
    "   1. Remove the \"1) \" prefix from those columns which have it\n",
    "   1. Finally, remove the \"Sample sentence\" column\n",
    "1. Create a boolean mask for those cells whose string values contains a bracket `)`\n",
    "   1. Set the value to ''\n",
    "   1. Show the first 20 rows\n",
    "1. Save as tsv to `save_to`"
   ]
  },
  {
   "cell_type": "code",
   "execution_count": 4,
   "id": "628b397b",
   "metadata": {
    "execution": {
     "iopub.execute_input": "2023-05-13T00:54:36.183583Z",
     "iopub.status.busy": "2023-05-13T00:54:36.183376Z",
     "iopub.status.idle": "2023-05-13T00:54:36.229486Z",
     "shell.execute_reply": "2023-05-13T00:54:36.228779Z"
    }
   },
   "outputs": [
    {
     "data": {
      "text/plain": [
       "1"
      ]
     },
     "execution_count": 4,
     "metadata": {},
     "output_type": "execute_result"
    },
    {
     "data": {
      "text/html": [
       "<div>\n",
       "<style scoped>\n",
       "    .dataframe tbody tr th:only-of-type {\n",
       "        vertical-align: middle;\n",
       "    }\n",
       "\n",
       "    .dataframe tbody tr th {\n",
       "        vertical-align: top;\n",
       "    }\n",
       "\n",
       "    .dataframe thead th {\n",
       "        text-align: right;\n",
       "    }\n",
       "</style>\n",
       "<table border=\"1\" class=\"dataframe\">\n",
       "  <thead>\n",
       "    <tr style=\"text-align: right;\">\n",
       "      <th></th>\n",
       "      <th>German</th>\n",
       "      <th>English</th>\n",
       "      <th>Plural and inflected forms</th>\n",
       "      <th>Sample sentence</th>\n",
       "      <th>Sample sentence Typing Corrects</th>\n",
       "      <th>Part of Speech</th>\n",
       "      <th>Audio</th>\n",
       "    </tr>\n",
       "  </thead>\n",
       "  <tbody>\n",
       "    <tr>\n",
       "      <th>0</th>\n",
       "      <td>nicht</td>\n",
       "      <td>not</td>\n",
       "      <td></td>\n",
       "      <td>Ich kann nicht kommen.</td>\n",
       "      <td></td>\n",
       "      <td>part</td>\n",
       "      <td>[sound:fa4a14bc-d1e9-547a-b29e-ee09ead02804.mp3]</td>\n",
       "    </tr>\n",
       "    <tr>\n",
       "      <th>1</th>\n",
       "      <td>das Jahr</td>\n",
       "      <td>year</td>\n",
       "      <td>die Jahre</td>\n",
       "      <td>Das Jahr geht zu Ende.</td>\n",
       "      <td></td>\n",
       "      <td>noun</td>\n",
       "      <td>[sound:325a6575-808e-50ae-b410-a25c98a7bbe4.mp3]</td>\n",
       "    </tr>\n",
       "    <tr>\n",
       "      <th>2</th>\n",
       "      <td>werden</td>\n",
       "      <td>to become, get</td>\n",
       "      <td>wird; wurde; ist geworden</td>\n",
       "      <td>Ich werde müde.</td>\n",
       "      <td></td>\n",
       "      <td>verb</td>\n",
       "      <td>[sound:affec09d-29f0-541b-926d-e81efc66fa4e.mp3]</td>\n",
       "    </tr>\n",
       "    <tr>\n",
       "      <th>3</th>\n",
       "      <td>öffentlich</td>\n",
       "      <td>public</td>\n",
       "      <td></td>\n",
       "      <td>Die Sitzung des Parlaments ist öffentlich.</td>\n",
       "      <td>Jan Hus wurde in aller Offentlichkeit hingeric...</td>\n",
       "      <td>adj</td>\n",
       "      <td>[sound:18a7da24-0dc1-5728-a49f-9c78f28d7937.mp3]</td>\n",
       "    </tr>\n",
       "    <tr>\n",
       "      <th>4</th>\n",
       "      <td>sich</td>\n",
       "      <td>-self</td>\n",
       "      <td></td>\n",
       "      <td>Sie hat sich im Spiegel gesehen.</td>\n",
       "      <td></td>\n",
       "      <td>pron</td>\n",
       "      <td>[sound:ac72a75d-8f61-535a-8378-dc0b61253332.mp3]</td>\n",
       "    </tr>\n",
       "  </tbody>\n",
       "</table>\n",
       "</div>"
      ],
      "text/plain": [
       "       German         English Plural and inflected forms  \\\n",
       "0       nicht             not                              \n",
       "1    das Jahr            year                  die Jahre   \n",
       "2      werden  to become, get  wird; wurde; ist geworden   \n",
       "3  öffentlich          public                              \n",
       "4        sich           -self                              \n",
       "\n",
       "                              Sample sentence  \\\n",
       "0                      Ich kann nicht kommen.   \n",
       "1                      Das Jahr geht zu Ende.   \n",
       "2                             Ich werde müde.   \n",
       "3  Die Sitzung des Parlaments ist öffentlich.   \n",
       "4            Sie hat sich im Spiegel gesehen.   \n",
       "\n",
       "                     Sample sentence Typing Corrects Part of Speech  \\\n",
       "0                                                              part   \n",
       "1                                                              noun   \n",
       "2                                                              verb   \n",
       "3  Jan Hus wurde in aller Offentlichkeit hingeric...            adj   \n",
       "4                                                              pron   \n",
       "\n",
       "                                              Audio  \n",
       "0  [sound:fa4a14bc-d1e9-547a-b29e-ee09ead02804.mp3]  \n",
       "1  [sound:325a6575-808e-50ae-b410-a25c98a7bbe4.mp3]  \n",
       "2  [sound:affec09d-29f0-541b-926d-e81efc66fa4e.mp3]  \n",
       "3  [sound:18a7da24-0dc1-5728-a49f-9c78f28d7937.mp3]  \n",
       "4  [sound:ac72a75d-8f61-535a-8378-dc0b61253332.mp3]  "
      ]
     },
     "execution_count": 4,
     "metadata": {},
     "output_type": "execute_result"
    }
   ],
   "source": [
    "\n",
    "1\n",
    "pd.reset_option('display.max_colwidth')\n",
    "file_4000_words = \"006_4000_words.tsv\"\n",
    "cols_4000_words = [\"German\", \"English\", \"Plural and inflected forms\", \"Sample sentence\", \"Sample sentence Typing Corrects\", \"Part of Speech\", \"Audio\"]\n",
    "df_4000_words_2 = pd.read_csv(file_4000_words, header=None, sep=\"\\t\").fillna(\"\")\n",
    "df_4000_words_2.columns = cols_4000_words\n",
    "df_4000_words_2.head()\n",
    "save_to = \"006_4000_words_step_1.tsv\"\n",
    "# solution\n"
   ]
  }
 ],
 "metadata": {
  "kernelspec": {
   "display_name": ".venv",
   "language": "python",
   "name": "python3"
  },
  "language_info": {
   "codemirror_mode": {
    "name": "ipython",
    "version": 3
   },
   "file_extension": ".py",
   "mimetype": "text/x-python",
   "name": "python",
   "nbconvert_exporter": "python",
   "pygments_lexer": "ipython3",
   "version": "3.11.1"
  },
  "vscode": {
   "interpreter": {
    "hash": "7daeb9a356073df578df6d7584369b7908e732a3e4cb2289ee7d810fc6635fc0"
   }
  }
 },
 "nbformat": 4,
 "nbformat_minor": 5
}
