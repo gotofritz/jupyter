{
 "cells": [
  {
   "cell_type": "markdown",
   "id": "99786a37",
   "metadata": {},
   "source": [
    "# Pandas\n",
    "\n",
    "Pandas is a powerful library for data manipulation and analysis in Python. It is widely used in a range of fields, including data science, finance, and statistics."
   ]
  },
  {
   "attachments": {},
   "cell_type": "markdown",
   "id": "89ce8c2b",
   "metadata": {},
   "source": [
    "## 003. Series Basics\n",
    "\n",
    "Pandas Series can be used for a variety of data manipulation and\n",
    "analysis tasks. For example, you can use them to perform calculations on the\n",
    "data, such as sum, mean, and standard deviation, or to plot the data using the\n",
    "built-in plotting functions in pandas."
   ]
  },
  {
   "attachments": {},
   "cell_type": "markdown",
   "id": "61c0a177",
   "metadata": {},
   "source": [
    "## 003.000 Assets\n",
    "\n",
    "Some assets to avoid too much typing\n",
    "\n",
    "| Name        | Age|\n",
    "|-------------|----|\n",
    "| Mbappé      | 23 |\n",
    "| De Bruyne   | 31 |\n",
    "| Lewandowski | 33 |\n",
    "| Benzema     | 34 |\n",
    "| Messi       | 35 |"
   ]
  },
  {
   "cell_type": "code",
   "execution_count": 1,
   "metadata": {},
   "outputs": [],
   "source": [
    "import sys\n",
    "from pathlib import Path\n",
    "\n",
    "current_dir = Path().resolve()\n",
    "while current_dir != current_dir.parent and current_dir.name != \"katas\":\n",
    "    current_dir = current_dir.parent\n",
    "if current_dir != current_dir.parent:\n",
    "    sys.path.append(current_dir.as_posix())\n"
   ]
  },
  {
   "cell_type": "code",
   "execution_count": 2,
   "id": "3eb9abb8",
   "metadata": {},
   "outputs": [],
   "source": [
    "import pandas as pd\n",
    "from lib.utils import fresh_df\n",
    "from IPython.core.interactiveshell import InteractiveShell\n",
    "\n",
    "pd.set_option('display.max_rows', None)\n",
    "InteractiveShell.ast_node_interactivity = \"all\"\n",
    "\n",
    "names_as_list = [\"Mbappé\", \"De Bruyne\", \"Lewandowski\", \"Benzema\", \"Messi\"]\n",
    "ages_as_list = [ 23,       31,          33,             34,        35]\n"
   ]
  },
  {
   "attachments": {},
   "cell_type": "markdown",
   "id": "5b212460",
   "metadata": {},
   "source": [
    "### 003.001 Extract series from DataFrame\n",
    "\n",
    "1. Load the TSV file into a DF\n",
    "1. Extract the \"DOB\" column as Series without using loc\n",
    "1. Show it with head(), notice it has the row indices and values\n",
    "1. Extract the dobs as a list, and as array\n",
    "1. Extract the row labels as a list, and as array\n",
    "1. Extract the \"DOB\" column as Series, this time using loc\n"
   ]
  },
  {
   "cell_type": "code",
   "execution_count": 5,
   "id": "c741ca30",
   "metadata": {},
   "outputs": [
    {
     "data": {
      "text/plain": [
       "3"
      ]
     },
     "execution_count": 5,
     "metadata": {},
     "output_type": "execute_result"
    },
    {
     "data": {
      "text/plain": [
       "Name\n",
       "Mbappé         1998-12-20\n",
       "De Bruyne      1991-06-28\n",
       "Lewandowski    1988-08-21\n",
       "Benzema        1987-12-19\n",
       "Messi          1987-06-24\n",
       "Name: DOB, dtype: object"
      ]
     },
     "execution_count": 5,
     "metadata": {},
     "output_type": "execute_result"
    },
    {
     "data": {
      "text/plain": [
       "4"
      ]
     },
     "execution_count": 5,
     "metadata": {},
     "output_type": "execute_result"
    },
    {
     "data": {
      "text/plain": [
       "['1998-12-20', '1991-06-28', '1988-08-21', '1987-12-19', '1987-06-24']"
      ]
     },
     "execution_count": 5,
     "metadata": {},
     "output_type": "execute_result"
    },
    {
     "data": {
      "text/plain": [
       "array(['1998-12-20', '1991-06-28', '1988-08-21', '1987-12-19',\n",
       "       '1987-06-24'], dtype=object)"
      ]
     },
     "execution_count": 5,
     "metadata": {},
     "output_type": "execute_result"
    },
    {
     "data": {
      "text/plain": [
       "5"
      ]
     },
     "execution_count": 5,
     "metadata": {},
     "output_type": "execute_result"
    },
    {
     "data": {
      "text/plain": [
       "array(['Mbappé', 'De Bruyne', 'Lewandowski', 'Benzema', 'Messi'],\n",
       "      dtype=object)"
      ]
     },
     "execution_count": 5,
     "metadata": {},
     "output_type": "execute_result"
    },
    {
     "data": {
      "text/plain": [
       "['Mbappé', 'De Bruyne', 'Lewandowski', 'Benzema', 'Messi']"
      ]
     },
     "execution_count": 5,
     "metadata": {},
     "output_type": "execute_result"
    },
    {
     "data": {
      "text/plain": [
       "6"
      ]
     },
     "execution_count": 5,
     "metadata": {},
     "output_type": "execute_result"
    },
    {
     "data": {
      "text/plain": [
       "Name\n",
       "Mbappé         1998-12-20\n",
       "De Bruyne      1991-06-28\n",
       "Lewandowski    1988-08-21\n",
       "Benzema        1987-12-19\n",
       "Messi          1987-06-24\n",
       "Name: DOB, dtype: object"
      ]
     },
     "execution_count": 5,
     "metadata": {},
     "output_type": "execute_result"
    }
   ],
   "source": [
    "# 1\n",
    "datafile = \"002.tsv\"\n",
    "df = fresh_df(src=datafile, id=\"Name\")\n",
    "# solution\n",
    "\n",
    "# 2\n",
    "s = df[\"DOB\"]\n",
    "\n",
    "3\n",
    "s.head()\n",
    "\n",
    "4\n",
    "s.tolist()\n",
    "s.values\n",
    "\n",
    "5\n",
    "s.index.values\n",
    "s.index.to_list()\n",
    "\n",
    "6\n",
    "df.loc[:, \"DOB\"]\n"
   ]
  },
  {
   "attachments": {},
   "cell_type": "markdown",
   "metadata": {},
   "source": [
    "### 003.002 Sort Series\n",
    "\n",
    "1. Load the TSV file into a DF\n",
    "1. Extract the \"DOB\" column as Series by making a copy, otherwise it wont' work. Print it\n",
    "1. Sort by row labels, print it\n",
    "1. sort by values, print it\n"
   ]
  },
  {
   "cell_type": "code",
   "execution_count": 4,
   "id": "ce4b8ff8",
   "metadata": {},
   "outputs": [
    {
     "data": {
      "text/plain": [
       "Name\n",
       "Mbappé         1998-12-20\n",
       "De Bruyne      1991-06-28\n",
       "Lewandowski    1988-08-21\n",
       "Benzema        1987-12-19\n",
       "Messi          1987-06-24\n",
       "Name: DOB, dtype: object"
      ]
     },
     "execution_count": 4,
     "metadata": {},
     "output_type": "execute_result"
    },
    {
     "data": {
      "text/plain": [
       "Name\n",
       "Benzema        1987-12-19\n",
       "De Bruyne      1991-06-28\n",
       "Lewandowski    1988-08-21\n",
       "Mbappé         1998-12-20\n",
       "Messi          1987-06-24\n",
       "Name: DOB, dtype: object"
      ]
     },
     "execution_count": 4,
     "metadata": {},
     "output_type": "execute_result"
    },
    {
     "data": {
      "text/plain": [
       "Name\n",
       "Mbappé         1998-12-20\n",
       "De Bruyne      1991-06-28\n",
       "Lewandowski    1988-08-21\n",
       "Benzema        1987-12-19\n",
       "Messi          1987-06-24\n",
       "Name: DOB, dtype: object"
      ]
     },
     "execution_count": 4,
     "metadata": {},
     "output_type": "execute_result"
    }
   ],
   "source": [
    "datafile = \"002.tsv\"\n",
    "df = fresh_df(src=datafile, id=\"Name\")\n",
    "# solution\n",
    "s = df[\"DOB\"].copy()\n",
    "s\n",
    "s.sort_index(inplace=True)\n",
    "s\n",
    "s.sort_values(ascending=False, inplace=True)\n",
    "s"
   ]
  }
 ],
 "metadata": {
  "kernelspec": {
   "display_name": ".venv",
   "language": "python",
   "name": "python3"
  },
  "language_info": {
   "codemirror_mode": {
    "name": "ipython",
    "version": 3
   },
   "file_extension": ".py",
   "mimetype": "text/x-python",
   "name": "python",
   "nbconvert_exporter": "python",
   "pygments_lexer": "ipython3",
   "version": "3.10.6"
  },
  "vscode": {
   "interpreter": {
    "hash": "7daeb9a356073df578df6d7584369b7908e732a3e4cb2289ee7d810fc6635fc0"
   }
  }
 },
 "nbformat": 4,
 "nbformat_minor": 5
}
