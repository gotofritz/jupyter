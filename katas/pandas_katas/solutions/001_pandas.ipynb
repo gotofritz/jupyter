{
 "cells": [
  {
   "cell_type": "markdown",
   "id": "99786a37",
   "metadata": {},
   "source": [
    "# Pandas\n",
    "\n",
    "Pandas is a powerful library for data manipulation and analysis in Python. It is widely used in a range of fields, including data science, finance, and statistics."
   ]
  },
  {
   "attachments": {},
   "cell_type": "markdown",
   "id": "89ce8c2b",
   "metadata": {},
   "source": [
    "## 001. DataFrame Importing / Exporting"
   ]
  },
  {
   "attachments": {},
   "cell_type": "markdown",
   "id": "61c0a177",
   "metadata": {},
   "source": [
    "## 001.000 Assets\n",
    "\n",
    "Some assets to avoid too much typing\n",
    "\n",
    "| Name        | Age|\n",
    "|-------------|----|\n",
    "| Mbappé      | 23 |\n",
    "| De Bruyne   | 31 |\n",
    "| Lewandowski | 33 |\n",
    "| Benzema     | 34 |\n",
    "| Messi       | 35 |"
   ]
  },
  {
   "cell_type": "code",
   "execution_count": 2,
   "id": "02ca7850",
   "metadata": {},
   "outputs": [],
   "source": [
    "import pandas as pd\n",
    "import numpy as np\n",
    "from IPython.core.interactiveshell import InteractiveShell\n",
    "\n",
    "pd.set_option('display.max_rows', None)\n",
    "InteractiveShell.ast_node_interactivity = \"all\"\n",
    "names_as_list = [\"Mbappé\", \"De Bruyne\", \"Lewandowski\", \"Benzema\", \"Messi\"]\n",
    "ages_as_list = [ 23,       31,          33,             34,        35]\n"
   ]
  },
  {
   "attachments": {},
   "cell_type": "markdown",
   "id": "5b212460",
   "metadata": {},
   "source": [
    "### 001.001 Dictionary of arrays\n",
    "\n",
    "1. Replicate this data as a dataframe with a dictionary of arrays, using a constructor, and print it\n",
    "1. Do the same, but using from_dict\n",
    "1. Extract the dict out of the df again with to_dict\n"
   ]
  },
  {
   "cell_type": "code",
   "execution_count": 3,
   "id": "c741ca30",
   "metadata": {},
   "outputs": [
    {
     "data": {
      "text/plain": [
       "1"
      ]
     },
     "execution_count": 3,
     "metadata": {},
     "output_type": "execute_result"
    },
    {
     "data": {
      "text/html": [
       "<div>\n",
       "<style scoped>\n",
       "    .dataframe tbody tr th:only-of-type {\n",
       "        vertical-align: middle;\n",
       "    }\n",
       "\n",
       "    .dataframe tbody tr th {\n",
       "        vertical-align: top;\n",
       "    }\n",
       "\n",
       "    .dataframe thead th {\n",
       "        text-align: right;\n",
       "    }\n",
       "</style>\n",
       "<table border=\"1\" class=\"dataframe\">\n",
       "  <thead>\n",
       "    <tr style=\"text-align: right;\">\n",
       "      <th></th>\n",
       "      <th>Name</th>\n",
       "      <th>Age</th>\n",
       "    </tr>\n",
       "  </thead>\n",
       "  <tbody>\n",
       "    <tr>\n",
       "      <th>0</th>\n",
       "      <td>Mbappé</td>\n",
       "      <td>23</td>\n",
       "    </tr>\n",
       "    <tr>\n",
       "      <th>1</th>\n",
       "      <td>De Bruyne</td>\n",
       "      <td>31</td>\n",
       "    </tr>\n",
       "    <tr>\n",
       "      <th>2</th>\n",
       "      <td>Lewandowski</td>\n",
       "      <td>33</td>\n",
       "    </tr>\n",
       "    <tr>\n",
       "      <th>3</th>\n",
       "      <td>Benzema</td>\n",
       "      <td>34</td>\n",
       "    </tr>\n",
       "    <tr>\n",
       "      <th>4</th>\n",
       "      <td>Messi</td>\n",
       "      <td>35</td>\n",
       "    </tr>\n",
       "  </tbody>\n",
       "</table>\n",
       "</div>"
      ],
      "text/plain": [
       "          Name  Age\n",
       "0       Mbappé   23\n",
       "1    De Bruyne   31\n",
       "2  Lewandowski   33\n",
       "3      Benzema   34\n",
       "4        Messi   35"
      ]
     },
     "execution_count": 3,
     "metadata": {},
     "output_type": "execute_result"
    },
    {
     "data": {
      "text/plain": [
       "2"
      ]
     },
     "execution_count": 3,
     "metadata": {},
     "output_type": "execute_result"
    },
    {
     "data": {
      "text/html": [
       "<div>\n",
       "<style scoped>\n",
       "    .dataframe tbody tr th:only-of-type {\n",
       "        vertical-align: middle;\n",
       "    }\n",
       "\n",
       "    .dataframe tbody tr th {\n",
       "        vertical-align: top;\n",
       "    }\n",
       "\n",
       "    .dataframe thead th {\n",
       "        text-align: right;\n",
       "    }\n",
       "</style>\n",
       "<table border=\"1\" class=\"dataframe\">\n",
       "  <thead>\n",
       "    <tr style=\"text-align: right;\">\n",
       "      <th></th>\n",
       "      <th>Name</th>\n",
       "      <th>Age</th>\n",
       "    </tr>\n",
       "  </thead>\n",
       "  <tbody>\n",
       "    <tr>\n",
       "      <th>0</th>\n",
       "      <td>Mbappé</td>\n",
       "      <td>23</td>\n",
       "    </tr>\n",
       "    <tr>\n",
       "      <th>1</th>\n",
       "      <td>De Bruyne</td>\n",
       "      <td>31</td>\n",
       "    </tr>\n",
       "    <tr>\n",
       "      <th>2</th>\n",
       "      <td>Lewandowski</td>\n",
       "      <td>33</td>\n",
       "    </tr>\n",
       "    <tr>\n",
       "      <th>3</th>\n",
       "      <td>Benzema</td>\n",
       "      <td>34</td>\n",
       "    </tr>\n",
       "    <tr>\n",
       "      <th>4</th>\n",
       "      <td>Messi</td>\n",
       "      <td>35</td>\n",
       "    </tr>\n",
       "  </tbody>\n",
       "</table>\n",
       "</div>"
      ],
      "text/plain": [
       "          Name  Age\n",
       "0       Mbappé   23\n",
       "1    De Bruyne   31\n",
       "2  Lewandowski   33\n",
       "3      Benzema   34\n",
       "4        Messi   35"
      ]
     },
     "execution_count": 3,
     "metadata": {},
     "output_type": "execute_result"
    },
    {
     "data": {
      "text/plain": [
       "3"
      ]
     },
     "execution_count": 3,
     "metadata": {},
     "output_type": "execute_result"
    },
    {
     "data": {
      "text/plain": [
       "{'Name': ['Mbappé', 'De Bruyne', 'Lewandowski', 'Benzema', 'Messi'],\n",
       " 'Age': [23, 31, 33, 34, 35]}"
      ]
     },
     "execution_count": 3,
     "metadata": {},
     "output_type": "execute_result"
    }
   ],
   "source": [
    "# solution\n",
    "1\n",
    "data = {\n",
    "    \"Name\": names_as_list,\n",
    "    \"Age\": ages_as_list\n",
    "}\n",
    "pd.DataFrame(data)\n",
    "\n",
    "2\n",
    "df = pd.DataFrame.from_dict(data)\n",
    "df\n",
    "\n",
    "3\n",
    "df.to_dict(orient=\"list\")"
   ]
  },
  {
   "attachments": {},
   "cell_type": "markdown",
   "id": "54889ea9",
   "metadata": {},
   "source": [
    "### 001.002 List of dictionaries\n",
    "\n",
    "1. Create a list where every entry is a dict with keys \"Name\" and \"Age\", and print\n",
    "1. Create a df from it\n",
    "1. Do the same, but using from_records\n",
    "1. Extract the list out of the df again with to_dict (not to_records). Note that you can actually get a list and not a dict, with the right parameters...\n"
   ]
  },
  {
   "cell_type": "code",
   "execution_count": 4,
   "id": "42da9c2b",
   "metadata": {},
   "outputs": [
    {
     "data": {
      "text/plain": [
       "1"
      ]
     },
     "execution_count": 4,
     "metadata": {},
     "output_type": "execute_result"
    },
    {
     "data": {
      "text/plain": [
       "[{'Name': 'Mbappé', 'Age': 23},\n",
       " {'Name': 'De Bruyne', 'Age': 31},\n",
       " {'Name': 'Lewandowski', 'Age': 33},\n",
       " {'Name': 'Benzema', 'Age': 34},\n",
       " {'Name': 'Messi', 'Age': 35}]"
      ]
     },
     "execution_count": 4,
     "metadata": {},
     "output_type": "execute_result"
    },
    {
     "data": {
      "text/html": [
       "<div>\n",
       "<style scoped>\n",
       "    .dataframe tbody tr th:only-of-type {\n",
       "        vertical-align: middle;\n",
       "    }\n",
       "\n",
       "    .dataframe tbody tr th {\n",
       "        vertical-align: top;\n",
       "    }\n",
       "\n",
       "    .dataframe thead th {\n",
       "        text-align: right;\n",
       "    }\n",
       "</style>\n",
       "<table border=\"1\" class=\"dataframe\">\n",
       "  <thead>\n",
       "    <tr style=\"text-align: right;\">\n",
       "      <th></th>\n",
       "      <th>Name</th>\n",
       "      <th>Age</th>\n",
       "    </tr>\n",
       "  </thead>\n",
       "  <tbody>\n",
       "    <tr>\n",
       "      <th>0</th>\n",
       "      <td>Mbappé</td>\n",
       "      <td>23</td>\n",
       "    </tr>\n",
       "    <tr>\n",
       "      <th>1</th>\n",
       "      <td>De Bruyne</td>\n",
       "      <td>31</td>\n",
       "    </tr>\n",
       "    <tr>\n",
       "      <th>2</th>\n",
       "      <td>Lewandowski</td>\n",
       "      <td>33</td>\n",
       "    </tr>\n",
       "    <tr>\n",
       "      <th>3</th>\n",
       "      <td>Benzema</td>\n",
       "      <td>34</td>\n",
       "    </tr>\n",
       "    <tr>\n",
       "      <th>4</th>\n",
       "      <td>Messi</td>\n",
       "      <td>35</td>\n",
       "    </tr>\n",
       "  </tbody>\n",
       "</table>\n",
       "</div>"
      ],
      "text/plain": [
       "          Name  Age\n",
       "0       Mbappé   23\n",
       "1    De Bruyne   31\n",
       "2  Lewandowski   33\n",
       "3      Benzema   34\n",
       "4        Messi   35"
      ]
     },
     "execution_count": 4,
     "metadata": {},
     "output_type": "execute_result"
    },
    {
     "data": {
      "text/plain": [
       "2"
      ]
     },
     "execution_count": 4,
     "metadata": {},
     "output_type": "execute_result"
    },
    {
     "data": {
      "text/html": [
       "<div>\n",
       "<style scoped>\n",
       "    .dataframe tbody tr th:only-of-type {\n",
       "        vertical-align: middle;\n",
       "    }\n",
       "\n",
       "    .dataframe tbody tr th {\n",
       "        vertical-align: top;\n",
       "    }\n",
       "\n",
       "    .dataframe thead th {\n",
       "        text-align: right;\n",
       "    }\n",
       "</style>\n",
       "<table border=\"1\" class=\"dataframe\">\n",
       "  <thead>\n",
       "    <tr style=\"text-align: right;\">\n",
       "      <th></th>\n",
       "      <th>Name</th>\n",
       "      <th>Age</th>\n",
       "    </tr>\n",
       "  </thead>\n",
       "  <tbody>\n",
       "    <tr>\n",
       "      <th>0</th>\n",
       "      <td>Mbappé</td>\n",
       "      <td>23</td>\n",
       "    </tr>\n",
       "    <tr>\n",
       "      <th>1</th>\n",
       "      <td>De Bruyne</td>\n",
       "      <td>31</td>\n",
       "    </tr>\n",
       "    <tr>\n",
       "      <th>2</th>\n",
       "      <td>Lewandowski</td>\n",
       "      <td>33</td>\n",
       "    </tr>\n",
       "    <tr>\n",
       "      <th>3</th>\n",
       "      <td>Benzema</td>\n",
       "      <td>34</td>\n",
       "    </tr>\n",
       "    <tr>\n",
       "      <th>4</th>\n",
       "      <td>Messi</td>\n",
       "      <td>35</td>\n",
       "    </tr>\n",
       "  </tbody>\n",
       "</table>\n",
       "</div>"
      ],
      "text/plain": [
       "          Name  Age\n",
       "0       Mbappé   23\n",
       "1    De Bruyne   31\n",
       "2  Lewandowski   33\n",
       "3      Benzema   34\n",
       "4        Messi   35"
      ]
     },
     "execution_count": 4,
     "metadata": {},
     "output_type": "execute_result"
    },
    {
     "data": {
      "text/plain": [
       "3"
      ]
     },
     "execution_count": 4,
     "metadata": {},
     "output_type": "execute_result"
    },
    {
     "data": {
      "text/plain": [
       "[{'Name': 'Mbappé', 'Age': 23},\n",
       " {'Name': 'De Bruyne', 'Age': 31},\n",
       " {'Name': 'Lewandowski', 'Age': 33},\n",
       " {'Name': 'Benzema', 'Age': 34},\n",
       " {'Name': 'Messi', 'Age': 35}]"
      ]
     },
     "execution_count": 4,
     "metadata": {},
     "output_type": "execute_result"
    }
   ],
   "source": [
    "# solution\n",
    "1\n",
    "data = [{ \"Name\": name, \"Age\": age} for name, age in zip(names_as_list, ages_as_list)]\n",
    "data\n",
    "pd.DataFrame(data)\n",
    "\n",
    "2\n",
    "df = pd.DataFrame.from_records(data)\n",
    "df\n",
    "\n",
    "3\n",
    "df.to_dict(orient=\"records\")\n"
   ]
  },
  {
   "attachments": {},
   "cell_type": "markdown",
   "id": "07d889f0",
   "metadata": {},
   "source": [
    "### 001.003 2D NumPy array\n",
    "\n",
    "1. Create a NumPy 2D array with the same data as before, but with an extra column for \"Last Updated\" with a pd.Timestamp\n",
    "    1. and create a df with it\n",
    "    1. Make sure the column names are still \"Name\", \"Age\", \"Last Updated\"\n",
    "1. Update the \"Last Updated\" column with the current timestamp\n",
    "1. Convert to a NumPy and print it, proving the timestamp is different\n"
   ]
  },
  {
   "cell_type": "code",
   "execution_count": 5,
   "id": "58384722",
   "metadata": {},
   "outputs": [
    {
     "data": {
      "text/plain": [
       "1"
      ]
     },
     "execution_count": 5,
     "metadata": {},
     "output_type": "execute_result"
    },
    {
     "data": {
      "text/plain": [
       "array([['Mbappé', 23, Timestamp('2023-12-24 22:05:30.217904')],\n",
       "       ['De Bruyne', 31, Timestamp('2023-12-24 22:05:30.217991')],\n",
       "       ['Lewandowski', 33, Timestamp('2023-12-24 22:05:30.217993')],\n",
       "       ['Benzema', 34, Timestamp('2023-12-24 22:05:30.217995')],\n",
       "       ['Messi', 35, Timestamp('2023-12-24 22:05:30.217996')]],\n",
       "      dtype=object)"
      ]
     },
     "execution_count": 5,
     "metadata": {},
     "output_type": "execute_result"
    },
    {
     "data": {
      "text/html": [
       "<div>\n",
       "<style scoped>\n",
       "    .dataframe tbody tr th:only-of-type {\n",
       "        vertical-align: middle;\n",
       "    }\n",
       "\n",
       "    .dataframe tbody tr th {\n",
       "        vertical-align: top;\n",
       "    }\n",
       "\n",
       "    .dataframe thead th {\n",
       "        text-align: right;\n",
       "    }\n",
       "</style>\n",
       "<table border=\"1\" class=\"dataframe\">\n",
       "  <thead>\n",
       "    <tr style=\"text-align: right;\">\n",
       "      <th></th>\n",
       "      <th>Name</th>\n",
       "      <th>Age</th>\n",
       "      <th>Last Updated</th>\n",
       "    </tr>\n",
       "  </thead>\n",
       "  <tbody>\n",
       "    <tr>\n",
       "      <th>0</th>\n",
       "      <td>Mbappé</td>\n",
       "      <td>23</td>\n",
       "      <td>2023-12-24 22:05:30.217904</td>\n",
       "    </tr>\n",
       "    <tr>\n",
       "      <th>1</th>\n",
       "      <td>De Bruyne</td>\n",
       "      <td>31</td>\n",
       "      <td>2023-12-24 22:05:30.217991</td>\n",
       "    </tr>\n",
       "    <tr>\n",
       "      <th>2</th>\n",
       "      <td>Lewandowski</td>\n",
       "      <td>33</td>\n",
       "      <td>2023-12-24 22:05:30.217993</td>\n",
       "    </tr>\n",
       "    <tr>\n",
       "      <th>3</th>\n",
       "      <td>Benzema</td>\n",
       "      <td>34</td>\n",
       "      <td>2023-12-24 22:05:30.217995</td>\n",
       "    </tr>\n",
       "    <tr>\n",
       "      <th>4</th>\n",
       "      <td>Messi</td>\n",
       "      <td>35</td>\n",
       "      <td>2023-12-24 22:05:30.217996</td>\n",
       "    </tr>\n",
       "  </tbody>\n",
       "</table>\n",
       "</div>"
      ],
      "text/plain": [
       "          Name Age               Last Updated\n",
       "0       Mbappé  23 2023-12-24 22:05:30.217904\n",
       "1    De Bruyne  31 2023-12-24 22:05:30.217991\n",
       "2  Lewandowski  33 2023-12-24 22:05:30.217993\n",
       "3      Benzema  34 2023-12-24 22:05:30.217995\n",
       "4        Messi  35 2023-12-24 22:05:30.217996"
      ]
     },
     "execution_count": 5,
     "metadata": {},
     "output_type": "execute_result"
    },
    {
     "data": {
      "text/plain": [
       "2"
      ]
     },
     "execution_count": 5,
     "metadata": {},
     "output_type": "execute_result"
    },
    {
     "data": {
      "text/plain": [
       "3"
      ]
     },
     "execution_count": 5,
     "metadata": {},
     "output_type": "execute_result"
    },
    {
     "data": {
      "text/plain": [
       "array([['Mbappé', 23, Timestamp('2023-12-24 22:05:30.223044')],\n",
       "       ['De Bruyne', 31, Timestamp('2023-12-24 22:05:30.223044')],\n",
       "       ['Lewandowski', 33, Timestamp('2023-12-24 22:05:30.223044')],\n",
       "       ['Benzema', 34, Timestamp('2023-12-24 22:05:30.223044')],\n",
       "       ['Messi', 35, Timestamp('2023-12-24 22:05:30.223044')]],\n",
       "      dtype=object)"
      ]
     },
     "execution_count": 5,
     "metadata": {},
     "output_type": "execute_result"
    }
   ],
   "source": [
    "# solution\n",
    "\n",
    "1\n",
    "data = np.array([ [name, age, pd.Timestamp.now()] for name, age in zip(names_as_list, ages_as_list)])\n",
    "data\n",
    "df = pd.DataFrame(data, columns=[\"Name\", \"Age\", \"Last Updated\"])\n",
    "df\n",
    "\n",
    "2\n",
    "df[\"Last Updated\"] = pd.Timestamp.now()\n",
    "\n",
    "3\n",
    "data = df.to_numpy()\n",
    "data\n"
   ]
  },
  {
   "attachments": {},
   "cell_type": "markdown",
   "id": "1205b09a",
   "metadata": {},
   "source": [
    "### 001.004 Pandas Series\n",
    "\n",
    "1. Create two pandas series from the two lists, and then concatenate them into a df. Make sure the column names are still \"Name\" and \"Age\"\n",
    "1. Do the same thing, but differently - this time make sure the names are already in the Series"
   ]
  },
  {
   "cell_type": "code",
   "execution_count": 6,
   "id": "57db64a0",
   "metadata": {},
   "outputs": [
    {
     "data": {
      "text/plain": [
       "1"
      ]
     },
     "execution_count": 6,
     "metadata": {},
     "output_type": "execute_result"
    },
    {
     "data": {
      "text/html": [
       "<div>\n",
       "<style scoped>\n",
       "    .dataframe tbody tr th:only-of-type {\n",
       "        vertical-align: middle;\n",
       "    }\n",
       "\n",
       "    .dataframe tbody tr th {\n",
       "        vertical-align: top;\n",
       "    }\n",
       "\n",
       "    .dataframe thead th {\n",
       "        text-align: right;\n",
       "    }\n",
       "</style>\n",
       "<table border=\"1\" class=\"dataframe\">\n",
       "  <thead>\n",
       "    <tr style=\"text-align: right;\">\n",
       "      <th></th>\n",
       "      <th>Name</th>\n",
       "      <th>Age</th>\n",
       "    </tr>\n",
       "  </thead>\n",
       "  <tbody>\n",
       "    <tr>\n",
       "      <th>0</th>\n",
       "      <td>Mbappé</td>\n",
       "      <td>23</td>\n",
       "    </tr>\n",
       "    <tr>\n",
       "      <th>1</th>\n",
       "      <td>De Bruyne</td>\n",
       "      <td>31</td>\n",
       "    </tr>\n",
       "    <tr>\n",
       "      <th>2</th>\n",
       "      <td>Lewandowski</td>\n",
       "      <td>33</td>\n",
       "    </tr>\n",
       "    <tr>\n",
       "      <th>3</th>\n",
       "      <td>Benzema</td>\n",
       "      <td>34</td>\n",
       "    </tr>\n",
       "    <tr>\n",
       "      <th>4</th>\n",
       "      <td>Messi</td>\n",
       "      <td>35</td>\n",
       "    </tr>\n",
       "  </tbody>\n",
       "</table>\n",
       "</div>"
      ],
      "text/plain": [
       "          Name  Age\n",
       "0       Mbappé   23\n",
       "1    De Bruyne   31\n",
       "2  Lewandowski   33\n",
       "3      Benzema   34\n",
       "4        Messi   35"
      ]
     },
     "execution_count": 6,
     "metadata": {},
     "output_type": "execute_result"
    },
    {
     "data": {
      "text/plain": [
       "2"
      ]
     },
     "execution_count": 6,
     "metadata": {},
     "output_type": "execute_result"
    },
    {
     "data": {
      "text/html": [
       "<div>\n",
       "<style scoped>\n",
       "    .dataframe tbody tr th:only-of-type {\n",
       "        vertical-align: middle;\n",
       "    }\n",
       "\n",
       "    .dataframe tbody tr th {\n",
       "        vertical-align: top;\n",
       "    }\n",
       "\n",
       "    .dataframe thead th {\n",
       "        text-align: right;\n",
       "    }\n",
       "</style>\n",
       "<table border=\"1\" class=\"dataframe\">\n",
       "  <thead>\n",
       "    <tr style=\"text-align: right;\">\n",
       "      <th></th>\n",
       "      <th>Name</th>\n",
       "      <th>Age</th>\n",
       "    </tr>\n",
       "  </thead>\n",
       "  <tbody>\n",
       "    <tr>\n",
       "      <th>0</th>\n",
       "      <td>Mbappé</td>\n",
       "      <td>23</td>\n",
       "    </tr>\n",
       "    <tr>\n",
       "      <th>1</th>\n",
       "      <td>De Bruyne</td>\n",
       "      <td>31</td>\n",
       "    </tr>\n",
       "    <tr>\n",
       "      <th>2</th>\n",
       "      <td>Lewandowski</td>\n",
       "      <td>33</td>\n",
       "    </tr>\n",
       "    <tr>\n",
       "      <th>3</th>\n",
       "      <td>Benzema</td>\n",
       "      <td>34</td>\n",
       "    </tr>\n",
       "    <tr>\n",
       "      <th>4</th>\n",
       "      <td>Messi</td>\n",
       "      <td>35</td>\n",
       "    </tr>\n",
       "  </tbody>\n",
       "</table>\n",
       "</div>"
      ],
      "text/plain": [
       "          Name  Age\n",
       "0       Mbappé   23\n",
       "1    De Bruyne   31\n",
       "2  Lewandowski   33\n",
       "3      Benzema   34\n",
       "4        Messi   35"
      ]
     },
     "execution_count": 6,
     "metadata": {},
     "output_type": "execute_result"
    }
   ],
   "source": [
    "# solution\n",
    "1\n",
    "s1 = pd.Series(names_as_list)\n",
    "s2 = pd.Series(ages_as_list)\n",
    "pd.concat([s1, s2], keys=[\"Name\", \"Age\"], axis=1)\n",
    "\n",
    "2\n",
    "s1 = pd.Series(names_as_list, name=\"Name\")\n",
    "s2 = pd.Series(ages_as_list, name=\"Age\")\n",
    "pd.concat([s1, s2], axis=1)\n"
   ]
  },
  {
   "attachments": {},
   "cell_type": "markdown",
   "id": "29b3d83f",
   "metadata": {},
   "source": [
    "### 001.005 SQL (sqlite)\n",
    "\n",
    "1. Use sqlite module to read from db file DB\n",
    "    1. import module\n",
    "    1. Create a DataFrame by reading from table 'players' \n",
    "    1. Note that the index column is called 'id'\n",
    "1. Change the Last Updated column to the current timestamp in the DataFrame.\n",
    "    1. Write the updated DataFrame data to the database\n",
    "    1. HINT: Make sure you tell the function to use the 'id' column for indices\n",
    "    1. What happens if records already exist?\n",
    "1. Load the data again in a new DataFrame, and confirm it's same as for step (1) except for the timestamp\n",
    "\n"
   ]
  },
  {
   "cell_type": "code",
   "execution_count": 7,
   "id": "eaa7d2ae",
   "metadata": {},
   "outputs": [
    {
     "data": {
      "text/plain": [
       "1"
      ]
     },
     "execution_count": 7,
     "metadata": {},
     "output_type": "execute_result"
    },
    {
     "data": {
      "text/html": [
       "<div>\n",
       "<style scoped>\n",
       "    .dataframe tbody tr th:only-of-type {\n",
       "        vertical-align: middle;\n",
       "    }\n",
       "\n",
       "    .dataframe tbody tr th {\n",
       "        vertical-align: top;\n",
       "    }\n",
       "\n",
       "    .dataframe thead th {\n",
       "        text-align: right;\n",
       "    }\n",
       "</style>\n",
       "<table border=\"1\" class=\"dataframe\">\n",
       "  <thead>\n",
       "    <tr style=\"text-align: right;\">\n",
       "      <th></th>\n",
       "      <th>Name</th>\n",
       "      <th>Age</th>\n",
       "      <th>Last Updated</th>\n",
       "    </tr>\n",
       "    <tr>\n",
       "      <th>id</th>\n",
       "      <th></th>\n",
       "      <th></th>\n",
       "      <th></th>\n",
       "    </tr>\n",
       "  </thead>\n",
       "  <tbody>\n",
       "    <tr>\n",
       "      <th>0</th>\n",
       "      <td>Mbappé</td>\n",
       "      <td>23</td>\n",
       "      <td>2023-12-08 07:40:04.287867</td>\n",
       "    </tr>\n",
       "    <tr>\n",
       "      <th>1</th>\n",
       "      <td>De Bruyne</td>\n",
       "      <td>31</td>\n",
       "      <td>2023-12-08 07:40:04.287867</td>\n",
       "    </tr>\n",
       "    <tr>\n",
       "      <th>2</th>\n",
       "      <td>Lewandowski</td>\n",
       "      <td>33</td>\n",
       "      <td>2023-12-08 07:40:04.287867</td>\n",
       "    </tr>\n",
       "    <tr>\n",
       "      <th>3</th>\n",
       "      <td>Benzema</td>\n",
       "      <td>34</td>\n",
       "      <td>2023-12-08 07:40:04.287867</td>\n",
       "    </tr>\n",
       "    <tr>\n",
       "      <th>4</th>\n",
       "      <td>Messi</td>\n",
       "      <td>35</td>\n",
       "      <td>2023-12-08 07:40:04.287867</td>\n",
       "    </tr>\n",
       "  </tbody>\n",
       "</table>\n",
       "</div>"
      ],
      "text/plain": [
       "           Name  Age                Last Updated\n",
       "id                                              \n",
       "0        Mbappé   23  2023-12-08 07:40:04.287867\n",
       "1     De Bruyne   31  2023-12-08 07:40:04.287867\n",
       "2   Lewandowski   33  2023-12-08 07:40:04.287867\n",
       "3       Benzema   34  2023-12-08 07:40:04.287867\n",
       "4         Messi   35  2023-12-08 07:40:04.287867"
      ]
     },
     "execution_count": 7,
     "metadata": {},
     "output_type": "execute_result"
    },
    {
     "data": {
      "text/plain": [
       "2"
      ]
     },
     "execution_count": 7,
     "metadata": {},
     "output_type": "execute_result"
    },
    {
     "data": {
      "text/plain": [
       "5"
      ]
     },
     "execution_count": 7,
     "metadata": {},
     "output_type": "execute_result"
    },
    {
     "data": {
      "text/plain": [
       "3"
      ]
     },
     "execution_count": 7,
     "metadata": {},
     "output_type": "execute_result"
    },
    {
     "data": {
      "text/html": [
       "<div>\n",
       "<style scoped>\n",
       "    .dataframe tbody tr th:only-of-type {\n",
       "        vertical-align: middle;\n",
       "    }\n",
       "\n",
       "    .dataframe tbody tr th {\n",
       "        vertical-align: top;\n",
       "    }\n",
       "\n",
       "    .dataframe thead th {\n",
       "        text-align: right;\n",
       "    }\n",
       "</style>\n",
       "<table border=\"1\" class=\"dataframe\">\n",
       "  <thead>\n",
       "    <tr style=\"text-align: right;\">\n",
       "      <th></th>\n",
       "      <th>Name</th>\n",
       "      <th>Age</th>\n",
       "      <th>Last Updated</th>\n",
       "    </tr>\n",
       "    <tr>\n",
       "      <th>id</th>\n",
       "      <th></th>\n",
       "      <th></th>\n",
       "      <th></th>\n",
       "    </tr>\n",
       "  </thead>\n",
       "  <tbody>\n",
       "    <tr>\n",
       "      <th>0</th>\n",
       "      <td>Mbappé</td>\n",
       "      <td>23</td>\n",
       "      <td>2023-12-24 22:05:30.247053</td>\n",
       "    </tr>\n",
       "    <tr>\n",
       "      <th>1</th>\n",
       "      <td>De Bruyne</td>\n",
       "      <td>31</td>\n",
       "      <td>2023-12-24 22:05:30.247053</td>\n",
       "    </tr>\n",
       "    <tr>\n",
       "      <th>2</th>\n",
       "      <td>Lewandowski</td>\n",
       "      <td>33</td>\n",
       "      <td>2023-12-24 22:05:30.247053</td>\n",
       "    </tr>\n",
       "    <tr>\n",
       "      <th>3</th>\n",
       "      <td>Benzema</td>\n",
       "      <td>34</td>\n",
       "      <td>2023-12-24 22:05:30.247053</td>\n",
       "    </tr>\n",
       "    <tr>\n",
       "      <th>4</th>\n",
       "      <td>Messi</td>\n",
       "      <td>35</td>\n",
       "      <td>2023-12-24 22:05:30.247053</td>\n",
       "    </tr>\n",
       "  </tbody>\n",
       "</table>\n",
       "</div>"
      ],
      "text/plain": [
       "           Name  Age                Last Updated\n",
       "id                                              \n",
       "0        Mbappé   23  2023-12-24 22:05:30.247053\n",
       "1     De Bruyne   31  2023-12-24 22:05:30.247053\n",
       "2   Lewandowski   33  2023-12-24 22:05:30.247053\n",
       "3       Benzema   34  2023-12-24 22:05:30.247053\n",
       "4         Messi   35  2023-12-24 22:05:30.247053"
      ]
     },
     "execution_count": 7,
     "metadata": {},
     "output_type": "execute_result"
    }
   ],
   "source": [
    "DB = \"001.005.sqlite\"\n",
    "# solution\n",
    "import sqlite3 as sqlite\n",
    "\n",
    "1\n",
    "con = sqlite.connect(DB)\n",
    "df = pd.read_sql(\"SELECT * FROM players\", con=con, index_col=\"id\")\n",
    "df\n",
    "\n",
    "2\n",
    "df[\"Last Updated\"] = pd.Timestamp.now()\n",
    "df.to_sql(\"players\", con=con, if_exists=\"replace\", index=True, index_label=\"id\")\n",
    "\n",
    "3\n",
    "pd.read_sql(\"SELECT * FROM players\", con=con, index_col=\"id\")\n",
    "\n",
    "\n",
    "\n"
   ]
  },
  {
   "cell_type": "markdown",
   "id": "9f963146",
   "metadata": {},
   "source": [
    "### 001.006 SQL (sqlalchemy)\n",
    "\n",
    "1. Replicate 001.005 but use sqlalchemy to connect to the DB\n",
    "    1. You need to use an undocumented method of engine\n",
    "    1. you will probably get warnings, but you can ignore them"
   ]
  },
  {
   "cell_type": "code",
   "execution_count": 8,
   "id": "163074bb",
   "metadata": {},
   "outputs": [
    {
     "name": "stderr",
     "output_type": "stream",
     "text": [
      "/var/folders/xx/dkxnk6_906gd2s414jw_d4m80000gn/T/ipykernel_78746/2523902557.py:7: UserWarning: pandas only supports SQLAlchemy connectable (engine/connection) or database string URI or sqlite3 DBAPI2 connection. Other DBAPI2 objects are not tested. Please consider using SQLAlchemy.\n",
      "  df = pd.read_sql_query('SELECT * FROM players', conn, index_col='id')\n"
     ]
    },
    {
     "data": {
      "text/html": [
       "<div>\n",
       "<style scoped>\n",
       "    .dataframe tbody tr th:only-of-type {\n",
       "        vertical-align: middle;\n",
       "    }\n",
       "\n",
       "    .dataframe tbody tr th {\n",
       "        vertical-align: top;\n",
       "    }\n",
       "\n",
       "    .dataframe thead th {\n",
       "        text-align: right;\n",
       "    }\n",
       "</style>\n",
       "<table border=\"1\" class=\"dataframe\">\n",
       "  <thead>\n",
       "    <tr style=\"text-align: right;\">\n",
       "      <th></th>\n",
       "      <th>Name</th>\n",
       "      <th>Age</th>\n",
       "      <th>Last Updated</th>\n",
       "    </tr>\n",
       "    <tr>\n",
       "      <th>id</th>\n",
       "      <th></th>\n",
       "      <th></th>\n",
       "      <th></th>\n",
       "    </tr>\n",
       "  </thead>\n",
       "  <tbody>\n",
       "    <tr>\n",
       "      <th>0</th>\n",
       "      <td>Mbappé</td>\n",
       "      <td>23</td>\n",
       "      <td>2023-12-24 22:05:30.247053</td>\n",
       "    </tr>\n",
       "    <tr>\n",
       "      <th>1</th>\n",
       "      <td>De Bruyne</td>\n",
       "      <td>31</td>\n",
       "      <td>2023-12-24 22:05:30.247053</td>\n",
       "    </tr>\n",
       "    <tr>\n",
       "      <th>2</th>\n",
       "      <td>Lewandowski</td>\n",
       "      <td>33</td>\n",
       "      <td>2023-12-24 22:05:30.247053</td>\n",
       "    </tr>\n",
       "    <tr>\n",
       "      <th>3</th>\n",
       "      <td>Benzema</td>\n",
       "      <td>34</td>\n",
       "      <td>2023-12-24 22:05:30.247053</td>\n",
       "    </tr>\n",
       "    <tr>\n",
       "      <th>4</th>\n",
       "      <td>Messi</td>\n",
       "      <td>35</td>\n",
       "      <td>2023-12-24 22:05:30.247053</td>\n",
       "    </tr>\n",
       "  </tbody>\n",
       "</table>\n",
       "</div>"
      ],
      "text/plain": [
       "           Name  Age                Last Updated\n",
       "id                                              \n",
       "0        Mbappé   23  2023-12-24 22:05:30.247053\n",
       "1     De Bruyne   31  2023-12-24 22:05:30.247053\n",
       "2   Lewandowski   33  2023-12-24 22:05:30.247053\n",
       "3       Benzema   34  2023-12-24 22:05:30.247053\n",
       "4         Messi   35  2023-12-24 22:05:30.247053"
      ]
     },
     "execution_count": 8,
     "metadata": {},
     "output_type": "execute_result"
    },
    {
     "name": "stderr",
     "output_type": "stream",
     "text": [
      "/var/folders/xx/dkxnk6_906gd2s414jw_d4m80000gn/T/ipykernel_78746/2523902557.py:11: UserWarning: pandas only supports SQLAlchemy connectable (engine/connection) or database string URI or sqlite3 DBAPI2 connection. Other DBAPI2 objects are not tested. Please consider using SQLAlchemy.\n",
      "  df.to_sql('players', con=conn, if_exists='replace', index=True, index_label='id')\n"
     ]
    },
    {
     "data": {
      "text/plain": [
       "5"
      ]
     },
     "execution_count": 8,
     "metadata": {},
     "output_type": "execute_result"
    },
    {
     "name": "stderr",
     "output_type": "stream",
     "text": [
      "/var/folders/xx/dkxnk6_906gd2s414jw_d4m80000gn/T/ipykernel_78746/2523902557.py:13: UserWarning: pandas only supports SQLAlchemy connectable (engine/connection) or database string URI or sqlite3 DBAPI2 connection. Other DBAPI2 objects are not tested. Please consider using SQLAlchemy.\n",
      "  df = pd.read_sql_query('SELECT * FROM players', conn, index_col='id')\n"
     ]
    },
    {
     "data": {
      "text/html": [
       "<div>\n",
       "<style scoped>\n",
       "    .dataframe tbody tr th:only-of-type {\n",
       "        vertical-align: middle;\n",
       "    }\n",
       "\n",
       "    .dataframe tbody tr th {\n",
       "        vertical-align: top;\n",
       "    }\n",
       "\n",
       "    .dataframe thead th {\n",
       "        text-align: right;\n",
       "    }\n",
       "</style>\n",
       "<table border=\"1\" class=\"dataframe\">\n",
       "  <thead>\n",
       "    <tr style=\"text-align: right;\">\n",
       "      <th></th>\n",
       "      <th>Name</th>\n",
       "      <th>Age</th>\n",
       "      <th>Last Updated</th>\n",
       "    </tr>\n",
       "    <tr>\n",
       "      <th>id</th>\n",
       "      <th></th>\n",
       "      <th></th>\n",
       "      <th></th>\n",
       "    </tr>\n",
       "  </thead>\n",
       "  <tbody>\n",
       "    <tr>\n",
       "      <th>0</th>\n",
       "      <td>Mbappé</td>\n",
       "      <td>23</td>\n",
       "      <td>2023-12-24 22:05:30.803973</td>\n",
       "    </tr>\n",
       "    <tr>\n",
       "      <th>1</th>\n",
       "      <td>De Bruyne</td>\n",
       "      <td>31</td>\n",
       "      <td>2023-12-24 22:05:30.803973</td>\n",
       "    </tr>\n",
       "    <tr>\n",
       "      <th>2</th>\n",
       "      <td>Lewandowski</td>\n",
       "      <td>33</td>\n",
       "      <td>2023-12-24 22:05:30.803973</td>\n",
       "    </tr>\n",
       "    <tr>\n",
       "      <th>3</th>\n",
       "      <td>Benzema</td>\n",
       "      <td>34</td>\n",
       "      <td>2023-12-24 22:05:30.803973</td>\n",
       "    </tr>\n",
       "    <tr>\n",
       "      <th>4</th>\n",
       "      <td>Messi</td>\n",
       "      <td>35</td>\n",
       "      <td>2023-12-24 22:05:30.803973</td>\n",
       "    </tr>\n",
       "  </tbody>\n",
       "</table>\n",
       "</div>"
      ],
      "text/plain": [
       "           Name  Age                Last Updated\n",
       "id                                              \n",
       "0        Mbappé   23  2023-12-24 22:05:30.803973\n",
       "1     De Bruyne   31  2023-12-24 22:05:30.803973\n",
       "2   Lewandowski   33  2023-12-24 22:05:30.803973\n",
       "3       Benzema   34  2023-12-24 22:05:30.803973\n",
       "4         Messi   35  2023-12-24 22:05:30.803973"
      ]
     },
     "execution_count": 8,
     "metadata": {},
     "output_type": "execute_result"
    }
   ],
   "source": [
    "DB = \"001.005.sqlite\"\n",
    "# solution\n",
    "from sqlalchemy import create_engine\n",
    "\n",
    "engine = create_engine(f\"sqlite:///{DB}\")\n",
    "conn = engine.raw_connection()\n",
    "df = pd.read_sql_query('SELECT * FROM players', conn, index_col='id')\n",
    "df.head()\n",
    "\n",
    "df[\"Last Updated\"] = pd.Timestamp.now()\n",
    "df.to_sql('players', con=conn, if_exists='replace', index=True, index_label='id')\n",
    "\n",
    "df = pd.read_sql_query('SELECT * FROM players', conn, index_col='id')\n",
    "df.head()"
   ]
  },
  {
   "attachments": {},
   "cell_type": "markdown",
   "id": "a26e421c",
   "metadata": {},
   "source": [
    "### 001.007 TSV file\n",
    "\n",
    "1. Create a DataFrame by reading from TSV file in `data_file`\n",
    "    1. It's a tsv, not csv\n",
    "    1. The index column is called 'id'\n",
    "1. Change the Last Updated column to the current timestamp in the DataFrame\n",
    "    1. Write the updated DataFrame data to the same file. \n",
    "    1. Make sure you tell the function to use the 'id' column for indices\n",
    "1. Load the data again in a new DataFrame, and confirm it's same as for step (1) except for the timestamp"
   ]
  },
  {
   "cell_type": "code",
   "execution_count": 9,
   "id": "93d93f42",
   "metadata": {},
   "outputs": [
    {
     "data": {
      "text/plain": [
       "1"
      ]
     },
     "execution_count": 9,
     "metadata": {},
     "output_type": "execute_result"
    },
    {
     "data": {
      "text/html": [
       "<div>\n",
       "<style scoped>\n",
       "    .dataframe tbody tr th:only-of-type {\n",
       "        vertical-align: middle;\n",
       "    }\n",
       "\n",
       "    .dataframe tbody tr th {\n",
       "        vertical-align: top;\n",
       "    }\n",
       "\n",
       "    .dataframe thead th {\n",
       "        text-align: right;\n",
       "    }\n",
       "</style>\n",
       "<table border=\"1\" class=\"dataframe\">\n",
       "  <thead>\n",
       "    <tr style=\"text-align: right;\">\n",
       "      <th></th>\n",
       "      <th>Name</th>\n",
       "      <th>Age</th>\n",
       "      <th>Last Updated</th>\n",
       "    </tr>\n",
       "    <tr>\n",
       "      <th>id</th>\n",
       "      <th></th>\n",
       "      <th></th>\n",
       "      <th></th>\n",
       "    </tr>\n",
       "  </thead>\n",
       "  <tbody>\n",
       "    <tr>\n",
       "      <th>0</th>\n",
       "      <td>Mbappé</td>\n",
       "      <td>23</td>\n",
       "      <td>2023-12-08 07:40:04.306209</td>\n",
       "    </tr>\n",
       "    <tr>\n",
       "      <th>1</th>\n",
       "      <td>De Bruyne</td>\n",
       "      <td>31</td>\n",
       "      <td>2023-12-08 07:40:04.306209</td>\n",
       "    </tr>\n",
       "    <tr>\n",
       "      <th>2</th>\n",
       "      <td>Lewandowski</td>\n",
       "      <td>33</td>\n",
       "      <td>2023-12-08 07:40:04.306209</td>\n",
       "    </tr>\n",
       "    <tr>\n",
       "      <th>3</th>\n",
       "      <td>Benzema</td>\n",
       "      <td>34</td>\n",
       "      <td>2023-12-08 07:40:04.306209</td>\n",
       "    </tr>\n",
       "    <tr>\n",
       "      <th>4</th>\n",
       "      <td>Messi</td>\n",
       "      <td>35</td>\n",
       "      <td>2023-12-08 07:40:04.306209</td>\n",
       "    </tr>\n",
       "  </tbody>\n",
       "</table>\n",
       "</div>"
      ],
      "text/plain": [
       "           Name  Age                Last Updated\n",
       "id                                              \n",
       "0        Mbappé   23  2023-12-08 07:40:04.306209\n",
       "1     De Bruyne   31  2023-12-08 07:40:04.306209\n",
       "2   Lewandowski   33  2023-12-08 07:40:04.306209\n",
       "3       Benzema   34  2023-12-08 07:40:04.306209\n",
       "4         Messi   35  2023-12-08 07:40:04.306209"
      ]
     },
     "execution_count": 9,
     "metadata": {},
     "output_type": "execute_result"
    },
    {
     "data": {
      "text/plain": [
       "2"
      ]
     },
     "execution_count": 9,
     "metadata": {},
     "output_type": "execute_result"
    },
    {
     "data": {
      "text/plain": [
       "3"
      ]
     },
     "execution_count": 9,
     "metadata": {},
     "output_type": "execute_result"
    },
    {
     "data": {
      "text/html": [
       "<div>\n",
       "<style scoped>\n",
       "    .dataframe tbody tr th:only-of-type {\n",
       "        vertical-align: middle;\n",
       "    }\n",
       "\n",
       "    .dataframe tbody tr th {\n",
       "        vertical-align: top;\n",
       "    }\n",
       "\n",
       "    .dataframe thead th {\n",
       "        text-align: right;\n",
       "    }\n",
       "</style>\n",
       "<table border=\"1\" class=\"dataframe\">\n",
       "  <thead>\n",
       "    <tr style=\"text-align: right;\">\n",
       "      <th></th>\n",
       "      <th>Name</th>\n",
       "      <th>Age</th>\n",
       "      <th>Last Updated</th>\n",
       "    </tr>\n",
       "    <tr>\n",
       "      <th>id</th>\n",
       "      <th></th>\n",
       "      <th></th>\n",
       "      <th></th>\n",
       "    </tr>\n",
       "  </thead>\n",
       "  <tbody>\n",
       "    <tr>\n",
       "      <th>0</th>\n",
       "      <td>Mbappé</td>\n",
       "      <td>23</td>\n",
       "      <td>2023-12-24 22:05:30.821331</td>\n",
       "    </tr>\n",
       "    <tr>\n",
       "      <th>1</th>\n",
       "      <td>De Bruyne</td>\n",
       "      <td>31</td>\n",
       "      <td>2023-12-24 22:05:30.821331</td>\n",
       "    </tr>\n",
       "    <tr>\n",
       "      <th>2</th>\n",
       "      <td>Lewandowski</td>\n",
       "      <td>33</td>\n",
       "      <td>2023-12-24 22:05:30.821331</td>\n",
       "    </tr>\n",
       "    <tr>\n",
       "      <th>3</th>\n",
       "      <td>Benzema</td>\n",
       "      <td>34</td>\n",
       "      <td>2023-12-24 22:05:30.821331</td>\n",
       "    </tr>\n",
       "    <tr>\n",
       "      <th>4</th>\n",
       "      <td>Messi</td>\n",
       "      <td>35</td>\n",
       "      <td>2023-12-24 22:05:30.821331</td>\n",
       "    </tr>\n",
       "  </tbody>\n",
       "</table>\n",
       "</div>"
      ],
      "text/plain": [
       "           Name  Age                Last Updated\n",
       "id                                              \n",
       "0        Mbappé   23  2023-12-24 22:05:30.821331\n",
       "1     De Bruyne   31  2023-12-24 22:05:30.821331\n",
       "2   Lewandowski   33  2023-12-24 22:05:30.821331\n",
       "3       Benzema   34  2023-12-24 22:05:30.821331\n",
       "4         Messi   35  2023-12-24 22:05:30.821331"
      ]
     },
     "execution_count": 9,
     "metadata": {},
     "output_type": "execute_result"
    }
   ],
   "source": [
    "data_file = \"001.007.tsv\"\n",
    "# solution\n",
    "\n",
    "1\n",
    "df = pd.read_csv(data_file, sep=\"\\t\", index_col=\"id\")\n",
    "df\n",
    "\n",
    "2\n",
    "df[\"Last Updated\"] = pd.Timestamp.now()\n",
    "df.to_csv(data_file, index=True, index_label=\"id\", sep=\"\\t\")\n",
    "\n",
    "3\n",
    "pd.read_csv(data_file, sep=\"\\t\", index_col=\"id\")"
   ]
  },
  {
   "attachments": {},
   "cell_type": "markdown",
   "id": "7a202cfd",
   "metadata": {},
   "source": [
    "### 001.008 JSON file\n",
    "\n",
    "1. Create a DataFrame by reading from JSON file in `data_file`\n",
    "1. Change the Last Updated column to the current timestamp in the DataFrame.\n",
    "    1. Write the updated DataFrame data to the same file. \n",
    "    1. Make sure it handles non-ASCII characters\n",
    "1. Load the data again in a new DataFrame, and confirm it's same as for step (1) except for the timestamp"
   ]
  },
  {
   "cell_type": "code",
   "execution_count": 10,
   "id": "aa08304c",
   "metadata": {},
   "outputs": [
    {
     "data": {
      "text/plain": [
       "1"
      ]
     },
     "execution_count": 10,
     "metadata": {},
     "output_type": "execute_result"
    },
    {
     "data": {
      "text/html": [
       "<div>\n",
       "<style scoped>\n",
       "    .dataframe tbody tr th:only-of-type {\n",
       "        vertical-align: middle;\n",
       "    }\n",
       "\n",
       "    .dataframe tbody tr th {\n",
       "        vertical-align: top;\n",
       "    }\n",
       "\n",
       "    .dataframe thead th {\n",
       "        text-align: right;\n",
       "    }\n",
       "</style>\n",
       "<table border=\"1\" class=\"dataframe\">\n",
       "  <thead>\n",
       "    <tr style=\"text-align: right;\">\n",
       "      <th></th>\n",
       "      <th>Name</th>\n",
       "      <th>Age</th>\n",
       "      <th>Last Updated</th>\n",
       "    </tr>\n",
       "  </thead>\n",
       "  <tbody>\n",
       "    <tr>\n",
       "      <th>0</th>\n",
       "      <td>Mbappé</td>\n",
       "      <td>23</td>\n",
       "      <td>1702021204</td>\n",
       "    </tr>\n",
       "    <tr>\n",
       "      <th>1</th>\n",
       "      <td>De Bruyne</td>\n",
       "      <td>31</td>\n",
       "      <td>1702021204</td>\n",
       "    </tr>\n",
       "    <tr>\n",
       "      <th>2</th>\n",
       "      <td>Lewandowski</td>\n",
       "      <td>33</td>\n",
       "      <td>1702021204</td>\n",
       "    </tr>\n",
       "    <tr>\n",
       "      <th>3</th>\n",
       "      <td>Benzema</td>\n",
       "      <td>34</td>\n",
       "      <td>1702021204</td>\n",
       "    </tr>\n",
       "    <tr>\n",
       "      <th>4</th>\n",
       "      <td>Messi</td>\n",
       "      <td>35</td>\n",
       "      <td>1702021204</td>\n",
       "    </tr>\n",
       "  </tbody>\n",
       "</table>\n",
       "</div>"
      ],
      "text/plain": [
       "          Name  Age  Last Updated\n",
       "0       Mbappé   23    1702021204\n",
       "1    De Bruyne   31    1702021204\n",
       "2  Lewandowski   33    1702021204\n",
       "3      Benzema   34    1702021204\n",
       "4        Messi   35    1702021204"
      ]
     },
     "execution_count": 10,
     "metadata": {},
     "output_type": "execute_result"
    },
    {
     "data": {
      "text/plain": [
       "2"
      ]
     },
     "execution_count": 10,
     "metadata": {},
     "output_type": "execute_result"
    },
    {
     "data": {
      "text/plain": [
       "3"
      ]
     },
     "execution_count": 10,
     "metadata": {},
     "output_type": "execute_result"
    },
    {
     "data": {
      "text/html": [
       "<div>\n",
       "<style scoped>\n",
       "    .dataframe tbody tr th:only-of-type {\n",
       "        vertical-align: middle;\n",
       "    }\n",
       "\n",
       "    .dataframe tbody tr th {\n",
       "        vertical-align: top;\n",
       "    }\n",
       "\n",
       "    .dataframe thead th {\n",
       "        text-align: right;\n",
       "    }\n",
       "</style>\n",
       "<table border=\"1\" class=\"dataframe\">\n",
       "  <thead>\n",
       "    <tr style=\"text-align: right;\">\n",
       "      <th></th>\n",
       "      <th>Name</th>\n",
       "      <th>Age</th>\n",
       "      <th>Last Updated</th>\n",
       "    </tr>\n",
       "  </thead>\n",
       "  <tbody>\n",
       "    <tr>\n",
       "      <th>0</th>\n",
       "      <td>Mbappé</td>\n",
       "      <td>23</td>\n",
       "      <td>1703455530</td>\n",
       "    </tr>\n",
       "    <tr>\n",
       "      <th>1</th>\n",
       "      <td>De Bruyne</td>\n",
       "      <td>31</td>\n",
       "      <td>1703455530</td>\n",
       "    </tr>\n",
       "    <tr>\n",
       "      <th>2</th>\n",
       "      <td>Lewandowski</td>\n",
       "      <td>33</td>\n",
       "      <td>1703455530</td>\n",
       "    </tr>\n",
       "    <tr>\n",
       "      <th>3</th>\n",
       "      <td>Benzema</td>\n",
       "      <td>34</td>\n",
       "      <td>1703455530</td>\n",
       "    </tr>\n",
       "    <tr>\n",
       "      <th>4</th>\n",
       "      <td>Messi</td>\n",
       "      <td>35</td>\n",
       "      <td>1703455530</td>\n",
       "    </tr>\n",
       "  </tbody>\n",
       "</table>\n",
       "</div>"
      ],
      "text/plain": [
       "          Name  Age  Last Updated\n",
       "0       Mbappé   23    1703455530\n",
       "1    De Bruyne   31    1703455530\n",
       "2  Lewandowski   33    1703455530\n",
       "3      Benzema   34    1703455530\n",
       "4        Messi   35    1703455530"
      ]
     },
     "execution_count": 10,
     "metadata": {},
     "output_type": "execute_result"
    }
   ],
   "source": [
    "data_file = \"001.008.json\"\n",
    "# solution\n",
    "\n",
    "1\n",
    "df = pd.read_json(data_file)\n",
    "df\n",
    "\n",
    "2\n",
    "df[\"Last Updated\"] = pd.Timestamp.now()\n",
    "df.to_json(data_file, force_ascii=False)\n",
    "\n",
    "3\n",
    "pd.read_json(data_file)"
   ]
  },
  {
   "attachments": {},
   "cell_type": "markdown",
   "id": "5f1782ab",
   "metadata": {},
   "source": [
    "### 001.009 From a table in an HTML page\n",
    "\n",
    "1. Create a DataFrame by reading from HTML file in `data_file`\n",
    "    1. Use beautifulsoup flavor\n",
    "    1. Note that the column ID is called \"ID\"\n",
    "1. Change the Last Updated column to the current timestamp in the DataFrame\n",
    "    1. Write the updated DataFrame data to the same file. \n",
    "    1. Make sure you \"flatten\" the indices, because `to_html` writes two rows for the headers exactly as you see in the output here in the notebook:\n",
    "        1. the empty 0th column needs at to be called 'ID'\n",
    "        1. the column with 'ID' in the notebook needs to have no name, so the whole row disappears\n",
    "        1. when you write the table, you need to re-tell pd what the column names are, including ID\n",
    "1. Load the data again in a new DataFrame, and confirm it's same as for step (1) except for the timestamp"
   ]
  },
  {
   "cell_type": "code",
   "execution_count": 11,
   "id": "9c84bd48",
   "metadata": {},
   "outputs": [
    {
     "data": {
      "text/plain": [
       "1"
      ]
     },
     "execution_count": 11,
     "metadata": {},
     "output_type": "execute_result"
    },
    {
     "data": {
      "text/html": [
       "<div>\n",
       "<style scoped>\n",
       "    .dataframe tbody tr th:only-of-type {\n",
       "        vertical-align: middle;\n",
       "    }\n",
       "\n",
       "    .dataframe tbody tr th {\n",
       "        vertical-align: top;\n",
       "    }\n",
       "\n",
       "    .dataframe thead th {\n",
       "        text-align: right;\n",
       "    }\n",
       "</style>\n",
       "<table border=\"1\" class=\"dataframe\">\n",
       "  <thead>\n",
       "    <tr style=\"text-align: right;\">\n",
       "      <th></th>\n",
       "      <th>Name</th>\n",
       "      <th>Age</th>\n",
       "      <th>Last Updated</th>\n",
       "    </tr>\n",
       "    <tr>\n",
       "      <th>ID</th>\n",
       "      <th></th>\n",
       "      <th></th>\n",
       "      <th></th>\n",
       "    </tr>\n",
       "  </thead>\n",
       "  <tbody>\n",
       "    <tr>\n",
       "      <th>0</th>\n",
       "      <td>Mbappé</td>\n",
       "      <td>23</td>\n",
       "      <td>2023-12-08 07:40:04.571882</td>\n",
       "    </tr>\n",
       "    <tr>\n",
       "      <th>1</th>\n",
       "      <td>De Bruyne</td>\n",
       "      <td>31</td>\n",
       "      <td>2023-12-08 07:40:04.571882</td>\n",
       "    </tr>\n",
       "    <tr>\n",
       "      <th>2</th>\n",
       "      <td>Lewandowski</td>\n",
       "      <td>33</td>\n",
       "      <td>2023-12-08 07:40:04.571882</td>\n",
       "    </tr>\n",
       "    <tr>\n",
       "      <th>3</th>\n",
       "      <td>Benzema</td>\n",
       "      <td>34</td>\n",
       "      <td>2023-12-08 07:40:04.571882</td>\n",
       "    </tr>\n",
       "    <tr>\n",
       "      <th>4</th>\n",
       "      <td>Messi</td>\n",
       "      <td>35</td>\n",
       "      <td>2023-12-08 07:40:04.571882</td>\n",
       "    </tr>\n",
       "  </tbody>\n",
       "</table>\n",
       "</div>"
      ],
      "text/plain": [
       "           Name  Age                Last Updated\n",
       "ID                                              \n",
       "0        Mbappé   23  2023-12-08 07:40:04.571882\n",
       "1     De Bruyne   31  2023-12-08 07:40:04.571882\n",
       "2   Lewandowski   33  2023-12-08 07:40:04.571882\n",
       "3       Benzema   34  2023-12-08 07:40:04.571882\n",
       "4         Messi   35  2023-12-08 07:40:04.571882"
      ]
     },
     "execution_count": 11,
     "metadata": {},
     "output_type": "execute_result"
    },
    {
     "data": {
      "text/plain": [
       "2"
      ]
     },
     "execution_count": 11,
     "metadata": {},
     "output_type": "execute_result"
    },
    {
     "data": {
      "text/plain": [
       "3"
      ]
     },
     "execution_count": 11,
     "metadata": {},
     "output_type": "execute_result"
    },
    {
     "data": {
      "text/html": [
       "<div>\n",
       "<style scoped>\n",
       "    .dataframe tbody tr th:only-of-type {\n",
       "        vertical-align: middle;\n",
       "    }\n",
       "\n",
       "    .dataframe tbody tr th {\n",
       "        vertical-align: top;\n",
       "    }\n",
       "\n",
       "    .dataframe thead th {\n",
       "        text-align: right;\n",
       "    }\n",
       "</style>\n",
       "<table border=\"1\" class=\"dataframe\">\n",
       "  <thead>\n",
       "    <tr style=\"text-align: right;\">\n",
       "      <th></th>\n",
       "      <th>Name</th>\n",
       "      <th>Age</th>\n",
       "      <th>Last Updated</th>\n",
       "    </tr>\n",
       "    <tr>\n",
       "      <th>ID</th>\n",
       "      <th></th>\n",
       "      <th></th>\n",
       "      <th></th>\n",
       "    </tr>\n",
       "  </thead>\n",
       "  <tbody>\n",
       "    <tr>\n",
       "      <th>0</th>\n",
       "      <td>Mbappé</td>\n",
       "      <td>23</td>\n",
       "      <td>2023-12-24 22:05:30.964277</td>\n",
       "    </tr>\n",
       "    <tr>\n",
       "      <th>1</th>\n",
       "      <td>De Bruyne</td>\n",
       "      <td>31</td>\n",
       "      <td>2023-12-24 22:05:30.964277</td>\n",
       "    </tr>\n",
       "    <tr>\n",
       "      <th>2</th>\n",
       "      <td>Lewandowski</td>\n",
       "      <td>33</td>\n",
       "      <td>2023-12-24 22:05:30.964277</td>\n",
       "    </tr>\n",
       "    <tr>\n",
       "      <th>3</th>\n",
       "      <td>Benzema</td>\n",
       "      <td>34</td>\n",
       "      <td>2023-12-24 22:05:30.964277</td>\n",
       "    </tr>\n",
       "    <tr>\n",
       "      <th>4</th>\n",
       "      <td>Messi</td>\n",
       "      <td>35</td>\n",
       "      <td>2023-12-24 22:05:30.964277</td>\n",
       "    </tr>\n",
       "  </tbody>\n",
       "</table>\n",
       "</div>"
      ],
      "text/plain": [
       "           Name  Age                Last Updated\n",
       "ID                                              \n",
       "0        Mbappé   23  2023-12-24 22:05:30.964277\n",
       "1     De Bruyne   31  2023-12-24 22:05:30.964277\n",
       "2   Lewandowski   33  2023-12-24 22:05:30.964277\n",
       "3       Benzema   34  2023-12-24 22:05:30.964277\n",
       "4         Messi   35  2023-12-24 22:05:30.964277"
      ]
     },
     "execution_count": 11,
     "metadata": {},
     "output_type": "execute_result"
    }
   ],
   "source": [
    "data_file = \"001.009.html\"\n",
    "# solution\n",
    "\n",
    "1\n",
    "df = pd.read_html(data_file, flavor=\"bs4\", index_col=\"ID\")[0]\n",
    "df\n",
    "\n",
    "2\n",
    "df[\"Last Updated\"] = pd.Timestamp.now()\n",
    "df.columns.name = \"ID\"\n",
    "df.index.name = None\n",
    "df.to_html(data_file, index=True, header=[\"ID\", \"Name\", \"Age\", \"Last Updated\"])\n",
    "\n",
    "3\n",
    "pd.read_html(data_file, flavor=\"bs4\", index_col=\"ID\")[0]"
   ]
  },
  {
   "attachments": {},
   "cell_type": "markdown",
   "id": "06d73c28",
   "metadata": {},
   "source": [
    "### 001.010 Markdown\n",
    "\n",
    "(requires the tabulate package)\n",
    "\n",
    "1. There is no read_markdown method. Use the generic method to load tabular data, making sure that\n",
    "   1. data_file is passed using the whacky named argument\n",
    "   1. It is aware of | as delimiter\n",
    "   1. It handles the index as the 2nd (zero-based) column\n",
    "   1. Remove empty columns\n",
    "       1. It is aware that pd treats the 1st and last delimiters as _separators_, meaning it puts an empty column either side. So drop in column dimension\n",
    "       1. Remove both the data, and the column name.\n",
    "   1. The converter treats the `------` row as a normal data row (which row is it? Given that there is a header...), so skip it\n",
    "1. There is a to_markdown, method, but it doesn't write to a file like the similarly named ones. You'll have to do it old-school\n",
    "   1. Overwrite `Last Updated` with the current timestamp\n",
    "   1. Write a file using the output of to_markdown, using the 'github' table format\n",
    "1. Reload the table again and prove it was overwritten correctly\n",
    "\n"
   ]
  },
  {
   "cell_type": "code",
   "execution_count": 12,
   "id": "fc92662d",
   "metadata": {},
   "outputs": [
    {
     "data": {
      "text/plain": [
       "1"
      ]
     },
     "execution_count": 12,
     "metadata": {},
     "output_type": "execute_result"
    },
    {
     "data": {
      "text/html": [
       "<div>\n",
       "<style scoped>\n",
       "    .dataframe tbody tr th:only-of-type {\n",
       "        vertical-align: middle;\n",
       "    }\n",
       "\n",
       "    .dataframe tbody tr th {\n",
       "        vertical-align: top;\n",
       "    }\n",
       "\n",
       "    .dataframe thead th {\n",
       "        text-align: right;\n",
       "    }\n",
       "</style>\n",
       "<table border=\"1\" class=\"dataframe\">\n",
       "  <thead>\n",
       "    <tr style=\"text-align: right;\">\n",
       "      <th></th>\n",
       "      <th>Name</th>\n",
       "      <th>Age</th>\n",
       "      <th>Last Updated</th>\n",
       "    </tr>\n",
       "    <tr>\n",
       "      <th>id</th>\n",
       "      <th></th>\n",
       "      <th></th>\n",
       "      <th></th>\n",
       "    </tr>\n",
       "  </thead>\n",
       "  <tbody>\n",
       "    <tr>\n",
       "      <th>0</th>\n",
       "      <td>Mbappé</td>\n",
       "      <td>23</td>\n",
       "      <td>2023-12-08 07:40:04.594635</td>\n",
       "    </tr>\n",
       "    <tr>\n",
       "      <th>1</th>\n",
       "      <td>De Bruyne</td>\n",
       "      <td>31</td>\n",
       "      <td>2023-12-08 07:40:04.594635</td>\n",
       "    </tr>\n",
       "    <tr>\n",
       "      <th>2</th>\n",
       "      <td>Lewandowski</td>\n",
       "      <td>33</td>\n",
       "      <td>2023-12-08 07:40:04.594635</td>\n",
       "    </tr>\n",
       "    <tr>\n",
       "      <th>3</th>\n",
       "      <td>Benzema</td>\n",
       "      <td>34</td>\n",
       "      <td>2023-12-08 07:40:04.594635</td>\n",
       "    </tr>\n",
       "    <tr>\n",
       "      <th>4</th>\n",
       "      <td>Messi</td>\n",
       "      <td>35</td>\n",
       "      <td>2023-12-08 07:40:04.594635</td>\n",
       "    </tr>\n",
       "  </tbody>\n",
       "</table>\n",
       "</div>"
      ],
      "text/plain": [
       "                                            Name                  Age  \\\n",
       "                     id                                                 \n",
       "                      0             Mbappé               23             \n",
       "                      1             De Bruyne            31             \n",
       "                      2             Lewandowski          33             \n",
       "                      3             Benzema              34             \n",
       "                      4             Messi                35             \n",
       "\n",
       "                                                   Last Updated  \n",
       "                     id                                          \n",
       "                      0             2023-12-08 07:40:04.594635   \n",
       "                      1             2023-12-08 07:40:04.594635   \n",
       "                      2             2023-12-08 07:40:04.594635   \n",
       "                      3             2023-12-08 07:40:04.594635   \n",
       "                      4             2023-12-08 07:40:04.594635   "
      ]
     },
     "execution_count": 12,
     "metadata": {},
     "output_type": "execute_result"
    },
    {
     "data": {
      "text/plain": [
       "2"
      ]
     },
     "execution_count": 12,
     "metadata": {},
     "output_type": "execute_result"
    },
    {
     "data": {
      "text/plain": [
       "734"
      ]
     },
     "execution_count": 12,
     "metadata": {},
     "output_type": "execute_result"
    },
    {
     "data": {
      "text/plain": [
       "3"
      ]
     },
     "execution_count": 12,
     "metadata": {},
     "output_type": "execute_result"
    },
    {
     "data": {
      "text/html": [
       "<div>\n",
       "<style scoped>\n",
       "    .dataframe tbody tr th:only-of-type {\n",
       "        vertical-align: middle;\n",
       "    }\n",
       "\n",
       "    .dataframe tbody tr th {\n",
       "        vertical-align: top;\n",
       "    }\n",
       "\n",
       "    .dataframe thead th {\n",
       "        text-align: right;\n",
       "    }\n",
       "</style>\n",
       "<table border=\"1\" class=\"dataframe\">\n",
       "  <thead>\n",
       "    <tr style=\"text-align: right;\">\n",
       "      <th></th>\n",
       "      <th>Name</th>\n",
       "      <th>Age</th>\n",
       "      <th>Last Updated</th>\n",
       "    </tr>\n",
       "    <tr>\n",
       "      <th>id</th>\n",
       "      <th></th>\n",
       "      <th></th>\n",
       "      <th></th>\n",
       "    </tr>\n",
       "  </thead>\n",
       "  <tbody>\n",
       "    <tr>\n",
       "      <th>0</th>\n",
       "      <td>Mbappé</td>\n",
       "      <td>23</td>\n",
       "      <td>2023-12-24 22:05:31.005109</td>\n",
       "    </tr>\n",
       "    <tr>\n",
       "      <th>1</th>\n",
       "      <td>De Bruyne</td>\n",
       "      <td>31</td>\n",
       "      <td>2023-12-24 22:05:31.005109</td>\n",
       "    </tr>\n",
       "    <tr>\n",
       "      <th>2</th>\n",
       "      <td>Lewandowski</td>\n",
       "      <td>33</td>\n",
       "      <td>2023-12-24 22:05:31.005109</td>\n",
       "    </tr>\n",
       "    <tr>\n",
       "      <th>3</th>\n",
       "      <td>Benzema</td>\n",
       "      <td>34</td>\n",
       "      <td>2023-12-24 22:05:31.005109</td>\n",
       "    </tr>\n",
       "    <tr>\n",
       "      <th>4</th>\n",
       "      <td>Messi</td>\n",
       "      <td>35</td>\n",
       "      <td>2023-12-24 22:05:31.005109</td>\n",
       "    </tr>\n",
       "  </tbody>\n",
       "</table>\n",
       "</div>"
      ],
      "text/plain": [
       "                       Name            Age                 Last Updated\n",
       "id                                                                     \n",
       "0              Mbappé        23             2023-12-24 22:05:31.005109 \n",
       "1              De Bruyne     31             2023-12-24 22:05:31.005109 \n",
       "2              Lewandowski   33             2023-12-24 22:05:31.005109 \n",
       "3              Benzema       34             2023-12-24 22:05:31.005109 \n",
       "4              Messi         35             2023-12-24 22:05:31.005109 "
      ]
     },
     "execution_count": 12,
     "metadata": {},
     "output_type": "execute_result"
    }
   ],
   "source": [
    "data_file = \"001.010.md\"\n",
    "# solution\n",
    "\n",
    "1\n",
    "df = pd.read_table(\n",
    "    filepath_or_buffer=data_file, sep=\"|\", index_col=1\n",
    "    ).dropna(axis=1, how='all').iloc[1:]\n",
    "df.columns = df.columns.str.strip()\n",
    "df\n",
    "\n",
    "2\n",
    "df[\"Last Updated\"] = pd.Timestamp.now()\n",
    "with open(data_file, \"w\") as f:\n",
    "    f.write(df.to_markdown(tablefmt=\"github\"))\n",
    "\n",
    "\n",
    "3\n",
    "df = pd.read_table(filepath_or_buffer=data_file, sep=\"|\", header=0, index_col=1, skipinitialspace=True).dropna(axis=1, how='all').iloc[1:]\n",
    "df.columns = df.columns.str.strip()\n",
    "df"
   ]
  }
 ],
 "metadata": {
  "kernelspec": {
   "display_name": ".venv",
   "language": "python",
   "name": "python3"
  },
  "language_info": {
   "codemirror_mode": {
    "name": "ipython",
    "version": 3
   },
   "file_extension": ".py",
   "mimetype": "text/x-python",
   "name": "python",
   "nbconvert_exporter": "python",
   "pygments_lexer": "ipython3",
   "version": "3.10.6"
  },
  "vscode": {
   "interpreter": {
    "hash": "7daeb9a356073df578df6d7584369b7908e732a3e4cb2289ee7d810fc6635fc0"
   }
  }
 },
 "nbformat": 4,
 "nbformat_minor": 5
}
