{
 "cells": [
  {
   "cell_type": "markdown",
   "id": "99786a37",
   "metadata": {},
   "source": [
    "# Pandas\n",
    "\n",
    "Pandas is a powerful library for data manipulation and analysis in Python. It is widely used in a range of fields, including data science, finance, and statistics."
   ]
  },
  {
   "attachments": {},
   "cell_type": "markdown",
   "id": "fd31e6b7",
   "metadata": {},
   "source": [
    "1. Import pandas\n"
   ]
  },
  {
   "cell_type": "code",
   "execution_count": null,
   "id": "6b0722cb",
   "metadata": {},
   "outputs": [],
   "source": [
    "import pandas as pd"
   ]
  },
  {
   "cell_type": "markdown",
   "id": "61c0a177",
   "metadata": {},
   "source": [
    "## 000. Assets\n",
    "\n",
    "Some assets to avoid too much typing"
   ]
  },
  {
   "cell_type": "code",
   "execution_count": null,
   "id": "02ca7850",
   "metadata": {},
   "outputs": [],
   "source": [
    "names_as_list = [\"Mbappé\", \"De Bruyne\", \"Lewandowski\", \"Benzema\", \"Messi\"]\n",
    "ages_as_list = [ 23,       31,          33,             34,        35]\n"
   ]
  },
  {
   "attachments": {},
   "cell_type": "markdown",
   "id": "89ce8c2b",
   "metadata": {},
   "source": [
    "## 001. Importing / Exporting data"
   ]
  },
  {
   "cell_type": "markdown",
   "id": "5b212460",
   "metadata": {},
   "source": [
    "### 001.001 Dictionary of arrays\n",
    "\n",
    "1. Replicate this data as a dataframe with a dictionary of arrays\n",
    "1. Show it with head()\n",
    "\n",
    "| Name        | Age|\n",
    "|-------------|----|\n",
    "| Mbappé      | 23 |\n",
    "| De Bruyne   | 31 |\n",
    "| Lewandowski | 33 |\n",
    "| Benzema     | 34 |\n",
    "| Messi       | 35 |\n"
   ]
  },
  {
   "cell_type": "code",
   "execution_count": 21,
   "id": "c741ca30",
   "metadata": {},
   "outputs": [
    {
     "data": {
      "text/html": [
       "<div>\n",
       "<style scoped>\n",
       "    .dataframe tbody tr th:only-of-type {\n",
       "        vertical-align: middle;\n",
       "    }\n",
       "\n",
       "    .dataframe tbody tr th {\n",
       "        vertical-align: top;\n",
       "    }\n",
       "\n",
       "    .dataframe thead th {\n",
       "        text-align: right;\n",
       "    }\n",
       "</style>\n",
       "<table border=\"1\" class=\"dataframe\">\n",
       "  <thead>\n",
       "    <tr style=\"text-align: right;\">\n",
       "      <th></th>\n",
       "      <th>Name</th>\n",
       "      <th>Age</th>\n",
       "    </tr>\n",
       "  </thead>\n",
       "  <tbody>\n",
       "    <tr>\n",
       "      <th>0</th>\n",
       "      <td>Mbappé</td>\n",
       "      <td>23</td>\n",
       "    </tr>\n",
       "    <tr>\n",
       "      <th>1</th>\n",
       "      <td>De Bruyne</td>\n",
       "      <td>31</td>\n",
       "    </tr>\n",
       "    <tr>\n",
       "      <th>2</th>\n",
       "      <td>Lewandowski</td>\n",
       "      <td>33</td>\n",
       "    </tr>\n",
       "    <tr>\n",
       "      <th>3</th>\n",
       "      <td>Benzema</td>\n",
       "      <td>34</td>\n",
       "    </tr>\n",
       "    <tr>\n",
       "      <th>4</th>\n",
       "      <td>Messi</td>\n",
       "      <td>35</td>\n",
       "    </tr>\n",
       "  </tbody>\n",
       "</table>\n",
       "</div>"
      ],
      "text/plain": [
       "          Name  Age\n",
       "0       Mbappé   23\n",
       "1    De Bruyne   31\n",
       "2  Lewandowski   33\n",
       "3      Benzema   34\n",
       "4        Messi   35"
      ]
     },
     "execution_count": 21,
     "metadata": {},
     "output_type": "execute_result"
    }
   ],
   "source": [
    "# solution\n",
    "data = {\n",
    "    'Name': names_as_list, \n",
    "    'Age':  ages_as_list\n",
    "}\n",
    "df = pd.DataFrame(data)\n",
    "df.head()"
   ]
  },
  {
   "cell_type": "markdown",
   "id": "54889ea9",
   "metadata": {},
   "source": [
    "### 001.002 List of dictionaries\n",
    "\n",
    "1. Create a list where every entry is a dict with keys \"Name\" and \"Age\"\n",
    "1. Continue as per 001.002\n"
   ]
  },
  {
   "cell_type": "code",
   "execution_count": null,
   "id": "42da9c2b",
   "metadata": {},
   "outputs": [],
   "source": [
    "# solution\n",
    "data_as_list_of_dicts = [{ \"Name\": name, \"Age\": age } for name, age in zip(names_as_list, ages_as_list) ]\n",
    "df = pd.DataFrame(data_as_list_of_dicts)\n",
    "df.head()"
   ]
  },
  {
   "attachments": {},
   "cell_type": "markdown",
   "id": "07d889f0",
   "metadata": {},
   "source": [
    "### 001.003 2D Numpy array\n",
    "\n",
    "1. Import numpy\n",
    "1. Create a Nump 2D array with the same data as before, but with an extra column for \"Last Update\" with a pd.Timestamp\n",
    "1. Print the numpy array\n",
    "2. Import as a pandas DataFrame\n",
    "1. Update the Last Update column to the current timestamp\n",
    "3. Make sure the colum names are still \"Name\", \"Age\", \"Last Update\"\n",
    "1. Export to a Nump 2D array\n",
    "1. convert to a NumPy and print it, proving the timestamp is different\n"
   ]
  },
  {
   "cell_type": "code",
   "execution_count": null,
   "id": "58384722",
   "metadata": {},
   "outputs": [],
   "source": [
    "# solution\n",
    "import numpy as np\n",
    "\n",
    "data_as_list_of_lists = [[ name, age, pd.Timestamp.now() ] for name, age in zip(names_as_list, ages_as_list) ]\n",
    "\n",
    "data = np.array(data_as_list_of_lists)\n",
    "print(data, end=\"\\n\\n\")\n",
    "\n",
    "df = pd.DataFrame(data, columns=[\"Name\", \"Age\", \"Last Updated\"])\n",
    "df[\"Last Updated\"] = pd.Timestamp.now()\n",
    "print(df.head(), end=\"\\n\\n\")\n",
    "\n",
    "data = df.to_numpy()\n",
    "print(data, end=\"\\n\\n\")"
   ]
  },
  {
   "cell_type": "markdown",
   "id": "1205b09a",
   "metadata": {},
   "source": [
    "### 001.004 Pandas Series\n",
    "\n",
    "1. Replicate 001.003 but create two pandas series from the two lists, and then concatenate them\n",
    "1. Make sure the colum names are still \"Name\" and \"Age\""
   ]
  },
  {
   "cell_type": "code",
   "execution_count": null,
   "id": "57db64a0",
   "metadata": {},
   "outputs": [],
   "source": [
    "# solution\n",
    "s1 = pd.Series(names_as_list)\n",
    "s2 = pd.Series(ages_as_list)\n",
    "df = pd.concat([s1, s2], keys=[\"Name\", \"Age\"], axis=1)\n",
    "df.head()\n"
   ]
  },
  {
   "attachments": {},
   "cell_type": "markdown",
   "id": "29b3d83f",
   "metadata": {},
   "source": [
    "### 001.005 SQL (sqlite)\n",
    "\n",
    "1. Create a DataFrame by reading from table 'players' in SQLite DB \"001.005.sqlite\" with the built-in SQLite module. Note that the index column is called 'id'\n",
    "1. Show it with df.head()\n",
    "1. Change the Last Updated column to the current timestamp in the DataFrame\n",
    "1. Write the updated DataFrame data to the database. Make sure you tell the function to use the 'id' column for indices\n",
    "1. Load the data again in a new DataFrame\n",
    "1. Show it with df.head(), and confirm it's different from the previous one.\n",
    "1. Also confirm there are no extra index columns\n",
    "\n"
   ]
  },
  {
   "cell_type": "code",
   "execution_count": null,
   "id": "eaa7d2ae",
   "metadata": {},
   "outputs": [],
   "source": [
    "# solution\n",
    "import sqlite3\n",
    "\n",
    "conn = sqlite3.connect(\"001.005.sqlite\")\n",
    "df = pd.read_sql_query('SELECT * FROM players', conn, index_col='id')\n",
    "print(df.head())\n",
    "\n",
    "df[\"Last Updated\"] = pd.Timestamp.now()\n",
    "df.to_sql('players', con=conn, if_exists='replace', index=True, index_label='id')\n",
    "\n",
    "df = pd.read_sql_query('SELECT * FROM players', conn, index_col='id')\n",
    "print(df.head())\n"
   ]
  },
  {
   "cell_type": "markdown",
   "id": "9f963146",
   "metadata": {},
   "source": [
    "### 001.006 SQL (sqlalchemy)\n",
    "\n",
    "1. Replicate 001.005 but use sqlalchemy to connect to the DB\n",
    "\n",
    "(Note: you will probably get warnings, but you can ignore them)"
   ]
  },
  {
   "cell_type": "code",
   "execution_count": null,
   "id": "163074bb",
   "metadata": {},
   "outputs": [],
   "source": [
    "# solution\n",
    "from sqlalchemy import create_engine\n",
    "\n",
    "engine = create_engine(f\"sqlite:///001.005.sqlite\")\n",
    "conn = engine.raw_connection()\n",
    "df = pd.read_sql_query('SELECT * FROM players', conn, index_col='id')\n",
    "print(df.head())\n",
    "\n",
    "df[\"Last Updated\"] = pd.Timestamp.now()\n",
    "df.to_sql('players', con=conn, if_exists='replace', index=True, index_label='id')\n",
    "\n",
    "df = pd.read_sql_query('SELECT * FROM players', conn, index_col='id')\n",
    "print(df.head())"
   ]
  },
  {
   "cell_type": "markdown",
   "id": "a26e421c",
   "metadata": {},
   "source": [
    "### 001.007 TSV file\n",
    "\n",
    "1. Replicate 001.005 but with the TSV file \"[001.007.tsv](001.007.tsv)\". Save that file location to a variable\n",
    "1. TSV is a CSV but with \"\\t\" as seprator\n",
    "1. Bear in mind the same issues as 001.004 for index columns"
   ]
  },
  {
   "cell_type": "code",
   "execution_count": null,
   "id": "93d93f42",
   "metadata": {},
   "outputs": [],
   "source": [
    "data_file = \"001.007.tsv\"\n",
    "# solution\n",
    "df = pd.read_csv(data_file, sep=\"\\t\", index_col='id')\n",
    "print(df.head())\n",
    "\n",
    "df[\"Last Updated\"] = pd.Timestamp.now()\n",
    "df.to_csv(data_file, sep=\"\\t\", index=True, index_label='id')\n",
    "\n",
    "df = pd.read_csv(data_file, sep=\"\\t\", index_col='id')\n",
    "print(df.head())"
   ]
  },
  {
   "cell_type": "markdown",
   "id": "7a202cfd",
   "metadata": {},
   "source": [
    "### 001.008 JSON file\n",
    "\n",
    "1. Replicate 001.005 but with the JSON file \"[001.008.json](001.008.json)\". Save that file location to a variable\n",
    "1. Make sure non ASCII characters are readable"
   ]
  },
  {
   "cell_type": "code",
   "execution_count": null,
   "id": "aa08304c",
   "metadata": {},
   "outputs": [],
   "source": [
    "data_file = \"001.008.json\"\n",
    "# solution\n",
    "df = pd.read_json(data_file)\n",
    "print(df.head())\n",
    "\n",
    "df[\"Last Updated\"] = pd.Timestamp.now()\n",
    "df.to_json(data_file, force_ascii=False)\n",
    "\n",
    "df = pd.read_json(data_file)\n",
    "print(df.head())"
   ]
  },
  {
   "cell_type": "markdown",
   "id": "5f1782ab",
   "metadata": {},
   "source": [
    "### 001.009 From a table in an HTML page\n",
    "\n",
    "1. Replicate 001.005 but with the HTML file \"[001.009.html](001.009.html)\". Save that file location to a variable\n",
    "1. Make sure there is only a single header row, ids are shown, and the ID column is called 'ID'"
   ]
  },
  {
   "cell_type": "code",
   "execution_count": null,
   "id": "9c84bd48",
   "metadata": {},
   "outputs": [],
   "source": [
    "data_file = \"001.009.html\"\n",
    "# solution\n",
    "df = pd.read_html(data_file, flavor=\"bs4\", index_col=\"ID\")[0]\n",
    "print(df.head())\n",
    "\n",
    "df[\"Last Updated\"] = pd.Timestamp.now()\n",
    "df.columns.name = 'ID'\n",
    "df.index.name = None\n",
    "df.to_html(data_file, index=True, index_names=['ID'], header=['ID', 'Name', 'Age', 'Last Updated'])\n",
    "\n",
    "df = pd.read_html(data_file, flavor=\"bs4\", index_col=\"ID\")[0]\n",
    "print(df.head())"
   ]
  }
 ],
 "metadata": {
  "kernelspec": {
   "display_name": ".venv",
   "language": "python",
   "name": "python3"
  },
  "language_info": {
   "codemirror_mode": {
    "name": "ipython",
    "version": 3
   },
   "file_extension": ".py",
   "mimetype": "text/x-python",
   "name": "python",
   "nbconvert_exporter": "python",
   "pygments_lexer": "ipython3",
   "version": "3.10.6"
  },
  "vscode": {
   "interpreter": {
    "hash": "7daeb9a356073df578df6d7584369b7908e732a3e4cb2289ee7d810fc6635fc0"
   }
  }
 },
 "nbformat": 4,
 "nbformat_minor": 5
}
