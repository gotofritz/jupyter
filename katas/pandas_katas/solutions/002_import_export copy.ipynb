{
 "cells": [
  {
   "cell_type": "markdown",
   "id": "99786a37",
   "metadata": {},
   "source": [
    "# Pandas\n",
    "\n",
    "Pandas is a powerful library for data manipulation and analysis in Python. It is widely used in a range of fields, including data science, finance, and statistics."
   ]
  },
  {
   "attachments": {},
   "cell_type": "markdown",
   "id": "fd31e6b7",
   "metadata": {},
   "source": [
    "## 002 Basic DataFrame manipulation"
   ]
  },
  {
   "attachments": {},
   "cell_type": "markdown",
   "id": "61c0a177",
   "metadata": {},
   "source": [
    "## 002.000 Assets\n",
    "\n",
    "Some assets to avoid too much typing\n",
    "\n",
    "The content of the tsv file is:\n",
    "\n",
    "| Name        | Age|\n",
    "|-------------|----|\n",
    "| Mbappé      | 23 |\n",
    "| De Bruyne   | 31 |\n",
    "| Lewandowski | 33 |\n",
    "| Benzema     | 34 |\n",
    "| Messi       | 35 |"
   ]
  },
  {
   "cell_type": "code",
   "execution_count": null,
   "metadata": {},
   "outputs": [],
   "source": []
  },
  {
   "cell_type": "code",
   "execution_count": 98,
   "id": "34645c94",
   "metadata": {},
   "outputs": [],
   "source": [
    "import pandas as pd\n",
    "from typing import Optional\n",
    "\n",
    "def fresh_df(id: Optional[str] = \"\"):\n",
    "    \"\"\"Return a dataframe from the tsv file.\n",
    "    \n",
    "    @param (id) - if it's the name of a column, it will become the index\n",
    "                if itsn't, the default index will be renamed to that\n",
    "                if not passed, the default index will remain nameless\n",
    "    \"\"\"\n",
    "    df = pd.read_csv(\"002.tsv\", sep=\"\\t\")\n",
    "    if id:\n",
    "        if id in df.columns:\n",
    "            df.set_index(id, inplace=True)\n",
    "        else:\n",
    "            df.index = df.index.rename(id)\n",
    "    return df"
   ]
  },
  {
   "attachments": {},
   "cell_type": "markdown",
   "id": "89ce8c2b",
   "metadata": {},
   "source": []
  },
  {
   "attachments": {},
   "cell_type": "markdown",
   "id": "a5dfaeb9",
   "metadata": {},
   "source": [
    "### 002.001 Indices\n",
    "\n",
    "1. Print the df - not that it has an unnamed index column, created by Pandas\n",
    "1. Rename the index column to 'ID', and print it again"
   ]
  },
  {
   "cell_type": "code",
   "execution_count": 100,
   "id": "c741ca30",
   "metadata": {},
   "outputs": [
    {
     "name": "stdout",
     "output_type": "stream",
     "text": [
      "          Name         DOB\n",
      "0       Mbappé  1998-12-20\n",
      "1    De Bruyne  1991-28-06\n",
      "2  Lewandowski  1988-08-21\n",
      "3      Benzema  1987-12-19\n",
      "4        Messi  1987-06-24\n",
      "           Name         DOB\n",
      "ID                         \n",
      "0        Mbappé  1998-12-20\n",
      "1     De Bruyne  1991-28-06\n",
      "2   Lewandowski  1988-08-21\n",
      "3       Benzema  1987-12-19\n",
      "4         Messi  1987-06-24\n"
     ]
    }
   ],
   "source": [
    "df = fresh_df()\n",
    "# solution\n",
    "print(df)\n",
    "df.index = df.index.rename(\"ID\")\n",
    "print(df)"
   ]
  },
  {
   "attachments": {},
   "cell_type": "markdown",
   "id": "a103f071",
   "metadata": {},
   "source": [
    "### 002.002 Basic cell access\n",
    "\n",
    "1. Get a new DataFrame, with \"Name\" as the index column\n",
    "1. Save \"De Bruyne\" to a var and use it to fetch the DOB with the loc method\n",
    "1. Save \"Benzema\" to a var and use it to fetch the DOB with the iloc method"
   ]
  },
  {
   "cell_type": "code",
   "execution_count": 101,
   "id": "3d92d87a",
   "metadata": {},
   "outputs": [
    {
     "name": "stdout",
     "output_type": "stream",
     "text": [
      "                    DOB\n",
      "Name                   \n",
      "Mbappé       1998-12-20\n",
      "De Bruyne    1991-28-06\n",
      "Lewandowski  1988-08-21\n",
      "Benzema      1987-12-19\n",
      "Messi        1987-06-24\n",
      "De Bruyne was born on 1991-28-06\n",
      "Benzema was born on 1987-12-19\n"
     ]
    }
   ],
   "source": [
    "df = fresh_df(id=\"Name\")\n",
    "print(df)\n",
    "# solution\n",
    "player = \"De Bruyne\"\n",
    "print(f\"{player} was born on {df.loc[player, 'DOB']}\")\n",
    "player = 3\n",
    "print(f\"{df.index[player]} was born on {df.iloc[player, 0]}\")\n"
   ]
  },
  {
   "attachments": {},
   "cell_type": "markdown",
   "id": "54889ea9",
   "metadata": {},
   "source": [
    "### 002.003 Columns\n",
    "\n",
    "1. Get a new dataframe\n",
    "1. Add a \"Profession\" column at the end, with \"footballer\" as a value for all rows\n",
    "1. Add a \"Still Playing\" column at the beginning, with True as value for all rows\n",
    "1. Rename the \"Still Playing\" column as \"Active\"\n",
    "1. Print the dataframe\n",
    "1. Remove the \"Profession\" column\n",
    "1. Print the dataframe\n"
   ]
  },
  {
   "cell_type": "code",
   "execution_count": 111,
   "id": "42da9c2b",
   "metadata": {},
   "outputs": [
    {
     "name": "stdout",
     "output_type": "stream",
     "text": [
      "          Name         DOB\n",
      "0       Mbappé  1998-12-20\n",
      "1    De Bruyne  1991-28-06\n",
      "2  Lewandowski  1988-08-21\n",
      "3      Benzema  1987-12-19\n",
      "4        Messi  1987-06-24\n",
      "   Active         Name         DOB  Profession\n",
      "0    True       Mbappé  1998-12-20  Footballer\n",
      "1    True    De Bruyne  1991-28-06  Footballer\n",
      "2    True  Lewandowski  1988-08-21  Footballer\n",
      "3    True      Benzema  1987-12-19  Footballer\n",
      "4    True        Messi  1987-06-24  Footballer\n",
      "   Active         Name         DOB\n",
      "0    True       Mbappé  1998-12-20\n",
      "1    True    De Bruyne  1991-28-06\n",
      "2    True  Lewandowski  1988-08-21\n",
      "3    True      Benzema  1987-12-19\n",
      "4    True        Messi  1987-06-24\n"
     ]
    }
   ],
   "source": [
    "df = fresh_df()\n",
    "print(df)\n",
    "# solution\n",
    "df.insert(len(df.columns), \"Profession\", \"Footballer\")\n",
    "df.insert(0, \"Still Playing\", True)\n",
    "df.rename(columns={\"Still Playing\": \"Active\"}, inplace=True)\n",
    "print(df)\n",
    "df.drop(columns=[\"Profession\"], inplace=True)\n",
    "print(df)"
   ]
  },
  {
   "attachments": {},
   "cell_type": "markdown",
   "id": "07d889f0",
   "metadata": {},
   "source": [
    "### 002.004 Applying transforms\n",
    "\n",
    "1. Get a fresh DataFrame\n",
    "2. Convert the DOB column to datetime\n",
    "3. Create a new column Age, by using 'apply' to derive the data from the DOB\n",
    "1. Print it, and print the type of each column\n",
    "1. The same, but  using 'map'; this time convert the Age to string.\n",
    "1. Print it, and print the type of each column\n",
    "\n"
   ]
  },
  {
   "cell_type": "code",
   "execution_count": 145,
   "id": "58384722",
   "metadata": {},
   "outputs": [
    {
     "name": "stdout",
     "output_type": "stream",
     "text": [
      "          Name         DOB\n",
      "0       Mbappé  1998-12-20\n",
      "1    De Bruyne  1991-06-28\n",
      "2  Lewandowski  1988-08-21\n",
      "3      Benzema  1987-12-19\n",
      "4        Messi  1987-06-24\n",
      "          Name        DOB  Age\n",
      "0       Mbappé 1998-12-20   24\n",
      "1    De Bruyne 1991-06-28   31\n",
      "2  Lewandowski 1988-08-21   34\n",
      "3      Benzema 1987-12-19   35\n",
      "4        Messi 1987-06-24   35\n",
      "Name            object\n",
      "DOB     datetime64[ns]\n",
      "Age              int64\n",
      "dtype: object\n",
      "          Name        DOB Age\n",
      "0       Mbappé 1998-12-20  24\n",
      "1    De Bruyne 1991-06-28  31\n",
      "2  Lewandowski 1988-08-21  34\n",
      "3      Benzema 1987-12-19  35\n",
      "4        Messi 1987-06-24  35\n",
      "Name            object\n",
      "DOB     datetime64[ns]\n",
      "Age             object\n",
      "dtype: object\n"
     ]
    }
   ],
   "source": [
    "from datetime import datetime\n",
    "\n",
    "df = fresh_df()\n",
    "print(df)\n",
    "# solution\n",
    "df[\"DOB\"] = pd.to_datetime(df['DOB'], format=\"%Y-%m-%d\")\n",
    "\n",
    "now = datetime.now()\n",
    "df[\"Age\"] = df.apply(lambda row: (now - row['DOB']).days // 365, axis=1)\n",
    "print(df)\n",
    "print(df.dtypes)\n",
    "\n",
    "df[\"Age\"] = df[\"DOB\"].map(lambda cell: (now - cell).days // 365)\n",
    "df[\"Age\"] = df[\"Age\"].astype(str)\n",
    "print(df)\n",
    "print(df.dtypes)"
   ]
  }
 ],
 "metadata": {
  "kernelspec": {
   "display_name": ".venv",
   "language": "python",
   "name": "python3"
  },
  "language_info": {
   "codemirror_mode": {
    "name": "ipython",
    "version": 3
   },
   "file_extension": ".py",
   "mimetype": "text/x-python",
   "name": "python",
   "nbconvert_exporter": "python",
   "pygments_lexer": "ipython3",
   "version": "3.10.6"
  },
  "vscode": {
   "interpreter": {
    "hash": "7daeb9a356073df578df6d7584369b7908e732a3e4cb2289ee7d810fc6635fc0"
   }
  }
 },
 "nbformat": 4,
 "nbformat_minor": 5
}
