{
 "cells": [
  {
   "attachments": {},
   "cell_type": "markdown",
   "id": "99786a37",
   "metadata": {},
   "source": [
    "# Pandas\n",
    "\n",
    "Pandas is a powerful library for data manipulation and analysis in Python. It is widely used in a range of fields |  including data science |  finance |  and statistics."
   ]
  },
  {
   "cell_type": "code",
   "execution_count": 1,
   "id": "0ba5b7e6",
   "metadata": {
    "execution": {
     "iopub.execute_input": "2023-12-24T12:09:16.533664Z",
     "iopub.status.busy": "2023-12-24T12:09:16.533085Z",
     "iopub.status.idle": "2023-12-24T12:09:17.033208Z",
     "shell.execute_reply": "2023-12-24T12:09:17.032883Z"
    }
   },
   "outputs": [],
   "source": [
    "from pathlib import Path\n",
    "from datetime import datetime\n",
    "import pandas as pd\n",
    "from IPython.core.interactiveshell import InteractiveShell\n",
    "\n",
    "pd.set_option('display.max_rows', None)\n",
    "InteractiveShell.ast_node_interactivity = \"all\""
   ]
  },
  {
   "attachments": {},
   "cell_type": "markdown",
   "id": "89ce8c2b",
   "metadata": {},
   "source": [
    "## 009. Linear regression in a SQLite DB\n",
    "\n",
    "Implementation of this GitHub ticket https://github.com/gotofritz/yarkie/issues/10"
   ]
  },
  {
   "attachments": {},
   "cell_type": "markdown",
   "id": "61c0a177",
   "metadata": {},
   "source": [
    "## 009.000 Assets and globals\n",
    "\n",
    "009.sqlit.db:\n",
    "\n",
    "| rowid | ranking | id          | view_count | comment_count | like_count | upload_date | comment_count_estimated |\n",
    "|-------|---------|-------------|-----------|----------------|------------|-------------|-------------------------|\n",
    "| 505   | 36      | X-uJtV8ScYk | 334895639  | 2700000       | 5985543    | 20200914    | 0                       |\n",
    "...\n"
   ]
  },
  {
   "cell_type": "code",
   "execution_count": 2,
   "id": "29dcbcbb",
   "metadata": {
    "execution": {
     "iopub.execute_input": "2023-12-24T12:09:17.035334Z",
     "iopub.status.busy": "2023-12-24T12:09:17.035132Z",
     "iopub.status.idle": "2023-12-24T12:09:17.037081Z",
     "shell.execute_reply": "2023-12-24T12:09:17.036812Z"
    }
   },
   "outputs": [],
   "source": [
    "\n",
    "DB = Path(\"009_sqlite.db\")\n",
    "TARGET_COLUMN = \"comment_count_estimated\""
   ]
  },
  {
   "cell_type": "markdown",
   "id": "ee08dbb7",
   "metadata": {},
   "source": [
    "## 009.001 Read data\n",
    "\n",
    "1. Read columns id, view_count, like_count, upload_date, comment_count, last_updated, TARGET_COLUMN in table videos from DB into a dataframe\n",
    "    1. No need for an index\n",
    "    1. Print the head\n",
    "1. Massage the data\n",
    "    1. `upload_date` is a string but not always in constant format. Use pd builtin function to turn into a consistent datetime\n",
    "    1. Create a new column `days_since_upload` which is the difference between today and `upload_date`\n",
    "    1. Create three columns, `v`, `l`, `c` which are the three `xxxx_count` divided by `days_since_upload`\n",
    "    1. copy `comment_count` to TARGET_COLUMN\n",
    "    1. Print the head, sorting by index\n",
    "1. Create `df_missing_data` and `df_non_missing_data` with rows with `comment_count` = 0  or > 0 respectively\n",
    "    1. Print the head for both, sorting by index"
   ]
  },
  {
   "cell_type": "code",
   "execution_count": 3,
   "id": "ad1394f4",
   "metadata": {
    "execution": {
     "iopub.execute_input": "2023-12-24T12:09:17.038665Z",
     "iopub.status.busy": "2023-12-24T12:09:17.038549Z",
     "iopub.status.idle": "2023-12-24T12:09:17.040278Z",
     "shell.execute_reply": "2023-12-24T12:09:17.039872Z"
    }
   },
   "outputs": [],
   "source": [
    "import sqlite3 as sqlite\n",
    "\n",
    "# id, view_count, like_count, upload_date, comment_count, last_updated, {TARGET_COLUMN}\n",
    "\n",
    "# solution\n"
   ]
  },
  {
   "cell_type": "markdown",
   "id": "49979a61",
   "metadata": {},
   "source": [
    "## 009.003 Guestimate the data\n",
    "\n",
    "1. Import the scikit-learn library for linear regression\n",
    "1. Print the head of `df_missing_data`, sorted by index\n",
    "1. Create a model\n",
    "    1. Use the v, c, l columns to train it with data from non_missing_data\n",
    "    1. Use the model to estimate the missing data and put it in missing_data.\n",
    "        - TIP: the model will not return a df, so you can't just do `df_missing_data['c'] = ...`\n",
    "1. Overwrite the TARGET_COLUMN in `df_missing_data` with the guessed values by multiplying `c` by `days_since_upload`\n",
    "    - Turn them to int, but round them first\n",
    "    - TIP: same, you can't set `df_missing_data[TARGET_COLUMN] = ...`\n",
    "1. Print the head, sorting by index"
   ]
  },
  {
   "cell_type": "code",
   "execution_count": 4,
   "id": "406f4f96",
   "metadata": {
    "execution": {
     "iopub.execute_input": "2023-12-24T12:09:17.042146Z",
     "iopub.status.busy": "2023-12-24T12:09:17.042023Z",
     "iopub.status.idle": "2023-12-24T12:09:17.043790Z",
     "shell.execute_reply": "2023-12-24T12:09:17.043524Z"
    }
   },
   "outputs": [],
   "source": [
    "# solution\n"
   ]
  },
  {
   "cell_type": "markdown",
   "id": "b8b037ba",
   "metadata": {},
   "source": [
    "## 009.004 Update the DB\n",
    "\n",
    "1. Create a list of records (a new var) in the format `{'id': 'PGDSawOwHkw', '{TARGET_COLUMN}': 438}, ...` \n",
    "    1. Start from `df_missing_data`\n",
    "    1. Print last 5 records\n",
    "    1. Add `df_non_missing_data`\n",
    "    1. Print last 5 records\n",
    "1. Write the data into the db\n",
    "    1. Initialise the DB in sqlite_utils\n",
    "    1. Print the first 5 records by using the the `videos` table 'rows' generator \n",
    "    1. assert that the number of records with are going to update is the same is the count of all records in that table\n",
    "    1. Use `upsert_all` to update records (there is no `update_add`). Don't forget the pk\n",
    "    1. Print the first 5 records by using the the `videos` table 'rows' generator "
   ]
  },
  {
   "cell_type": "code",
   "execution_count": 5,
   "id": "adefe4b4",
   "metadata": {
    "execution": {
     "iopub.execute_input": "2023-12-24T12:09:17.045375Z",
     "iopub.status.busy": "2023-12-24T12:09:17.045268Z",
     "iopub.status.idle": "2023-12-24T12:09:17.082886Z",
     "shell.execute_reply": "2023-12-24T12:09:17.082552Z"
    }
   },
   "outputs": [],
   "source": [
    "from sqlite_utils import Database\n",
    "\n",
    "# solution\n"
   ]
  },
  {
   "cell_type": "markdown",
   "id": "5f0719c6",
   "metadata": {},
   "source": [
    "## 009.005 Clean up\n",
    "\n",
    "1. Reload DB\n",
    "    1. Set comment_count_estimated back to 0\n",
    "1. Print the first 5 records"
   ]
  },
  {
   "cell_type": "code",
   "execution_count": 6,
   "id": "39f5a739",
   "metadata": {
    "execution": {
     "iopub.execute_input": "2023-12-24T12:09:17.084832Z",
     "iopub.status.busy": "2023-12-24T12:09:17.084709Z",
     "iopub.status.idle": "2023-12-24T12:09:17.086701Z",
     "shell.execute_reply": "2023-12-24T12:09:17.086364Z"
    }
   },
   "outputs": [],
   "source": [
    "from sqlite_utils import Database\n",
    "\n",
    "# solution\n"
   ]
  }
 ],
 "metadata": {
  "kernelspec": {
   "display_name": ".venv",
   "language": "python",
   "name": "python3"
  },
  "language_info": {
   "codemirror_mode": {
    "name": "ipython",
    "version": 3
   },
   "file_extension": ".py",
   "mimetype": "text/x-python",
   "name": "python",
   "nbconvert_exporter": "python",
   "pygments_lexer": "ipython3",
   "version": "3.10.6"
  },
  "vscode": {
   "interpreter": {
    "hash": "7daeb9a356073df578df6d7584369b7908e732a3e4cb2289ee7d810fc6635fc0"
   }
  }
 },
 "nbformat": 4,
 "nbformat_minor": 5
}
