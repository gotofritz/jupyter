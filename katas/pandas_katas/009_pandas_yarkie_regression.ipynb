{
 "cells": [
  {
   "attachments": {},
   "cell_type": "markdown",
   "id": "99786a37",
   "metadata": {},
   "source": [
    "# Pandas\n",
    "\n",
    "Pandas is a powerful library for data manipulation and analysis in Python. It is widely used in a range of fields |  including data science |  finance |  and statistics."
   ]
  },
  {
   "cell_type": "code",
   "execution_count": 1,
   "id": "7e1a6cd9",
   "metadata": {
    "execution": {
     "iopub.execute_input": "2023-12-05T07:11:12.924237Z",
     "iopub.status.busy": "2023-12-05T07:11:12.923770Z",
     "iopub.status.idle": "2023-12-05T07:11:13.424900Z",
     "shell.execute_reply": "2023-12-05T07:11:13.424399Z"
    }
   },
   "outputs": [],
   "source": [
    "from pathlib import Path\n",
    "from datetime import datetime\n",
    "import pandas as pd\n",
    "from IPython.core.interactiveshell import InteractiveShell\n",
    "\n",
    "pd.set_option('display.max_rows', None)\n",
    "InteractiveShell.ast_node_interactivity = \"all\""
   ]
  },
  {
   "attachments": {},
   "cell_type": "markdown",
   "id": "89ce8c2b",
   "metadata": {},
   "source": [
    "## 009. Linear regression in a SQLite DB\n",
    "\n",
    "Implementation of this GitHub ticket https://github.com/gotofritz/yarkie/issues/10"
   ]
  },
  {
   "attachments": {},
   "cell_type": "markdown",
   "id": "61c0a177",
   "metadata": {},
   "source": [
    "## 009.000 Assets and globals\n",
    "\n",
    "009.sqlit.db:\n",
    "\n",
    "| rowid | ranking | id          | view_count | comment_count | like_count | upload_date | comment_count_estimated |\n",
    "|-------|---------|-------------|-----------|----------------|------------|-------------|-------------------------|\n",
    "| 505   | 36      | X-uJtV8ScYk | 334895639  | 2700000       | 5985543    | 20200914    | 0                       |\n",
    "...\n"
   ]
  },
  {
   "cell_type": "code",
   "execution_count": 2,
   "id": "ba4fe946",
   "metadata": {
    "execution": {
     "iopub.execute_input": "2023-12-05T07:11:13.428234Z",
     "iopub.status.busy": "2023-12-05T07:11:13.428012Z",
     "iopub.status.idle": "2023-12-05T07:11:13.430983Z",
     "shell.execute_reply": "2023-12-05T07:11:13.430479Z"
    }
   },
   "outputs": [],
   "source": [
    "\n",
    "DB = Path(\"009_sqlite.db\")\n",
    "TARGET_COLUMN = \"comment_count_estimated\""
   ]
  },
  {
   "cell_type": "markdown",
   "id": "d4705d82",
   "metadata": {},
   "source": [
    "## 009.001 Read data\n",
    "\n",
    "1. Read columns id, view_count, like_count, upload_date, comment_count in table videos from DB into a dataframe\n",
    "    1. No need for an index\n",
    "    1. Print the head\n",
    "1. Massage the data\n",
    "    1. `upload_date` is a string but not always in constant format. Use pd builtin function to turn into a consistent datetime\n",
    "    1. Create a new column `days_since_upload` which is the difference between today and `upload_date`\n",
    "    1. Create three columns, `v`, `l`, `c` which are the three `xxxx_count` divided by `days_since_upload`\n",
    "    1. copy `comment_count` to TARGET_COLUMN\n",
    "    1. Print the head, sorting by index\n",
    "1. Create `df_missing_data` and `df_non_missing_data` with rows with `comment_count` = 0  or > 0 respectively\n",
    "    1. Print the head for both, sorting by index"
   ]
  },
  {
   "cell_type": "code",
   "execution_count": 3,
   "id": "b95c5fed",
   "metadata": {
    "execution": {
     "iopub.execute_input": "2023-12-05T07:11:13.433542Z",
     "iopub.status.busy": "2023-12-05T07:11:13.433263Z",
     "iopub.status.idle": "2023-12-05T07:11:13.436635Z",
     "shell.execute_reply": "2023-12-05T07:11:13.436054Z"
    }
   },
   "outputs": [],
   "source": [
    "import sqlite3 as sqlite\n",
    "\n",
    "# solution\n"
   ]
  },
  {
   "cell_type": "markdown",
   "id": "6f560201",
   "metadata": {},
   "source": [
    "## 009.003 Guestimate the data\n",
    "\n",
    "1. Import the scikit-learn library for linear regression\n",
    "1. Create a model\n",
    "    1. Use the v, c, l columns to train it\n",
    "    1. Use the model to estimate the missing data\n",
    "1. Overwrite the TARGET_COLUMN with the guessed values by multiplying `c` by `days_since_upload`\n",
    "    1. Print the head, sorting by index"
   ]
  },
  {
   "cell_type": "code",
   "execution_count": 4,
   "id": "32b5a3ca",
   "metadata": {
    "execution": {
     "iopub.execute_input": "2023-12-05T07:11:13.438698Z",
     "iopub.status.busy": "2023-12-05T07:11:13.438560Z",
     "iopub.status.idle": "2023-12-05T07:11:13.440366Z",
     "shell.execute_reply": "2023-12-05T07:11:13.440059Z"
    }
   },
   "outputs": [],
   "source": [
    "# solution\n"
   ]
  },
  {
   "cell_type": "markdown",
   "id": "443d34bf",
   "metadata": {},
   "source": [
    "## 009.004 Update the DB\n",
    "\n",
    "1. Create a list of records in the format `{'id': 'PGDSawOwHkw', '{TARGET_COLUMN}': 438}, ...` \n",
    "    1. Start from `df_missing_data`\n",
    "    1. Add `df_non_missing_data`\n",
    "    1. Print the first 5 records\n",
    "    1. Print the \n",
    "1. Write the data into the db\n",
    "    1. Initialise the DB in sqlite_utils\n",
    "    1. assert that the number of records with are going to update is the same is the count of all records in that table\n",
    "    1. Use `upsert_all` to update records (there is no `update_add`). Don't forget the pk"
   ]
  },
  {
   "cell_type": "code",
   "execution_count": 5,
   "id": "cad7d37d",
   "metadata": {
    "execution": {
     "iopub.execute_input": "2023-12-05T07:11:13.442220Z",
     "iopub.status.busy": "2023-12-05T07:11:13.442054Z",
     "iopub.status.idle": "2023-12-05T07:11:13.550801Z",
     "shell.execute_reply": "2023-12-05T07:11:13.550407Z"
    }
   },
   "outputs": [],
   "source": [
    "from sqlite_utils import Database\n",
    "\n",
    "# solution\n"
   ]
  }
 ],
 "metadata": {
  "kernelspec": {
   "display_name": ".venv",
   "language": "python",
   "name": "python3"
  },
  "language_info": {
   "codemirror_mode": {
    "name": "ipython",
    "version": 3
   },
   "file_extension": ".py",
   "mimetype": "text/x-python",
   "name": "python",
   "nbconvert_exporter": "python",
   "pygments_lexer": "ipython3",
   "version": "3.10.6"
  },
  "vscode": {
   "interpreter": {
    "hash": "7daeb9a356073df578df6d7584369b7908e732a3e4cb2289ee7d810fc6635fc0"
   }
  }
 },
 "nbformat": 4,
 "nbformat_minor": 5
}
